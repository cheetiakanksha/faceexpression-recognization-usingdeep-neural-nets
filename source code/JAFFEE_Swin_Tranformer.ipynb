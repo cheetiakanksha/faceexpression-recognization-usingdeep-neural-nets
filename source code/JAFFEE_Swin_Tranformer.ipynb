{
  "nbformat": 4,
  "nbformat_minor": 0,
  "metadata": {
    "colab": {
      "provenance": [],
      "machine_shape": "hm"
    },
    "kernelspec": {
      "name": "python3",
      "display_name": "Python 3"
    },
    "language_info": {
      "name": "python"
    },
    "accelerator": "GPU",
    "gpuClass": "premium"
  },
  "cells": [
    {
      "cell_type": "code",
      "execution_count": null,
      "metadata": {
        "id": "DEFC36h8TwiX",
        "colab": {
          "base_uri": "https://localhost:8080/"
        },
        "outputId": "04a8d58b-2f13-4fda-85d5-17bccb7bb876"
      },
      "outputs": [
        {
          "output_type": "stream",
          "name": "stdout",
          "text": [
            "Looking in indexes: https://pypi.org/simple, https://us-python.pkg.dev/colab-wheels/public/simple/\n",
            "Collecting timm\n",
            "  Downloading timm-0.6.12-py3-none-any.whl (549 kB)\n",
            "\u001b[K     |████████████████████████████████| 549 kB 4.9 MB/s \n",
            "\u001b[?25hRequirement already satisfied: torch>=1.7 in /usr/local/lib/python3.8/dist-packages (from timm) (1.12.1+cu113)\n",
            "Requirement already satisfied: torchvision in /usr/local/lib/python3.8/dist-packages (from timm) (0.13.1+cu113)\n",
            "Requirement already satisfied: pyyaml in /usr/local/lib/python3.8/dist-packages (from timm) (6.0)\n",
            "Collecting huggingface-hub\n",
            "  Downloading huggingface_hub-0.11.1-py3-none-any.whl (182 kB)\n",
            "\u001b[K     |████████████████████████████████| 182 kB 84.3 MB/s \n",
            "\u001b[?25hRequirement already satisfied: typing-extensions in /usr/local/lib/python3.8/dist-packages (from torch>=1.7->timm) (4.1.1)\n",
            "Requirement already satisfied: tqdm in /usr/local/lib/python3.8/dist-packages (from huggingface-hub->timm) (4.64.1)\n",
            "Requirement already satisfied: packaging>=20.9 in /usr/local/lib/python3.8/dist-packages (from huggingface-hub->timm) (21.3)\n",
            "Requirement already satisfied: requests in /usr/local/lib/python3.8/dist-packages (from huggingface-hub->timm) (2.23.0)\n",
            "Requirement already satisfied: filelock in /usr/local/lib/python3.8/dist-packages (from huggingface-hub->timm) (3.8.0)\n",
            "Requirement already satisfied: pyparsing!=3.0.5,>=2.0.2 in /usr/local/lib/python3.8/dist-packages (from packaging>=20.9->huggingface-hub->timm) (3.0.9)\n",
            "Requirement already satisfied: idna<3,>=2.5 in /usr/local/lib/python3.8/dist-packages (from requests->huggingface-hub->timm) (2.10)\n",
            "Requirement already satisfied: urllib3!=1.25.0,!=1.25.1,<1.26,>=1.21.1 in /usr/local/lib/python3.8/dist-packages (from requests->huggingface-hub->timm) (1.24.3)\n",
            "Requirement already satisfied: chardet<4,>=3.0.2 in /usr/local/lib/python3.8/dist-packages (from requests->huggingface-hub->timm) (3.0.4)\n",
            "Requirement already satisfied: certifi>=2017.4.17 in /usr/local/lib/python3.8/dist-packages (from requests->huggingface-hub->timm) (2022.9.24)\n",
            "Requirement already satisfied: pillow!=8.3.*,>=5.3.0 in /usr/local/lib/python3.8/dist-packages (from torchvision->timm) (7.1.2)\n",
            "Requirement already satisfied: numpy in /usr/local/lib/python3.8/dist-packages (from torchvision->timm) (1.21.6)\n",
            "Installing collected packages: huggingface-hub, timm\n",
            "Successfully installed huggingface-hub-0.11.1 timm-0.6.12\n",
            "[Warning] Fused window process have not been installed. Please refer to get_started.md for installation.\n"
          ]
        }
      ],
      "source": [
        "\n",
        "import torch\n",
        "import torch.nn as nn\n",
        "import torch.utils.checkpoint as checkpoint\n",
        "!pip install timm\n",
        "from timm.models.layers import DropPath, to_2tuple, trunc_normal_\n",
        "\n",
        "try:\n",
        "    import os, sys\n",
        "\n",
        "    kernel_path = os.path.abspath(os.path.join('..'))\n",
        "    sys.path.append(kernel_path)\n",
        "    from kernels.window_process.window_process import WindowProcess, WindowProcessReverse\n",
        "\n",
        "except:\n",
        "    WindowProcess = None\n",
        "    WindowProcessReverse = None\n",
        "    print(\"[Warning] Fused window process have not been installed. Please refer to get_started.md for installation.\")\n",
        "\n",
        "\n",
        "class Mlp(nn.Module):\n",
        "    def __init__(self, in_features, hidden_features=None, out_features=None, act_layer=nn.GELU, drop=0.):\n",
        "        super().__init__()\n",
        "        out_features = out_features or in_features\n",
        "        hidden_features = hidden_features or in_features\n",
        "        self.fc1 = nn.Linear(in_features, hidden_features)\n",
        "        self.act = act_layer()\n",
        "        self.fc2 = nn.Linear(hidden_features, out_features)\n",
        "        self.drop = nn.Dropout(drop)\n",
        "\n",
        "    def forward(self, x):\n",
        "        x = self.fc1(x)\n",
        "        x = self.act(x)\n",
        "        x = self.drop(x)\n",
        "        x = self.fc2(x)\n",
        "        x = self.drop(x)\n",
        "        return x\n",
        "\n",
        "\n",
        "def window_partition(x, window_size):\n",
        "    \"\"\"\n",
        "    Args:\n",
        "        x: (B, H, W, C)\n",
        "        window_size (int): window size\n",
        "    Returns:\n",
        "        windows: (num_windows*B, window_size, window_size, C)\n",
        "    \"\"\"\n",
        "    B, H, W, C = x.shape\n",
        "    x = x.view(B, H // window_size, window_size, W // window_size, window_size, C)\n",
        "    windows = x.permute(0, 1, 3, 2, 4, 5).contiguous().view(-1, window_size, window_size, C)\n",
        "    return windows\n",
        "\n",
        "\n",
        "def window_reverse(windows, window_size, H, W):\n",
        "    \"\"\"\n",
        "    Args:\n",
        "        windows: (num_windows*B, window_size, window_size, C)\n",
        "        window_size (int): Window size\n",
        "        H (int): Height of image\n",
        "        W (int): Width of image\n",
        "    Returns:\n",
        "        x: (B, H, W, C)\n",
        "    \"\"\"\n",
        "    B = int(windows.shape[0] / (H * W / window_size / window_size))\n",
        "    x = windows.view(B, H // window_size, W // window_size, window_size, window_size, -1)\n",
        "    x = x.permute(0, 1, 3, 2, 4, 5).contiguous().view(B, H, W, -1)\n",
        "    return x\n",
        "\n",
        "\n",
        "class WindowAttention(nn.Module):\n",
        "    r\"\"\" Window based multi-head self attention (W-MSA) module with relative position bias.\n",
        "    It supports both of shifted and non-shifted window.\n",
        "    Args:\n",
        "        dim (int): Number of input channels.\n",
        "        window_size (tuple[int]): The height and width of the window.\n",
        "        num_heads (int): Number of attention heads.\n",
        "        qkv_bias (bool, optional):  If True, add a learnable bias to query, key, value. Default: True\n",
        "        qk_scale (float | None, optional): Override default qk scale of head_dim ** -0.5 if set\n",
        "        attn_drop (float, optional): Dropout ratio of attention weight. Default: 0.0\n",
        "        proj_drop (float, optional): Dropout ratio of output. Default: 0.0\n",
        "    \"\"\"\n",
        "\n",
        "    def __init__(self, dim, window_size, num_heads, qkv_bias=True, qk_scale=None, attn_drop=0., proj_drop=0.):\n",
        "\n",
        "        super().__init__()\n",
        "        self.dim = dim\n",
        "        self.window_size = window_size  # Wh, Ww\n",
        "        self.num_heads = num_heads\n",
        "        head_dim = dim // num_heads\n",
        "        self.scale = qk_scale or head_dim ** -0.5\n",
        "\n",
        "        # define a parameter table of relative position bias\n",
        "        self.relative_position_bias_table = nn.Parameter(\n",
        "            torch.zeros((2 * window_size[0] - 1) * (2 * window_size[1] - 1), num_heads))  # 2*Wh-1 * 2*Ww-1, nH\n",
        "\n",
        "        # get pair-wise relative position index for each token inside the window\n",
        "        coords_h = torch.arange(self.window_size[0])\n",
        "        coords_w = torch.arange(self.window_size[1])\n",
        "        coords = torch.stack(torch.meshgrid([coords_h, coords_w]))  # 2, Wh, Ww\n",
        "        coords_flatten = torch.flatten(coords, 1)  # 2, Wh*Ww\n",
        "        relative_coords = coords_flatten[:, :, None] - coords_flatten[:, None, :]  # 2, Wh*Ww, Wh*Ww\n",
        "        relative_coords = relative_coords.permute(1, 2, 0).contiguous()  # Wh*Ww, Wh*Ww, 2\n",
        "        relative_coords[:, :, 0] += self.window_size[0] - 1  # shift to start from 0\n",
        "        relative_coords[:, :, 1] += self.window_size[1] - 1\n",
        "        relative_coords[:, :, 0] *= 2 * self.window_size[1] - 1\n",
        "        relative_position_index = relative_coords.sum(-1)  # Wh*Ww, Wh*Ww\n",
        "        self.register_buffer(\"relative_position_index\", relative_position_index)\n",
        "\n",
        "        self.qkv = nn.Linear(dim, dim * 3, bias=qkv_bias)\n",
        "        self.attn_drop = nn.Dropout(attn_drop)\n",
        "        self.proj = nn.Linear(dim, dim)\n",
        "        self.proj_drop = nn.Dropout(proj_drop)\n",
        "\n",
        "        trunc_normal_(self.relative_position_bias_table, std=.02)\n",
        "        self.softmax = nn.Softmax(dim=-1)\n",
        "\n",
        "    def forward(self, x, mask=None):\n",
        "        \"\"\"\n",
        "        Args:\n",
        "            x: input features with shape of (num_windows*B, N, C)\n",
        "            mask: (0/-inf) mask with shape of (num_windows, Wh*Ww, Wh*Ww) or None\n",
        "        \"\"\"\n",
        "        B_, N, C = x.shape\n",
        "        qkv = self.qkv(x).reshape(B_, N, 3, self.num_heads, C // self.num_heads).permute(2, 0, 3, 1, 4)\n",
        "        q, k, v = qkv[0], qkv[1], qkv[2]  # make torchscript happy (cannot use tensor as tuple)\n",
        "\n",
        "        q = q * self.scale\n",
        "        attn = (q @ k.transpose(-2, -1))\n",
        "\n",
        "        relative_position_bias = self.relative_position_bias_table[self.relative_position_index.view(-1)].view(\n",
        "            self.window_size[0] * self.window_size[1], self.window_size[0] * self.window_size[1], -1)  # Wh*Ww,Wh*Ww,nH\n",
        "        relative_position_bias = relative_position_bias.permute(2, 0, 1).contiguous()  # nH, Wh*Ww, Wh*Ww\n",
        "        attn = attn + relative_position_bias.unsqueeze(0)\n",
        "\n",
        "        if mask is not None:\n",
        "            nW = mask.shape[0]\n",
        "            attn = attn.view(B_ // nW, nW, self.num_heads, N, N) + mask.unsqueeze(1).unsqueeze(0)\n",
        "            attn = attn.view(-1, self.num_heads, N, N)\n",
        "            attn = self.softmax(attn)\n",
        "        else:\n",
        "            attn = self.softmax(attn)\n",
        "\n",
        "        attn = self.attn_drop(attn)\n",
        "\n",
        "        x = (attn @ v).transpose(1, 2).reshape(B_, N, C)\n",
        "        x = self.proj(x)\n",
        "        x = self.proj_drop(x)\n",
        "        return x\n",
        "\n",
        "    def extra_repr(self) -> str:\n",
        "        return f'dim={self.dim}, window_size={self.window_size}, num_heads={self.num_heads}'\n",
        "\n",
        "    def flops(self, N):\n",
        "        # calculate flops for 1 window with token length of N\n",
        "        flops = 0\n",
        "        # qkv = self.qkv(x)\n",
        "        flops += N * self.dim * 3 * self.dim\n",
        "        # attn = (q @ k.transpose(-2, -1))\n",
        "        flops += self.num_heads * N * (self.dim // self.num_heads) * N\n",
        "        #  x = (attn @ v)\n",
        "        flops += self.num_heads * N * N * (self.dim // self.num_heads)\n",
        "        # x = self.proj(x)\n",
        "        flops += N * self.dim * self.dim\n",
        "        return flops\n",
        "\n",
        "\n",
        "class SwinTransformerBlock(nn.Module):\n",
        "    r\"\"\" Swin Transformer Block.\n",
        "    Args:\n",
        "        dim (int): Number of input channels.\n",
        "        input_resolution (tuple[int]): Input resulotion.\n",
        "        num_heads (int): Number of attention heads.\n",
        "        window_size (int): Window size.\n",
        "        shift_size (int): Shift size for SW-MSA.\n",
        "        mlp_ratio (float): Ratio of mlp hidden dim to embedding dim.\n",
        "        qkv_bias (bool, optional): If True, add a learnable bias to query, key, value. Default: True\n",
        "        qk_scale (float | None, optional): Override default qk scale of head_dim ** -0.5 if set.\n",
        "        drop (float, optional): Dropout rate. Default: 0.0\n",
        "        attn_drop (float, optional): Attention dropout rate. Default: 0.0\n",
        "        drop_path (float, optional): Stochastic depth rate. Default: 0.0\n",
        "        act_layer (nn.Module, optional): Activation layer. Default: nn.GELU\n",
        "        norm_layer (nn.Module, optional): Normalization layer.  Default: nn.LayerNorm\n",
        "        fused_window_process (bool, optional): If True, use one kernel to fused window shift & window partition for acceleration, similar for the reversed part. Default: False\n",
        "    \"\"\"\n",
        "\n",
        "    def __init__(self, dim, input_resolution, num_heads, window_size=7, shift_size=0,\n",
        "                 mlp_ratio=4., qkv_bias=True, qk_scale=None, drop=0., attn_drop=0., drop_path=0.,\n",
        "                 act_layer=nn.GELU, norm_layer=nn.LayerNorm,\n",
        "                 fused_window_process=False):\n",
        "        super().__init__()\n",
        "        self.dim = dim\n",
        "        self.input_resolution = input_resolution\n",
        "        self.num_heads = num_heads\n",
        "        self.window_size = window_size\n",
        "        self.shift_size = shift_size\n",
        "        self.mlp_ratio = mlp_ratio\n",
        "        if min(self.input_resolution) <= self.window_size:\n",
        "            # if window size is larger than input resolution, we don't partition windows\n",
        "            self.shift_size = 0\n",
        "            self.window_size = min(self.input_resolution)\n",
        "        assert 0 <= self.shift_size < self.window_size, \"shift_size must in 0-window_size\"\n",
        "\n",
        "        self.norm1 = norm_layer(dim)\n",
        "        self.attn = WindowAttention(\n",
        "            dim, window_size=to_2tuple(self.window_size), num_heads=num_heads,\n",
        "            qkv_bias=qkv_bias, qk_scale=qk_scale, attn_drop=attn_drop, proj_drop=drop)\n",
        "\n",
        "        self.drop_path = DropPath(drop_path) if drop_path > 0. else nn.Identity()\n",
        "        self.norm2 = norm_layer(dim)\n",
        "        mlp_hidden_dim = int(dim * mlp_ratio)\n",
        "        self.mlp = Mlp(in_features=dim, hidden_features=mlp_hidden_dim, act_layer=act_layer, drop=drop)\n",
        "\n",
        "        if self.shift_size > 0:\n",
        "            # calculate attention mask for SW-MSA\n",
        "            H, W = self.input_resolution\n",
        "            img_mask = torch.zeros((1, H, W, 1))  # 1 H W 1\n",
        "            h_slices = (slice(0, -self.window_size),\n",
        "                        slice(-self.window_size, -self.shift_size),\n",
        "                        slice(-self.shift_size, None))\n",
        "            w_slices = (slice(0, -self.window_size),\n",
        "                        slice(-self.window_size, -self.shift_size),\n",
        "                        slice(-self.shift_size, None))\n",
        "            cnt = 0\n",
        "            for h in h_slices:\n",
        "                for w in w_slices:\n",
        "                    img_mask[:, h, w, :] = cnt\n",
        "                    cnt += 1\n",
        "\n",
        "            mask_windows = window_partition(img_mask, self.window_size)  # nW, window_size, window_size, 1\n",
        "            mask_windows = mask_windows.view(-1, self.window_size * self.window_size)\n",
        "            attn_mask = mask_windows.unsqueeze(1) - mask_windows.unsqueeze(2)\n",
        "            attn_mask = attn_mask.masked_fill(attn_mask != 0, float(-100.0)).masked_fill(attn_mask == 0, float(0.0))\n",
        "        else:\n",
        "            attn_mask = None\n",
        "\n",
        "        self.register_buffer(\"attn_mask\", attn_mask)\n",
        "        self.fused_window_process = fused_window_process\n",
        "\n",
        "    def forward(self, x):\n",
        "        H, W = self.input_resolution\n",
        "        B, L, C = x.shape\n",
        "        assert L == H * W, \"input feature has wrong size\"\n",
        "\n",
        "        shortcut = x\n",
        "        x = self.norm1(x)\n",
        "        x = x.view(B, H, W, C)\n",
        "\n",
        "        # cyclic shift\n",
        "        if self.shift_size > 0:\n",
        "            if not self.fused_window_process:\n",
        "                shifted_x = torch.roll(x, shifts=(-self.shift_size, -self.shift_size), dims=(1, 2))\n",
        "                # partition windows\n",
        "                x_windows = window_partition(shifted_x, self.window_size)  # nW*B, window_size, window_size, C\n",
        "            else:\n",
        "                x_windows = WindowProcess.apply(x, B, H, W, C, -self.shift_size, self.window_size)\n",
        "        else:\n",
        "            shifted_x = x\n",
        "            # partition windows\n",
        "            x_windows = window_partition(shifted_x, self.window_size)  # nW*B, window_size, window_size, C\n",
        "\n",
        "        x_windows = x_windows.view(-1, self.window_size * self.window_size, C)  # nW*B, window_size*window_size, C\n",
        "\n",
        "        # W-MSA/SW-MSA\n",
        "        attn_windows = self.attn(x_windows, mask=self.attn_mask)  # nW*B, window_size*window_size, C\n",
        "\n",
        "        # merge windows\n",
        "        attn_windows = attn_windows.view(-1, self.window_size, self.window_size, C)\n",
        "\n",
        "        # reverse cyclic shift\n",
        "        if self.shift_size > 0:\n",
        "            if not self.fused_window_process:\n",
        "                shifted_x = window_reverse(attn_windows, self.window_size, H, W)  # B H' W' C\n",
        "                x = torch.roll(shifted_x, shifts=(self.shift_size, self.shift_size), dims=(1, 2))\n",
        "            else:\n",
        "                x = WindowProcessReverse.apply(attn_windows, B, H, W, C, self.shift_size, self.window_size)\n",
        "        else:\n",
        "            shifted_x = window_reverse(attn_windows, self.window_size, H, W)  # B H' W' C\n",
        "            x = shifted_x\n",
        "        x = x.view(B, H * W, C)\n",
        "        x = shortcut + self.drop_path(x)\n",
        "\n",
        "        # FFN\n",
        "        x = x + self.drop_path(self.mlp(self.norm2(x)))\n",
        "\n",
        "        return x\n",
        "\n",
        "    def extra_repr(self) -> str:\n",
        "        return f\"dim={self.dim}, input_resolution={self.input_resolution}, num_heads={self.num_heads}, \" \\\n",
        "               f\"window_size={self.window_size}, shift_size={self.shift_size}, mlp_ratio={self.mlp_ratio}\"\n",
        "\n",
        "    def flops(self):\n",
        "        flops = 0\n",
        "        H, W = self.input_resolution\n",
        "        # norm1\n",
        "        flops += self.dim * H * W\n",
        "        # W-MSA/SW-MSA\n",
        "        nW = H * W / self.window_size / self.window_size\n",
        "        flops += nW * self.attn.flops(self.window_size * self.window_size)\n",
        "        # mlp\n",
        "        flops += 2 * H * W * self.dim * self.dim * self.mlp_ratio\n",
        "        # norm2\n",
        "        flops += self.dim * H * W\n",
        "        return flops\n",
        "\n",
        "\n",
        "class PatchMerging(nn.Module):\n",
        "    r\"\"\" Patch Merging Layer.\n",
        "    Args:\n",
        "        input_resolution (tuple[int]): Resolution of input feature.\n",
        "        dim (int): Number of input channels.\n",
        "        norm_layer (nn.Module, optional): Normalization layer.  Default: nn.LayerNorm\n",
        "    \"\"\"\n",
        "\n",
        "    def __init__(self, input_resolution, dim, norm_layer=nn.LayerNorm):\n",
        "        super().__init__()\n",
        "        self.input_resolution = input_resolution\n",
        "        self.dim = dim\n",
        "        self.reduction = nn.Linear(4 * dim, 2 * dim, bias=False)\n",
        "        self.norm = norm_layer(4 * dim)\n",
        "\n",
        "    def forward(self, x):\n",
        "        \"\"\"\n",
        "        x: B, H*W, C\n",
        "        \"\"\"\n",
        "        H, W = self.input_resolution\n",
        "        B, L, C = x.shape\n",
        "        assert L == H * W, \"input feature has wrong size\"\n",
        "        assert H % 2 == 0 and W % 2 == 0, f\"x size ({H}*{W}) are not even.\"\n",
        "\n",
        "        x = x.view(B, H, W, C)\n",
        "\n",
        "        x0 = x[:, 0::2, 0::2, :]  # B H/2 W/2 C\n",
        "        x1 = x[:, 1::2, 0::2, :]  # B H/2 W/2 C\n",
        "        x2 = x[:, 0::2, 1::2, :]  # B H/2 W/2 C\n",
        "        x3 = x[:, 1::2, 1::2, :]  # B H/2 W/2 C\n",
        "        x = torch.cat([x0, x1, x2, x3], -1)  # B H/2 W/2 4*C\n",
        "        x = x.view(B, -1, 4 * C)  # B H/2*W/2 4*C\n",
        "\n",
        "        x = self.norm(x)\n",
        "        x = self.reduction(x)\n",
        "\n",
        "        return x\n",
        "\n",
        "    def extra_repr(self) -> str:\n",
        "        return f\"input_resolution={self.input_resolution}, dim={self.dim}\"\n",
        "\n",
        "    def flops(self):\n",
        "        H, W = self.input_resolution\n",
        "        flops = H * W * self.dim\n",
        "        flops += (H // 2) * (W // 2) * 4 * self.dim * 2 * self.dim\n",
        "        return flops\n",
        "\n",
        "\n",
        "class BasicLayer(nn.Module):\n",
        "    \"\"\" A basic Swin Transformer layer for one stage.\n",
        "    Args:\n",
        "        dim (int): Number of input channels.\n",
        "        input_resolution (tuple[int]): Input resolution.\n",
        "        depth (int): Number of blocks.\n",
        "        num_heads (int): Number of attention heads.\n",
        "        window_size (int): Local window size.\n",
        "        mlp_ratio (float): Ratio of mlp hidden dim to embedding dim.\n",
        "        qkv_bias (bool, optional): If True, add a learnable bias to query, key, value. Default: True\n",
        "        qk_scale (float | None, optional): Override default qk scale of head_dim ** -0.5 if set.\n",
        "        drop (float, optional): Dropout rate. Default: 0.0\n",
        "        attn_drop (float, optional): Attention dropout rate. Default: 0.0\n",
        "        drop_path (float | tuple[float], optional): Stochastic depth rate. Default: 0.0\n",
        "        norm_layer (nn.Module, optional): Normalization layer. Default: nn.LayerNorm\n",
        "        downsample (nn.Module | None, optional): Downsample layer at the end of the layer. Default: None\n",
        "        use_checkpoint (bool): Whether to use checkpointing to save memory. Default: False.\n",
        "        fused_window_process (bool, optional): If True, use one kernel to fused window shift & window partition for acceleration, similar for the reversed part. Default: False\n",
        "    \"\"\"\n",
        "\n",
        "    def __init__(self, dim, input_resolution, depth, num_heads, window_size,\n",
        "                 mlp_ratio=4., qkv_bias=True, qk_scale=None, drop=0., attn_drop=0.,\n",
        "                 drop_path=0., norm_layer=nn.LayerNorm, downsample=None, use_checkpoint=False,\n",
        "                 fused_window_process=False):\n",
        "\n",
        "        super().__init__()\n",
        "        self.dim = dim\n",
        "        self.input_resolution = input_resolution\n",
        "        self.depth = depth\n",
        "        self.use_checkpoint = use_checkpoint\n",
        "\n",
        "        # build blocks\n",
        "        self.blocks = nn.ModuleList([\n",
        "            SwinTransformerBlock(dim=dim, input_resolution=input_resolution,\n",
        "                                 num_heads=num_heads, window_size=window_size,\n",
        "                                 shift_size=0 if (i % 2 == 0) else window_size // 2,\n",
        "                                 mlp_ratio=mlp_ratio,\n",
        "                                 qkv_bias=qkv_bias, qk_scale=qk_scale,\n",
        "                                 drop=drop, attn_drop=attn_drop,\n",
        "                                 drop_path=drop_path[i] if isinstance(drop_path, list) else drop_path,\n",
        "                                 norm_layer=norm_layer,\n",
        "                                 fused_window_process=fused_window_process)\n",
        "            for i in range(depth)])\n",
        "\n",
        "        # patch merging layer\n",
        "        if downsample is not None:\n",
        "            self.downsample = downsample(input_resolution, dim=dim, norm_layer=norm_layer)\n",
        "        else:\n",
        "            self.downsample = None\n",
        "\n",
        "    def forward(self, x):\n",
        "        for blk in self.blocks:\n",
        "            if self.use_checkpoint:\n",
        "                x = checkpoint.checkpoint(blk, x)\n",
        "            else:\n",
        "                x = blk(x)\n",
        "        if self.downsample is not None:\n",
        "            x = self.downsample(x)\n",
        "        return x\n",
        "\n",
        "    def extra_repr(self) -> str:\n",
        "        return f\"dim={self.dim}, input_resolution={self.input_resolution}, depth={self.depth}\"\n",
        "\n",
        "    def flops(self):\n",
        "        flops = 0\n",
        "        for blk in self.blocks:\n",
        "            flops += blk.flops()\n",
        "        if self.downsample is not None:\n",
        "            flops += self.downsample.flops()\n",
        "        return flops\n",
        "\n",
        "\n",
        "class PatchEmbed(nn.Module):\n",
        "    r\"\"\" Image to Patch Embedding\n",
        "    Args:\n",
        "        img_size (int): Image size.  Default: 224.\n",
        "        patch_size (int): Patch token size. Default: 4.\n",
        "        in_chans (int): Number of input image channels. Default: 3.\n",
        "        embed_dim (int): Number of linear projection output channels. Default: 96.\n",
        "        norm_layer (nn.Module, optional): Normalization layer. Default: None\n",
        "    \"\"\"\n",
        "\n",
        "    def __init__(self, img_size=224, patch_size=4, in_chans=3, embed_dim=96, norm_layer=None):\n",
        "        super().__init__()\n",
        "        img_size = to_2tuple(img_size)\n",
        "        patch_size = to_2tuple(patch_size)\n",
        "        patches_resolution = [img_size[0] // patch_size[0], img_size[1] // patch_size[1]]\n",
        "        self.img_size = img_size\n",
        "        self.patch_size = patch_size\n",
        "        self.patches_resolution = patches_resolution\n",
        "        self.num_patches = patches_resolution[0] * patches_resolution[1]\n",
        "\n",
        "        self.in_chans = in_chans\n",
        "        self.embed_dim = embed_dim\n",
        "\n",
        "        self.proj = nn.Conv2d(in_chans, embed_dim, kernel_size=patch_size, stride=patch_size)\n",
        "        if norm_layer is not None:\n",
        "            self.norm = norm_layer(embed_dim)\n",
        "        else:\n",
        "            self.norm = None\n",
        "\n",
        "    def forward(self, x):\n",
        "        B, C, H, W = x.shape\n",
        "        # FIXME look at relaxing size constraints\n",
        "        assert H == self.img_size[0] and W == self.img_size[1], \\\n",
        "            f\"Input image size ({H}*{W}) doesn't match model ({self.img_size[0]}*{self.img_size[1]}).\"\n",
        "        x = self.proj(x).flatten(2).transpose(1, 2)  # B Ph*Pw C\n",
        "        if self.norm is not None:\n",
        "            x = self.norm(x)\n",
        "        return x\n",
        "\n",
        "    def flops(self):\n",
        "        Ho, Wo = self.patches_resolution\n",
        "        flops = Ho * Wo * self.embed_dim * self.in_chans * (self.patch_size[0] * self.patch_size[1])\n",
        "        if self.norm is not None:\n",
        "            flops += Ho * Wo * self.embed_dim\n",
        "        return flops\n",
        "\n",
        "\n",
        "class SwinTransformer(nn.Module):\n",
        "    r\"\"\" Swin Transformer\n",
        "        A PyTorch impl of : `Swin Transformer: Hierarchical Vision Transformer using Shifted Windows`  -\n",
        "          https://arxiv.org/pdf/2103.14030\n",
        "    Args:\n",
        "        img_size (int | tuple(int)): Input image size. Default 224\n",
        "        patch_size (int | tuple(int)): Patch size. Default: 4\n",
        "        in_chans (int): Number of input image channels. Default: 3\n",
        "        num_classes (int): Number of classes for classification head. Default: 1000\n",
        "        embed_dim (int): Patch embedding dimension. Default: 96\n",
        "        depths (tuple(int)): Depth of each Swin Transformer layer.\n",
        "        num_heads (tuple(int)): Number of attention heads in different layers.\n",
        "        window_size (int): Window size. Default: 7\n",
        "        mlp_ratio (float): Ratio of mlp hidden dim to embedding dim. Default: 4\n",
        "        qkv_bias (bool): If True, add a learnable bias to query, key, value. Default: True\n",
        "        qk_scale (float): Override default qk scale of head_dim ** -0.5 if set. Default: None\n",
        "        drop_rate (float): Dropout rate. Default: 0\n",
        "        attn_drop_rate (float): Attention dropout rate. Default: 0\n",
        "        drop_path_rate (float): Stochastic depth rate. Default: 0.1\n",
        "        norm_layer (nn.Module): Normalization layer. Default: nn.LayerNorm.\n",
        "        ape (bool): If True, add absolute position embedding to the patch embedding. Default: False\n",
        "        patch_norm (bool): If True, add normalization after patch embedding. Default: True\n",
        "        use_checkpoint (bool): Whether to use checkpointing to save memory. Default: False\n",
        "        fused_window_process (bool, optional): If True, use one kernel to fused window shift & window partition for acceleration, similar for the reversed part. Default: False\n",
        "    \"\"\"\n",
        "\n",
        "    def __init__(self, img_size=224, patch_size=4, in_chans=3, num_classes=1000,\n",
        "                 embed_dim=96, depths=[2, 2, 6, 2], num_heads=[3, 6, 12, 24],\n",
        "                 window_size=7, mlp_ratio=4., qkv_bias=True, qk_scale=None,\n",
        "                 drop_rate=0., attn_drop_rate=0., drop_path_rate=0.1,\n",
        "                 norm_layer=nn.LayerNorm, ape=False, patch_norm=True,\n",
        "                 use_checkpoint=False, fused_window_process=False, **kwargs):\n",
        "        super().__init__()\n",
        "\n",
        "        self.num_classes = num_classes\n",
        "        self.num_layers = len(depths)\n",
        "        self.embed_dim = embed_dim\n",
        "        self.ape = ape\n",
        "        self.patch_norm = patch_norm\n",
        "        self.num_features = int(embed_dim * 2 ** (self.num_layers - 1))\n",
        "        self.mlp_ratio = mlp_ratio\n",
        "\n",
        "        # split image into non-overlapping patches\n",
        "        self.patch_embed = PatchEmbed(\n",
        "            img_size=img_size, patch_size=patch_size, in_chans=in_chans, embed_dim=embed_dim,\n",
        "            norm_layer=norm_layer if self.patch_norm else None)\n",
        "        num_patches = self.patch_embed.num_patches\n",
        "        patches_resolution = self.patch_embed.patches_resolution\n",
        "        self.patches_resolution = patches_resolution\n",
        "\n",
        "        # absolute position embedding\n",
        "        if self.ape:\n",
        "            self.absolute_pos_embed = nn.Parameter(torch.zeros(1, num_patches, embed_dim))\n",
        "            trunc_normal_(self.absolute_pos_embed, std=.02)\n",
        "\n",
        "        self.pos_drop = nn.Dropout(p=drop_rate)\n",
        "\n",
        "        # stochastic depth\n",
        "        dpr = [x.item() for x in torch.linspace(0, drop_path_rate, sum(depths))]  # stochastic depth decay rule\n",
        "\n",
        "        # build layers\n",
        "        self.layers = nn.ModuleList()\n",
        "        for i_layer in range(self.num_layers):\n",
        "            layer = BasicLayer(dim=int(embed_dim * 2 ** i_layer),\n",
        "                               input_resolution=(patches_resolution[0] // (2 ** i_layer),\n",
        "                                                 patches_resolution[1] // (2 ** i_layer)),\n",
        "                               depth=depths[i_layer],\n",
        "                               num_heads=num_heads[i_layer],\n",
        "                               window_size=window_size,\n",
        "                               mlp_ratio=self.mlp_ratio,\n",
        "                               qkv_bias=qkv_bias, qk_scale=qk_scale,\n",
        "                               drop=drop_rate, attn_drop=attn_drop_rate,\n",
        "                               drop_path=dpr[sum(depths[:i_layer]):sum(depths[:i_layer + 1])],\n",
        "                               norm_layer=norm_layer,\n",
        "                               downsample=PatchMerging if (i_layer < self.num_layers - 1) else None,\n",
        "                               use_checkpoint=use_checkpoint,\n",
        "                               fused_window_process=fused_window_process)\n",
        "            self.layers.append(layer)\n",
        "\n",
        "        self.norm = norm_layer(self.num_features)\n",
        "        self.avgpool = nn.AdaptiveAvgPool1d(1)\n",
        "        self.head = nn.Linear(self.num_features, num_classes) if num_classes > 0 else nn.Identity()\n",
        "\n",
        "        self.apply(self._init_weights)\n",
        "\n",
        "    def _init_weights(self, m):\n",
        "        if isinstance(m, nn.Linear):\n",
        "            trunc_normal_(m.weight, std=.02)\n",
        "            if isinstance(m, nn.Linear) and m.bias is not None:\n",
        "                nn.init.constant_(m.bias, 0)\n",
        "        elif isinstance(m, nn.LayerNorm):\n",
        "            nn.init.constant_(m.bias, 0)\n",
        "            nn.init.constant_(m.weight, 1.0)\n",
        "\n",
        "    @torch.jit.ignore\n",
        "    def no_weight_decay(self):\n",
        "        return {'absolute_pos_embed'}\n",
        "\n",
        "    @torch.jit.ignore\n",
        "    def no_weight_decay_keywords(self):\n",
        "        return {'relative_position_bias_table'}\n",
        "\n",
        "    def forward_features(self, x):\n",
        "        x = self.patch_embed(x)\n",
        "        if self.ape:\n",
        "            x = x + self.absolute_pos_embed\n",
        "        x = self.pos_drop(x)\n",
        "\n",
        "        for layer in self.layers:\n",
        "            x = layer(x)\n",
        "\n",
        "        x = self.norm(x)  # B L C\n",
        "        x = self.avgpool(x.transpose(1, 2))  # B C 1\n",
        "        x = torch.flatten(x, 1)\n",
        "        return x\n",
        "\n",
        "    def forward(self, x):\n",
        "        x = self.forward_features(x)\n",
        "        x = self.head(x)\n",
        "        return x\n",
        "\n",
        "    def flops(self):\n",
        "        flops = 0\n",
        "        flops += self.patch_embed.flops()\n",
        "        for i, layer in enumerate(self.layers):\n",
        "            flops += layer.flops()\n",
        "        flops += self.num_features * self.patches_resolution[0] * self.patches_resolution[1] // (2 ** self.num_layers)\n",
        "        flops += self.num_features * self.num_classes\n",
        "        return flops\n"
      ]
    },
    {
      "cell_type": "code",
      "source": [
        "from google.colab import files\n",
        "uploaded=files.upload()"
      ],
      "metadata": {
        "id": "WNcfXAiChczX",
        "colab": {
          "base_uri": "https://localhost:8080/",
          "height": 74
        },
        "outputId": "26ceb2c4-bb77-4566-e285-eb5976440262"
      },
      "execution_count": null,
      "outputs": [
        {
          "output_type": "display_data",
          "data": {
            "text/plain": [
              "<IPython.core.display.HTML object>"
            ],
            "text/html": [
              "\n",
              "     <input type=\"file\" id=\"files-9356e74e-2347-4582-8ebc-65870d050b9e\" name=\"files[]\" multiple disabled\n",
              "        style=\"border:none\" />\n",
              "     <output id=\"result-9356e74e-2347-4582-8ebc-65870d050b9e\">\n",
              "      Upload widget is only available when the cell has been executed in the\n",
              "      current browser session. Please rerun this cell to enable.\n",
              "      </output>\n",
              "      <script>// Copyright 2017 Google LLC\n",
              "//\n",
              "// Licensed under the Apache License, Version 2.0 (the \"License\");\n",
              "// you may not use this file except in compliance with the License.\n",
              "// You may obtain a copy of the License at\n",
              "//\n",
              "//      http://www.apache.org/licenses/LICENSE-2.0\n",
              "//\n",
              "// Unless required by applicable law or agreed to in writing, software\n",
              "// distributed under the License is distributed on an \"AS IS\" BASIS,\n",
              "// WITHOUT WARRANTIES OR CONDITIONS OF ANY KIND, either express or implied.\n",
              "// See the License for the specific language governing permissions and\n",
              "// limitations under the License.\n",
              "\n",
              "/**\n",
              " * @fileoverview Helpers for google.colab Python module.\n",
              " */\n",
              "(function(scope) {\n",
              "function span(text, styleAttributes = {}) {\n",
              "  const element = document.createElement('span');\n",
              "  element.textContent = text;\n",
              "  for (const key of Object.keys(styleAttributes)) {\n",
              "    element.style[key] = styleAttributes[key];\n",
              "  }\n",
              "  return element;\n",
              "}\n",
              "\n",
              "// Max number of bytes which will be uploaded at a time.\n",
              "const MAX_PAYLOAD_SIZE = 100 * 1024;\n",
              "\n",
              "function _uploadFiles(inputId, outputId) {\n",
              "  const steps = uploadFilesStep(inputId, outputId);\n",
              "  const outputElement = document.getElementById(outputId);\n",
              "  // Cache steps on the outputElement to make it available for the next call\n",
              "  // to uploadFilesContinue from Python.\n",
              "  outputElement.steps = steps;\n",
              "\n",
              "  return _uploadFilesContinue(outputId);\n",
              "}\n",
              "\n",
              "// This is roughly an async generator (not supported in the browser yet),\n",
              "// where there are multiple asynchronous steps and the Python side is going\n",
              "// to poll for completion of each step.\n",
              "// This uses a Promise to block the python side on completion of each step,\n",
              "// then passes the result of the previous step as the input to the next step.\n",
              "function _uploadFilesContinue(outputId) {\n",
              "  const outputElement = document.getElementById(outputId);\n",
              "  const steps = outputElement.steps;\n",
              "\n",
              "  const next = steps.next(outputElement.lastPromiseValue);\n",
              "  return Promise.resolve(next.value.promise).then((value) => {\n",
              "    // Cache the last promise value to make it available to the next\n",
              "    // step of the generator.\n",
              "    outputElement.lastPromiseValue = value;\n",
              "    return next.value.response;\n",
              "  });\n",
              "}\n",
              "\n",
              "/**\n",
              " * Generator function which is called between each async step of the upload\n",
              " * process.\n",
              " * @param {string} inputId Element ID of the input file picker element.\n",
              " * @param {string} outputId Element ID of the output display.\n",
              " * @return {!Iterable<!Object>} Iterable of next steps.\n",
              " */\n",
              "function* uploadFilesStep(inputId, outputId) {\n",
              "  const inputElement = document.getElementById(inputId);\n",
              "  inputElement.disabled = false;\n",
              "\n",
              "  const outputElement = document.getElementById(outputId);\n",
              "  outputElement.innerHTML = '';\n",
              "\n",
              "  const pickedPromise = new Promise((resolve) => {\n",
              "    inputElement.addEventListener('change', (e) => {\n",
              "      resolve(e.target.files);\n",
              "    });\n",
              "  });\n",
              "\n",
              "  const cancel = document.createElement('button');\n",
              "  inputElement.parentElement.appendChild(cancel);\n",
              "  cancel.textContent = 'Cancel upload';\n",
              "  const cancelPromise = new Promise((resolve) => {\n",
              "    cancel.onclick = () => {\n",
              "      resolve(null);\n",
              "    };\n",
              "  });\n",
              "\n",
              "  // Wait for the user to pick the files.\n",
              "  const files = yield {\n",
              "    promise: Promise.race([pickedPromise, cancelPromise]),\n",
              "    response: {\n",
              "      action: 'starting',\n",
              "    }\n",
              "  };\n",
              "\n",
              "  cancel.remove();\n",
              "\n",
              "  // Disable the input element since further picks are not allowed.\n",
              "  inputElement.disabled = true;\n",
              "\n",
              "  if (!files) {\n",
              "    return {\n",
              "      response: {\n",
              "        action: 'complete',\n",
              "      }\n",
              "    };\n",
              "  }\n",
              "\n",
              "  for (const file of files) {\n",
              "    const li = document.createElement('li');\n",
              "    li.append(span(file.name, {fontWeight: 'bold'}));\n",
              "    li.append(span(\n",
              "        `(${file.type || 'n/a'}) - ${file.size} bytes, ` +\n",
              "        `last modified: ${\n",
              "            file.lastModifiedDate ? file.lastModifiedDate.toLocaleDateString() :\n",
              "                                    'n/a'} - `));\n",
              "    const percent = span('0% done');\n",
              "    li.appendChild(percent);\n",
              "\n",
              "    outputElement.appendChild(li);\n",
              "\n",
              "    const fileDataPromise = new Promise((resolve) => {\n",
              "      const reader = new FileReader();\n",
              "      reader.onload = (e) => {\n",
              "        resolve(e.target.result);\n",
              "      };\n",
              "      reader.readAsArrayBuffer(file);\n",
              "    });\n",
              "    // Wait for the data to be ready.\n",
              "    let fileData = yield {\n",
              "      promise: fileDataPromise,\n",
              "      response: {\n",
              "        action: 'continue',\n",
              "      }\n",
              "    };\n",
              "\n",
              "    // Use a chunked sending to avoid message size limits. See b/62115660.\n",
              "    let position = 0;\n",
              "    do {\n",
              "      const length = Math.min(fileData.byteLength - position, MAX_PAYLOAD_SIZE);\n",
              "      const chunk = new Uint8Array(fileData, position, length);\n",
              "      position += length;\n",
              "\n",
              "      const base64 = btoa(String.fromCharCode.apply(null, chunk));\n",
              "      yield {\n",
              "        response: {\n",
              "          action: 'append',\n",
              "          file: file.name,\n",
              "          data: base64,\n",
              "        },\n",
              "      };\n",
              "\n",
              "      let percentDone = fileData.byteLength === 0 ?\n",
              "          100 :\n",
              "          Math.round((position / fileData.byteLength) * 100);\n",
              "      percent.textContent = `${percentDone}% done`;\n",
              "\n",
              "    } while (position < fileData.byteLength);\n",
              "  }\n",
              "\n",
              "  // All done.\n",
              "  yield {\n",
              "    response: {\n",
              "      action: 'complete',\n",
              "    }\n",
              "  };\n",
              "}\n",
              "\n",
              "scope.google = scope.google || {};\n",
              "scope.google.colab = scope.google.colab || {};\n",
              "scope.google.colab._files = {\n",
              "  _uploadFiles,\n",
              "  _uploadFilesContinue,\n",
              "};\n",
              "})(self);\n",
              "</script> "
            ]
          },
          "metadata": {}
        },
        {
          "output_type": "stream",
          "name": "stdout",
          "text": [
            "Saving jaffe.zip to jaffe.zip\n"
          ]
        }
      ]
    },
    {
      "cell_type": "code",
      "source": [
        "model = SwinTransformer()"
      ],
      "metadata": {
        "id": "R6rG3qi6iDsO",
        "colab": {
          "base_uri": "https://localhost:8080/"
        },
        "outputId": "2cf5219f-68f0-449d-dc5b-9c8c46d58408"
      },
      "execution_count": null,
      "outputs": [
        {
          "output_type": "stream",
          "name": "stderr",
          "text": [
            "/usr/local/lib/python3.8/dist-packages/torch/functional.py:478: UserWarning: torch.meshgrid: in an upcoming release, it will be required to pass the indexing argument. (Triggered internally at  ../aten/src/ATen/native/TensorShape.cpp:2894.)\n",
            "  return _VF.meshgrid(tensors, **kwargs)  # type: ignore[attr-defined]\n"
          ]
        }
      ]
    },
    {
      "cell_type": "code",
      "source": [
        "import zipfile\n",
        "import io\n",
        "zf = zipfile.ZipFile(io.BytesIO(uploaded['jaffe.zip']), \"r\")\n",
        "zf.extractall()"
      ],
      "metadata": {
        "id": "H1WxLxmF9eW6"
      },
      "execution_count": null,
      "outputs": []
    },
    {
      "cell_type": "markdown",
      "source": [
        "# New Section"
      ],
      "metadata": {
        "id": "2eZNSlJ-7tzf"
      }
    },
    {
      "cell_type": "code",
      "source": [
        "import cv2\n",
        "img = cv2.imread('./jaffe/train/angry/KA.AN1.39.jpg', cv2.IMREAD_GRAYSCALE)"
      ],
      "metadata": {
        "id": "6DyQuEIw9p_o"
      },
      "execution_count": null,
      "outputs": []
    },
    {
      "cell_type": "code",
      "source": [
        "import numpy as np\n",
        "img = np.expand_dims(img, -1)\n",
        "print(img.shape)"
      ],
      "metadata": {
        "colab": {
          "base_uri": "https://localhost:8080/"
        },
        "id": "8NrOQVf3-TU0",
        "outputId": "a2c4b26b-c8fc-47fb-dbf3-27af7f8bfb6d"
      },
      "execution_count": null,
      "outputs": [
        {
          "output_type": "stream",
          "name": "stdout",
          "text": [
            "(256, 256, 1)\n"
          ]
        }
      ]
    },
    {
      "cell_type": "code",
      "source": [
        "import torch\n",
        "import torchvision\n",
        "from torchvision import transforms\n",
        "#import torchvision.transforms as T\n",
        "from torch.utils.data import DataLoader\n",
        "transform_trans=transforms.Compose([transforms.Resize((224,224)), \n",
        "                                    transforms.ToTensor()])\n",
        "\n",
        "#dataset\n",
        "training_data = \"./jaffe/train\"\n",
        "train_data= torchvision.datasets.ImageFolder(root=training_data,transform=transform_trans)\n",
        "\n",
        "testing_set = \"./jaffe/test\"\n",
        "test_data= torchvision.datasets.ImageFolder(root=testing_set,transform=transform_trans)"
      ],
      "metadata": {
        "id": "UjpTuEZhj2Us"
      },
      "execution_count": null,
      "outputs": []
    },
    {
      "cell_type": "code",
      "source": [
        "batch_size=20\n",
        "train_data_loader= torch.utils.data.DataLoader(train_data,batch_size=batch_size)\n",
        "test_data_loader= torch.utils.data.DataLoader(test_data,batch_size=batch_size)\n"
      ],
      "metadata": {
        "id": "Ho5QenqY5KfO"
      },
      "execution_count": null,
      "outputs": []
    },
    {
      "cell_type": "code",
      "source": [
        "from torch.cuda import device_of\n",
        "from torch.optim import optimizer\n",
        "from torch.nn.modules.loss import CrossEntropyLoss\n",
        "import torch\n",
        "from tqdm import tqdm\n",
        "optim = torch.optim.Adam(model.parameters(), lr=0.005)\n",
        "criterion = CrossEntropyLoss()\n",
        "total_epochs=100\n",
        "device= torch.device(\"cuda\" if torch.cuda.is_available() else \"cpu\")\n",
        "\n",
        "model = model.to(device)\n",
        "for epoch in tqdm(range(total_epochs), desc=\"Training\"):\n",
        "  train_loss=0.0\n",
        "  for batch in tqdm(train_data_loader,desc=f\"Epoch {epoch +1} in training\",leave=False):\n",
        "    x,y = batch\n",
        "    x,y= x.to(device), y.to(device)\n",
        "    y_hat=model(x)\n",
        "    print(y)\n",
        "    loss= criterion(y_hat,y)\n",
        "\n",
        "    train_loss+=loss.detach().cpu().item()/ len(train_data_loader)\n",
        "    optim.zero_grad()\n",
        "    loss.backward()\n",
        "    optim.step()\n",
        "    print(f\"epoch {epoch+1}/{total_epochs} loss: {train_loss:.2f}\")\n",
        "\n",
        "  "
      ],
      "metadata": {
        "id": "sOu8sez2fayq",
        "colab": {
          "base_uri": "https://localhost:8080/"
        },
        "outputId": "b549df2b-b0bc-4579-e795-ba59f144bc50"
      },
      "execution_count": null,
      "outputs": [
        {
          "output_type": "stream",
          "name": "stderr",
          "text": [
            "Training:   0%|          | 0/100 [00:00<?, ?it/s]\n",
            "Epoch 1 in training:   0%|          | 0/11 [00:00<?, ?it/s]\u001b[A\n",
            "Epoch 1 in training:   9%|▉         | 1/11 [00:00<00:01,  6.49it/s]\u001b[A"
          ]
        },
        {
          "output_type": "stream",
          "name": "stdout",
          "text": [
            "tensor([0, 0, 0, 0, 0, 0, 0, 0, 0, 0, 0, 0, 0, 0, 0, 0, 0, 0, 0, 0],\n",
            "       device='cuda:0')\n",
            "epoch 1/100 loss: 0.47\n",
            "tensor([0, 0, 0, 0, 0, 0, 0, 0, 0, 0, 1, 1, 1, 1, 1, 1, 1, 1, 1, 1],\n",
            "       device='cuda:0')\n"
          ]
        },
        {
          "output_type": "stream",
          "name": "stderr",
          "text": [
            "\n",
            "Epoch 1 in training:  18%|█▊        | 2/11 [00:00<00:01,  6.35it/s]\u001b[A\n",
            "Epoch 1 in training:  27%|██▋       | 3/11 [00:00<00:01,  6.56it/s]\u001b[A"
          ]
        },
        {
          "output_type": "stream",
          "name": "stdout",
          "text": [
            "epoch 1/100 loss: 1.65\n",
            "tensor([1, 1, 1, 1, 1, 1, 1, 1, 1, 1, 1, 1, 1, 1, 1, 1, 1, 1, 1, 2],\n",
            "       device='cuda:0')\n",
            "epoch 1/100 loss: 3.17\n"
          ]
        },
        {
          "output_type": "stream",
          "name": "stderr",
          "text": [
            "\n",
            "Epoch 1 in training:  36%|███▋      | 4/11 [00:00<00:01,  6.74it/s]\u001b[A\n",
            "Epoch 1 in training:  45%|████▌     | 5/11 [00:00<00:00,  6.93it/s]\u001b[A"
          ]
        },
        {
          "output_type": "stream",
          "name": "stdout",
          "text": [
            "tensor([2, 2, 2, 2, 2, 2, 2, 2, 2, 2, 2, 2, 2, 2, 2, 2, 2, 2, 2, 2],\n",
            "       device='cuda:0')\n",
            "epoch 1/100 loss: 3.89\n",
            "tensor([2, 2, 2, 2, 2, 2, 2, 3, 3, 3, 3, 3, 3, 3, 3, 3, 3, 3, 3, 3],\n",
            "       device='cuda:0')\n",
            "epoch 1/100 loss: 4.36\n"
          ]
        },
        {
          "output_type": "stream",
          "name": "stderr",
          "text": [
            "\n",
            "Epoch 1 in training:  55%|█████▍    | 6/11 [00:00<00:00,  6.85it/s]\u001b[A\n",
            "Epoch 1 in training:  64%|██████▎   | 7/11 [00:01<00:00,  6.95it/s]\u001b[A"
          ]
        },
        {
          "output_type": "stream",
          "name": "stdout",
          "text": [
            "tensor([3, 3, 3, 3, 3, 3, 3, 3, 3, 3, 3, 3, 3, 3, 3, 3, 3, 3, 4, 4],\n",
            "       device='cuda:0')\n",
            "epoch 1/100 loss: 4.64\n",
            "tensor([4, 4, 4, 4, 4, 4, 4, 4, 4, 4, 4, 4, 4, 4, 4, 4, 4, 4, 4, 4],\n",
            "       device='cuda:0')\n",
            "epoch 1/100 loss: 5.19\n"
          ]
        },
        {
          "output_type": "stream",
          "name": "stderr",
          "text": [
            "\n",
            "Epoch 1 in training:  73%|███████▎  | 8/11 [00:01<00:00,  7.02it/s]\u001b[A"
          ]
        },
        {
          "output_type": "stream",
          "name": "stdout",
          "text": [
            "tensor([4, 4, 4, 4, 4, 4, 4, 4, 5, 5, 5, 5, 5, 5, 5, 5, 5, 5, 5, 5],\n",
            "       device='cuda:0')\n",
            "epoch 1/100 loss: 5.88\n",
            "tensor([5, 5, 5, 5, 5, 5, 5, 5, 5, 5, 5, 5, 5, 5, 5, 5, 5, 5, 5, 6],\n",
            "       device='cuda:0')\n"
          ]
        },
        {
          "output_type": "stream",
          "name": "stderr",
          "text": [
            "\n",
            "Epoch 1 in training:  82%|████████▏ | 9/11 [00:01<00:00,  6.95it/s]\u001b[A\n",
            "Epoch 1 in training:  91%|█████████ | 10/11 [00:01<00:00,  6.99it/s]\u001b[A"
          ]
        },
        {
          "output_type": "stream",
          "name": "stdout",
          "text": [
            "epoch 1/100 loss: 6.41\n",
            "tensor([6, 6, 6, 6, 6, 6, 6, 6, 6, 6, 6, 6, 6, 6, 6, 6, 6, 6, 6, 6],\n",
            "       device='cuda:0')\n",
            "epoch 1/100 loss: 6.96\n",
            "tensor([6, 6, 6, 6, 6, 6, 6, 6, 6], device='cuda:0')\n"
          ]
        },
        {
          "output_type": "stream",
          "name": "stderr",
          "text": [
            "\n",
            "Training:   1%|          | 1/100 [00:01<02:33,  1.55s/it]"
          ]
        },
        {
          "output_type": "stream",
          "name": "stdout",
          "text": [
            "epoch 1/100 loss: 7.25\n"
          ]
        },
        {
          "output_type": "stream",
          "name": "stderr",
          "text": [
            "\n",
            "Epoch 2 in training:   0%|          | 0/11 [00:00<?, ?it/s]\u001b[A\n",
            "Epoch 2 in training:   9%|▉         | 1/11 [00:00<00:01,  7.46it/s]\u001b[A"
          ]
        },
        {
          "output_type": "stream",
          "name": "stdout",
          "text": [
            "tensor([0, 0, 0, 0, 0, 0, 0, 0, 0, 0, 0, 0, 0, 0, 0, 0, 0, 0, 0, 0],\n",
            "       device='cuda:0')\n",
            "epoch 2/100 loss: 0.81\n"
          ]
        },
        {
          "output_type": "stream",
          "name": "stderr",
          "text": [
            "\n",
            "Epoch 2 in training:  18%|█▊        | 2/11 [00:00<00:01,  7.35it/s]\u001b[A"
          ]
        },
        {
          "output_type": "stream",
          "name": "stdout",
          "text": [
            "tensor([0, 0, 0, 0, 0, 0, 0, 0, 0, 0, 1, 1, 1, 1, 1, 1, 1, 1, 1, 1],\n",
            "       device='cuda:0')\n",
            "epoch 2/100 loss: 1.74\n"
          ]
        },
        {
          "output_type": "stream",
          "name": "stderr",
          "text": [
            "\n",
            "Epoch 2 in training:  27%|██▋       | 3/11 [00:00<00:01,  7.28it/s]\u001b[A"
          ]
        },
        {
          "output_type": "stream",
          "name": "stdout",
          "text": [
            "tensor([1, 1, 1, 1, 1, 1, 1, 1, 1, 1, 1, 1, 1, 1, 1, 1, 1, 1, 1, 2],\n",
            "       device='cuda:0')\n",
            "epoch 2/100 loss: 2.97\n"
          ]
        },
        {
          "output_type": "stream",
          "name": "stderr",
          "text": [
            "\n",
            "Epoch 2 in training:  36%|███▋      | 4/11 [00:00<00:00,  7.24it/s]\u001b[A"
          ]
        },
        {
          "output_type": "stream",
          "name": "stdout",
          "text": [
            "tensor([2, 2, 2, 2, 2, 2, 2, 2, 2, 2, 2, 2, 2, 2, 2, 2, 2, 2, 2, 2],\n",
            "       device='cuda:0')\n",
            "epoch 2/100 loss: 3.69\n"
          ]
        },
        {
          "output_type": "stream",
          "name": "stderr",
          "text": [
            "\n",
            "Epoch 2 in training:  45%|████▌     | 5/11 [00:00<00:00,  7.18it/s]\u001b[A"
          ]
        },
        {
          "output_type": "stream",
          "name": "stdout",
          "text": [
            "tensor([2, 2, 2, 2, 2, 2, 2, 3, 3, 3, 3, 3, 3, 3, 3, 3, 3, 3, 3, 3],\n",
            "       device='cuda:0')\n",
            "epoch 2/100 loss: 4.40\n"
          ]
        },
        {
          "output_type": "stream",
          "name": "stderr",
          "text": [
            "\n",
            "Epoch 2 in training:  55%|█████▍    | 6/11 [00:00<00:00,  7.18it/s]\u001b[A"
          ]
        },
        {
          "output_type": "stream",
          "name": "stdout",
          "text": [
            "tensor([3, 3, 3, 3, 3, 3, 3, 3, 3, 3, 3, 3, 3, 3, 3, 3, 3, 3, 4, 4],\n",
            "       device='cuda:0')\n",
            "epoch 2/100 loss: 5.07\n",
            "tensor([4, 4, 4, 4, 4, 4, 4, 4, 4, 4, 4, 4, 4, 4, 4, 4, 4, 4, 4, 4],\n",
            "       device='cuda:0')\n"
          ]
        },
        {
          "output_type": "stream",
          "name": "stderr",
          "text": [
            "\n",
            "Epoch 2 in training:  64%|██████▎   | 7/11 [00:00<00:00,  7.04it/s]\u001b[A"
          ]
        },
        {
          "output_type": "stream",
          "name": "stdout",
          "text": [
            "epoch 2/100 loss: 5.55\n",
            "tensor([4, 4, 4, 4, 4, 4, 4, 4, 5, 5, 5, 5, 5, 5, 5, 5, 5, 5, 5, 5],\n",
            "       device='cuda:0')\n"
          ]
        },
        {
          "output_type": "stream",
          "name": "stderr",
          "text": [
            "\n",
            "Epoch 2 in training:  73%|███████▎  | 8/11 [00:01<00:00,  6.96it/s]\u001b[A"
          ]
        },
        {
          "output_type": "stream",
          "name": "stdout",
          "text": [
            "epoch 2/100 loss: 5.87\n"
          ]
        },
        {
          "output_type": "stream",
          "name": "stderr",
          "text": [
            "\n",
            "Epoch 2 in training:  82%|████████▏ | 9/11 [00:01<00:00,  7.03it/s]\u001b[A"
          ]
        },
        {
          "output_type": "stream",
          "name": "stdout",
          "text": [
            "tensor([5, 5, 5, 5, 5, 5, 5, 5, 5, 5, 5, 5, 5, 5, 5, 5, 5, 5, 5, 6],\n",
            "       device='cuda:0')\n",
            "epoch 2/100 loss: 6.13\n",
            "tensor([6, 6, 6, 6, 6, 6, 6, 6, 6, 6, 6, 6, 6, 6, 6, 6, 6, 6, 6, 6],\n",
            "       device='cuda:0')\n"
          ]
        },
        {
          "output_type": "stream",
          "name": "stderr",
          "text": [
            "\n",
            "Epoch 2 in training:  91%|█████████ | 10/11 [00:01<00:00,  6.93it/s]\u001b[A\n",
            "Training:   2%|▏         | 2/100 [00:03<02:29,  1.53s/it]"
          ]
        },
        {
          "output_type": "stream",
          "name": "stdout",
          "text": [
            "epoch 2/100 loss: 6.63\n",
            "tensor([6, 6, 6, 6, 6, 6, 6, 6, 6], device='cuda:0')\n",
            "epoch 2/100 loss: 7.10\n"
          ]
        },
        {
          "output_type": "stream",
          "name": "stderr",
          "text": [
            "\n",
            "Epoch 3 in training:   0%|          | 0/11 [00:00<?, ?it/s]\u001b[A"
          ]
        },
        {
          "output_type": "stream",
          "name": "stdout",
          "text": [
            "tensor([0, 0, 0, 0, 0, 0, 0, 0, 0, 0, 0, 0, 0, 0, 0, 0, 0, 0, 0, 0],\n",
            "       device='cuda:0')\n"
          ]
        },
        {
          "output_type": "stream",
          "name": "stderr",
          "text": [
            "\n",
            "Epoch 3 in training:   9%|▉         | 1/11 [00:00<00:01,  6.84it/s]\u001b[A\n",
            "Epoch 3 in training:  18%|█▊        | 2/11 [00:00<00:01,  7.07it/s]\u001b[A"
          ]
        },
        {
          "output_type": "stream",
          "name": "stdout",
          "text": [
            "epoch 3/100 loss: 0.44\n",
            "tensor([0, 0, 0, 0, 0, 0, 0, 0, 0, 0, 1, 1, 1, 1, 1, 1, 1, 1, 1, 1],\n",
            "       device='cuda:0')\n",
            "epoch 3/100 loss: 0.85\n"
          ]
        },
        {
          "output_type": "stream",
          "name": "stderr",
          "text": [
            "\n",
            "Epoch 3 in training:  27%|██▋       | 3/11 [00:00<00:01,  7.11it/s]\u001b[A"
          ]
        },
        {
          "output_type": "stream",
          "name": "stdout",
          "text": [
            "tensor([1, 1, 1, 1, 1, 1, 1, 1, 1, 1, 1, 1, 1, 1, 1, 1, 1, 1, 1, 2],\n",
            "       device='cuda:0')\n",
            "epoch 3/100 loss: 1.18\n",
            "tensor([2, 2, 2, 2, 2, 2, 2, 2, 2, 2, 2, 2, 2, 2, 2, 2, 2, 2, 2, 2],\n",
            "       device='cuda:0')\n"
          ]
        },
        {
          "output_type": "stream",
          "name": "stderr",
          "text": [
            "\n",
            "Epoch 3 in training:  36%|███▋      | 4/11 [00:00<00:01,  6.93it/s]\u001b[A\n",
            "Epoch 3 in training:  45%|████▌     | 5/11 [00:00<00:00,  7.04it/s]\u001b[A"
          ]
        },
        {
          "output_type": "stream",
          "name": "stdout",
          "text": [
            "epoch 3/100 loss: 1.46\n",
            "tensor([2, 2, 2, 2, 2, 2, 2, 3, 3, 3, 3, 3, 3, 3, 3, 3, 3, 3, 3, 3],\n",
            "       device='cuda:0')\n",
            "epoch 3/100 loss: 1.67\n"
          ]
        },
        {
          "output_type": "stream",
          "name": "stderr",
          "text": [
            "\n",
            "Epoch 3 in training:  55%|█████▍    | 6/11 [00:00<00:00,  7.11it/s]\u001b[A\n",
            "Epoch 3 in training:  64%|██████▎   | 7/11 [00:00<00:00,  7.12it/s]\u001b[A"
          ]
        },
        {
          "output_type": "stream",
          "name": "stdout",
          "text": [
            "tensor([3, 3, 3, 3, 3, 3, 3, 3, 3, 3, 3, 3, 3, 3, 3, 3, 3, 3, 4, 4],\n",
            "       device='cuda:0')\n",
            "epoch 3/100 loss: 1.83\n",
            "tensor([4, 4, 4, 4, 4, 4, 4, 4, 4, 4, 4, 4, 4, 4, 4, 4, 4, 4, 4, 4],\n",
            "       device='cuda:0')\n",
            "epoch 3/100 loss: 2.11\n"
          ]
        },
        {
          "output_type": "stream",
          "name": "stderr",
          "text": [
            "\n",
            "Epoch 3 in training:  73%|███████▎  | 8/11 [00:01<00:00,  7.15it/s]\u001b[A"
          ]
        },
        {
          "output_type": "stream",
          "name": "stdout",
          "text": [
            "tensor([4, 4, 4, 4, 4, 4, 4, 4, 5, 5, 5, 5, 5, 5, 5, 5, 5, 5, 5, 5],\n",
            "       device='cuda:0')\n",
            "epoch 3/100 loss: 2.44\n",
            "tensor([5, 5, 5, 5, 5, 5, 5, 5, 5, 5, 5, 5, 5, 5, 5, 5, 5, 5, 5, 6],\n",
            "       device='cuda:0')\n"
          ]
        },
        {
          "output_type": "stream",
          "name": "stderr",
          "text": [
            "\n",
            "Epoch 3 in training:  82%|████████▏ | 9/11 [00:01<00:00,  6.99it/s]\u001b[A\n",
            "Epoch 3 in training:  91%|█████████ | 10/11 [00:01<00:00,  6.90it/s]\u001b[A"
          ]
        },
        {
          "output_type": "stream",
          "name": "stdout",
          "text": [
            "epoch 3/100 loss: 2.76\n",
            "tensor([6, 6, 6, 6, 6, 6, 6, 6, 6, 6, 6, 6, 6, 6, 6, 6, 6, 6, 6, 6],\n",
            "       device='cuda:0')\n",
            "epoch 3/100 loss: 2.94\n"
          ]
        },
        {
          "output_type": "stream",
          "name": "stderr",
          "text": [
            "\n",
            "Training:   3%|▎         | 3/100 [00:04<02:28,  1.53s/it]"
          ]
        },
        {
          "output_type": "stream",
          "name": "stdout",
          "text": [
            "tensor([6, 6, 6, 6, 6, 6, 6, 6, 6], device='cuda:0')\n",
            "epoch 3/100 loss: 3.09\n"
          ]
        },
        {
          "output_type": "stream",
          "name": "stderr",
          "text": [
            "\n",
            "Epoch 4 in training:   0%|          | 0/11 [00:00<?, ?it/s]\u001b[A\n",
            "Epoch 4 in training:   9%|▉         | 1/11 [00:00<00:01,  7.33it/s]\u001b[A"
          ]
        },
        {
          "output_type": "stream",
          "name": "stdout",
          "text": [
            "tensor([0, 0, 0, 0, 0, 0, 0, 0, 0, 0, 0, 0, 0, 0, 0, 0, 0, 0, 0, 0],\n",
            "       device='cuda:0')\n",
            "epoch 4/100 loss: 0.38\n",
            "tensor([0, 0, 0, 0, 0, 0, 0, 0, 0, 0, 1, 1, 1, 1, 1, 1, 1, 1, 1, 1],\n",
            "       device='cuda:0')\n"
          ]
        },
        {
          "output_type": "stream",
          "name": "stderr",
          "text": [
            "\n",
            "Epoch 4 in training:  18%|█▊        | 2/11 [00:00<00:01,  6.86it/s]\u001b[A\n",
            "Epoch 4 in training:  27%|██▋       | 3/11 [00:00<00:01,  6.92it/s]"
          ]
        },
        {
          "output_type": "stream",
          "name": "stdout",
          "text": [
            "epoch 4/100 loss: 0.71\n",
            "tensor([1, 1, 1, 1, 1, 1, 1, 1, 1, 1, 1, 1, 1, 1, 1, 1, 1, 1, 1, 2],\n",
            "       device='cuda:0')\n",
            "epoch 4/100 loss: 1.00\n"
          ]
        },
        {
          "output_type": "stream",
          "name": "stderr",
          "text": [
            "\u001b[A\n",
            "Epoch 4 in training:  36%|███▋      | 4/11 [00:00<00:01,  6.82it/s]\u001b[A"
          ]
        },
        {
          "output_type": "stream",
          "name": "stdout",
          "text": [
            "tensor([2, 2, 2, 2, 2, 2, 2, 2, 2, 2, 2, 2, 2, 2, 2, 2, 2, 2, 2, 2],\n",
            "       device='cuda:0')\n",
            "epoch 4/100 loss: 1.25\n",
            "tensor([2, 2, 2, 2, 2, 2, 2, 3, 3, 3, 3, 3, 3, 3, 3, 3, 3, 3, 3, 3],\n",
            "       device='cuda:0')\n"
          ]
        },
        {
          "output_type": "stream",
          "name": "stderr",
          "text": [
            "\n",
            "Epoch 4 in training:  45%|████▌     | 5/11 [00:00<00:00,  6.71it/s]\u001b[A\n",
            "Epoch 4 in training:  55%|█████▍    | 6/11 [00:00<00:00,  6.72it/s]\u001b[A"
          ]
        },
        {
          "output_type": "stream",
          "name": "stdout",
          "text": [
            "epoch 4/100 loss: 1.55\n",
            "tensor([3, 3, 3, 3, 3, 3, 3, 3, 3, 3, 3, 3, 3, 3, 3, 3, 3, 3, 4, 4],\n",
            "       device='cuda:0')\n",
            "epoch 4/100 loss: 1.87\n"
          ]
        },
        {
          "output_type": "stream",
          "name": "stderr",
          "text": [
            "\n",
            "Epoch 4 in training:  64%|██████▎   | 7/11 [00:01<00:00,  6.38it/s]\u001b[A"
          ]
        },
        {
          "output_type": "stream",
          "name": "stdout",
          "text": [
            "tensor([4, 4, 4, 4, 4, 4, 4, 4, 4, 4, 4, 4, 4, 4, 4, 4, 4, 4, 4, 4],\n",
            "       device='cuda:0')\n",
            "epoch 4/100 loss: 2.11\n",
            "tensor([4, 4, 4, 4, 4, 4, 4, 4, 5, 5, 5, 5, 5, 5, 5, 5, 5, 5, 5, 5],\n",
            "       device='cuda:0')\n"
          ]
        },
        {
          "output_type": "stream",
          "name": "stderr",
          "text": [
            "\n",
            "Epoch 4 in training:  73%|███████▎  | 8/11 [00:01<00:00,  6.22it/s]\u001b[A\n",
            "Epoch 4 in training:  82%|████████▏ | 9/11 [00:01<00:00,  6.49it/s]\u001b[A"
          ]
        },
        {
          "output_type": "stream",
          "name": "stdout",
          "text": [
            "epoch 4/100 loss: 2.34\n",
            "tensor([5, 5, 5, 5, 5, 5, 5, 5, 5, 5, 5, 5, 5, 5, 5, 5, 5, 5, 5, 6],\n",
            "       device='cuda:0')\n",
            "epoch 4/100 loss: 2.58\n"
          ]
        },
        {
          "output_type": "stream",
          "name": "stderr",
          "text": [
            "\n",
            "Epoch 4 in training:  91%|█████████ | 10/11 [00:01<00:00,  6.51it/s]\u001b[A\n",
            "Training:   4%|▍         | 4/100 [00:06<02:30,  1.57s/it]"
          ]
        },
        {
          "output_type": "stream",
          "name": "stdout",
          "text": [
            "tensor([6, 6, 6, 6, 6, 6, 6, 6, 6, 6, 6, 6, 6, 6, 6, 6, 6, 6, 6, 6],\n",
            "       device='cuda:0')\n",
            "epoch 4/100 loss: 2.89\n",
            "tensor([6, 6, 6, 6, 6, 6, 6, 6, 6], device='cuda:0')\n",
            "epoch 4/100 loss: 3.17\n"
          ]
        },
        {
          "output_type": "stream",
          "name": "stderr",
          "text": [
            "\n",
            "Epoch 5 in training:   0%|          | 0/11 [00:00<?, ?it/s]\u001b[A\n",
            "Epoch 5 in training:   9%|▉         | 1/11 [00:00<00:01,  7.26it/s]\u001b[A\n",
            "Epoch 5 in training:  18%|█▊        | 2/11 [00:00<00:01,  7.27it/s]\u001b[A"
          ]
        },
        {
          "output_type": "stream",
          "name": "stdout",
          "text": [
            "tensor([0, 0, 0, 0, 0, 0, 0, 0, 0, 0, 0, 0, 0, 0, 0, 0, 0, 0, 0, 0],\n",
            "       device='cuda:0')\n",
            "epoch 5/100 loss: 0.20\n",
            "tensor([0, 0, 0, 0, 0, 0, 0, 0, 0, 0, 1, 1, 1, 1, 1, 1, 1, 1, 1, 1],\n",
            "       device='cuda:0')\n",
            "epoch 5/100 loss: 0.41\n"
          ]
        },
        {
          "output_type": "stream",
          "name": "stderr",
          "text": [
            "\n",
            "Epoch 5 in training:  27%|██▋       | 3/11 [00:00<00:01,  7.13it/s]\u001b[A\n",
            "Epoch 5 in training:  36%|███▋      | 4/11 [00:00<00:00,  7.06it/s]"
          ]
        },
        {
          "output_type": "stream",
          "name": "stdout",
          "text": [
            "tensor([1, 1, 1, 1, 1, 1, 1, 1, 1, 1, 1, 1, 1, 1, 1, 1, 1, 1, 1, 2],\n",
            "       device='cuda:0')\n",
            "epoch 5/100 loss: 0.63\n",
            "tensor([2, 2, 2, 2, 2, 2, 2, 2, 2, 2, 2, 2, 2, 2, 2, 2, 2, 2, 2, 2],\n",
            "       device='cuda:0')\n",
            "epoch 5/100 loss: 0.87\n"
          ]
        },
        {
          "output_type": "stream",
          "name": "stderr",
          "text": [
            "\u001b[A\n",
            "Epoch 5 in training:  45%|████▌     | 5/11 [00:00<00:00,  6.99it/s]\u001b[A\n",
            "Epoch 5 in training:  55%|█████▍    | 6/11 [00:00<00:00,  7.04it/s]\u001b[A"
          ]
        },
        {
          "output_type": "stream",
          "name": "stdout",
          "text": [
            "tensor([2, 2, 2, 2, 2, 2, 2, 3, 3, 3, 3, 3, 3, 3, 3, 3, 3, 3, 3, 3],\n",
            "       device='cuda:0')\n",
            "epoch 5/100 loss: 1.07\n",
            "tensor([3, 3, 3, 3, 3, 3, 3, 3, 3, 3, 3, 3, 3, 3, 3, 3, 3, 3, 4, 4],\n",
            "       device='cuda:0')\n",
            "epoch 5/100 loss: 1.26\n"
          ]
        },
        {
          "output_type": "stream",
          "name": "stderr",
          "text": [
            "\n",
            "Epoch 5 in training:  64%|██████▎   | 7/11 [00:00<00:00,  7.10it/s]\u001b[A\n",
            "Epoch 5 in training:  73%|███████▎  | 8/11 [00:01<00:00,  7.15it/s]\u001b[A"
          ]
        },
        {
          "output_type": "stream",
          "name": "stdout",
          "text": [
            "tensor([4, 4, 4, 4, 4, 4, 4, 4, 4, 4, 4, 4, 4, 4, 4, 4, 4, 4, 4, 4],\n",
            "       device='cuda:0')\n",
            "epoch 5/100 loss: 1.52\n",
            "tensor([4, 4, 4, 4, 4, 4, 4, 4, 5, 5, 5, 5, 5, 5, 5, 5, 5, 5, 5, 5],\n",
            "       device='cuda:0')\n",
            "epoch 5/100 loss: 1.78\n"
          ]
        },
        {
          "output_type": "stream",
          "name": "stderr",
          "text": [
            "\n",
            "Epoch 5 in training:  82%|████████▏ | 9/11 [00:01<00:00,  7.15it/s]\u001b[A\n",
            "Epoch 5 in training:  91%|█████████ | 10/11 [00:01<00:00,  7.20it/s]\u001b[A"
          ]
        },
        {
          "output_type": "stream",
          "name": "stdout",
          "text": [
            "tensor([5, 5, 5, 5, 5, 5, 5, 5, 5, 5, 5, 5, 5, 5, 5, 5, 5, 5, 5, 6],\n",
            "       device='cuda:0')\n",
            "epoch 5/100 loss: 2.05\n",
            "tensor([6, 6, 6, 6, 6, 6, 6, 6, 6, 6, 6, 6, 6, 6, 6, 6, 6, 6, 6, 6],\n",
            "       device='cuda:0')\n",
            "epoch 5/100 loss: 2.24\n"
          ]
        },
        {
          "output_type": "stream",
          "name": "stderr",
          "text": [
            "\n",
            "Training:   5%|▌         | 5/100 [00:07<02:26,  1.54s/it]"
          ]
        },
        {
          "output_type": "stream",
          "name": "stdout",
          "text": [
            "tensor([6, 6, 6, 6, 6, 6, 6, 6, 6], device='cuda:0')\n",
            "epoch 5/100 loss: 2.43\n"
          ]
        },
        {
          "output_type": "stream",
          "name": "stderr",
          "text": [
            "\n",
            "Epoch 6 in training:   0%|          | 0/11 [00:00<?, ?it/s]\u001b[A\n",
            "Epoch 6 in training:   9%|▉         | 1/11 [00:00<00:01,  7.53it/s]\u001b[A"
          ]
        },
        {
          "output_type": "stream",
          "name": "stdout",
          "text": [
            "tensor([0, 0, 0, 0, 0, 0, 0, 0, 0, 0, 0, 0, 0, 0, 0, 0, 0, 0, 0, 0],\n",
            "       device='cuda:0')\n",
            "epoch 6/100 loss: 0.27\n"
          ]
        },
        {
          "output_type": "stream",
          "name": "stderr",
          "text": [
            "\n",
            "Epoch 6 in training:  18%|█▊        | 2/11 [00:00<00:01,  7.31it/s]\u001b[A"
          ]
        },
        {
          "output_type": "stream",
          "name": "stdout",
          "text": [
            "tensor([0, 0, 0, 0, 0, 0, 0, 0, 0, 0, 1, 1, 1, 1, 1, 1, 1, 1, 1, 1],\n",
            "       device='cuda:0')\n",
            "epoch 6/100 loss: 0.53\n"
          ]
        },
        {
          "output_type": "stream",
          "name": "stderr",
          "text": [
            "\n",
            "Epoch 6 in training:  27%|██▋       | 3/11 [00:00<00:01,  7.23it/s]\u001b[A"
          ]
        },
        {
          "output_type": "stream",
          "name": "stdout",
          "text": [
            "tensor([1, 1, 1, 1, 1, 1, 1, 1, 1, 1, 1, 1, 1, 1, 1, 1, 1, 1, 1, 2],\n",
            "       device='cuda:0')\n",
            "epoch 6/100 loss: 0.79\n"
          ]
        },
        {
          "output_type": "stream",
          "name": "stderr",
          "text": [
            "\n",
            "Epoch 6 in training:  36%|███▋      | 4/11 [00:00<00:00,  7.21it/s]\u001b[A"
          ]
        },
        {
          "output_type": "stream",
          "name": "stdout",
          "text": [
            "tensor([2, 2, 2, 2, 2, 2, 2, 2, 2, 2, 2, 2, 2, 2, 2, 2, 2, 2, 2, 2],\n",
            "       device='cuda:0')\n",
            "epoch 6/100 loss: 1.04\n"
          ]
        },
        {
          "output_type": "stream",
          "name": "stderr",
          "text": [
            "\n",
            "Epoch 6 in training:  45%|████▌     | 5/11 [00:00<00:00,  7.22it/s]\u001b[A"
          ]
        },
        {
          "output_type": "stream",
          "name": "stdout",
          "text": [
            "tensor([2, 2, 2, 2, 2, 2, 2, 3, 3, 3, 3, 3, 3, 3, 3, 3, 3, 3, 3, 3],\n",
            "       device='cuda:0')\n",
            "epoch 6/100 loss: 1.30\n"
          ]
        },
        {
          "output_type": "stream",
          "name": "stderr",
          "text": [
            "\n",
            "Epoch 6 in training:  55%|█████▍    | 6/11 [00:00<00:00,  7.22it/s]\u001b[A"
          ]
        },
        {
          "output_type": "stream",
          "name": "stdout",
          "text": [
            "tensor([3, 3, 3, 3, 3, 3, 3, 3, 3, 3, 3, 3, 3, 3, 3, 3, 3, 3, 4, 4],\n",
            "       device='cuda:0')\n",
            "epoch 6/100 loss: 1.57\n"
          ]
        },
        {
          "output_type": "stream",
          "name": "stderr",
          "text": [
            "\n",
            "Epoch 6 in training:  64%|██████▎   | 7/11 [00:00<00:00,  7.20it/s]\u001b[A"
          ]
        },
        {
          "output_type": "stream",
          "name": "stdout",
          "text": [
            "tensor([4, 4, 4, 4, 4, 4, 4, 4, 4, 4, 4, 4, 4, 4, 4, 4, 4, 4, 4, 4],\n",
            "       device='cuda:0')\n",
            "epoch 6/100 loss: 1.80\n"
          ]
        },
        {
          "output_type": "stream",
          "name": "stderr",
          "text": [
            "\n",
            "Epoch 6 in training:  73%|███████▎  | 8/11 [00:01<00:00,  7.21it/s]\u001b[A"
          ]
        },
        {
          "output_type": "stream",
          "name": "stdout",
          "text": [
            "tensor([4, 4, 4, 4, 4, 4, 4, 4, 5, 5, 5, 5, 5, 5, 5, 5, 5, 5, 5, 5],\n",
            "       device='cuda:0')\n",
            "epoch 6/100 loss: 2.00\n"
          ]
        },
        {
          "output_type": "stream",
          "name": "stderr",
          "text": [
            "\n",
            "Epoch 6 in training:  82%|████████▏ | 9/11 [00:01<00:00,  7.20it/s]\u001b[A"
          ]
        },
        {
          "output_type": "stream",
          "name": "stdout",
          "text": [
            "tensor([5, 5, 5, 5, 5, 5, 5, 5, 5, 5, 5, 5, 5, 5, 5, 5, 5, 5, 5, 6],\n",
            "       device='cuda:0')\n",
            "epoch 6/100 loss: 2.20\n",
            "tensor([6, 6, 6, 6, 6, 6, 6, 6, 6, 6, 6, 6, 6, 6, 6, 6, 6, 6, 6, 6],\n",
            "       device='cuda:0')\n"
          ]
        },
        {
          "output_type": "stream",
          "name": "stderr",
          "text": [
            "\n",
            "Epoch 6 in training:  91%|█████████ | 10/11 [00:01<00:00,  7.00it/s]\u001b[A\n",
            "Training:   6%|▌         | 6/100 [00:09<02:23,  1.53s/it]"
          ]
        },
        {
          "output_type": "stream",
          "name": "stdout",
          "text": [
            "epoch 6/100 loss: 2.44\n",
            "tensor([6, 6, 6, 6, 6, 6, 6, 6, 6], device='cuda:0')\n",
            "epoch 6/100 loss: 2.68\n"
          ]
        },
        {
          "output_type": "stream",
          "name": "stderr",
          "text": [
            "\n",
            "Epoch 7 in training:   0%|          | 0/11 [00:00<?, ?it/s]\u001b[A"
          ]
        },
        {
          "output_type": "stream",
          "name": "stdout",
          "text": [
            "tensor([0, 0, 0, 0, 0, 0, 0, 0, 0, 0, 0, 0, 0, 0, 0, 0, 0, 0, 0, 0],\n",
            "       device='cuda:0')\n"
          ]
        },
        {
          "output_type": "stream",
          "name": "stderr",
          "text": [
            "\n",
            "Epoch 7 in training:   9%|▉         | 1/11 [00:00<00:01,  6.85it/s]\u001b[A\n",
            "Epoch 7 in training:  18%|█▊        | 2/11 [00:00<00:01,  7.07it/s]\u001b[A"
          ]
        },
        {
          "output_type": "stream",
          "name": "stdout",
          "text": [
            "epoch 7/100 loss: 0.22\n",
            "tensor([0, 0, 0, 0, 0, 0, 0, 0, 0, 0, 1, 1, 1, 1, 1, 1, 1, 1, 1, 1],\n",
            "       device='cuda:0')\n",
            "epoch 7/100 loss: 0.43\n"
          ]
        },
        {
          "output_type": "stream",
          "name": "stderr",
          "text": [
            "\n",
            "Epoch 7 in training:  27%|██▋       | 3/11 [00:00<00:01,  7.15it/s]\u001b[A\n",
            "Epoch 7 in training:  36%|███▋      | 4/11 [00:00<00:00,  7.20it/s]\u001b[A"
          ]
        },
        {
          "output_type": "stream",
          "name": "stdout",
          "text": [
            "tensor([1, 1, 1, 1, 1, 1, 1, 1, 1, 1, 1, 1, 1, 1, 1, 1, 1, 1, 1, 2],\n",
            "       device='cuda:0')\n",
            "epoch 7/100 loss: 0.66\n",
            "tensor([2, 2, 2, 2, 2, 2, 2, 2, 2, 2, 2, 2, 2, 2, 2, 2, 2, 2, 2, 2],\n",
            "       device='cuda:0')\n",
            "epoch 7/100 loss: 0.89\n"
          ]
        },
        {
          "output_type": "stream",
          "name": "stderr",
          "text": [
            "\n",
            "Epoch 7 in training:  45%|████▌     | 5/11 [00:00<00:00,  7.08it/s]\u001b[A\n",
            "Epoch 7 in training:  55%|█████▍    | 6/11 [00:00<00:00,  7.14it/s]\u001b[A"
          ]
        },
        {
          "output_type": "stream",
          "name": "stdout",
          "text": [
            "tensor([2, 2, 2, 2, 2, 2, 2, 3, 3, 3, 3, 3, 3, 3, 3, 3, 3, 3, 3, 3],\n",
            "       device='cuda:0')\n",
            "epoch 7/100 loss: 1.09\n",
            "tensor([3, 3, 3, 3, 3, 3, 3, 3, 3, 3, 3, 3, 3, 3, 3, 3, 3, 3, 4, 4],\n",
            "       device='cuda:0')\n",
            "epoch 7/100 loss: 1.30\n"
          ]
        },
        {
          "output_type": "stream",
          "name": "stderr",
          "text": [
            "\n",
            "Epoch 7 in training:  64%|██████▎   | 7/11 [00:00<00:00,  7.16it/s]\u001b[A"
          ]
        },
        {
          "output_type": "stream",
          "name": "stdout",
          "text": [
            "tensor([4, 4, 4, 4, 4, 4, 4, 4, 4, 4, 4, 4, 4, 4, 4, 4, 4, 4, 4, 4],\n",
            "       device='cuda:0')\n",
            "epoch 7/100 loss: 1.54\n",
            "tensor([4, 4, 4, 4, 4, 4, 4, 4, 5, 5, 5, 5, 5, 5, 5, 5, 5, 5, 5, 5],\n",
            "       device='cuda:0')\n"
          ]
        },
        {
          "output_type": "stream",
          "name": "stderr",
          "text": [
            "\n",
            "Epoch 7 in training:  73%|███████▎  | 8/11 [00:01<00:00,  6.99it/s]\u001b[A\n",
            "Epoch 7 in training:  82%|████████▏ | 9/11 [00:01<00:00,  6.94it/s]\u001b[A"
          ]
        },
        {
          "output_type": "stream",
          "name": "stdout",
          "text": [
            "epoch 7/100 loss: 1.77\n",
            "tensor([5, 5, 5, 5, 5, 5, 5, 5, 5, 5, 5, 5, 5, 5, 5, 5, 5, 5, 5, 6],\n",
            "       device='cuda:0')\n",
            "epoch 7/100 loss: 2.01\n"
          ]
        },
        {
          "output_type": "stream",
          "name": "stderr",
          "text": [
            "\n",
            "Epoch 7 in training:  91%|█████████ | 10/11 [00:01<00:00,  6.88it/s]\u001b[A\n",
            "Training:   7%|▋         | 7/100 [00:10<02:22,  1.53s/it]"
          ]
        },
        {
          "output_type": "stream",
          "name": "stdout",
          "text": [
            "tensor([6, 6, 6, 6, 6, 6, 6, 6, 6, 6, 6, 6, 6, 6, 6, 6, 6, 6, 6, 6],\n",
            "       device='cuda:0')\n",
            "epoch 7/100 loss: 2.22\n",
            "tensor([6, 6, 6, 6, 6, 6, 6, 6, 6], device='cuda:0')\n",
            "epoch 7/100 loss: 2.41\n"
          ]
        },
        {
          "output_type": "stream",
          "name": "stderr",
          "text": [
            "\n",
            "Epoch 8 in training:   0%|          | 0/11 [00:00<?, ?it/s]\u001b[A\n",
            "Epoch 8 in training:   9%|▉         | 1/11 [00:00<00:01,  7.14it/s]\u001b[A\n",
            "Epoch 8 in training:  18%|█▊        | 2/11 [00:00<00:01,  7.24it/s]\u001b[A"
          ]
        },
        {
          "output_type": "stream",
          "name": "stdout",
          "text": [
            "tensor([0, 0, 0, 0, 0, 0, 0, 0, 0, 0, 0, 0, 0, 0, 0, 0, 0, 0, 0, 0],\n",
            "       device='cuda:0')\n",
            "epoch 8/100 loss: 0.22\n",
            "tensor([0, 0, 0, 0, 0, 0, 0, 0, 0, 0, 1, 1, 1, 1, 1, 1, 1, 1, 1, 1],\n",
            "       device='cuda:0')\n",
            "epoch 8/100 loss: 0.46\n"
          ]
        },
        {
          "output_type": "stream",
          "name": "stderr",
          "text": [
            "\n",
            "Epoch 8 in training:  27%|██▋       | 3/11 [00:00<00:01,  7.24it/s]\u001b[A\n",
            "Epoch 8 in training:  36%|███▋      | 4/11 [00:00<00:00,  7.23it/s]\u001b[A"
          ]
        },
        {
          "output_type": "stream",
          "name": "stdout",
          "text": [
            "tensor([1, 1, 1, 1, 1, 1, 1, 1, 1, 1, 1, 1, 1, 1, 1, 1, 1, 1, 1, 2],\n",
            "       device='cuda:0')\n",
            "epoch 8/100 loss: 0.72\n",
            "tensor([2, 2, 2, 2, 2, 2, 2, 2, 2, 2, 2, 2, 2, 2, 2, 2, 2, 2, 2, 2],\n",
            "       device='cuda:0')\n",
            "epoch 8/100 loss: 0.96\n"
          ]
        },
        {
          "output_type": "stream",
          "name": "stderr",
          "text": [
            "\n",
            "Epoch 8 in training:  45%|████▌     | 5/11 [00:00<00:00,  7.03it/s]\u001b[A"
          ]
        },
        {
          "output_type": "stream",
          "name": "stdout",
          "text": [
            "tensor([2, 2, 2, 2, 2, 2, 2, 3, 3, 3, 3, 3, 3, 3, 3, 3, 3, 3, 3, 3],\n",
            "       device='cuda:0')\n",
            "epoch 8/100 loss: 1.19\n",
            "tensor([3, 3, 3, 3, 3, 3, 3, 3, 3, 3, 3, 3, 3, 3, 3, 3, 3, 3, 4, 4],\n",
            "       device='cuda:0')\n"
          ]
        },
        {
          "output_type": "stream",
          "name": "stderr",
          "text": [
            "\n",
            "Epoch 8 in training:  55%|█████▍    | 6/11 [00:00<00:00,  6.95it/s]\u001b[A\n",
            "Epoch 8 in training:  64%|██████▎   | 7/11 [00:00<00:00,  6.89it/s]\u001b[A"
          ]
        },
        {
          "output_type": "stream",
          "name": "stdout",
          "text": [
            "epoch 8/100 loss: 1.43\n",
            "tensor([4, 4, 4, 4, 4, 4, 4, 4, 4, 4, 4, 4, 4, 4, 4, 4, 4, 4, 4, 4],\n",
            "       device='cuda:0')\n",
            "epoch 8/100 loss: 1.65\n"
          ]
        },
        {
          "output_type": "stream",
          "name": "stderr",
          "text": [
            "\n",
            "Epoch 8 in training:  73%|███████▎  | 8/11 [00:01<00:00,  6.91it/s]\u001b[A\n",
            "Epoch 8 in training:  82%|████████▏ | 9/11 [00:01<00:00,  7.03it/s]\u001b[A"
          ]
        },
        {
          "output_type": "stream",
          "name": "stdout",
          "text": [
            "tensor([4, 4, 4, 4, 4, 4, 4, 4, 5, 5, 5, 5, 5, 5, 5, 5, 5, 5, 5, 5],\n",
            "       device='cuda:0')\n",
            "epoch 8/100 loss: 1.87\n",
            "tensor([5, 5, 5, 5, 5, 5, 5, 5, 5, 5, 5, 5, 5, 5, 5, 5, 5, 5, 5, 6],\n",
            "       device='cuda:0')\n",
            "epoch 8/100 loss: 2.08\n"
          ]
        },
        {
          "output_type": "stream",
          "name": "stderr",
          "text": [
            "\n",
            "Epoch 8 in training:  91%|█████████ | 10/11 [00:01<00:00,  7.07it/s]\u001b[A\n",
            "Training:   8%|▊         | 8/100 [00:12<02:20,  1.53s/it]"
          ]
        },
        {
          "output_type": "stream",
          "name": "stdout",
          "text": [
            "tensor([6, 6, 6, 6, 6, 6, 6, 6, 6, 6, 6, 6, 6, 6, 6, 6, 6, 6, 6, 6],\n",
            "       device='cuda:0')\n",
            "epoch 8/100 loss: 2.30\n",
            "tensor([6, 6, 6, 6, 6, 6, 6, 6, 6], device='cuda:0')\n",
            "epoch 8/100 loss: 2.52\n"
          ]
        },
        {
          "output_type": "stream",
          "name": "stderr",
          "text": [
            "\n",
            "Epoch 9 in training:   0%|          | 0/11 [00:00<?, ?it/s]\u001b[A\n",
            "Epoch 9 in training:   9%|▉         | 1/11 [00:00<00:01,  6.96it/s]\u001b[A"
          ]
        },
        {
          "output_type": "stream",
          "name": "stdout",
          "text": [
            "tensor([0, 0, 0, 0, 0, 0, 0, 0, 0, 0, 0, 0, 0, 0, 0, 0, 0, 0, 0, 0],\n",
            "       device='cuda:0')\n",
            "epoch 9/100 loss: 0.22\n",
            "tensor([0, 0, 0, 0, 0, 0, 0, 0, 0, 0, 1, 1, 1, 1, 1, 1, 1, 1, 1, 1],\n",
            "       device='cuda:0')\n"
          ]
        },
        {
          "output_type": "stream",
          "name": "stderr",
          "text": [
            "\n",
            "Epoch 9 in training:  18%|█▊        | 2/11 [00:00<00:01,  6.77it/s]\u001b[A\n",
            "Epoch 9 in training:  27%|██▋       | 3/11 [00:00<00:01,  6.80it/s]\u001b[A"
          ]
        },
        {
          "output_type": "stream",
          "name": "stdout",
          "text": [
            "epoch 9/100 loss: 0.42\n",
            "tensor([1, 1, 1, 1, 1, 1, 1, 1, 1, 1, 1, 1, 1, 1, 1, 1, 1, 1, 1, 2],\n",
            "       device='cuda:0')\n",
            "epoch 9/100 loss: 0.65\n"
          ]
        },
        {
          "output_type": "stream",
          "name": "stderr",
          "text": [
            "\n",
            "Epoch 9 in training:  36%|███▋      | 4/11 [00:00<00:01,  6.95it/s]\u001b[A\n",
            "Epoch 9 in training:  45%|████▌     | 5/11 [00:00<00:00,  7.05it/s]\u001b[A"
          ]
        },
        {
          "output_type": "stream",
          "name": "stdout",
          "text": [
            "tensor([2, 2, 2, 2, 2, 2, 2, 2, 2, 2, 2, 2, 2, 2, 2, 2, 2, 2, 2, 2],\n",
            "       device='cuda:0')\n",
            "epoch 9/100 loss: 0.90\n",
            "tensor([2, 2, 2, 2, 2, 2, 2, 3, 3, 3, 3, 3, 3, 3, 3, 3, 3, 3, 3, 3],\n",
            "       device='cuda:0')\n",
            "epoch 9/100 loss: 1.12\n"
          ]
        },
        {
          "output_type": "stream",
          "name": "stderr",
          "text": [
            "\n",
            "Epoch 9 in training:  55%|█████▍    | 6/11 [00:00<00:00,  7.11it/s]\u001b[A\n",
            "Epoch 9 in training:  64%|██████▎   | 7/11 [00:00<00:00,  7.16it/s]\u001b[A"
          ]
        },
        {
          "output_type": "stream",
          "name": "stdout",
          "text": [
            "tensor([3, 3, 3, 3, 3, 3, 3, 3, 3, 3, 3, 3, 3, 3, 3, 3, 3, 3, 4, 4],\n",
            "       device='cuda:0')\n",
            "epoch 9/100 loss: 1.34\n",
            "tensor([4, 4, 4, 4, 4, 4, 4, 4, 4, 4, 4, 4, 4, 4, 4, 4, 4, 4, 4, 4],\n",
            "       device='cuda:0')\n",
            "epoch 9/100 loss: 1.57\n"
          ]
        },
        {
          "output_type": "stream",
          "name": "stderr",
          "text": [
            "\n",
            "Epoch 9 in training:  73%|███████▎  | 8/11 [00:01<00:00,  7.18it/s]\u001b[A\n",
            "Epoch 9 in training:  82%|████████▏ | 9/11 [00:01<00:00,  7.19it/s]\u001b[A"
          ]
        },
        {
          "output_type": "stream",
          "name": "stdout",
          "text": [
            "tensor([4, 4, 4, 4, 4, 4, 4, 4, 5, 5, 5, 5, 5, 5, 5, 5, 5, 5, 5, 5],\n",
            "       device='cuda:0')\n",
            "epoch 9/100 loss: 1.80\n",
            "tensor([5, 5, 5, 5, 5, 5, 5, 5, 5, 5, 5, 5, 5, 5, 5, 5, 5, 5, 5, 6],\n",
            "       device='cuda:0')\n",
            "epoch 9/100 loss: 2.07\n"
          ]
        },
        {
          "output_type": "stream",
          "name": "stderr",
          "text": [
            "\n",
            "Epoch 9 in training:  91%|█████████ | 10/11 [00:01<00:00,  7.06it/s]\u001b[A\n",
            "Training:   9%|▉         | 9/100 [00:13<02:18,  1.52s/it]"
          ]
        },
        {
          "output_type": "stream",
          "name": "stdout",
          "text": [
            "tensor([6, 6, 6, 6, 6, 6, 6, 6, 6, 6, 6, 6, 6, 6, 6, 6, 6, 6, 6, 6],\n",
            "       device='cuda:0')\n",
            "epoch 9/100 loss: 2.28\n",
            "tensor([6, 6, 6, 6, 6, 6, 6, 6, 6], device='cuda:0')\n",
            "epoch 9/100 loss: 2.48\n"
          ]
        },
        {
          "output_type": "stream",
          "name": "stderr",
          "text": [
            "\n",
            "Epoch 10 in training:   0%|          | 0/11 [00:00<?, ?it/s]\u001b[A\n",
            "Epoch 10 in training:   9%|▉         | 1/11 [00:00<00:01,  7.00it/s]\u001b[A\n"
          ]
        },
        {
          "output_type": "stream",
          "name": "stdout",
          "text": [
            "tensor([0, 0, 0, 0, 0, 0, 0, 0, 0, 0, 0, 0, 0, 0, 0, 0, 0, 0, 0, 0],\n",
            "       device='cuda:0')\n",
            "epoch 10/100 loss: 0.21\n",
            "tensor([0, 0, 0, 0, 0, 0, 0, 0, 0, 0, 1, 1, 1, 1, 1, 1, 1, 1, 1, 1],\n",
            "       device='cuda:0')\n",
            "epoch 10/100 loss: 0.42\n"
          ]
        },
        {
          "output_type": "stream",
          "name": "stderr",
          "text": [
            "Epoch 10 in training:  18%|█▊        | 2/11 [00:00<00:01,  6.93it/s]\u001b[A\n",
            "Epoch 10 in training:  27%|██▋       | 3/11 [00:00<00:01,  6.83it/s]\u001b[A"
          ]
        },
        {
          "output_type": "stream",
          "name": "stdout",
          "text": [
            "tensor([1, 1, 1, 1, 1, 1, 1, 1, 1, 1, 1, 1, 1, 1, 1, 1, 1, 1, 1, 2],\n",
            "       device='cuda:0')\n",
            "epoch 10/100 loss: 0.66\n",
            "tensor([2, 2, 2, 2, 2, 2, 2, 2, 2, 2, 2, 2, 2, 2, 2, 2, 2, 2, 2, 2],\n",
            "       device='cuda:0')\n"
          ]
        },
        {
          "output_type": "stream",
          "name": "stderr",
          "text": [
            "\n",
            "Epoch 10 in training:  36%|███▋      | 4/11 [00:00<00:01,  6.80it/s]\u001b[A\n",
            "Epoch 10 in training:  45%|████▌     | 5/11 [00:00<00:00,  6.94it/s]\u001b[A"
          ]
        },
        {
          "output_type": "stream",
          "name": "stdout",
          "text": [
            "epoch 10/100 loss: 0.88\n",
            "tensor([2, 2, 2, 2, 2, 2, 2, 3, 3, 3, 3, 3, 3, 3, 3, 3, 3, 3, 3, 3],\n",
            "       device='cuda:0')\n",
            "epoch 10/100 loss: 1.09\n"
          ]
        },
        {
          "output_type": "stream",
          "name": "stderr",
          "text": [
            "\n",
            "Epoch 10 in training:  55%|█████▍    | 6/11 [00:00<00:00,  7.04it/s]\u001b[A\n",
            "Epoch 10 in training:  64%|██████▎   | 7/11 [00:01<00:00,  7.11it/s]\u001b[A"
          ]
        },
        {
          "output_type": "stream",
          "name": "stdout",
          "text": [
            "tensor([3, 3, 3, 3, 3, 3, 3, 3, 3, 3, 3, 3, 3, 3, 3, 3, 3, 3, 4, 4],\n",
            "       device='cuda:0')\n",
            "epoch 10/100 loss: 1.30\n",
            "tensor([4, 4, 4, 4, 4, 4, 4, 4, 4, 4, 4, 4, 4, 4, 4, 4, 4, 4, 4, 4],\n",
            "       device='cuda:0')\n",
            "epoch 10/100 loss: 1.51\n"
          ]
        },
        {
          "output_type": "stream",
          "name": "stderr",
          "text": [
            "\n",
            "Epoch 10 in training:  73%|███████▎  | 8/11 [00:01<00:00,  7.15it/s]\u001b[A\n",
            "Epoch 10 in training:  82%|████████▏ | 9/11 [00:01<00:00,  7.21it/s]\u001b[A"
          ]
        },
        {
          "output_type": "stream",
          "name": "stdout",
          "text": [
            "tensor([4, 4, 4, 4, 4, 4, 4, 4, 5, 5, 5, 5, 5, 5, 5, 5, 5, 5, 5, 5],\n",
            "       device='cuda:0')\n",
            "epoch 10/100 loss: 1.73\n",
            "tensor([5, 5, 5, 5, 5, 5, 5, 5, 5, 5, 5, 5, 5, 5, 5, 5, 5, 5, 5, 6],\n",
            "       device='cuda:0')\n",
            "epoch 10/100 loss: 1.92\n"
          ]
        },
        {
          "output_type": "stream",
          "name": "stderr",
          "text": [
            "\n",
            "Epoch 10 in training:  91%|█████████ | 10/11 [00:01<00:00,  7.07it/s]\u001b[A\n",
            "Training:  10%|█         | 10/100 [00:15<02:17,  1.52s/it]"
          ]
        },
        {
          "output_type": "stream",
          "name": "stdout",
          "text": [
            "tensor([6, 6, 6, 6, 6, 6, 6, 6, 6, 6, 6, 6, 6, 6, 6, 6, 6, 6, 6, 6],\n",
            "       device='cuda:0')\n",
            "epoch 10/100 loss: 2.14\n",
            "tensor([6, 6, 6, 6, 6, 6, 6, 6, 6], device='cuda:0')\n",
            "epoch 10/100 loss: 2.36\n"
          ]
        },
        {
          "output_type": "stream",
          "name": "stderr",
          "text": [
            "\n",
            "Epoch 11 in training:   0%|          | 0/11 [00:00<?, ?it/s]\u001b[A\n",
            "Epoch 11 in training:   9%|▉         | 1/11 [00:00<00:01,  7.36it/s]\u001b[A"
          ]
        },
        {
          "output_type": "stream",
          "name": "stdout",
          "text": [
            "tensor([0, 0, 0, 0, 0, 0, 0, 0, 0, 0, 0, 0, 0, 0, 0, 0, 0, 0, 0, 0],\n",
            "       device='cuda:0')\n",
            "epoch 11/100 loss: 0.22\n",
            "tensor([0, 0, 0, 0, 0, 0, 0, 0, 0, 0, 1, 1, 1, 1, 1, 1, 1, 1, 1, 1],\n",
            "       device='cuda:0')\n"
          ]
        },
        {
          "output_type": "stream",
          "name": "stderr",
          "text": [
            "\n",
            "Epoch 11 in training:  18%|█▊        | 2/11 [00:00<00:01,  7.06it/s]\u001b[A\n",
            "Epoch 11 in training:  27%|██▋       | 3/11 [00:00<00:01,  7.12it/s]\u001b[A"
          ]
        },
        {
          "output_type": "stream",
          "name": "stdout",
          "text": [
            "epoch 11/100 loss: 0.45\n",
            "tensor([1, 1, 1, 1, 1, 1, 1, 1, 1, 1, 1, 1, 1, 1, 1, 1, 1, 1, 1, 2],\n",
            "       device='cuda:0')\n",
            "epoch 11/100 loss: 0.69\n"
          ]
        },
        {
          "output_type": "stream",
          "name": "stderr",
          "text": [
            "\n",
            "Epoch 11 in training:  36%|███▋      | 4/11 [00:00<00:01,  6.95it/s]\u001b[A\n",
            "Epoch 11 in training:  45%|████▌     | 5/11 [00:00<00:00,  7.07it/s]\u001b[A"
          ]
        },
        {
          "output_type": "stream",
          "name": "stdout",
          "text": [
            "tensor([2, 2, 2, 2, 2, 2, 2, 2, 2, 2, 2, 2, 2, 2, 2, 2, 2, 2, 2, 2],\n",
            "       device='cuda:0')\n",
            "epoch 11/100 loss: 0.93\n",
            "tensor([2, 2, 2, 2, 2, 2, 2, 3, 3, 3, 3, 3, 3, 3, 3, 3, 3, 3, 3, 3],\n",
            "       device='cuda:0')\n",
            "epoch 11/100 loss: 1.15\n"
          ]
        },
        {
          "output_type": "stream",
          "name": "stderr",
          "text": [
            "\n",
            "Epoch 11 in training:  55%|█████▍    | 6/11 [00:00<00:00,  7.13it/s]\u001b[A\n",
            "Epoch 11 in training:  64%|██████▎   | 7/11 [00:00<00:00,  7.17it/s]\u001b[A"
          ]
        },
        {
          "output_type": "stream",
          "name": "stdout",
          "text": [
            "tensor([3, 3, 3, 3, 3, 3, 3, 3, 3, 3, 3, 3, 3, 3, 3, 3, 3, 3, 4, 4],\n",
            "       device='cuda:0')\n",
            "epoch 11/100 loss: 1.37\n",
            "tensor([4, 4, 4, 4, 4, 4, 4, 4, 4, 4, 4, 4, 4, 4, 4, 4, 4, 4, 4, 4],\n",
            "       device='cuda:0')\n",
            "epoch 11/100 loss: 1.59\n"
          ]
        },
        {
          "output_type": "stream",
          "name": "stderr",
          "text": [
            "\n",
            "Epoch 11 in training:  73%|███████▎  | 8/11 [00:01<00:00,  7.17it/s]\u001b[A"
          ]
        },
        {
          "output_type": "stream",
          "name": "stdout",
          "text": [
            "tensor([4, 4, 4, 4, 4, 4, 4, 4, 5, 5, 5, 5, 5, 5, 5, 5, 5, 5, 5, 5],\n",
            "       device='cuda:0')\n",
            "epoch 11/100 loss: 1.82\n",
            "tensor([5, 5, 5, 5, 5, 5, 5, 5, 5, 5, 5, 5, 5, 5, 5, 5, 5, 5, 5, 6],\n",
            "       device='cuda:0')\n"
          ]
        },
        {
          "output_type": "stream",
          "name": "stderr",
          "text": [
            "\n",
            "Epoch 11 in training:  82%|████████▏ | 9/11 [00:01<00:00,  7.01it/s]\u001b[A\n",
            "Epoch 11 in training:  91%|█████████ | 10/11 [00:01<00:00,  7.08it/s]\u001b[A"
          ]
        },
        {
          "output_type": "stream",
          "name": "stdout",
          "text": [
            "epoch 11/100 loss: 2.03\n",
            "tensor([6, 6, 6, 6, 6, 6, 6, 6, 6, 6, 6, 6, 6, 6, 6, 6, 6, 6, 6, 6],\n",
            "       device='cuda:0')\n",
            "epoch 11/100 loss: 2.22\n",
            "tensor([6, 6, 6, 6, 6, 6, 6, 6, 6], device='cuda:0')\n"
          ]
        },
        {
          "output_type": "stream",
          "name": "stderr",
          "text": [
            "\n",
            "Training:  11%|█         | 11/100 [00:16<02:15,  1.52s/it]"
          ]
        },
        {
          "output_type": "stream",
          "name": "stdout",
          "text": [
            "epoch 11/100 loss: 2.40\n"
          ]
        },
        {
          "output_type": "stream",
          "name": "stderr",
          "text": [
            "\n",
            "Epoch 12 in training:   0%|          | 0/11 [00:00<?, ?it/s]\u001b[A\n",
            "Epoch 12 in training:   9%|▉         | 1/11 [00:00<00:01,  7.43it/s]\u001b[A"
          ]
        },
        {
          "output_type": "stream",
          "name": "stdout",
          "text": [
            "tensor([0, 0, 0, 0, 0, 0, 0, 0, 0, 0, 0, 0, 0, 0, 0, 0, 0, 0, 0, 0],\n",
            "       device='cuda:0')\n",
            "epoch 12/100 loss: 0.20\n",
            "tensor([0, 0, 0, 0, 0, 0, 0, 0, 0, 0, 1, 1, 1, 1, 1, 1, 1, 1, 1, 1],\n",
            "       device='cuda:0')\n"
          ]
        },
        {
          "output_type": "stream",
          "name": "stderr",
          "text": [
            "\n",
            "Epoch 12 in training:  18%|█▊        | 2/11 [00:00<00:01,  7.04it/s]\u001b[A\n",
            "Epoch 12 in training:  27%|██▋       | 3/11 [00:00<00:01,  7.14it/s]\u001b[A"
          ]
        },
        {
          "output_type": "stream",
          "name": "stdout",
          "text": [
            "epoch 12/100 loss: 0.42\n",
            "tensor([1, 1, 1, 1, 1, 1, 1, 1, 1, 1, 1, 1, 1, 1, 1, 1, 1, 1, 1, 2],\n",
            "       device='cuda:0')\n",
            "epoch 12/100 loss: 0.64\n"
          ]
        },
        {
          "output_type": "stream",
          "name": "stderr",
          "text": [
            "\n",
            "Epoch 12 in training:  36%|███▋      | 4/11 [00:00<00:00,  7.01it/s]\u001b[A\n",
            "Epoch 12 in training:  45%|████▌     | 5/11 [00:00<00:00,  7.07it/s]\u001b[A"
          ]
        },
        {
          "output_type": "stream",
          "name": "stdout",
          "text": [
            "tensor([2, 2, 2, 2, 2, 2, 2, 2, 2, 2, 2, 2, 2, 2, 2, 2, 2, 2, 2, 2],\n",
            "       device='cuda:0')\n",
            "epoch 12/100 loss: 0.86\n",
            "tensor([2, 2, 2, 2, 2, 2, 2, 3, 3, 3, 3, 3, 3, 3, 3, 3, 3, 3, 3, 3],\n",
            "       device='cuda:0')\n",
            "epoch 12/100 loss: 1.08\n"
          ]
        },
        {
          "output_type": "stream",
          "name": "stderr",
          "text": [
            "\n",
            "Epoch 12 in training:  55%|█████▍    | 6/11 [00:00<00:00,  7.10it/s]\u001b[A\n",
            "Epoch 12 in training:  64%|██████▎   | 7/11 [00:00<00:00,  7.04it/s]"
          ]
        },
        {
          "output_type": "stream",
          "name": "stdout",
          "text": [
            "tensor([3, 3, 3, 3, 3, 3, 3, 3, 3, 3, 3, 3, 3, 3, 3, 3, 3, 3, 4, 4],\n",
            "       device='cuda:0')\n",
            "epoch 12/100 loss: 1.29\n",
            "tensor([4, 4, 4, 4, 4, 4, 4, 4, 4, 4, 4, 4, 4, 4, 4, 4, 4, 4, 4, 4],\n",
            "       device='cuda:0')\n",
            "epoch 12/100 loss: 1.52\n"
          ]
        },
        {
          "output_type": "stream",
          "name": "stderr",
          "text": [
            "\u001b[A\n",
            "Epoch 12 in training:  73%|███████▎  | 8/11 [00:01<00:00,  6.96it/s]\u001b[A\n",
            "Epoch 12 in training:  82%|████████▏ | 9/11 [00:01<00:00,  7.06it/s]\u001b[A"
          ]
        },
        {
          "output_type": "stream",
          "name": "stdout",
          "text": [
            "tensor([4, 4, 4, 4, 4, 4, 4, 4, 5, 5, 5, 5, 5, 5, 5, 5, 5, 5, 5, 5],\n",
            "       device='cuda:0')\n",
            "epoch 12/100 loss: 1.73\n",
            "tensor([5, 5, 5, 5, 5, 5, 5, 5, 5, 5, 5, 5, 5, 5, 5, 5, 5, 5, 5, 6],\n",
            "       device='cuda:0')\n",
            "epoch 12/100 loss: 1.94\n"
          ]
        },
        {
          "output_type": "stream",
          "name": "stderr",
          "text": [
            "\n",
            "Epoch 12 in training:  91%|█████████ | 10/11 [00:01<00:00,  7.11it/s]\u001b[A\n",
            "Training:  12%|█▏        | 12/100 [00:18<02:13,  1.52s/it]"
          ]
        },
        {
          "output_type": "stream",
          "name": "stdout",
          "text": [
            "tensor([6, 6, 6, 6, 6, 6, 6, 6, 6, 6, 6, 6, 6, 6, 6, 6, 6, 6, 6, 6],\n",
            "       device='cuda:0')\n",
            "epoch 12/100 loss: 2.15\n",
            "tensor([6, 6, 6, 6, 6, 6, 6, 6, 6], device='cuda:0')\n",
            "epoch 12/100 loss: 2.34\n"
          ]
        },
        {
          "output_type": "stream",
          "name": "stderr",
          "text": [
            "\n",
            "Epoch 13 in training:   0%|          | 0/11 [00:00<?, ?it/s]\u001b[A\n",
            "Epoch 13 in training:   9%|▉         | 1/11 [00:00<00:01,  7.36it/s]\u001b[A\n",
            "Epoch 13 in training:  18%|█▊        | 2/11 [00:00<00:01,  7.30it/s]\u001b[A"
          ]
        },
        {
          "output_type": "stream",
          "name": "stdout",
          "text": [
            "tensor([0, 0, 0, 0, 0, 0, 0, 0, 0, 0, 0, 0, 0, 0, 0, 0, 0, 0, 0, 0],\n",
            "       device='cuda:0')\n",
            "epoch 13/100 loss: 0.20\n",
            "tensor([0, 0, 0, 0, 0, 0, 0, 0, 0, 0, 1, 1, 1, 1, 1, 1, 1, 1, 1, 1],\n",
            "       device='cuda:0')\n",
            "epoch 13/100 loss: 0.40\n"
          ]
        },
        {
          "output_type": "stream",
          "name": "stderr",
          "text": [
            "\n",
            "Epoch 13 in training:  27%|██▋       | 3/11 [00:00<00:01,  7.30it/s]\u001b[A\n",
            "Epoch 13 in training:  36%|███▋      | 4/11 [00:00<00:00,  7.26it/s]\u001b[A"
          ]
        },
        {
          "output_type": "stream",
          "name": "stdout",
          "text": [
            "tensor([1, 1, 1, 1, 1, 1, 1, 1, 1, 1, 1, 1, 1, 1, 1, 1, 1, 1, 1, 2],\n",
            "       device='cuda:0')\n",
            "epoch 13/100 loss: 0.62\n",
            "tensor([2, 2, 2, 2, 2, 2, 2, 2, 2, 2, 2, 2, 2, 2, 2, 2, 2, 2, 2, 2],\n",
            "       device='cuda:0')\n",
            "epoch 13/100 loss: 0.85\n"
          ]
        },
        {
          "output_type": "stream",
          "name": "stderr",
          "text": [
            "\n",
            "Epoch 13 in training:  45%|████▌     | 5/11 [00:00<00:00,  7.23it/s]\u001b[A\n",
            "Epoch 13 in training:  55%|█████▍    | 6/11 [00:00<00:00,  7.25it/s]\u001b[A"
          ]
        },
        {
          "output_type": "stream",
          "name": "stdout",
          "text": [
            "tensor([2, 2, 2, 2, 2, 2, 2, 3, 3, 3, 3, 3, 3, 3, 3, 3, 3, 3, 3, 3],\n",
            "       device='cuda:0')\n",
            "epoch 13/100 loss: 1.06\n",
            "tensor([3, 3, 3, 3, 3, 3, 3, 3, 3, 3, 3, 3, 3, 3, 3, 3, 3, 3, 4, 4],\n",
            "       device='cuda:0')\n",
            "epoch 13/100 loss: 1.27\n"
          ]
        },
        {
          "output_type": "stream",
          "name": "stderr",
          "text": [
            "\n",
            "Epoch 13 in training:  64%|██████▎   | 7/11 [00:00<00:00,  7.24it/s]\u001b[A"
          ]
        },
        {
          "output_type": "stream",
          "name": "stdout",
          "text": [
            "tensor([4, 4, 4, 4, 4, 4, 4, 4, 4, 4, 4, 4, 4, 4, 4, 4, 4, 4, 4, 4],\n",
            "       device='cuda:0')\n",
            "epoch 13/100 loss: 1.49\n",
            "tensor([4, 4, 4, 4, 4, 4, 4, 4, 5, 5, 5, 5, 5, 5, 5, 5, 5, 5, 5, 5],\n",
            "       device='cuda:0')\n"
          ]
        },
        {
          "output_type": "stream",
          "name": "stderr",
          "text": [
            "\n",
            "Epoch 13 in training:  73%|███████▎  | 8/11 [00:01<00:00,  7.10it/s]\u001b[A\n",
            "Epoch 13 in training:  82%|████████▏ | 9/11 [00:01<00:00,  7.01it/s]\u001b[A"
          ]
        },
        {
          "output_type": "stream",
          "name": "stdout",
          "text": [
            "epoch 13/100 loss: 1.72\n",
            "tensor([5, 5, 5, 5, 5, 5, 5, 5, 5, 5, 5, 5, 5, 5, 5, 5, 5, 5, 5, 6],\n",
            "       device='cuda:0')\n",
            "epoch 13/100 loss: 1.95\n"
          ]
        },
        {
          "output_type": "stream",
          "name": "stderr",
          "text": [
            "\n",
            "Epoch 13 in training:  91%|█████████ | 10/11 [00:01<00:00,  7.07it/s]\u001b[A\n",
            "Training:  13%|█▎        | 13/100 [00:19<02:11,  1.51s/it]"
          ]
        },
        {
          "output_type": "stream",
          "name": "stdout",
          "text": [
            "tensor([6, 6, 6, 6, 6, 6, 6, 6, 6, 6, 6, 6, 6, 6, 6, 6, 6, 6, 6, 6],\n",
            "       device='cuda:0')\n",
            "epoch 13/100 loss: 2.15\n",
            "tensor([6, 6, 6, 6, 6, 6, 6, 6, 6], device='cuda:0')\n",
            "epoch 13/100 loss: 2.34\n"
          ]
        },
        {
          "output_type": "stream",
          "name": "stderr",
          "text": [
            "\n",
            "Epoch 14 in training:   0%|          | 0/11 [00:00<?, ?it/s]\u001b[A\n",
            "Epoch 14 in training:   9%|▉         | 1/11 [00:00<00:01,  6.97it/s]\u001b[A"
          ]
        },
        {
          "output_type": "stream",
          "name": "stdout",
          "text": [
            "tensor([0, 0, 0, 0, 0, 0, 0, 0, 0, 0, 0, 0, 0, 0, 0, 0, 0, 0, 0, 0],\n",
            "       device='cuda:0')\n",
            "epoch 14/100 loss: 0.23\n",
            "tensor([0, 0, 0, 0, 0, 0, 0, 0, 0, 0, 1, 1, 1, 1, 1, 1, 1, 1, 1, 1],\n",
            "       device='cuda:0')\n"
          ]
        },
        {
          "output_type": "stream",
          "name": "stderr",
          "text": [
            "\n",
            "Epoch 14 in training:  18%|█▊        | 2/11 [00:00<00:01,  6.85it/s]\u001b[A\n",
            "Epoch 14 in training:  27%|██▋       | 3/11 [00:00<00:01,  7.03it/s]\u001b[A"
          ]
        },
        {
          "output_type": "stream",
          "name": "stdout",
          "text": [
            "epoch 14/100 loss: 0.45\n",
            "tensor([1, 1, 1, 1, 1, 1, 1, 1, 1, 1, 1, 1, 1, 1, 1, 1, 1, 1, 1, 2],\n",
            "       device='cuda:0')\n",
            "epoch 14/100 loss: 0.68\n"
          ]
        },
        {
          "output_type": "stream",
          "name": "stderr",
          "text": [
            "\n",
            "Epoch 14 in training:  36%|███▋      | 4/11 [00:00<00:00,  7.12it/s]\u001b[A\n",
            "Epoch 14 in training:  45%|████▌     | 5/11 [00:00<00:00,  7.17it/s]\u001b[A"
          ]
        },
        {
          "output_type": "stream",
          "name": "stdout",
          "text": [
            "tensor([2, 2, 2, 2, 2, 2, 2, 2, 2, 2, 2, 2, 2, 2, 2, 2, 2, 2, 2, 2],\n",
            "       device='cuda:0')\n",
            "epoch 14/100 loss: 0.92\n",
            "tensor([2, 2, 2, 2, 2, 2, 2, 3, 3, 3, 3, 3, 3, 3, 3, 3, 3, 3, 3, 3],\n",
            "       device='cuda:0')\n",
            "epoch 14/100 loss: 1.13\n"
          ]
        },
        {
          "output_type": "stream",
          "name": "stderr",
          "text": [
            "\n",
            "Epoch 14 in training:  55%|█████▍    | 6/11 [00:00<00:00,  7.04it/s]\u001b[A\n",
            "Epoch 14 in training:  64%|██████▎   | 7/11 [00:00<00:00,  7.11it/s]\u001b[A"
          ]
        },
        {
          "output_type": "stream",
          "name": "stdout",
          "text": [
            "tensor([3, 3, 3, 3, 3, 3, 3, 3, 3, 3, 3, 3, 3, 3, 3, 3, 3, 3, 4, 4],\n",
            "       device='cuda:0')\n",
            "epoch 14/100 loss: 1.33\n",
            "tensor([4, 4, 4, 4, 4, 4, 4, 4, 4, 4, 4, 4, 4, 4, 4, 4, 4, 4, 4, 4],\n",
            "       device='cuda:0')\n",
            "epoch 14/100 loss: 1.57\n"
          ]
        },
        {
          "output_type": "stream",
          "name": "stderr",
          "text": [
            "\n",
            "Epoch 14 in training:  73%|███████▎  | 8/11 [00:01<00:00,  7.15it/s]\u001b[A"
          ]
        },
        {
          "output_type": "stream",
          "name": "stdout",
          "text": [
            "tensor([4, 4, 4, 4, 4, 4, 4, 4, 5, 5, 5, 5, 5, 5, 5, 5, 5, 5, 5, 5],\n",
            "       device='cuda:0')\n",
            "epoch 14/100 loss: 1.78\n",
            "tensor([5, 5, 5, 5, 5, 5, 5, 5, 5, 5, 5, 5, 5, 5, 5, 5, 5, 5, 5, 6],\n",
            "       device='cuda:0')\n"
          ]
        },
        {
          "output_type": "stream",
          "name": "stderr",
          "text": [
            "\n",
            "Epoch 14 in training:  82%|████████▏ | 9/11 [00:01<00:00,  7.02it/s]\u001b[A\n",
            "Epoch 14 in training:  91%|█████████ | 10/11 [00:01<00:00,  7.10it/s]\u001b[A"
          ]
        },
        {
          "output_type": "stream",
          "name": "stdout",
          "text": [
            "epoch 14/100 loss: 1.98\n",
            "tensor([6, 6, 6, 6, 6, 6, 6, 6, 6, 6, 6, 6, 6, 6, 6, 6, 6, 6, 6, 6],\n",
            "       device='cuda:0')\n",
            "epoch 14/100 loss: 2.16\n",
            "tensor([6, 6, 6, 6, 6, 6, 6, 6, 6], device='cuda:0')\n"
          ]
        },
        {
          "output_type": "stream",
          "name": "stderr",
          "text": [
            "\n",
            "Training:  14%|█▍        | 14/100 [00:21<02:10,  1.51s/it]"
          ]
        },
        {
          "output_type": "stream",
          "name": "stdout",
          "text": [
            "epoch 14/100 loss: 2.33\n"
          ]
        },
        {
          "output_type": "stream",
          "name": "stderr",
          "text": [
            "\n",
            "Epoch 15 in training:   0%|          | 0/11 [00:00<?, ?it/s]\u001b[A\n",
            "Epoch 15 in training:   9%|▉         | 1/11 [00:00<00:01,  7.23it/s]\u001b[A"
          ]
        },
        {
          "output_type": "stream",
          "name": "stdout",
          "text": [
            "tensor([0, 0, 0, 0, 0, 0, 0, 0, 0, 0, 0, 0, 0, 0, 0, 0, 0, 0, 0, 0],\n",
            "       device='cuda:0')\n",
            "epoch 15/100 loss: 0.20\n"
          ]
        },
        {
          "output_type": "stream",
          "name": "stderr",
          "text": [
            "\n",
            "Epoch 15 in training:  18%|█▊        | 2/11 [00:00<00:01,  7.26it/s]\u001b[A"
          ]
        },
        {
          "output_type": "stream",
          "name": "stdout",
          "text": [
            "tensor([0, 0, 0, 0, 0, 0, 0, 0, 0, 0, 1, 1, 1, 1, 1, 1, 1, 1, 1, 1],\n",
            "       device='cuda:0')\n",
            "epoch 15/100 loss: 0.41\n"
          ]
        },
        {
          "output_type": "stream",
          "name": "stderr",
          "text": [
            "\n",
            "Epoch 15 in training:  27%|██▋       | 3/11 [00:00<00:01,  7.23it/s]\u001b[A"
          ]
        },
        {
          "output_type": "stream",
          "name": "stdout",
          "text": [
            "tensor([1, 1, 1, 1, 1, 1, 1, 1, 1, 1, 1, 1, 1, 1, 1, 1, 1, 1, 1, 2],\n",
            "       device='cuda:0')\n",
            "epoch 15/100 loss: 0.63\n"
          ]
        },
        {
          "output_type": "stream",
          "name": "stderr",
          "text": [
            "\n",
            "Epoch 15 in training:  36%|███▋      | 4/11 [00:00<00:00,  7.22it/s]\u001b[A"
          ]
        },
        {
          "output_type": "stream",
          "name": "stdout",
          "text": [
            "tensor([2, 2, 2, 2, 2, 2, 2, 2, 2, 2, 2, 2, 2, 2, 2, 2, 2, 2, 2, 2],\n",
            "       device='cuda:0')\n",
            "epoch 15/100 loss: 0.87\n"
          ]
        },
        {
          "output_type": "stream",
          "name": "stderr",
          "text": [
            "\n",
            "Epoch 15 in training:  45%|████▌     | 5/11 [00:00<00:00,  7.19it/s]\u001b[A"
          ]
        },
        {
          "output_type": "stream",
          "name": "stdout",
          "text": [
            "tensor([2, 2, 2, 2, 2, 2, 2, 3, 3, 3, 3, 3, 3, 3, 3, 3, 3, 3, 3, 3],\n",
            "       device='cuda:0')\n",
            "epoch 15/100 loss: 1.08\n"
          ]
        },
        {
          "output_type": "stream",
          "name": "stderr",
          "text": [
            "\n",
            "Epoch 15 in training:  55%|█████▍    | 6/11 [00:00<00:00,  7.19it/s]\u001b[A"
          ]
        },
        {
          "output_type": "stream",
          "name": "stdout",
          "text": [
            "tensor([3, 3, 3, 3, 3, 3, 3, 3, 3, 3, 3, 3, 3, 3, 3, 3, 3, 3, 4, 4],\n",
            "       device='cuda:0')\n",
            "epoch 15/100 loss: 1.29\n"
          ]
        },
        {
          "output_type": "stream",
          "name": "stderr",
          "text": [
            "\n",
            "Epoch 15 in training:  64%|██████▎   | 7/11 [00:00<00:00,  7.20it/s]\u001b[A"
          ]
        },
        {
          "output_type": "stream",
          "name": "stdout",
          "text": [
            "tensor([4, 4, 4, 4, 4, 4, 4, 4, 4, 4, 4, 4, 4, 4, 4, 4, 4, 4, 4, 4],\n",
            "       device='cuda:0')\n",
            "epoch 15/100 loss: 1.49\n"
          ]
        },
        {
          "output_type": "stream",
          "name": "stderr",
          "text": [
            "\n",
            "Epoch 15 in training:  73%|███████▎  | 8/11 [00:01<00:00,  7.22it/s]\u001b[A"
          ]
        },
        {
          "output_type": "stream",
          "name": "stdout",
          "text": [
            "tensor([4, 4, 4, 4, 4, 4, 4, 4, 5, 5, 5, 5, 5, 5, 5, 5, 5, 5, 5, 5],\n",
            "       device='cuda:0')\n",
            "epoch 15/100 loss: 1.72\n"
          ]
        },
        {
          "output_type": "stream",
          "name": "stderr",
          "text": [
            "\n",
            "Epoch 15 in training:  82%|████████▏ | 9/11 [00:01<00:00,  7.17it/s]\u001b[A"
          ]
        },
        {
          "output_type": "stream",
          "name": "stdout",
          "text": [
            "tensor([5, 5, 5, 5, 5, 5, 5, 5, 5, 5, 5, 5, 5, 5, 5, 5, 5, 5, 5, 6],\n",
            "       device='cuda:0')\n",
            "epoch 15/100 loss: 1.95\n",
            "tensor([6, 6, 6, 6, 6, 6, 6, 6, 6, 6, 6, 6, 6, 6, 6, 6, 6, 6, 6, 6],\n",
            "       device='cuda:0')\n"
          ]
        },
        {
          "output_type": "stream",
          "name": "stderr",
          "text": [
            "\n",
            "Epoch 15 in training:  91%|█████████ | 10/11 [00:01<00:00,  7.00it/s]\u001b[A\n",
            "Training:  15%|█▌        | 15/100 [00:22<02:08,  1.51s/it]"
          ]
        },
        {
          "output_type": "stream",
          "name": "stdout",
          "text": [
            "epoch 15/100 loss: 2.16\n",
            "tensor([6, 6, 6, 6, 6, 6, 6, 6, 6], device='cuda:0')\n",
            "epoch 15/100 loss: 2.35\n"
          ]
        },
        {
          "output_type": "stream",
          "name": "stderr",
          "text": [
            "\n",
            "Epoch 16 in training:   0%|          | 0/11 [00:00<?, ?it/s]\u001b[A"
          ]
        },
        {
          "output_type": "stream",
          "name": "stdout",
          "text": [
            "tensor([0, 0, 0, 0, 0, 0, 0, 0, 0, 0, 0, 0, 0, 0, 0, 0, 0, 0, 0, 0],\n",
            "       device='cuda:0')\n"
          ]
        },
        {
          "output_type": "stream",
          "name": "stderr",
          "text": [
            "\n",
            "Epoch 16 in training:   9%|▉         | 1/11 [00:00<00:01,  7.49it/s]\u001b[A"
          ]
        },
        {
          "output_type": "stream",
          "name": "stdout",
          "text": [
            "epoch 16/100 loss: 0.21\n",
            "tensor([0, 0, 0, 0, 0, 0, 0, 0, 0, 0, 1, 1, 1, 1, 1, 1, 1, 1, 1, 1],\n",
            "       device='cuda:0')\n"
          ]
        },
        {
          "output_type": "stream",
          "name": "stderr",
          "text": [
            "\n",
            "Epoch 16 in training:  18%|█▊        | 2/11 [00:00<00:01,  6.91it/s]\u001b[A"
          ]
        },
        {
          "output_type": "stream",
          "name": "stdout",
          "text": [
            "epoch 16/100 loss: 0.42\n"
          ]
        },
        {
          "output_type": "stream",
          "name": "stderr",
          "text": [
            "\n",
            "Epoch 16 in training:  27%|██▋       | 3/11 [00:00<00:01,  6.86it/s]\u001b[A"
          ]
        },
        {
          "output_type": "stream",
          "name": "stdout",
          "text": [
            "tensor([1, 1, 1, 1, 1, 1, 1, 1, 1, 1, 1, 1, 1, 1, 1, 1, 1, 1, 1, 2],\n",
            "       device='cuda:0')\n",
            "epoch 16/100 loss: 0.64\n"
          ]
        },
        {
          "output_type": "stream",
          "name": "stderr",
          "text": [
            "\n",
            "Epoch 16 in training:  36%|███▋      | 4/11 [00:00<00:01,  6.97it/s]\u001b[A"
          ]
        },
        {
          "output_type": "stream",
          "name": "stdout",
          "text": [
            "tensor([2, 2, 2, 2, 2, 2, 2, 2, 2, 2, 2, 2, 2, 2, 2, 2, 2, 2, 2, 2],\n",
            "       device='cuda:0')\n",
            "epoch 16/100 loss: 0.83\n"
          ]
        },
        {
          "output_type": "stream",
          "name": "stderr",
          "text": [
            "\n",
            "Epoch 16 in training:  45%|████▌     | 5/11 [00:00<00:00,  7.04it/s]\u001b[A"
          ]
        },
        {
          "output_type": "stream",
          "name": "stdout",
          "text": [
            "tensor([2, 2, 2, 2, 2, 2, 2, 3, 3, 3, 3, 3, 3, 3, 3, 3, 3, 3, 3, 3],\n",
            "       device='cuda:0')\n",
            "epoch 16/100 loss: 1.03\n",
            "tensor([3, 3, 3, 3, 3, 3, 3, 3, 3, 3, 3, 3, 3, 3, 3, 3, 3, 3, 4, 4],\n",
            "       device='cuda:0')\n"
          ]
        },
        {
          "output_type": "stream",
          "name": "stderr",
          "text": [
            "\n",
            "Epoch 16 in training:  55%|█████▍    | 6/11 [00:00<00:00,  6.89it/s]\u001b[A\n",
            "Epoch 16 in training:  64%|██████▎   | 7/11 [00:01<00:00,  7.02it/s]\u001b[A"
          ]
        },
        {
          "output_type": "stream",
          "name": "stdout",
          "text": [
            "epoch 16/100 loss: 1.25\n",
            "tensor([4, 4, 4, 4, 4, 4, 4, 4, 4, 4, 4, 4, 4, 4, 4, 4, 4, 4, 4, 4],\n",
            "       device='cuda:0')\n",
            "epoch 16/100 loss: 1.47\n"
          ]
        },
        {
          "output_type": "stream",
          "name": "stderr",
          "text": [
            "\n",
            "Epoch 16 in training:  73%|███████▎  | 8/11 [00:01<00:00,  6.91it/s]\u001b[A"
          ]
        },
        {
          "output_type": "stream",
          "name": "stdout",
          "text": [
            "tensor([4, 4, 4, 4, 4, 4, 4, 4, 5, 5, 5, 5, 5, 5, 5, 5, 5, 5, 5, 5],\n",
            "       device='cuda:0')\n",
            "epoch 16/100 loss: 1.67\n",
            "tensor([5, 5, 5, 5, 5, 5, 5, 5, 5, 5, 5, 5, 5, 5, 5, 5, 5, 5, 5, 6],\n",
            "       device='cuda:0')\n"
          ]
        },
        {
          "output_type": "stream",
          "name": "stderr",
          "text": [
            "\n",
            "Epoch 16 in training:  82%|████████▏ | 9/11 [00:01<00:00,  6.86it/s]\u001b[A\n",
            "Epoch 16 in training:  91%|█████████ | 10/11 [00:01<00:00,  6.84it/s]\u001b[A"
          ]
        },
        {
          "output_type": "stream",
          "name": "stdout",
          "text": [
            "epoch 16/100 loss: 1.85\n",
            "tensor([6, 6, 6, 6, 6, 6, 6, 6, 6, 6, 6, 6, 6, 6, 6, 6, 6, 6, 6, 6],\n",
            "       device='cuda:0')\n",
            "epoch 16/100 loss: 2.05\n",
            "tensor([6, 6, 6, 6, 6, 6, 6, 6, 6], device='cuda:0')\n"
          ]
        },
        {
          "output_type": "stream",
          "name": "stderr",
          "text": [
            "\n",
            "Training:  16%|█▌        | 16/100 [00:24<02:07,  1.52s/it]"
          ]
        },
        {
          "output_type": "stream",
          "name": "stdout",
          "text": [
            "epoch 16/100 loss: 2.24\n"
          ]
        },
        {
          "output_type": "stream",
          "name": "stderr",
          "text": [
            "\n",
            "Epoch 17 in training:   0%|          | 0/11 [00:00<?, ?it/s]\u001b[A\n",
            "Epoch 17 in training:   9%|▉         | 1/11 [00:00<00:01,  7.01it/s]\u001b[A"
          ]
        },
        {
          "output_type": "stream",
          "name": "stdout",
          "text": [
            "tensor([0, 0, 0, 0, 0, 0, 0, 0, 0, 0, 0, 0, 0, 0, 0, 0, 0, 0, 0, 0],\n",
            "       device='cuda:0')\n",
            "epoch 17/100 loss: 0.21\n"
          ]
        },
        {
          "output_type": "stream",
          "name": "stderr",
          "text": [
            "\n",
            "Epoch 17 in training:  18%|█▊        | 2/11 [00:00<00:01,  7.17it/s]\u001b[A"
          ]
        },
        {
          "output_type": "stream",
          "name": "stdout",
          "text": [
            "tensor([0, 0, 0, 0, 0, 0, 0, 0, 0, 0, 1, 1, 1, 1, 1, 1, 1, 1, 1, 1],\n",
            "       device='cuda:0')\n",
            "epoch 17/100 loss: 0.42\n"
          ]
        },
        {
          "output_type": "stream",
          "name": "stderr",
          "text": [
            "\n",
            "Epoch 17 in training:  27%|██▋       | 3/11 [00:00<00:01,  7.18it/s]\u001b[A"
          ]
        },
        {
          "output_type": "stream",
          "name": "stdout",
          "text": [
            "tensor([1, 1, 1, 1, 1, 1, 1, 1, 1, 1, 1, 1, 1, 1, 1, 1, 1, 1, 1, 2],\n",
            "       device='cuda:0')\n",
            "epoch 17/100 loss: 0.62\n"
          ]
        },
        {
          "output_type": "stream",
          "name": "stderr",
          "text": [
            "\n",
            "Epoch 17 in training:  36%|███▋      | 4/11 [00:00<00:00,  7.22it/s]\u001b[A"
          ]
        },
        {
          "output_type": "stream",
          "name": "stdout",
          "text": [
            "tensor([2, 2, 2, 2, 2, 2, 2, 2, 2, 2, 2, 2, 2, 2, 2, 2, 2, 2, 2, 2],\n",
            "       device='cuda:0')\n",
            "epoch 17/100 loss: 0.86\n"
          ]
        },
        {
          "output_type": "stream",
          "name": "stderr",
          "text": [
            "\n",
            "Epoch 17 in training:  45%|████▌     | 5/11 [00:00<00:00,  7.24it/s]\u001b[A"
          ]
        },
        {
          "output_type": "stream",
          "name": "stdout",
          "text": [
            "tensor([2, 2, 2, 2, 2, 2, 2, 3, 3, 3, 3, 3, 3, 3, 3, 3, 3, 3, 3, 3],\n",
            "       device='cuda:0')\n",
            "epoch 17/100 loss: 1.07\n"
          ]
        },
        {
          "output_type": "stream",
          "name": "stderr",
          "text": [
            "\n",
            "Epoch 17 in training:  55%|█████▍    | 6/11 [00:00<00:00,  7.24it/s]\u001b[A"
          ]
        },
        {
          "output_type": "stream",
          "name": "stdout",
          "text": [
            "tensor([3, 3, 3, 3, 3, 3, 3, 3, 3, 3, 3, 3, 3, 3, 3, 3, 3, 3, 4, 4],\n",
            "       device='cuda:0')\n",
            "epoch 17/100 loss: 1.27\n"
          ]
        },
        {
          "output_type": "stream",
          "name": "stderr",
          "text": [
            "\n",
            "Epoch 17 in training:  64%|██████▎   | 7/11 [00:00<00:00,  7.23it/s]\u001b[A"
          ]
        },
        {
          "output_type": "stream",
          "name": "stdout",
          "text": [
            "tensor([4, 4, 4, 4, 4, 4, 4, 4, 4, 4, 4, 4, 4, 4, 4, 4, 4, 4, 4, 4],\n",
            "       device='cuda:0')\n",
            "epoch 17/100 loss: 1.46\n"
          ]
        },
        {
          "output_type": "stream",
          "name": "stderr",
          "text": [
            "\n",
            "Epoch 17 in training:  73%|███████▎  | 8/11 [00:01<00:00,  7.23it/s]\u001b[A"
          ]
        },
        {
          "output_type": "stream",
          "name": "stdout",
          "text": [
            "tensor([4, 4, 4, 4, 4, 4, 4, 4, 5, 5, 5, 5, 5, 5, 5, 5, 5, 5, 5, 5],\n",
            "       device='cuda:0')\n",
            "epoch 17/100 loss: 1.67\n"
          ]
        },
        {
          "output_type": "stream",
          "name": "stderr",
          "text": [
            "\n",
            "Epoch 17 in training:  82%|████████▏ | 9/11 [00:01<00:00,  7.24it/s]\u001b[A"
          ]
        },
        {
          "output_type": "stream",
          "name": "stdout",
          "text": [
            "tensor([5, 5, 5, 5, 5, 5, 5, 5, 5, 5, 5, 5, 5, 5, 5, 5, 5, 5, 5, 6],\n",
            "       device='cuda:0')\n",
            "epoch 17/100 loss: 1.89\n",
            "tensor([6, 6, 6, 6, 6, 6, 6, 6, 6, 6, 6, 6, 6, 6, 6, 6, 6, 6, 6, 6],\n",
            "       device='cuda:0')\n"
          ]
        },
        {
          "output_type": "stream",
          "name": "stderr",
          "text": [
            "\n",
            "Epoch 17 in training:  91%|█████████ | 10/11 [00:01<00:00,  7.04it/s]\u001b[A\n",
            "Training:  17%|█▋        | 17/100 [00:25<02:05,  1.51s/it]"
          ]
        },
        {
          "output_type": "stream",
          "name": "stdout",
          "text": [
            "epoch 17/100 loss: 2.05\n",
            "tensor([6, 6, 6, 6, 6, 6, 6, 6, 6], device='cuda:0')\n",
            "epoch 17/100 loss: 2.22\n"
          ]
        },
        {
          "output_type": "stream",
          "name": "stderr",
          "text": [
            "\n",
            "Epoch 18 in training:   0%|          | 0/11 [00:00<?, ?it/s]\u001b[A"
          ]
        },
        {
          "output_type": "stream",
          "name": "stdout",
          "text": [
            "tensor([0, 0, 0, 0, 0, 0, 0, 0, 0, 0, 0, 0, 0, 0, 0, 0, 0, 0, 0, 0],\n",
            "       device='cuda:0')\n"
          ]
        },
        {
          "output_type": "stream",
          "name": "stderr",
          "text": [
            "\n",
            "Epoch 18 in training:   9%|▉         | 1/11 [00:00<00:01,  7.41it/s]\u001b[A\n",
            "Epoch 18 in training:  18%|█▊        | 2/11 [00:00<00:01,  7.36it/s]\u001b[A"
          ]
        },
        {
          "output_type": "stream",
          "name": "stdout",
          "text": [
            "epoch 18/100 loss: 0.21\n",
            "tensor([0, 0, 0, 0, 0, 0, 0, 0, 0, 0, 1, 1, 1, 1, 1, 1, 1, 1, 1, 1],\n",
            "       device='cuda:0')\n",
            "epoch 18/100 loss: 0.40\n"
          ]
        },
        {
          "output_type": "stream",
          "name": "stderr",
          "text": [
            "\n",
            "Epoch 18 in training:  27%|██▋       | 3/11 [00:00<00:01,  7.08it/s]\u001b[A"
          ]
        },
        {
          "output_type": "stream",
          "name": "stdout",
          "text": [
            "tensor([1, 1, 1, 1, 1, 1, 1, 1, 1, 1, 1, 1, 1, 1, 1, 1, 1, 1, 1, 2],\n",
            "       device='cuda:0')\n",
            "epoch 18/100 loss: 0.61\n",
            "tensor([2, 2, 2, 2, 2, 2, 2, 2, 2, 2, 2, 2, 2, 2, 2, 2, 2, 2, 2, 2],\n",
            "       device='cuda:0')\n"
          ]
        },
        {
          "output_type": "stream",
          "name": "stderr",
          "text": [
            "\n",
            "Epoch 18 in training:  36%|███▋      | 4/11 [00:00<00:01,  6.90it/s]\u001b[A\n",
            "Epoch 18 in training:  45%|████▌     | 5/11 [00:00<00:00,  6.99it/s]\u001b[A"
          ]
        },
        {
          "output_type": "stream",
          "name": "stdout",
          "text": [
            "epoch 18/100 loss: 0.82\n",
            "tensor([2, 2, 2, 2, 2, 2, 2, 3, 3, 3, 3, 3, 3, 3, 3, 3, 3, 3, 3, 3],\n",
            "       device='cuda:0')\n",
            "epoch 18/100 loss: 1.02\n"
          ]
        },
        {
          "output_type": "stream",
          "name": "stderr",
          "text": [
            "\n",
            "Epoch 18 in training:  55%|█████▍    | 6/11 [00:00<00:00,  7.09it/s]\u001b[A\n",
            "Epoch 18 in training:  64%|██████▎   | 7/11 [00:00<00:00,  7.18it/s]\u001b[A"
          ]
        },
        {
          "output_type": "stream",
          "name": "stdout",
          "text": [
            "tensor([3, 3, 3, 3, 3, 3, 3, 3, 3, 3, 3, 3, 3, 3, 3, 3, 3, 3, 4, 4],\n",
            "       device='cuda:0')\n",
            "epoch 18/100 loss: 1.22\n",
            "tensor([4, 4, 4, 4, 4, 4, 4, 4, 4, 4, 4, 4, 4, 4, 4, 4, 4, 4, 4, 4],\n",
            "       device='cuda:0')\n",
            "epoch 18/100 loss: 1.45\n"
          ]
        },
        {
          "output_type": "stream",
          "name": "stderr",
          "text": [
            "\n",
            "Epoch 18 in training:  73%|███████▎  | 8/11 [00:01<00:00,  7.18it/s]\u001b[A\n",
            "Epoch 18 in training:  82%|████████▏ | 9/11 [00:01<00:00,  7.21it/s]\u001b[A"
          ]
        },
        {
          "output_type": "stream",
          "name": "stdout",
          "text": [
            "tensor([4, 4, 4, 4, 4, 4, 4, 4, 5, 5, 5, 5, 5, 5, 5, 5, 5, 5, 5, 5],\n",
            "       device='cuda:0')\n",
            "epoch 18/100 loss: 1.66\n",
            "tensor([5, 5, 5, 5, 5, 5, 5, 5, 5, 5, 5, 5, 5, 5, 5, 5, 5, 5, 5, 6],\n",
            "       device='cuda:0')\n",
            "epoch 18/100 loss: 1.87\n"
          ]
        },
        {
          "output_type": "stream",
          "name": "stderr",
          "text": [
            "\n",
            "Epoch 18 in training:  91%|█████████ | 10/11 [00:01<00:00,  7.21it/s]\u001b[A\n",
            "Training:  18%|█▊        | 18/100 [00:27<02:03,  1.51s/it]"
          ]
        },
        {
          "output_type": "stream",
          "name": "stdout",
          "text": [
            "tensor([6, 6, 6, 6, 6, 6, 6, 6, 6, 6, 6, 6, 6, 6, 6, 6, 6, 6, 6, 6],\n",
            "       device='cuda:0')\n",
            "epoch 18/100 loss: 2.06\n",
            "tensor([6, 6, 6, 6, 6, 6, 6, 6, 6], device='cuda:0')\n",
            "epoch 18/100 loss: 2.25\n"
          ]
        },
        {
          "output_type": "stream",
          "name": "stderr",
          "text": [
            "\n",
            "Epoch 19 in training:   0%|          | 0/11 [00:00<?, ?it/s]\u001b[A\n",
            "Epoch 19 in training:   9%|▉         | 1/11 [00:00<00:01,  7.04it/s]\u001b[A\n",
            "Epoch 19 in training:  18%|█▊        | 2/11 [00:00<00:01,  7.21it/s]\u001b[A"
          ]
        },
        {
          "output_type": "stream",
          "name": "stdout",
          "text": [
            "tensor([0, 0, 0, 0, 0, 0, 0, 0, 0, 0, 0, 0, 0, 0, 0, 0, 0, 0, 0, 0],\n",
            "       device='cuda:0')\n",
            "epoch 19/100 loss: 0.21\n",
            "tensor([0, 0, 0, 0, 0, 0, 0, 0, 0, 0, 1, 1, 1, 1, 1, 1, 1, 1, 1, 1],\n",
            "       device='cuda:0')\n",
            "epoch 19/100 loss: 0.42\n"
          ]
        },
        {
          "output_type": "stream",
          "name": "stderr",
          "text": [
            "\n",
            "Epoch 19 in training:  27%|██▋       | 3/11 [00:00<00:01,  7.09it/s]\u001b[A\n",
            "Epoch 19 in training:  36%|███▋      | 4/11 [00:00<00:00,  7.11it/s]\u001b[A"
          ]
        },
        {
          "output_type": "stream",
          "name": "stdout",
          "text": [
            "tensor([1, 1, 1, 1, 1, 1, 1, 1, 1, 1, 1, 1, 1, 1, 1, 1, 1, 1, 1, 2],\n",
            "       device='cuda:0')\n",
            "epoch 19/100 loss: 0.62\n",
            "tensor([2, 2, 2, 2, 2, 2, 2, 2, 2, 2, 2, 2, 2, 2, 2, 2, 2, 2, 2, 2],\n",
            "       device='cuda:0')\n",
            "epoch 19/100 loss: 0.82\n"
          ]
        },
        {
          "output_type": "stream",
          "name": "stderr",
          "text": [
            "\n",
            "Epoch 19 in training:  45%|████▌     | 5/11 [00:00<00:00,  7.12it/s]\u001b[A\n",
            "Epoch 19 in training:  55%|█████▍    | 6/11 [00:00<00:00,  7.16it/s]\u001b[A"
          ]
        },
        {
          "output_type": "stream",
          "name": "stdout",
          "text": [
            "tensor([2, 2, 2, 2, 2, 2, 2, 3, 3, 3, 3, 3, 3, 3, 3, 3, 3, 3, 3, 3],\n",
            "       device='cuda:0')\n",
            "epoch 19/100 loss: 1.02\n",
            "tensor([3, 3, 3, 3, 3, 3, 3, 3, 3, 3, 3, 3, 3, 3, 3, 3, 3, 3, 4, 4],\n",
            "       device='cuda:0')\n",
            "epoch 19/100 loss: 1.21\n"
          ]
        },
        {
          "output_type": "stream",
          "name": "stderr",
          "text": [
            "\n",
            "Epoch 19 in training:  64%|██████▎   | 7/11 [00:00<00:00,  7.16it/s]\u001b[A"
          ]
        },
        {
          "output_type": "stream",
          "name": "stdout",
          "text": [
            "tensor([4, 4, 4, 4, 4, 4, 4, 4, 4, 4, 4, 4, 4, 4, 4, 4, 4, 4, 4, 4],\n",
            "       device='cuda:0')\n",
            "epoch 19/100 loss: 1.41\n",
            "tensor([4, 4, 4, 4, 4, 4, 4, 4, 5, 5, 5, 5, 5, 5, 5, 5, 5, 5, 5, 5],\n",
            "       device='cuda:0')\n"
          ]
        },
        {
          "output_type": "stream",
          "name": "stderr",
          "text": [
            "\n",
            "Epoch 19 in training:  73%|███████▎  | 8/11 [00:01<00:00,  6.98it/s]\u001b[A\n",
            "Epoch 19 in training:  82%|████████▏ | 9/11 [00:01<00:00,  7.00it/s]\u001b[A"
          ]
        },
        {
          "output_type": "stream",
          "name": "stdout",
          "text": [
            "epoch 19/100 loss: 1.61\n",
            "tensor([5, 5, 5, 5, 5, 5, 5, 5, 5, 5, 5, 5, 5, 5, 5, 5, 5, 5, 5, 6],\n",
            "       device='cuda:0')\n",
            "epoch 19/100 loss: 1.80\n"
          ]
        },
        {
          "output_type": "stream",
          "name": "stderr",
          "text": [
            "\n",
            "Epoch 19 in training:  91%|█████████ | 10/11 [00:01<00:00,  7.06it/s]\u001b[A\n",
            "Training:  19%|█▉        | 19/100 [00:28<02:02,  1.51s/it]"
          ]
        },
        {
          "output_type": "stream",
          "name": "stdout",
          "text": [
            "tensor([6, 6, 6, 6, 6, 6, 6, 6, 6, 6, 6, 6, 6, 6, 6, 6, 6, 6, 6, 6],\n",
            "       device='cuda:0')\n",
            "epoch 19/100 loss: 2.00\n",
            "tensor([6, 6, 6, 6, 6, 6, 6, 6, 6], device='cuda:0')\n",
            "epoch 19/100 loss: 2.18\n"
          ]
        },
        {
          "output_type": "stream",
          "name": "stderr",
          "text": [
            "\n",
            "Epoch 20 in training:   0%|          | 0/11 [00:00<?, ?it/s]\u001b[A\n",
            "Epoch 20 in training:   9%|▉         | 1/11 [00:00<00:01,  7.57it/s]\u001b[A\n",
            "Epoch 20 in training:  18%|█▊        | 2/11 [00:00<00:01,  7.37it/s]\u001b[A"
          ]
        },
        {
          "output_type": "stream",
          "name": "stdout",
          "text": [
            "tensor([0, 0, 0, 0, 0, 0, 0, 0, 0, 0, 0, 0, 0, 0, 0, 0, 0, 0, 0, 0],\n",
            "       device='cuda:0')\n",
            "epoch 20/100 loss: 0.19\n",
            "tensor([0, 0, 0, 0, 0, 0, 0, 0, 0, 0, 1, 1, 1, 1, 1, 1, 1, 1, 1, 1],\n",
            "       device='cuda:0')\n",
            "epoch 20/100 loss: 0.39\n"
          ]
        },
        {
          "output_type": "stream",
          "name": "stderr",
          "text": [
            "\n",
            "Epoch 20 in training:  27%|██▋       | 3/11 [00:00<00:01,  7.28it/s]\u001b[A\n",
            "Epoch 20 in training:  36%|███▋      | 4/11 [00:00<00:00,  7.29it/s]\u001b[A"
          ]
        },
        {
          "output_type": "stream",
          "name": "stdout",
          "text": [
            "tensor([1, 1, 1, 1, 1, 1, 1, 1, 1, 1, 1, 1, 1, 1, 1, 1, 1, 1, 1, 2],\n",
            "       device='cuda:0')\n",
            "epoch 20/100 loss: 0.61\n",
            "tensor([2, 2, 2, 2, 2, 2, 2, 2, 2, 2, 2, 2, 2, 2, 2, 2, 2, 2, 2, 2],\n",
            "       device='cuda:0')\n",
            "epoch 20/100 loss: 0.82\n"
          ]
        },
        {
          "output_type": "stream",
          "name": "stderr",
          "text": [
            "\n",
            "Epoch 20 in training:  45%|████▌     | 5/11 [00:00<00:00,  7.28it/s]\u001b[A\n",
            "Epoch 20 in training:  55%|█████▍    | 6/11 [00:00<00:00,  7.27it/s]\u001b[A"
          ]
        },
        {
          "output_type": "stream",
          "name": "stdout",
          "text": [
            "tensor([2, 2, 2, 2, 2, 2, 2, 3, 3, 3, 3, 3, 3, 3, 3, 3, 3, 3, 3, 3],\n",
            "       device='cuda:0')\n",
            "epoch 20/100 loss: 1.03\n",
            "tensor([3, 3, 3, 3, 3, 3, 3, 3, 3, 3, 3, 3, 3, 3, 3, 3, 3, 3, 4, 4],\n",
            "       device='cuda:0')\n",
            "epoch 20/100 loss: 1.23\n"
          ]
        },
        {
          "output_type": "stream",
          "name": "stderr",
          "text": [
            "\n",
            "Epoch 20 in training:  64%|██████▎   | 7/11 [00:00<00:00,  7.20it/s]\u001b[A\n",
            "Epoch 20 in training:  73%|███████▎  | 8/11 [00:01<00:00,  7.23it/s]\u001b[A"
          ]
        },
        {
          "output_type": "stream",
          "name": "stdout",
          "text": [
            "tensor([4, 4, 4, 4, 4, 4, 4, 4, 4, 4, 4, 4, 4, 4, 4, 4, 4, 4, 4, 4],\n",
            "       device='cuda:0')\n",
            "epoch 20/100 loss: 1.43\n",
            "tensor([4, 4, 4, 4, 4, 4, 4, 4, 5, 5, 5, 5, 5, 5, 5, 5, 5, 5, 5, 5],\n",
            "       device='cuda:0')\n",
            "epoch 20/100 loss: 1.64\n"
          ]
        },
        {
          "output_type": "stream",
          "name": "stderr",
          "text": [
            "\n",
            "Epoch 20 in training:  82%|████████▏ | 9/11 [00:01<00:00,  7.06it/s]\u001b[A\n",
            "Epoch 20 in training:  91%|█████████ | 10/11 [00:01<00:00,  7.14it/s]\u001b[A"
          ]
        },
        {
          "output_type": "stream",
          "name": "stdout",
          "text": [
            "tensor([5, 5, 5, 5, 5, 5, 5, 5, 5, 5, 5, 5, 5, 5, 5, 5, 5, 5, 5, 6],\n",
            "       device='cuda:0')\n",
            "epoch 20/100 loss: 1.84\n",
            "tensor([6, 6, 6, 6, 6, 6, 6, 6, 6, 6, 6, 6, 6, 6, 6, 6, 6, 6, 6, 6],\n",
            "       device='cuda:0')\n",
            "epoch 20/100 loss: 2.00\n"
          ]
        },
        {
          "output_type": "stream",
          "name": "stderr",
          "text": [
            "\n",
            "Training:  20%|██        | 20/100 [00:30<02:00,  1.50s/it]"
          ]
        },
        {
          "output_type": "stream",
          "name": "stdout",
          "text": [
            "tensor([6, 6, 6, 6, 6, 6, 6, 6, 6], device='cuda:0')\n",
            "epoch 20/100 loss: 2.16\n"
          ]
        },
        {
          "output_type": "stream",
          "name": "stderr",
          "text": [
            "\n",
            "Epoch 21 in training:   0%|          | 0/11 [00:00<?, ?it/s]\u001b[A\n",
            "Epoch 21 in training:   9%|▉         | 1/11 [00:00<00:01,  7.31it/s]\u001b[A"
          ]
        },
        {
          "output_type": "stream",
          "name": "stdout",
          "text": [
            "tensor([0, 0, 0, 0, 0, 0, 0, 0, 0, 0, 0, 0, 0, 0, 0, 0, 0, 0, 0, 0],\n",
            "       device='cuda:0')\n",
            "epoch 21/100 loss: 0.20\n"
          ]
        },
        {
          "output_type": "stream",
          "name": "stderr",
          "text": [
            "\n",
            "Epoch 21 in training:  18%|█▊        | 2/11 [00:00<00:01,  7.18it/s]\u001b[A"
          ]
        },
        {
          "output_type": "stream",
          "name": "stdout",
          "text": [
            "tensor([0, 0, 0, 0, 0, 0, 0, 0, 0, 0, 1, 1, 1, 1, 1, 1, 1, 1, 1, 1],\n",
            "       device='cuda:0')\n",
            "epoch 21/100 loss: 0.42\n"
          ]
        },
        {
          "output_type": "stream",
          "name": "stderr",
          "text": [
            "\n",
            "Epoch 21 in training:  27%|██▋       | 3/11 [00:00<00:01,  7.17it/s]\u001b[A"
          ]
        },
        {
          "output_type": "stream",
          "name": "stdout",
          "text": [
            "tensor([1, 1, 1, 1, 1, 1, 1, 1, 1, 1, 1, 1, 1, 1, 1, 1, 1, 1, 1, 2],\n",
            "       device='cuda:0')\n",
            "epoch 21/100 loss: 0.64\n",
            "tensor([2, 2, 2, 2, 2, 2, 2, 2, 2, 2, 2, 2, 2, 2, 2, 2, 2, 2, 2, 2],\n",
            "       device='cuda:0')\n"
          ]
        },
        {
          "output_type": "stream",
          "name": "stderr",
          "text": [
            "\n",
            "Epoch 21 in training:  36%|███▋      | 4/11 [00:00<00:01,  6.99it/s]\u001b[A\n",
            "Epoch 21 in training:  45%|████▌     | 5/11 [00:00<00:00,  7.08it/s]\u001b[A"
          ]
        },
        {
          "output_type": "stream",
          "name": "stdout",
          "text": [
            "epoch 21/100 loss: 0.86\n",
            "tensor([2, 2, 2, 2, 2, 2, 2, 3, 3, 3, 3, 3, 3, 3, 3, 3, 3, 3, 3, 3],\n",
            "       device='cuda:0')\n",
            "epoch 21/100 loss: 1.05\n"
          ]
        },
        {
          "output_type": "stream",
          "name": "stderr",
          "text": [
            "\n",
            "Epoch 21 in training:  55%|█████▍    | 6/11 [00:00<00:00,  6.99it/s]\u001b[A"
          ]
        },
        {
          "output_type": "stream",
          "name": "stdout",
          "text": [
            "tensor([3, 3, 3, 3, 3, 3, 3, 3, 3, 3, 3, 3, 3, 3, 3, 3, 3, 3, 4, 4],\n",
            "       device='cuda:0')\n",
            "epoch 21/100 loss: 1.25\n",
            "tensor([4, 4, 4, 4, 4, 4, 4, 4, 4, 4, 4, 4, 4, 4, 4, 4, 4, 4, 4, 4],\n",
            "       device='cuda:0')\n"
          ]
        },
        {
          "output_type": "stream",
          "name": "stderr",
          "text": [
            "\n",
            "Epoch 21 in training:  64%|██████▎   | 7/11 [00:01<00:00,  6.91it/s]\u001b[A\n",
            "Epoch 21 in training:  73%|███████▎  | 8/11 [00:01<00:00,  6.87it/s]\u001b[A"
          ]
        },
        {
          "output_type": "stream",
          "name": "stdout",
          "text": [
            "epoch 21/100 loss: 1.46\n",
            "tensor([4, 4, 4, 4, 4, 4, 4, 4, 5, 5, 5, 5, 5, 5, 5, 5, 5, 5, 5, 5],\n",
            "       device='cuda:0')\n",
            "epoch 21/100 loss: 1.66\n"
          ]
        },
        {
          "output_type": "stream",
          "name": "stderr",
          "text": [
            "\n",
            "Epoch 21 in training:  82%|████████▏ | 9/11 [00:01<00:00,  6.83it/s]\u001b[A\n",
            "Epoch 21 in training:  91%|█████████ | 10/11 [00:01<00:00,  6.94it/s]\u001b[A"
          ]
        },
        {
          "output_type": "stream",
          "name": "stdout",
          "text": [
            "tensor([5, 5, 5, 5, 5, 5, 5, 5, 5, 5, 5, 5, 5, 5, 5, 5, 5, 5, 5, 6],\n",
            "       device='cuda:0')\n",
            "epoch 21/100 loss: 1.86\n",
            "tensor([6, 6, 6, 6, 6, 6, 6, 6, 6, 6, 6, 6, 6, 6, 6, 6, 6, 6, 6, 6],\n",
            "       device='cuda:0')\n",
            "epoch 21/100 loss: 2.03\n"
          ]
        },
        {
          "output_type": "stream",
          "name": "stderr",
          "text": [
            "\n",
            "Training:  21%|██        | 21/100 [00:31<01:59,  1.51s/it]"
          ]
        },
        {
          "output_type": "stream",
          "name": "stdout",
          "text": [
            "tensor([6, 6, 6, 6, 6, 6, 6, 6, 6], device='cuda:0')\n",
            "epoch 21/100 loss: 2.21\n"
          ]
        },
        {
          "output_type": "stream",
          "name": "stderr",
          "text": [
            "\n",
            "Epoch 22 in training:   0%|          | 0/11 [00:00<?, ?it/s]\u001b[A\n",
            "Epoch 22 in training:   9%|▉         | 1/11 [00:00<00:01,  7.43it/s]\u001b[A"
          ]
        },
        {
          "output_type": "stream",
          "name": "stdout",
          "text": [
            "tensor([0, 0, 0, 0, 0, 0, 0, 0, 0, 0, 0, 0, 0, 0, 0, 0, 0, 0, 0, 0],\n",
            "       device='cuda:0')\n",
            "epoch 22/100 loss: 0.21\n"
          ]
        },
        {
          "output_type": "stream",
          "name": "stderr",
          "text": [
            "\n",
            "Epoch 22 in training:  18%|█▊        | 2/11 [00:00<00:01,  7.33it/s]\u001b[A"
          ]
        },
        {
          "output_type": "stream",
          "name": "stdout",
          "text": [
            "tensor([0, 0, 0, 0, 0, 0, 0, 0, 0, 0, 1, 1, 1, 1, 1, 1, 1, 1, 1, 1],\n",
            "       device='cuda:0')\n",
            "epoch 22/100 loss: 0.40\n"
          ]
        },
        {
          "output_type": "stream",
          "name": "stderr",
          "text": [
            "\n",
            "Epoch 22 in training:  27%|██▋       | 3/11 [00:00<00:01,  7.26it/s]\u001b[A"
          ]
        },
        {
          "output_type": "stream",
          "name": "stdout",
          "text": [
            "tensor([1, 1, 1, 1, 1, 1, 1, 1, 1, 1, 1, 1, 1, 1, 1, 1, 1, 1, 1, 2],\n",
            "       device='cuda:0')\n",
            "epoch 22/100 loss: 0.59\n"
          ]
        },
        {
          "output_type": "stream",
          "name": "stderr",
          "text": [
            "\n",
            "Epoch 22 in training:  36%|███▋      | 4/11 [00:00<00:00,  7.17it/s]\u001b[A"
          ]
        },
        {
          "output_type": "stream",
          "name": "stdout",
          "text": [
            "tensor([2, 2, 2, 2, 2, 2, 2, 2, 2, 2, 2, 2, 2, 2, 2, 2, 2, 2, 2, 2],\n",
            "       device='cuda:0')\n",
            "epoch 22/100 loss: 0.79\n"
          ]
        },
        {
          "output_type": "stream",
          "name": "stderr",
          "text": [
            "\n",
            "Epoch 22 in training:  45%|████▌     | 5/11 [00:00<00:00,  7.18it/s]\u001b[A"
          ]
        },
        {
          "output_type": "stream",
          "name": "stdout",
          "text": [
            "tensor([2, 2, 2, 2, 2, 2, 2, 3, 3, 3, 3, 3, 3, 3, 3, 3, 3, 3, 3, 3],\n",
            "       device='cuda:0')\n",
            "epoch 22/100 loss: 0.98\n",
            "tensor([3, 3, 3, 3, 3, 3, 3, 3, 3, 3, 3, 3, 3, 3, 3, 3, 3, 3, 4, 4],\n",
            "       device='cuda:0')\n"
          ]
        },
        {
          "output_type": "stream",
          "name": "stderr",
          "text": [
            "\n",
            "Epoch 22 in training:  55%|█████▍    | 6/11 [00:00<00:00,  7.01it/s]\u001b[A\n",
            "Epoch 22 in training:  64%|██████▎   | 7/11 [00:00<00:00,  7.11it/s]\u001b[A"
          ]
        },
        {
          "output_type": "stream",
          "name": "stdout",
          "text": [
            "epoch 22/100 loss: 1.20\n",
            "tensor([4, 4, 4, 4, 4, 4, 4, 4, 4, 4, 4, 4, 4, 4, 4, 4, 4, 4, 4, 4],\n",
            "       device='cuda:0')\n",
            "epoch 22/100 loss: 1.39\n"
          ]
        },
        {
          "output_type": "stream",
          "name": "stderr",
          "text": [
            "\n",
            "Epoch 22 in training:  73%|███████▎  | 8/11 [00:01<00:00,  7.01it/s]\u001b[A"
          ]
        },
        {
          "output_type": "stream",
          "name": "stdout",
          "text": [
            "tensor([4, 4, 4, 4, 4, 4, 4, 4, 5, 5, 5, 5, 5, 5, 5, 5, 5, 5, 5, 5],\n",
            "       device='cuda:0')\n",
            "epoch 22/100 loss: 1.58\n",
            "tensor([5, 5, 5, 5, 5, 5, 5, 5, 5, 5, 5, 5, 5, 5, 5, 5, 5, 5, 5, 6],\n",
            "       device='cuda:0')\n"
          ]
        },
        {
          "output_type": "stream",
          "name": "stderr",
          "text": [
            "\n",
            "Epoch 22 in training:  82%|████████▏ | 9/11 [00:01<00:00,  6.90it/s]\u001b[A\n",
            "Epoch 22 in training:  91%|█████████ | 10/11 [00:01<00:00,  6.83it/s]\u001b[A"
          ]
        },
        {
          "output_type": "stream",
          "name": "stdout",
          "text": [
            "epoch 22/100 loss: 1.77\n",
            "tensor([6, 6, 6, 6, 6, 6, 6, 6, 6, 6, 6, 6, 6, 6, 6, 6, 6, 6, 6, 6],\n",
            "       device='cuda:0')\n",
            "epoch 22/100 loss: 1.96\n"
          ]
        },
        {
          "output_type": "stream",
          "name": "stderr",
          "text": [
            "\n",
            "Training:  22%|██▏       | 22/100 [00:33<01:58,  1.52s/it]"
          ]
        },
        {
          "output_type": "stream",
          "name": "stdout",
          "text": [
            "tensor([6, 6, 6, 6, 6, 6, 6, 6, 6], device='cuda:0')\n",
            "epoch 22/100 loss: 2.14\n"
          ]
        },
        {
          "output_type": "stream",
          "name": "stderr",
          "text": [
            "\n",
            "Epoch 23 in training:   0%|          | 0/11 [00:00<?, ?it/s]\u001b[A\n",
            "Epoch 23 in training:   9%|▉         | 1/11 [00:00<00:01,  7.43it/s]\u001b[A"
          ]
        },
        {
          "output_type": "stream",
          "name": "stdout",
          "text": [
            "tensor([0, 0, 0, 0, 0, 0, 0, 0, 0, 0, 0, 0, 0, 0, 0, 0, 0, 0, 0, 0],\n",
            "       device='cuda:0')\n",
            "epoch 23/100 loss: 0.21\n"
          ]
        },
        {
          "output_type": "stream",
          "name": "stderr",
          "text": [
            "\n",
            "Epoch 23 in training:  18%|█▊        | 2/11 [00:00<00:01,  7.33it/s]\u001b[A"
          ]
        },
        {
          "output_type": "stream",
          "name": "stdout",
          "text": [
            "tensor([0, 0, 0, 0, 0, 0, 0, 0, 0, 0, 1, 1, 1, 1, 1, 1, 1, 1, 1, 1],\n",
            "       device='cuda:0')\n",
            "epoch 23/100 loss: 0.40\n"
          ]
        },
        {
          "output_type": "stream",
          "name": "stderr",
          "text": [
            "\n",
            "Epoch 23 in training:  27%|██▋       | 3/11 [00:00<00:01,  7.30it/s]\u001b[A"
          ]
        },
        {
          "output_type": "stream",
          "name": "stdout",
          "text": [
            "tensor([1, 1, 1, 1, 1, 1, 1, 1, 1, 1, 1, 1, 1, 1, 1, 1, 1, 1, 1, 2],\n",
            "       device='cuda:0')\n",
            "epoch 23/100 loss: 0.61\n",
            "tensor([2, 2, 2, 2, 2, 2, 2, 2, 2, 2, 2, 2, 2, 2, 2, 2, 2, 2, 2, 2],\n",
            "       device='cuda:0')\n"
          ]
        },
        {
          "output_type": "stream",
          "name": "stderr",
          "text": [
            "\n",
            "Epoch 23 in training:  36%|███▋      | 4/11 [00:00<00:00,  7.09it/s]\u001b[A\n",
            "Epoch 23 in training:  45%|████▌     | 5/11 [00:00<00:00,  7.16it/s]\u001b[A"
          ]
        },
        {
          "output_type": "stream",
          "name": "stdout",
          "text": [
            "epoch 23/100 loss: 0.82\n",
            "tensor([2, 2, 2, 2, 2, 2, 2, 3, 3, 3, 3, 3, 3, 3, 3, 3, 3, 3, 3, 3],\n",
            "       device='cuda:0')\n",
            "epoch 23/100 loss: 1.01\n"
          ]
        },
        {
          "output_type": "stream",
          "name": "stderr",
          "text": [
            "\n",
            "Epoch 23 in training:  55%|█████▍    | 6/11 [00:00<00:00,  7.17it/s]\u001b[A\n",
            "Epoch 23 in training:  64%|██████▎   | 7/11 [00:00<00:00,  7.22it/s]\u001b[A"
          ]
        },
        {
          "output_type": "stream",
          "name": "stdout",
          "text": [
            "tensor([3, 3, 3, 3, 3, 3, 3, 3, 3, 3, 3, 3, 3, 3, 3, 3, 3, 3, 4, 4],\n",
            "       device='cuda:0')\n",
            "epoch 23/100 loss: 1.20\n",
            "tensor([4, 4, 4, 4, 4, 4, 4, 4, 4, 4, 4, 4, 4, 4, 4, 4, 4, 4, 4, 4],\n",
            "       device='cuda:0')\n",
            "epoch 23/100 loss: 1.40\n"
          ]
        },
        {
          "output_type": "stream",
          "name": "stderr",
          "text": [
            "\n",
            "Epoch 23 in training:  73%|███████▎  | 8/11 [00:01<00:00,  7.07it/s]\u001b[A\n",
            "Epoch 23 in training:  82%|████████▏ | 9/11 [00:01<00:00,  7.14it/s]\u001b[A"
          ]
        },
        {
          "output_type": "stream",
          "name": "stdout",
          "text": [
            "tensor([4, 4, 4, 4, 4, 4, 4, 4, 5, 5, 5, 5, 5, 5, 5, 5, 5, 5, 5, 5],\n",
            "       device='cuda:0')\n",
            "epoch 23/100 loss: 1.60\n",
            "tensor([5, 5, 5, 5, 5, 5, 5, 5, 5, 5, 5, 5, 5, 5, 5, 5, 5, 5, 5, 6],\n",
            "       device='cuda:0')\n",
            "epoch 23/100 loss: 1.79\n"
          ]
        },
        {
          "output_type": "stream",
          "name": "stderr",
          "text": [
            "\n",
            "Epoch 23 in training:  91%|█████████ | 10/11 [00:01<00:00,  7.17it/s]\u001b[A\n",
            "Training:  23%|██▎       | 23/100 [00:34<01:56,  1.51s/it]"
          ]
        },
        {
          "output_type": "stream",
          "name": "stdout",
          "text": [
            "tensor([6, 6, 6, 6, 6, 6, 6, 6, 6, 6, 6, 6, 6, 6, 6, 6, 6, 6, 6, 6],\n",
            "       device='cuda:0')\n",
            "epoch 23/100 loss: 1.96\n",
            "tensor([6, 6, 6, 6, 6, 6, 6, 6, 6], device='cuda:0')\n",
            "epoch 23/100 loss: 2.12\n"
          ]
        },
        {
          "output_type": "stream",
          "name": "stderr",
          "text": [
            "\n",
            "Epoch 24 in training:   0%|          | 0/11 [00:00<?, ?it/s]\u001b[A\n",
            "Epoch 24 in training:   9%|▉         | 1/11 [00:00<00:01,  7.11it/s]\u001b[A\n",
            "Epoch 24 in training:  18%|█▊        | 2/11 [00:00<00:01,  7.14it/s]\u001b[A"
          ]
        },
        {
          "output_type": "stream",
          "name": "stdout",
          "text": [
            "tensor([0, 0, 0, 0, 0, 0, 0, 0, 0, 0, 0, 0, 0, 0, 0, 0, 0, 0, 0, 0],\n",
            "       device='cuda:0')\n",
            "epoch 24/100 loss: 0.20\n",
            "tensor([0, 0, 0, 0, 0, 0, 0, 0, 0, 0, 1, 1, 1, 1, 1, 1, 1, 1, 1, 1],\n",
            "       device='cuda:0')\n",
            "epoch 24/100 loss: 0.41\n"
          ]
        },
        {
          "output_type": "stream",
          "name": "stderr",
          "text": [
            "\n",
            "Epoch 24 in training:  27%|██▋       | 3/11 [00:00<00:01,  7.13it/s]\u001b[A"
          ]
        },
        {
          "output_type": "stream",
          "name": "stdout",
          "text": [
            "tensor([1, 1, 1, 1, 1, 1, 1, 1, 1, 1, 1, 1, 1, 1, 1, 1, 1, 1, 1, 2],\n",
            "       device='cuda:0')\n",
            "epoch 24/100 loss: 0.62\n",
            "tensor([2, 2, 2, 2, 2, 2, 2, 2, 2, 2, 2, 2, 2, 2, 2, 2, 2, 2, 2, 2],\n",
            "       device='cuda:0')\n"
          ]
        },
        {
          "output_type": "stream",
          "name": "stderr",
          "text": [
            "\n",
            "Epoch 24 in training:  36%|███▋      | 4/11 [00:00<00:01,  6.97it/s]\u001b[A\n",
            "Epoch 24 in training:  45%|████▌     | 5/11 [00:00<00:00,  6.82it/s]\u001b[A"
          ]
        },
        {
          "output_type": "stream",
          "name": "stdout",
          "text": [
            "epoch 24/100 loss: 0.81\n",
            "tensor([2, 2, 2, 2, 2, 2, 2, 3, 3, 3, 3, 3, 3, 3, 3, 3, 3, 3, 3, 3],\n",
            "       device='cuda:0')\n",
            "epoch 24/100 loss: 1.01\n"
          ]
        },
        {
          "output_type": "stream",
          "name": "stderr",
          "text": [
            "\n",
            "Epoch 24 in training:  55%|█████▍    | 6/11 [00:00<00:00,  6.89it/s]\u001b[A\n",
            "Epoch 24 in training:  64%|██████▎   | 7/11 [00:01<00:00,  7.00it/s]\u001b[A"
          ]
        },
        {
          "output_type": "stream",
          "name": "stdout",
          "text": [
            "tensor([3, 3, 3, 3, 3, 3, 3, 3, 3, 3, 3, 3, 3, 3, 3, 3, 3, 3, 4, 4],\n",
            "       device='cuda:0')\n",
            "epoch 24/100 loss: 1.20\n",
            "tensor([4, 4, 4, 4, 4, 4, 4, 4, 4, 4, 4, 4, 4, 4, 4, 4, 4, 4, 4, 4],\n",
            "       device='cuda:0')\n",
            "epoch 24/100 loss: 1.41\n"
          ]
        },
        {
          "output_type": "stream",
          "name": "stderr",
          "text": [
            "\n",
            "Epoch 24 in training:  73%|███████▎  | 8/11 [00:01<00:00,  7.06it/s]\u001b[A\n",
            "Epoch 24 in training:  82%|████████▏ | 9/11 [00:01<00:00,  7.14it/s]\u001b[A"
          ]
        },
        {
          "output_type": "stream",
          "name": "stdout",
          "text": [
            "tensor([4, 4, 4, 4, 4, 4, 4, 4, 5, 5, 5, 5, 5, 5, 5, 5, 5, 5, 5, 5],\n",
            "       device='cuda:0')\n",
            "epoch 24/100 loss: 1.61\n",
            "tensor([5, 5, 5, 5, 5, 5, 5, 5, 5, 5, 5, 5, 5, 5, 5, 5, 5, 5, 5, 6],\n",
            "       device='cuda:0')\n",
            "epoch 24/100 loss: 1.81\n"
          ]
        },
        {
          "output_type": "stream",
          "name": "stderr",
          "text": [
            "\n",
            "Epoch 24 in training:  91%|█████████ | 10/11 [00:01<00:00,  7.18it/s]\u001b[A\n",
            "Training:  24%|██▍       | 24/100 [00:36<01:54,  1.51s/it]"
          ]
        },
        {
          "output_type": "stream",
          "name": "stdout",
          "text": [
            "tensor([6, 6, 6, 6, 6, 6, 6, 6, 6, 6, 6, 6, 6, 6, 6, 6, 6, 6, 6, 6],\n",
            "       device='cuda:0')\n",
            "epoch 24/100 loss: 1.98\n",
            "tensor([6, 6, 6, 6, 6, 6, 6, 6, 6], device='cuda:0')\n",
            "epoch 24/100 loss: 2.15\n"
          ]
        },
        {
          "output_type": "stream",
          "name": "stderr",
          "text": [
            "\n",
            "Epoch 25 in training:   0%|          | 0/11 [00:00<?, ?it/s]\u001b[A\n",
            "Epoch 25 in training:   9%|▉         | 1/11 [00:00<00:01,  7.45it/s]\u001b[A\n",
            "Epoch 25 in training:  18%|█▊        | 2/11 [00:00<00:01,  7.32it/s]\u001b[A"
          ]
        },
        {
          "output_type": "stream",
          "name": "stdout",
          "text": [
            "tensor([0, 0, 0, 0, 0, 0, 0, 0, 0, 0, 0, 0, 0, 0, 0, 0, 0, 0, 0, 0],\n",
            "       device='cuda:0')\n",
            "epoch 25/100 loss: 0.21\n",
            "tensor([0, 0, 0, 0, 0, 0, 0, 0, 0, 0, 1, 1, 1, 1, 1, 1, 1, 1, 1, 1],\n",
            "       device='cuda:0')\n",
            "epoch 25/100 loss: 0.41\n"
          ]
        },
        {
          "output_type": "stream",
          "name": "stderr",
          "text": [
            "\n",
            "Epoch 25 in training:  27%|██▋       | 3/11 [00:00<00:01,  7.11it/s]\u001b[A\n",
            "Epoch 25 in training:  36%|███▋      | 4/11 [00:00<00:00,  7.15it/s]\u001b[A"
          ]
        },
        {
          "output_type": "stream",
          "name": "stdout",
          "text": [
            "tensor([1, 1, 1, 1, 1, 1, 1, 1, 1, 1, 1, 1, 1, 1, 1, 1, 1, 1, 1, 2],\n",
            "       device='cuda:0')\n",
            "epoch 25/100 loss: 0.60\n",
            "tensor([2, 2, 2, 2, 2, 2, 2, 2, 2, 2, 2, 2, 2, 2, 2, 2, 2, 2, 2, 2],\n",
            "       device='cuda:0')\n",
            "epoch 25/100 loss: 0.81\n"
          ]
        },
        {
          "output_type": "stream",
          "name": "stderr",
          "text": [
            "\n",
            "Epoch 25 in training:  45%|████▌     | 5/11 [00:00<00:00,  7.18it/s]\u001b[A\n",
            "Epoch 25 in training:  55%|█████▍    | 6/11 [00:00<00:00,  7.20it/s]\u001b[A"
          ]
        },
        {
          "output_type": "stream",
          "name": "stdout",
          "text": [
            "tensor([2, 2, 2, 2, 2, 2, 2, 3, 3, 3, 3, 3, 3, 3, 3, 3, 3, 3, 3, 3],\n",
            "       device='cuda:0')\n",
            "epoch 25/100 loss: 1.01\n",
            "tensor([3, 3, 3, 3, 3, 3, 3, 3, 3, 3, 3, 3, 3, 3, 3, 3, 3, 3, 4, 4],\n",
            "       device='cuda:0')\n",
            "epoch 25/100 loss: 1.20\n"
          ]
        },
        {
          "output_type": "stream",
          "name": "stderr",
          "text": [
            "\n",
            "Epoch 25 in training:  64%|██████▎   | 7/11 [00:00<00:00,  7.19it/s]\u001b[A"
          ]
        },
        {
          "output_type": "stream",
          "name": "stdout",
          "text": [
            "tensor([4, 4, 4, 4, 4, 4, 4, 4, 4, 4, 4, 4, 4, 4, 4, 4, 4, 4, 4, 4],\n",
            "       device='cuda:0')\n",
            "epoch 25/100 loss: 1.39\n",
            "tensor([4, 4, 4, 4, 4, 4, 4, 4, 5, 5, 5, 5, 5, 5, 5, 5, 5, 5, 5, 5],\n",
            "       device='cuda:0')\n"
          ]
        },
        {
          "output_type": "stream",
          "name": "stderr",
          "text": [
            "\n",
            "Epoch 25 in training:  73%|███████▎  | 8/11 [00:01<00:00,  7.04it/s]\u001b[A\n",
            "Epoch 25 in training:  82%|████████▏ | 9/11 [00:01<00:00,  7.12it/s]\u001b[A"
          ]
        },
        {
          "output_type": "stream",
          "name": "stdout",
          "text": [
            "epoch 25/100 loss: 1.58\n",
            "tensor([5, 5, 5, 5, 5, 5, 5, 5, 5, 5, 5, 5, 5, 5, 5, 5, 5, 5, 5, 6],\n",
            "       device='cuda:0')\n",
            "epoch 25/100 loss: 1.76\n"
          ]
        },
        {
          "output_type": "stream",
          "name": "stderr",
          "text": [
            "\n",
            "Epoch 25 in training:  91%|█████████ | 10/11 [00:01<00:00,  6.99it/s]\u001b[A\n",
            "Training:  25%|██▌       | 25/100 [00:37<01:53,  1.51s/it]"
          ]
        },
        {
          "output_type": "stream",
          "name": "stdout",
          "text": [
            "tensor([6, 6, 6, 6, 6, 6, 6, 6, 6, 6, 6, 6, 6, 6, 6, 6, 6, 6, 6, 6],\n",
            "       device='cuda:0')\n",
            "epoch 25/100 loss: 1.94\n",
            "tensor([6, 6, 6, 6, 6, 6, 6, 6, 6], device='cuda:0')\n",
            "epoch 25/100 loss: 2.11\n"
          ]
        },
        {
          "output_type": "stream",
          "name": "stderr",
          "text": [
            "\n",
            "Epoch 26 in training:   0%|          | 0/11 [00:00<?, ?it/s]\u001b[A\n",
            "Epoch 26 in training:   9%|▉         | 1/11 [00:00<00:01,  7.35it/s]\u001b[A\n",
            "Epoch 26 in training:  18%|█▊        | 2/11 [00:00<00:01,  7.32it/s]\u001b[A"
          ]
        },
        {
          "output_type": "stream",
          "name": "stdout",
          "text": [
            "tensor([0, 0, 0, 0, 0, 0, 0, 0, 0, 0, 0, 0, 0, 0, 0, 0, 0, 0, 0, 0],\n",
            "       device='cuda:0')\n",
            "epoch 26/100 loss: 0.20\n",
            "tensor([0, 0, 0, 0, 0, 0, 0, 0, 0, 0, 1, 1, 1, 1, 1, 1, 1, 1, 1, 1],\n",
            "       device='cuda:0')\n",
            "epoch 26/100 loss: 0.41\n"
          ]
        },
        {
          "output_type": "stream",
          "name": "stderr",
          "text": [
            "\n",
            "Epoch 26 in training:  27%|██▋       | 3/11 [00:00<00:01,  7.07it/s]\u001b[A\n",
            "Epoch 26 in training:  36%|███▋      | 4/11 [00:00<00:00,  7.08it/s]\u001b[A"
          ]
        },
        {
          "output_type": "stream",
          "name": "stdout",
          "text": [
            "tensor([1, 1, 1, 1, 1, 1, 1, 1, 1, 1, 1, 1, 1, 1, 1, 1, 1, 1, 1, 2],\n",
            "       device='cuda:0')\n",
            "epoch 26/100 loss: 0.63\n",
            "tensor([2, 2, 2, 2, 2, 2, 2, 2, 2, 2, 2, 2, 2, 2, 2, 2, 2, 2, 2, 2],\n",
            "       device='cuda:0')\n",
            "epoch 26/100 loss: 0.84\n"
          ]
        },
        {
          "output_type": "stream",
          "name": "stderr",
          "text": [
            "\n",
            "Epoch 26 in training:  45%|████▌     | 5/11 [00:00<00:00,  7.07it/s]\u001b[A\n",
            "Epoch 26 in training:  55%|█████▍    | 6/11 [00:00<00:00,  7.14it/s]\u001b[A"
          ]
        },
        {
          "output_type": "stream",
          "name": "stdout",
          "text": [
            "tensor([2, 2, 2, 2, 2, 2, 2, 3, 3, 3, 3, 3, 3, 3, 3, 3, 3, 3, 3, 3],\n",
            "       device='cuda:0')\n",
            "epoch 26/100 loss: 1.03\n",
            "tensor([3, 3, 3, 3, 3, 3, 3, 3, 3, 3, 3, 3, 3, 3, 3, 3, 3, 3, 4, 4],\n",
            "       device='cuda:0')\n",
            "epoch 26/100 loss: 1.23\n"
          ]
        },
        {
          "output_type": "stream",
          "name": "stderr",
          "text": [
            "\n",
            "Epoch 26 in training:  64%|██████▎   | 7/11 [00:00<00:00,  7.14it/s]\u001b[A\n",
            "Epoch 26 in training:  73%|███████▎  | 8/11 [00:01<00:00,  7.17it/s]\u001b[A"
          ]
        },
        {
          "output_type": "stream",
          "name": "stdout",
          "text": [
            "tensor([4, 4, 4, 4, 4, 4, 4, 4, 4, 4, 4, 4, 4, 4, 4, 4, 4, 4, 4, 4],\n",
            "       device='cuda:0')\n",
            "epoch 26/100 loss: 1.42\n",
            "tensor([4, 4, 4, 4, 4, 4, 4, 4, 5, 5, 5, 5, 5, 5, 5, 5, 5, 5, 5, 5],\n",
            "       device='cuda:0')\n",
            "epoch 26/100 loss: 1.60\n"
          ]
        },
        {
          "output_type": "stream",
          "name": "stderr",
          "text": [
            "\n",
            "Epoch 26 in training:  82%|████████▏ | 9/11 [00:01<00:00,  7.19it/s]\u001b[A\n",
            "Epoch 26 in training:  91%|█████████ | 10/11 [00:01<00:00,  7.20it/s]\u001b[A"
          ]
        },
        {
          "output_type": "stream",
          "name": "stdout",
          "text": [
            "tensor([5, 5, 5, 5, 5, 5, 5, 5, 5, 5, 5, 5, 5, 5, 5, 5, 5, 5, 5, 6],\n",
            "       device='cuda:0')\n",
            "epoch 26/100 loss: 1.79\n",
            "tensor([6, 6, 6, 6, 6, 6, 6, 6, 6, 6, 6, 6, 6, 6, 6, 6, 6, 6, 6, 6],\n",
            "       device='cuda:0')\n",
            "epoch 26/100 loss: 1.96\n"
          ]
        },
        {
          "output_type": "stream",
          "name": "stderr",
          "text": [
            "\n",
            "Training:  26%|██▌       | 26/100 [00:39<01:51,  1.51s/it]"
          ]
        },
        {
          "output_type": "stream",
          "name": "stdout",
          "text": [
            "tensor([6, 6, 6, 6, 6, 6, 6, 6, 6], device='cuda:0')\n",
            "epoch 26/100 loss: 2.13\n"
          ]
        },
        {
          "output_type": "stream",
          "name": "stderr",
          "text": [
            "\n",
            "Epoch 27 in training:   0%|          | 0/11 [00:00<?, ?it/s]\u001b[A\n",
            "Epoch 27 in training:   9%|▉         | 1/11 [00:00<00:01,  7.46it/s]\u001b[A"
          ]
        },
        {
          "output_type": "stream",
          "name": "stdout",
          "text": [
            "tensor([0, 0, 0, 0, 0, 0, 0, 0, 0, 0, 0, 0, 0, 0, 0, 0, 0, 0, 0, 0],\n",
            "       device='cuda:0')\n",
            "epoch 27/100 loss: 0.19\n"
          ]
        },
        {
          "output_type": "stream",
          "name": "stderr",
          "text": [
            "\n",
            "Epoch 27 in training:  18%|█▊        | 2/11 [00:00<00:01,  7.33it/s]\u001b[A"
          ]
        },
        {
          "output_type": "stream",
          "name": "stdout",
          "text": [
            "tensor([0, 0, 0, 0, 0, 0, 0, 0, 0, 0, 1, 1, 1, 1, 1, 1, 1, 1, 1, 1],\n",
            "       device='cuda:0')\n",
            "epoch 27/100 loss: 0.38\n"
          ]
        },
        {
          "output_type": "stream",
          "name": "stderr",
          "text": [
            "\n",
            "Epoch 27 in training:  27%|██▋       | 3/11 [00:00<00:01,  7.26it/s]\u001b[A"
          ]
        },
        {
          "output_type": "stream",
          "name": "stdout",
          "text": [
            "tensor([1, 1, 1, 1, 1, 1, 1, 1, 1, 1, 1, 1, 1, 1, 1, 1, 1, 1, 1, 2],\n",
            "       device='cuda:0')\n",
            "epoch 27/100 loss: 0.57\n"
          ]
        },
        {
          "output_type": "stream",
          "name": "stderr",
          "text": [
            "\n",
            "Epoch 27 in training:  36%|███▋      | 4/11 [00:00<00:00,  7.25it/s]\u001b[A"
          ]
        },
        {
          "output_type": "stream",
          "name": "stdout",
          "text": [
            "tensor([2, 2, 2, 2, 2, 2, 2, 2, 2, 2, 2, 2, 2, 2, 2, 2, 2, 2, 2, 2],\n",
            "       device='cuda:0')\n",
            "epoch 27/100 loss: 0.76\n",
            "tensor([2, 2, 2, 2, 2, 2, 2, 3, 3, 3, 3, 3, 3, 3, 3, 3, 3, 3, 3, 3],\n",
            "       device='cuda:0')\n"
          ]
        },
        {
          "output_type": "stream",
          "name": "stderr",
          "text": [
            "\n",
            "Epoch 27 in training:  45%|████▌     | 5/11 [00:00<00:00,  7.09it/s]\u001b[A\n",
            "Epoch 27 in training:  55%|█████▍    | 6/11 [00:00<00:00,  7.11it/s]\u001b[A"
          ]
        },
        {
          "output_type": "stream",
          "name": "stdout",
          "text": [
            "epoch 27/100 loss: 0.95\n",
            "tensor([3, 3, 3, 3, 3, 3, 3, 3, 3, 3, 3, 3, 3, 3, 3, 3, 3, 3, 4, 4],\n",
            "       device='cuda:0')\n",
            "epoch 27/100 loss: 1.15\n"
          ]
        },
        {
          "output_type": "stream",
          "name": "stderr",
          "text": [
            "\n",
            "Epoch 27 in training:  64%|██████▎   | 7/11 [00:00<00:00,  7.12it/s]\u001b[A"
          ]
        },
        {
          "output_type": "stream",
          "name": "stdout",
          "text": [
            "tensor([4, 4, 4, 4, 4, 4, 4, 4, 4, 4, 4, 4, 4, 4, 4, 4, 4, 4, 4, 4],\n",
            "       device='cuda:0')\n",
            "epoch 27/100 loss: 1.34\n",
            "tensor([4, 4, 4, 4, 4, 4, 4, 4, 5, 5, 5, 5, 5, 5, 5, 5, 5, 5, 5, 5],\n",
            "       device='cuda:0')\n"
          ]
        },
        {
          "output_type": "stream",
          "name": "stderr",
          "text": [
            "\n",
            "Epoch 27 in training:  73%|███████▎  | 8/11 [00:01<00:00,  6.98it/s]\u001b[A\n",
            "Epoch 27 in training:  82%|████████▏ | 9/11 [00:01<00:00,  6.94it/s]\u001b[A"
          ]
        },
        {
          "output_type": "stream",
          "name": "stdout",
          "text": [
            "epoch 27/100 loss: 1.54\n",
            "tensor([5, 5, 5, 5, 5, 5, 5, 5, 5, 5, 5, 5, 5, 5, 5, 5, 5, 5, 5, 6],\n",
            "       device='cuda:0')\n",
            "epoch 27/100 loss: 1.73\n"
          ]
        },
        {
          "output_type": "stream",
          "name": "stderr",
          "text": [
            "\n",
            "Epoch 27 in training:  91%|█████████ | 10/11 [00:01<00:00,  6.99it/s]\u001b[A\n",
            "Training:  27%|██▋       | 27/100 [00:40<01:50,  1.51s/it]"
          ]
        },
        {
          "output_type": "stream",
          "name": "stdout",
          "text": [
            "tensor([6, 6, 6, 6, 6, 6, 6, 6, 6, 6, 6, 6, 6, 6, 6, 6, 6, 6, 6, 6],\n",
            "       device='cuda:0')\n",
            "epoch 27/100 loss: 1.90\n",
            "tensor([6, 6, 6, 6, 6, 6, 6, 6, 6], device='cuda:0')\n",
            "epoch 27/100 loss: 2.07\n"
          ]
        },
        {
          "output_type": "stream",
          "name": "stderr",
          "text": [
            "\n",
            "Epoch 28 in training:   0%|          | 0/11 [00:00<?, ?it/s]\u001b[A\n",
            "Epoch 28 in training:   9%|▉         | 1/11 [00:00<00:01,  7.51it/s]\u001b[A"
          ]
        },
        {
          "output_type": "stream",
          "name": "stdout",
          "text": [
            "tensor([0, 0, 0, 0, 0, 0, 0, 0, 0, 0, 0, 0, 0, 0, 0, 0, 0, 0, 0, 0],\n",
            "       device='cuda:0')\n",
            "epoch 28/100 loss: 0.20\n",
            "tensor([0, 0, 0, 0, 0, 0, 0, 0, 0, 0, 1, 1, 1, 1, 1, 1, 1, 1, 1, 1],\n",
            "       device='cuda:0')\n"
          ]
        },
        {
          "output_type": "stream",
          "name": "stderr",
          "text": [
            "\n",
            "Epoch 28 in training:  18%|█▊        | 2/11 [00:00<00:01,  7.06it/s]\u001b[A\n",
            "Epoch 28 in training:  27%|██▋       | 3/11 [00:00<00:01,  6.94it/s]\u001b[A"
          ]
        },
        {
          "output_type": "stream",
          "name": "stdout",
          "text": [
            "epoch 28/100 loss: 0.38\n",
            "tensor([1, 1, 1, 1, 1, 1, 1, 1, 1, 1, 1, 1, 1, 1, 1, 1, 1, 1, 1, 2],\n",
            "       device='cuda:0')\n",
            "epoch 28/100 loss: 0.57\n"
          ]
        },
        {
          "output_type": "stream",
          "name": "stderr",
          "text": [
            "\n",
            "Epoch 28 in training:  36%|███▋      | 4/11 [00:00<00:00,  7.01it/s]\u001b[A\n",
            "Epoch 28 in training:  45%|████▌     | 5/11 [00:00<00:00,  7.05it/s]\u001b[A"
          ]
        },
        {
          "output_type": "stream",
          "name": "stdout",
          "text": [
            "tensor([2, 2, 2, 2, 2, 2, 2, 2, 2, 2, 2, 2, 2, 2, 2, 2, 2, 2, 2, 2],\n",
            "       device='cuda:0')\n",
            "epoch 28/100 loss: 0.76\n",
            "tensor([2, 2, 2, 2, 2, 2, 2, 3, 3, 3, 3, 3, 3, 3, 3, 3, 3, 3, 3, 3],\n",
            "       device='cuda:0')\n",
            "epoch 28/100 loss: 0.95\n"
          ]
        },
        {
          "output_type": "stream",
          "name": "stderr",
          "text": [
            "\n",
            "Epoch 28 in training:  55%|█████▍    | 6/11 [00:00<00:00,  6.97it/s]\u001b[A\n",
            "Epoch 28 in training:  64%|██████▎   | 7/11 [00:00<00:00,  7.06it/s]\u001b[A"
          ]
        },
        {
          "output_type": "stream",
          "name": "stdout",
          "text": [
            "tensor([3, 3, 3, 3, 3, 3, 3, 3, 3, 3, 3, 3, 3, 3, 3, 3, 3, 3, 4, 4],\n",
            "       device='cuda:0')\n",
            "epoch 28/100 loss: 1.15\n",
            "tensor([4, 4, 4, 4, 4, 4, 4, 4, 4, 4, 4, 4, 4, 4, 4, 4, 4, 4, 4, 4],\n",
            "       device='cuda:0')\n",
            "epoch 28/100 loss: 1.34\n"
          ]
        },
        {
          "output_type": "stream",
          "name": "stderr",
          "text": [
            "\n",
            "Epoch 28 in training:  73%|███████▎  | 8/11 [00:01<00:00,  7.10it/s]\u001b[A\n",
            "Epoch 28 in training:  82%|████████▏ | 9/11 [00:01<00:00,  7.17it/s]\u001b[A"
          ]
        },
        {
          "output_type": "stream",
          "name": "stdout",
          "text": [
            "tensor([4, 4, 4, 4, 4, 4, 4, 4, 5, 5, 5, 5, 5, 5, 5, 5, 5, 5, 5, 5],\n",
            "       device='cuda:0')\n",
            "epoch 28/100 loss: 1.54\n",
            "tensor([5, 5, 5, 5, 5, 5, 5, 5, 5, 5, 5, 5, 5, 5, 5, 5, 5, 5, 5, 6],\n",
            "       device='cuda:0')\n",
            "epoch 28/100 loss: 1.74\n"
          ]
        },
        {
          "output_type": "stream",
          "name": "stderr",
          "text": [
            "\n",
            "Epoch 28 in training:  91%|█████████ | 10/11 [00:01<00:00,  7.02it/s]\u001b[A\n",
            "Training:  28%|██▊       | 28/100 [00:42<01:48,  1.51s/it]"
          ]
        },
        {
          "output_type": "stream",
          "name": "stdout",
          "text": [
            "tensor([6, 6, 6, 6, 6, 6, 6, 6, 6, 6, 6, 6, 6, 6, 6, 6, 6, 6, 6, 6],\n",
            "       device='cuda:0')\n",
            "epoch 28/100 loss: 1.91\n",
            "tensor([6, 6, 6, 6, 6, 6, 6, 6, 6], device='cuda:0')\n",
            "epoch 28/100 loss: 2.08\n"
          ]
        },
        {
          "output_type": "stream",
          "name": "stderr",
          "text": [
            "\n",
            "Epoch 29 in training:   0%|          | 0/11 [00:00<?, ?it/s]\u001b[A\n",
            "Epoch 29 in training:   9%|▉         | 1/11 [00:00<00:01,  7.02it/s]\u001b[A\n",
            "Epoch 29 in training:  18%|█▊        | 2/11 [00:00<00:01,  7.18it/s]\u001b[A"
          ]
        },
        {
          "output_type": "stream",
          "name": "stdout",
          "text": [
            "tensor([0, 0, 0, 0, 0, 0, 0, 0, 0, 0, 0, 0, 0, 0, 0, 0, 0, 0, 0, 0],\n",
            "       device='cuda:0')\n",
            "epoch 29/100 loss: 0.19\n",
            "tensor([0, 0, 0, 0, 0, 0, 0, 0, 0, 0, 1, 1, 1, 1, 1, 1, 1, 1, 1, 1],\n",
            "       device='cuda:0')\n",
            "epoch 29/100 loss: 0.39\n"
          ]
        },
        {
          "output_type": "stream",
          "name": "stderr",
          "text": [
            "\n",
            "Epoch 29 in training:  27%|██▋       | 3/11 [00:00<00:01,  6.97it/s]\u001b[A\n",
            "Epoch 29 in training:  36%|███▋      | 4/11 [00:00<00:00,  7.08it/s]\u001b[A"
          ]
        },
        {
          "output_type": "stream",
          "name": "stdout",
          "text": [
            "tensor([1, 1, 1, 1, 1, 1, 1, 1, 1, 1, 1, 1, 1, 1, 1, 1, 1, 1, 1, 2],\n",
            "       device='cuda:0')\n",
            "epoch 29/100 loss: 0.58\n",
            "tensor([2, 2, 2, 2, 2, 2, 2, 2, 2, 2, 2, 2, 2, 2, 2, 2, 2, 2, 2, 2],\n",
            "       device='cuda:0')\n",
            "epoch 29/100 loss: 0.79\n"
          ]
        },
        {
          "output_type": "stream",
          "name": "stderr",
          "text": [
            "\n",
            "Epoch 29 in training:  45%|████▌     | 5/11 [00:00<00:00,  6.94it/s]\u001b[A"
          ]
        },
        {
          "output_type": "stream",
          "name": "stdout",
          "text": [
            "tensor([2, 2, 2, 2, 2, 2, 2, 3, 3, 3, 3, 3, 3, 3, 3, 3, 3, 3, 3, 3],\n",
            "       device='cuda:0')\n",
            "epoch 29/100 loss: 0.97\n",
            "tensor([3, 3, 3, 3, 3, 3, 3, 3, 3, 3, 3, 3, 3, 3, 3, 3, 3, 3, 4, 4],\n",
            "       device='cuda:0')\n"
          ]
        },
        {
          "output_type": "stream",
          "name": "stderr",
          "text": [
            "\n",
            "Epoch 29 in training:  55%|█████▍    | 6/11 [00:00<00:00,  6.90it/s]\u001b[A\n",
            "Epoch 29 in training:  64%|██████▎   | 7/11 [00:01<00:00,  6.88it/s]\u001b[A"
          ]
        },
        {
          "output_type": "stream",
          "name": "stdout",
          "text": [
            "epoch 29/100 loss: 1.16\n",
            "tensor([4, 4, 4, 4, 4, 4, 4, 4, 4, 4, 4, 4, 4, 4, 4, 4, 4, 4, 4, 4],\n",
            "       device='cuda:0')\n",
            "epoch 29/100 loss: 1.35\n"
          ]
        },
        {
          "output_type": "stream",
          "name": "stderr",
          "text": [
            "\n",
            "Epoch 29 in training:  73%|███████▎  | 8/11 [00:01<00:00,  6.84it/s]\u001b[A\n",
            "Epoch 29 in training:  82%|████████▏ | 9/11 [00:01<00:00,  6.87it/s]"
          ]
        },
        {
          "output_type": "stream",
          "name": "stdout",
          "text": [
            "tensor([4, 4, 4, 4, 4, 4, 4, 4, 5, 5, 5, 5, 5, 5, 5, 5, 5, 5, 5, 5],\n",
            "       device='cuda:0')\n",
            "epoch 29/100 loss: 1.55\n",
            "tensor([5, 5, 5, 5, 5, 5, 5, 5, 5, 5, 5, 5, 5, 5, 5, 5, 5, 5, 5, 6],\n",
            "       device='cuda:0')\n",
            "epoch 29/100 loss: 1.74\n"
          ]
        },
        {
          "output_type": "stream",
          "name": "stderr",
          "text": [
            "\u001b[A\n",
            "Epoch 29 in training:  91%|█████████ | 10/11 [00:01<00:00,  6.83it/s]\u001b[A\n",
            "Training:  29%|██▉       | 29/100 [00:44<01:48,  1.52s/it]"
          ]
        },
        {
          "output_type": "stream",
          "name": "stdout",
          "text": [
            "tensor([6, 6, 6, 6, 6, 6, 6, 6, 6, 6, 6, 6, 6, 6, 6, 6, 6, 6, 6, 6],\n",
            "       device='cuda:0')\n",
            "epoch 29/100 loss: 1.90\n",
            "tensor([6, 6, 6, 6, 6, 6, 6, 6, 6], device='cuda:0')\n",
            "epoch 29/100 loss: 2.05\n"
          ]
        },
        {
          "output_type": "stream",
          "name": "stderr",
          "text": [
            "\n",
            "Epoch 30 in training:   0%|          | 0/11 [00:00<?, ?it/s]\u001b[A\n",
            "Epoch 30 in training:   9%|▉         | 1/11 [00:00<00:01,  6.89it/s]\u001b[A"
          ]
        },
        {
          "output_type": "stream",
          "name": "stdout",
          "text": [
            "tensor([0, 0, 0, 0, 0, 0, 0, 0, 0, 0, 0, 0, 0, 0, 0, 0, 0, 0, 0, 0],\n",
            "       device='cuda:0')\n",
            "epoch 30/100 loss: 0.19\n",
            "tensor([0, 0, 0, 0, 0, 0, 0, 0, 0, 0, 1, 1, 1, 1, 1, 1, 1, 1, 1, 1],\n",
            "       device='cuda:0')\n"
          ]
        },
        {
          "output_type": "stream",
          "name": "stderr",
          "text": [
            "\n",
            "Epoch 30 in training:  18%|█▊        | 2/11 [00:00<00:01,  6.81it/s]\u001b[A\n",
            "Epoch 30 in training:  27%|██▋       | 3/11 [00:00<00:01,  6.96it/s]\u001b[A"
          ]
        },
        {
          "output_type": "stream",
          "name": "stdout",
          "text": [
            "epoch 30/100 loss: 0.39\n",
            "tensor([1, 1, 1, 1, 1, 1, 1, 1, 1, 1, 1, 1, 1, 1, 1, 1, 1, 1, 1, 2],\n",
            "       device='cuda:0')\n",
            "epoch 30/100 loss: 0.59\n"
          ]
        },
        {
          "output_type": "stream",
          "name": "stderr",
          "text": [
            "\n",
            "Epoch 30 in training:  36%|███▋      | 4/11 [00:00<00:01,  6.86it/s]\u001b[A\n"
          ]
        },
        {
          "output_type": "stream",
          "name": "stdout",
          "text": [
            "tensor([2, 2, 2, 2, 2, 2, 2, 2, 2, 2, 2, 2, 2, 2, 2, 2, 2, 2, 2, 2],\n",
            "       device='cuda:0')\n",
            "epoch 30/100 loss: 0.79\n",
            "tensor([2, 2, 2, 2, 2, 2, 2, 3, 3, 3, 3, 3, 3, 3, 3, 3, 3, 3, 3, 3],\n",
            "       device='cuda:0')\n",
            "epoch 30/100 loss: 0.98\n"
          ]
        },
        {
          "output_type": "stream",
          "name": "stderr",
          "text": [
            "Epoch 30 in training:  45%|████▌     | 5/11 [00:00<00:00,  6.88it/s]\u001b[A\n",
            "Epoch 30 in training:  55%|█████▍    | 6/11 [00:00<00:00,  6.99it/s]\u001b[A\n",
            "Epoch 30 in training:  64%|██████▎   | 7/11 [00:01<00:00,  7.09it/s]\u001b[A"
          ]
        },
        {
          "output_type": "stream",
          "name": "stdout",
          "text": [
            "tensor([3, 3, 3, 3, 3, 3, 3, 3, 3, 3, 3, 3, 3, 3, 3, 3, 3, 3, 4, 4],\n",
            "       device='cuda:0')\n",
            "epoch 30/100 loss: 1.17\n",
            "tensor([4, 4, 4, 4, 4, 4, 4, 4, 4, 4, 4, 4, 4, 4, 4, 4, 4, 4, 4, 4],\n",
            "       device='cuda:0')\n",
            "epoch 30/100 loss: 1.36\n"
          ]
        },
        {
          "output_type": "stream",
          "name": "stderr",
          "text": [
            "\n",
            "Epoch 30 in training:  73%|███████▎  | 8/11 [00:01<00:00,  7.01it/s]\u001b[A\n",
            "Epoch 30 in training:  82%|████████▏ | 9/11 [00:01<00:00,  7.08it/s]\u001b[A"
          ]
        },
        {
          "output_type": "stream",
          "name": "stdout",
          "text": [
            "tensor([4, 4, 4, 4, 4, 4, 4, 4, 5, 5, 5, 5, 5, 5, 5, 5, 5, 5, 5, 5],\n",
            "       device='cuda:0')\n",
            "epoch 30/100 loss: 1.55\n",
            "tensor([5, 5, 5, 5, 5, 5, 5, 5, 5, 5, 5, 5, 5, 5, 5, 5, 5, 5, 5, 6],\n",
            "       device='cuda:0')\n",
            "epoch 30/100 loss: 1.73\n"
          ]
        },
        {
          "output_type": "stream",
          "name": "stderr",
          "text": [
            "\n",
            "Epoch 30 in training:  91%|█████████ | 10/11 [00:01<00:00,  6.96it/s]\u001b[A\n",
            "Training:  30%|███       | 30/100 [00:45<01:46,  1.53s/it]"
          ]
        },
        {
          "output_type": "stream",
          "name": "stdout",
          "text": [
            "tensor([6, 6, 6, 6, 6, 6, 6, 6, 6, 6, 6, 6, 6, 6, 6, 6, 6, 6, 6, 6],\n",
            "       device='cuda:0')\n",
            "epoch 30/100 loss: 1.89\n",
            "tensor([6, 6, 6, 6, 6, 6, 6, 6, 6], device='cuda:0')\n",
            "epoch 30/100 loss: 2.05\n"
          ]
        },
        {
          "output_type": "stream",
          "name": "stderr",
          "text": [
            "\n",
            "Epoch 31 in training:   0%|          | 0/11 [00:00<?, ?it/s]\u001b[A\n",
            "Epoch 31 in training:   9%|▉         | 1/11 [00:00<00:01,  6.91it/s]\u001b[A"
          ]
        },
        {
          "output_type": "stream",
          "name": "stdout",
          "text": [
            "tensor([0, 0, 0, 0, 0, 0, 0, 0, 0, 0, 0, 0, 0, 0, 0, 0, 0, 0, 0, 0],\n",
            "       device='cuda:0')\n",
            "epoch 31/100 loss: 0.19\n",
            "tensor([0, 0, 0, 0, 0, 0, 0, 0, 0, 0, 1, 1, 1, 1, 1, 1, 1, 1, 1, 1],\n",
            "       device='cuda:0')\n"
          ]
        },
        {
          "output_type": "stream",
          "name": "stderr",
          "text": [
            "\n",
            "Epoch 31 in training:  18%|█▊        | 2/11 [00:00<00:01,  6.85it/s]\u001b[A\n",
            "Epoch 31 in training:  27%|██▋       | 3/11 [00:00<00:01,  7.02it/s]\u001b[A"
          ]
        },
        {
          "output_type": "stream",
          "name": "stdout",
          "text": [
            "epoch 31/100 loss: 0.38\n",
            "tensor([1, 1, 1, 1, 1, 1, 1, 1, 1, 1, 1, 1, 1, 1, 1, 1, 1, 1, 1, 2],\n",
            "       device='cuda:0')\n",
            "epoch 31/100 loss: 0.57\n"
          ]
        },
        {
          "output_type": "stream",
          "name": "stderr",
          "text": [
            "\n",
            "Epoch 31 in training:  36%|███▋      | 4/11 [00:00<00:00,  7.10it/s]\u001b[A\n",
            "Epoch 31 in training:  45%|████▌     | 5/11 [00:00<00:00,  7.15it/s]\u001b[A"
          ]
        },
        {
          "output_type": "stream",
          "name": "stdout",
          "text": [
            "tensor([2, 2, 2, 2, 2, 2, 2, 2, 2, 2, 2, 2, 2, 2, 2, 2, 2, 2, 2, 2],\n",
            "       device='cuda:0')\n",
            "epoch 31/100 loss: 0.78\n",
            "tensor([2, 2, 2, 2, 2, 2, 2, 3, 3, 3, 3, 3, 3, 3, 3, 3, 3, 3, 3, 3],\n",
            "       device='cuda:0')\n",
            "epoch 31/100 loss: 0.97\n"
          ]
        },
        {
          "output_type": "stream",
          "name": "stderr",
          "text": [
            "\n",
            "Epoch 31 in training:  55%|█████▍    | 6/11 [00:00<00:00,  7.13it/s]\u001b[A"
          ]
        },
        {
          "output_type": "stream",
          "name": "stdout",
          "text": [
            "tensor([3, 3, 3, 3, 3, 3, 3, 3, 3, 3, 3, 3, 3, 3, 3, 3, 3, 3, 4, 4],\n",
            "       device='cuda:0')\n",
            "epoch 31/100 loss: 1.16\n",
            "tensor([4, 4, 4, 4, 4, 4, 4, 4, 4, 4, 4, 4, 4, 4, 4, 4, 4, 4, 4, 4],\n",
            "       device='cuda:0')\n"
          ]
        },
        {
          "output_type": "stream",
          "name": "stderr",
          "text": [
            "\n",
            "Epoch 31 in training:  64%|██████▎   | 7/11 [00:00<00:00,  6.97it/s]\u001b[A\n",
            "Epoch 31 in training:  73%|███████▎  | 8/11 [00:01<00:00,  7.07it/s]\u001b[A"
          ]
        },
        {
          "output_type": "stream",
          "name": "stdout",
          "text": [
            "epoch 31/100 loss: 1.34\n",
            "tensor([4, 4, 4, 4, 4, 4, 4, 4, 5, 5, 5, 5, 5, 5, 5, 5, 5, 5, 5, 5],\n",
            "       device='cuda:0')\n",
            "epoch 31/100 loss: 1.52\n"
          ]
        },
        {
          "output_type": "stream",
          "name": "stderr",
          "text": [
            "\n",
            "Epoch 31 in training:  82%|████████▏ | 9/11 [00:01<00:00,  7.09it/s]\u001b[A\n",
            "Epoch 31 in training:  91%|█████████ | 10/11 [00:01<00:00,  7.13it/s]\u001b[A"
          ]
        },
        {
          "output_type": "stream",
          "name": "stdout",
          "text": [
            "tensor([5, 5, 5, 5, 5, 5, 5, 5, 5, 5, 5, 5, 5, 5, 5, 5, 5, 5, 5, 6],\n",
            "       device='cuda:0')\n",
            "epoch 31/100 loss: 1.72\n",
            "tensor([6, 6, 6, 6, 6, 6, 6, 6, 6, 6, 6, 6, 6, 6, 6, 6, 6, 6, 6, 6],\n",
            "       device='cuda:0')\n",
            "epoch 31/100 loss: 1.89\n"
          ]
        },
        {
          "output_type": "stream",
          "name": "stderr",
          "text": [
            "\n",
            "Training:  31%|███       | 31/100 [00:47<01:45,  1.52s/it]"
          ]
        },
        {
          "output_type": "stream",
          "name": "stdout",
          "text": [
            "tensor([6, 6, 6, 6, 6, 6, 6, 6, 6], device='cuda:0')\n",
            "epoch 31/100 loss: 2.05\n"
          ]
        },
        {
          "output_type": "stream",
          "name": "stderr",
          "text": [
            "\n",
            "Epoch 32 in training:   0%|          | 0/11 [00:00<?, ?it/s]\u001b[A\n",
            "Epoch 32 in training:   9%|▉         | 1/11 [00:00<00:01,  7.34it/s]\u001b[A"
          ]
        },
        {
          "output_type": "stream",
          "name": "stdout",
          "text": [
            "tensor([0, 0, 0, 0, 0, 0, 0, 0, 0, 0, 0, 0, 0, 0, 0, 0, 0, 0, 0, 0],\n",
            "       device='cuda:0')\n",
            "epoch 32/100 loss: 0.19\n"
          ]
        },
        {
          "output_type": "stream",
          "name": "stderr",
          "text": [
            "\n",
            "Epoch 32 in training:  18%|█▊        | 2/11 [00:00<00:01,  7.22it/s]\u001b[A"
          ]
        },
        {
          "output_type": "stream",
          "name": "stdout",
          "text": [
            "tensor([0, 0, 0, 0, 0, 0, 0, 0, 0, 0, 1, 1, 1, 1, 1, 1, 1, 1, 1, 1],\n",
            "       device='cuda:0')\n",
            "epoch 32/100 loss: 0.38\n",
            "tensor([1, 1, 1, 1, 1, 1, 1, 1, 1, 1, 1, 1, 1, 1, 1, 1, 1, 1, 1, 2],\n",
            "       device='cuda:0')\n"
          ]
        },
        {
          "output_type": "stream",
          "name": "stderr",
          "text": [
            "\n",
            "Epoch 32 in training:  27%|██▋       | 3/11 [00:00<00:01,  7.01it/s]\u001b[A"
          ]
        },
        {
          "output_type": "stream",
          "name": "stdout",
          "text": [
            "epoch 32/100 loss: 0.58\n",
            "tensor([2, 2, 2, 2, 2, 2, 2, 2, 2, 2, 2, 2, 2, 2, 2, 2, 2, 2, 2, 2],\n",
            "       device='cuda:0')\n",
            "epoch 32/100 loss: 0.78\n"
          ]
        },
        {
          "output_type": "stream",
          "name": "stderr",
          "text": [
            "\n",
            "Epoch 32 in training:  36%|███▋      | 4/11 [00:00<00:01,  6.96it/s]\u001b[A\n",
            "Epoch 32 in training:  45%|████▌     | 5/11 [00:00<00:00,  7.05it/s]\u001b[A"
          ]
        },
        {
          "output_type": "stream",
          "name": "stdout",
          "text": [
            "tensor([2, 2, 2, 2, 2, 2, 2, 3, 3, 3, 3, 3, 3, 3, 3, 3, 3, 3, 3, 3],\n",
            "       device='cuda:0')\n",
            "epoch 32/100 loss: 0.97\n"
          ]
        },
        {
          "output_type": "stream",
          "name": "stderr",
          "text": [
            "\n",
            "Epoch 32 in training:  55%|█████▍    | 6/11 [00:00<00:00,  7.12it/s]\u001b[A"
          ]
        },
        {
          "output_type": "stream",
          "name": "stdout",
          "text": [
            "tensor([3, 3, 3, 3, 3, 3, 3, 3, 3, 3, 3, 3, 3, 3, 3, 3, 3, 3, 4, 4],\n",
            "       device='cuda:0')\n",
            "epoch 32/100 loss: 1.15\n"
          ]
        },
        {
          "output_type": "stream",
          "name": "stderr",
          "text": [
            "\n",
            "Epoch 32 in training:  64%|██████▎   | 7/11 [00:00<00:00,  7.18it/s]\u001b[A"
          ]
        },
        {
          "output_type": "stream",
          "name": "stdout",
          "text": [
            "tensor([4, 4, 4, 4, 4, 4, 4, 4, 4, 4, 4, 4, 4, 4, 4, 4, 4, 4, 4, 4],\n",
            "       device='cuda:0')\n",
            "epoch 32/100 loss: 1.34\n"
          ]
        },
        {
          "output_type": "stream",
          "name": "stderr",
          "text": [
            "\n",
            "Epoch 32 in training:  73%|███████▎  | 8/11 [00:01<00:00,  7.16it/s]\u001b[A"
          ]
        },
        {
          "output_type": "stream",
          "name": "stdout",
          "text": [
            "tensor([4, 4, 4, 4, 4, 4, 4, 4, 5, 5, 5, 5, 5, 5, 5, 5, 5, 5, 5, 5],\n",
            "       device='cuda:0')\n",
            "epoch 32/100 loss: 1.54\n"
          ]
        },
        {
          "output_type": "stream",
          "name": "stderr",
          "text": [
            "\n",
            "Epoch 32 in training:  82%|████████▏ | 9/11 [00:01<00:00,  7.19it/s]\u001b[A"
          ]
        },
        {
          "output_type": "stream",
          "name": "stdout",
          "text": [
            "tensor([5, 5, 5, 5, 5, 5, 5, 5, 5, 5, 5, 5, 5, 5, 5, 5, 5, 5, 5, 6],\n",
            "       device='cuda:0')\n",
            "epoch 32/100 loss: 1.73\n"
          ]
        },
        {
          "output_type": "stream",
          "name": "stderr",
          "text": [
            "\n",
            "Epoch 32 in training:  91%|█████████ | 10/11 [00:01<00:00,  7.18it/s]\u001b[A"
          ]
        },
        {
          "output_type": "stream",
          "name": "stdout",
          "text": [
            "tensor([6, 6, 6, 6, 6, 6, 6, 6, 6, 6, 6, 6, 6, 6, 6, 6, 6, 6, 6, 6],\n",
            "       device='cuda:0')\n",
            "epoch 32/100 loss: 1.90\n"
          ]
        },
        {
          "output_type": "stream",
          "name": "stderr",
          "text": [
            "\n",
            "Training:  32%|███▏      | 32/100 [00:48<01:43,  1.52s/it]"
          ]
        },
        {
          "output_type": "stream",
          "name": "stdout",
          "text": [
            "tensor([6, 6, 6, 6, 6, 6, 6, 6, 6], device='cuda:0')\n",
            "epoch 32/100 loss: 2.06\n"
          ]
        },
        {
          "output_type": "stream",
          "name": "stderr",
          "text": [
            "\n",
            "Epoch 33 in training:   0%|          | 0/11 [00:00<?, ?it/s]\u001b[A\n",
            "Epoch 33 in training:   9%|▉         | 1/11 [00:00<00:01,  7.00it/s]\u001b[A"
          ]
        },
        {
          "output_type": "stream",
          "name": "stdout",
          "text": [
            "tensor([0, 0, 0, 0, 0, 0, 0, 0, 0, 0, 0, 0, 0, 0, 0, 0, 0, 0, 0, 0],\n",
            "       device='cuda:0')\n",
            "epoch 33/100 loss: 0.19\n"
          ]
        },
        {
          "output_type": "stream",
          "name": "stderr",
          "text": [
            "\n",
            "Epoch 33 in training:  18%|█▊        | 2/11 [00:00<00:01,  7.09it/s]\u001b[A"
          ]
        },
        {
          "output_type": "stream",
          "name": "stdout",
          "text": [
            "tensor([0, 0, 0, 0, 0, 0, 0, 0, 0, 0, 1, 1, 1, 1, 1, 1, 1, 1, 1, 1],\n",
            "       device='cuda:0')\n",
            "epoch 33/100 loss: 0.38\n",
            "tensor([1, 1, 1, 1, 1, 1, 1, 1, 1, 1, 1, 1, 1, 1, 1, 1, 1, 1, 1, 2],\n",
            "       device='cuda:0')\n"
          ]
        },
        {
          "output_type": "stream",
          "name": "stderr",
          "text": [
            "\n",
            "Epoch 33 in training:  27%|██▋       | 3/11 [00:00<00:01,  6.84it/s]\u001b[A\n",
            "Epoch 33 in training:  36%|███▋      | 4/11 [00:00<00:00,  7.00it/s]\u001b[A"
          ]
        },
        {
          "output_type": "stream",
          "name": "stdout",
          "text": [
            "epoch 33/100 loss: 0.57\n",
            "tensor([2, 2, 2, 2, 2, 2, 2, 2, 2, 2, 2, 2, 2, 2, 2, 2, 2, 2, 2, 2],\n",
            "       device='cuda:0')\n",
            "epoch 33/100 loss: 0.77\n"
          ]
        },
        {
          "output_type": "stream",
          "name": "stderr",
          "text": [
            "\n",
            "Epoch 33 in training:  45%|████▌     | 5/11 [00:00<00:00,  6.92it/s]\u001b[A"
          ]
        },
        {
          "output_type": "stream",
          "name": "stdout",
          "text": [
            "tensor([2, 2, 2, 2, 2, 2, 2, 3, 3, 3, 3, 3, 3, 3, 3, 3, 3, 3, 3, 3],\n",
            "       device='cuda:0')\n",
            "epoch 33/100 loss: 0.95\n",
            "tensor([3, 3, 3, 3, 3, 3, 3, 3, 3, 3, 3, 3, 3, 3, 3, 3, 3, 3, 4, 4],\n",
            "       device='cuda:0')\n"
          ]
        },
        {
          "output_type": "stream",
          "name": "stderr",
          "text": [
            "\n",
            "Epoch 33 in training:  55%|█████▍    | 6/11 [00:00<00:00,  6.86it/s]\u001b[A\n",
            "Epoch 33 in training:  64%|██████▎   | 7/11 [00:01<00:00,  6.87it/s]\u001b[A"
          ]
        },
        {
          "output_type": "stream",
          "name": "stdout",
          "text": [
            "epoch 33/100 loss: 1.13\n",
            "tensor([4, 4, 4, 4, 4, 4, 4, 4, 4, 4, 4, 4, 4, 4, 4, 4, 4, 4, 4, 4],\n",
            "       device='cuda:0')\n",
            "epoch 33/100 loss: 1.33\n"
          ]
        },
        {
          "output_type": "stream",
          "name": "stderr",
          "text": [
            "\n",
            "Epoch 33 in training:  73%|███████▎  | 8/11 [00:01<00:00,  6.99it/s]\u001b[A"
          ]
        },
        {
          "output_type": "stream",
          "name": "stdout",
          "text": [
            "tensor([4, 4, 4, 4, 4, 4, 4, 4, 5, 5, 5, 5, 5, 5, 5, 5, 5, 5, 5, 5],\n",
            "       device='cuda:0')\n",
            "epoch 33/100 loss: 1.51\n",
            "tensor([5, 5, 5, 5, 5, 5, 5, 5, 5, 5, 5, 5, 5, 5, 5, 5, 5, 5, 5, 6],\n",
            "       device='cuda:0')\n"
          ]
        },
        {
          "output_type": "stream",
          "name": "stderr",
          "text": [
            "\n",
            "Epoch 33 in training:  82%|████████▏ | 9/11 [00:01<00:00,  6.94it/s]\u001b[A\n",
            "Epoch 33 in training:  91%|█████████ | 10/11 [00:01<00:00,  7.00it/s]\u001b[A"
          ]
        },
        {
          "output_type": "stream",
          "name": "stdout",
          "text": [
            "epoch 33/100 loss: 1.69\n",
            "tensor([6, 6, 6, 6, 6, 6, 6, 6, 6, 6, 6, 6, 6, 6, 6, 6, 6, 6, 6, 6],\n",
            "       device='cuda:0')\n",
            "epoch 33/100 loss: 1.86\n",
            "tensor([6, 6, 6, 6, 6, 6, 6, 6, 6], device='cuda:0')\n"
          ]
        },
        {
          "output_type": "stream",
          "name": "stderr",
          "text": [
            "\n",
            "Training:  33%|███▎      | 33/100 [00:50<01:42,  1.52s/it]"
          ]
        },
        {
          "output_type": "stream",
          "name": "stdout",
          "text": [
            "epoch 33/100 loss: 2.02\n"
          ]
        },
        {
          "output_type": "stream",
          "name": "stderr",
          "text": [
            "\n",
            "Epoch 34 in training:   0%|          | 0/11 [00:00<?, ?it/s]\u001b[A\n",
            "Epoch 34 in training:   9%|▉         | 1/11 [00:00<00:01,  7.14it/s]\u001b[A"
          ]
        },
        {
          "output_type": "stream",
          "name": "stdout",
          "text": [
            "tensor([0, 0, 0, 0, 0, 0, 0, 0, 0, 0, 0, 0, 0, 0, 0, 0, 0, 0, 0, 0],\n",
            "       device='cuda:0')\n",
            "epoch 34/100 loss: 0.20\n"
          ]
        },
        {
          "output_type": "stream",
          "name": "stderr",
          "text": [
            "\n",
            "Epoch 34 in training:  18%|█▊        | 2/11 [00:00<00:01,  7.12it/s]\u001b[A"
          ]
        },
        {
          "output_type": "stream",
          "name": "stdout",
          "text": [
            "tensor([0, 0, 0, 0, 0, 0, 0, 0, 0, 0, 1, 1, 1, 1, 1, 1, 1, 1, 1, 1],\n",
            "       device='cuda:0')\n",
            "epoch 34/100 loss: 0.39\n"
          ]
        },
        {
          "output_type": "stream",
          "name": "stderr",
          "text": [
            "\n",
            "Epoch 34 in training:  27%|██▋       | 3/11 [00:00<00:01,  7.13it/s]\u001b[A"
          ]
        },
        {
          "output_type": "stream",
          "name": "stdout",
          "text": [
            "tensor([1, 1, 1, 1, 1, 1, 1, 1, 1, 1, 1, 1, 1, 1, 1, 1, 1, 1, 1, 2],\n",
            "       device='cuda:0')\n",
            "epoch 34/100 loss: 0.57\n",
            "tensor([2, 2, 2, 2, 2, 2, 2, 2, 2, 2, 2, 2, 2, 2, 2, 2, 2, 2, 2, 2],\n",
            "       device='cuda:0')\n"
          ]
        },
        {
          "output_type": "stream",
          "name": "stderr",
          "text": [
            "\n",
            "Epoch 34 in training:  36%|███▋      | 4/11 [00:00<00:01,  6.96it/s]\u001b[A\n",
            "Epoch 34 in training:  45%|████▌     | 5/11 [00:00<00:00,  7.07it/s]\u001b[A"
          ]
        },
        {
          "output_type": "stream",
          "name": "stdout",
          "text": [
            "epoch 34/100 loss: 0.77\n",
            "tensor([2, 2, 2, 2, 2, 2, 2, 3, 3, 3, 3, 3, 3, 3, 3, 3, 3, 3, 3, 3],\n",
            "       device='cuda:0')\n",
            "epoch 34/100 loss: 0.97\n"
          ]
        },
        {
          "output_type": "stream",
          "name": "stderr",
          "text": [
            "\n",
            "Epoch 34 in training:  55%|█████▍    | 6/11 [00:00<00:00,  6.95it/s]\u001b[A\n",
            "Epoch 34 in training:  64%|██████▎   | 7/11 [00:00<00:00,  7.02it/s]\u001b[A"
          ]
        },
        {
          "output_type": "stream",
          "name": "stdout",
          "text": [
            "tensor([3, 3, 3, 3, 3, 3, 3, 3, 3, 3, 3, 3, 3, 3, 3, 3, 3, 3, 4, 4],\n",
            "       device='cuda:0')\n",
            "epoch 34/100 loss: 1.17\n",
            "tensor([4, 4, 4, 4, 4, 4, 4, 4, 4, 4, 4, 4, 4, 4, 4, 4, 4, 4, 4, 4],\n",
            "       device='cuda:0')\n",
            "epoch 34/100 loss: 1.37\n"
          ]
        },
        {
          "output_type": "stream",
          "name": "stderr",
          "text": [
            "\n",
            "Epoch 34 in training:  73%|███████▎  | 8/11 [00:01<00:00,  7.07it/s]\u001b[A"
          ]
        },
        {
          "output_type": "stream",
          "name": "stdout",
          "text": [
            "tensor([4, 4, 4, 4, 4, 4, 4, 4, 5, 5, 5, 5, 5, 5, 5, 5, 5, 5, 5, 5],\n",
            "       device='cuda:0')\n",
            "epoch 34/100 loss: 1.56\n",
            "tensor([5, 5, 5, 5, 5, 5, 5, 5, 5, 5, 5, 5, 5, 5, 5, 5, 5, 5, 5, 6],\n",
            "       device='cuda:0')\n"
          ]
        },
        {
          "output_type": "stream",
          "name": "stderr",
          "text": [
            "\n",
            "Epoch 34 in training:  82%|████████▏ | 9/11 [00:01<00:00,  6.97it/s]\u001b[A\n",
            "Epoch 34 in training:  91%|█████████ | 10/11 [00:01<00:00,  7.06it/s]\u001b[A"
          ]
        },
        {
          "output_type": "stream",
          "name": "stdout",
          "text": [
            "epoch 34/100 loss: 1.74\n",
            "tensor([6, 6, 6, 6, 6, 6, 6, 6, 6, 6, 6, 6, 6, 6, 6, 6, 6, 6, 6, 6],\n",
            "       device='cuda:0')\n",
            "epoch 34/100 loss: 1.91\n",
            "tensor([6, 6, 6, 6, 6, 6, 6, 6, 6], device='cuda:0')\n"
          ]
        },
        {
          "output_type": "stream",
          "name": "stderr",
          "text": [
            "\n",
            "Training:  34%|███▍      | 34/100 [00:51<01:40,  1.52s/it]"
          ]
        },
        {
          "output_type": "stream",
          "name": "stdout",
          "text": [
            "epoch 34/100 loss: 2.07\n"
          ]
        },
        {
          "output_type": "stream",
          "name": "stderr",
          "text": [
            "\n",
            "Epoch 35 in training:   0%|          | 0/11 [00:00<?, ?it/s]\u001b[A\n",
            "Epoch 35 in training:   9%|▉         | 1/11 [00:00<00:01,  7.41it/s]\u001b[A"
          ]
        },
        {
          "output_type": "stream",
          "name": "stdout",
          "text": [
            "tensor([0, 0, 0, 0, 0, 0, 0, 0, 0, 0, 0, 0, 0, 0, 0, 0, 0, 0, 0, 0],\n",
            "       device='cuda:0')\n",
            "epoch 35/100 loss: 0.18\n",
            "tensor([0, 0, 0, 0, 0, 0, 0, 0, 0, 0, 1, 1, 1, 1, 1, 1, 1, 1, 1, 1],\n",
            "       device='cuda:0')\n"
          ]
        },
        {
          "output_type": "stream",
          "name": "stderr",
          "text": [
            "\n",
            "Epoch 35 in training:  18%|█▊        | 2/11 [00:00<00:01,  6.95it/s]\u001b[A"
          ]
        },
        {
          "output_type": "stream",
          "name": "stdout",
          "text": [
            "epoch 35/100 loss: 0.37\n",
            "tensor([1, 1, 1, 1, 1, 1, 1, 1, 1, 1, 1, 1, 1, 1, 1, 1, 1, 1, 1, 2],\n",
            "       device='cuda:0')\n"
          ]
        },
        {
          "output_type": "stream",
          "name": "stderr",
          "text": [
            "\n",
            "Epoch 35 in training:  27%|██▋       | 3/11 [00:00<00:01,  6.79it/s]\u001b[A"
          ]
        },
        {
          "output_type": "stream",
          "name": "stdout",
          "text": [
            "epoch 35/100 loss: 0.57\n"
          ]
        },
        {
          "output_type": "stream",
          "name": "stderr",
          "text": [
            "\n",
            "Epoch 35 in training:  36%|███▋      | 4/11 [00:00<00:01,  6.80it/s]\u001b[A"
          ]
        },
        {
          "output_type": "stream",
          "name": "stdout",
          "text": [
            "tensor([2, 2, 2, 2, 2, 2, 2, 2, 2, 2, 2, 2, 2, 2, 2, 2, 2, 2, 2, 2],\n",
            "       device='cuda:0')\n",
            "epoch 35/100 loss: 0.76\n"
          ]
        },
        {
          "output_type": "stream",
          "name": "stderr",
          "text": [
            "\n",
            "Epoch 35 in training:  45%|████▌     | 5/11 [00:00<00:00,  6.87it/s]\u001b[A"
          ]
        },
        {
          "output_type": "stream",
          "name": "stdout",
          "text": [
            "tensor([2, 2, 2, 2, 2, 2, 2, 3, 3, 3, 3, 3, 3, 3, 3, 3, 3, 3, 3, 3],\n",
            "       device='cuda:0')\n",
            "epoch 35/100 loss: 0.95\n"
          ]
        },
        {
          "output_type": "stream",
          "name": "stderr",
          "text": [
            "\n",
            "Epoch 35 in training:  55%|█████▍    | 6/11 [00:00<00:00,  6.94it/s]\u001b[A"
          ]
        },
        {
          "output_type": "stream",
          "name": "stdout",
          "text": [
            "tensor([3, 3, 3, 3, 3, 3, 3, 3, 3, 3, 3, 3, 3, 3, 3, 3, 3, 3, 4, 4],\n",
            "       device='cuda:0')\n",
            "epoch 35/100 loss: 1.14\n",
            "tensor([4, 4, 4, 4, 4, 4, 4, 4, 4, 4, 4, 4, 4, 4, 4, 4, 4, 4, 4, 4],\n",
            "       device='cuda:0')\n"
          ]
        },
        {
          "output_type": "stream",
          "name": "stderr",
          "text": [
            "\n",
            "Epoch 35 in training:  64%|██████▎   | 7/11 [00:01<00:00,  6.91it/s]\u001b[A\n",
            "Epoch 35 in training:  73%|███████▎  | 8/11 [00:01<00:00,  7.02it/s]\u001b[A"
          ]
        },
        {
          "output_type": "stream",
          "name": "stdout",
          "text": [
            "epoch 35/100 loss: 1.32\n",
            "tensor([4, 4, 4, 4, 4, 4, 4, 4, 5, 5, 5, 5, 5, 5, 5, 5, 5, 5, 5, 5],\n",
            "       device='cuda:0')\n",
            "epoch 35/100 loss: 1.52\n"
          ]
        },
        {
          "output_type": "stream",
          "name": "stderr",
          "text": [
            "\n",
            "Epoch 35 in training:  82%|████████▏ | 9/11 [00:01<00:00,  6.95it/s]\u001b[A\n",
            "Epoch 35 in training:  91%|█████████ | 10/11 [00:01<00:00,  7.04it/s]\u001b[A"
          ]
        },
        {
          "output_type": "stream",
          "name": "stdout",
          "text": [
            "tensor([5, 5, 5, 5, 5, 5, 5, 5, 5, 5, 5, 5, 5, 5, 5, 5, 5, 5, 5, 6],\n",
            "       device='cuda:0')\n",
            "epoch 35/100 loss: 1.71\n",
            "tensor([6, 6, 6, 6, 6, 6, 6, 6, 6, 6, 6, 6, 6, 6, 6, 6, 6, 6, 6, 6],\n",
            "       device='cuda:0')\n",
            "epoch 35/100 loss: 1.88\n"
          ]
        },
        {
          "output_type": "stream",
          "name": "stderr",
          "text": [
            "\n",
            "Training:  35%|███▌      | 35/100 [00:53<01:39,  1.53s/it]"
          ]
        },
        {
          "output_type": "stream",
          "name": "stdout",
          "text": [
            "tensor([6, 6, 6, 6, 6, 6, 6, 6, 6], device='cuda:0')\n",
            "epoch 35/100 loss: 2.05\n"
          ]
        },
        {
          "output_type": "stream",
          "name": "stderr",
          "text": [
            "\n",
            "Epoch 36 in training:   0%|          | 0/11 [00:00<?, ?it/s]\u001b[A\n",
            "Epoch 36 in training:   9%|▉         | 1/11 [00:00<00:01,  7.34it/s]\u001b[A"
          ]
        },
        {
          "output_type": "stream",
          "name": "stdout",
          "text": [
            "tensor([0, 0, 0, 0, 0, 0, 0, 0, 0, 0, 0, 0, 0, 0, 0, 0, 0, 0, 0, 0],\n",
            "       device='cuda:0')\n",
            "epoch 36/100 loss: 0.19\n"
          ]
        },
        {
          "output_type": "stream",
          "name": "stderr",
          "text": [
            "\n",
            "Epoch 36 in training:  18%|█▊        | 2/11 [00:00<00:01,  7.25it/s]\u001b[A"
          ]
        },
        {
          "output_type": "stream",
          "name": "stdout",
          "text": [
            "tensor([0, 0, 0, 0, 0, 0, 0, 0, 0, 0, 1, 1, 1, 1, 1, 1, 1, 1, 1, 1],\n",
            "       device='cuda:0')\n",
            "epoch 36/100 loss: 0.38\n"
          ]
        },
        {
          "output_type": "stream",
          "name": "stderr",
          "text": [
            "\n",
            "Epoch 36 in training:  27%|██▋       | 3/11 [00:00<00:01,  7.26it/s]\u001b[A"
          ]
        },
        {
          "output_type": "stream",
          "name": "stdout",
          "text": [
            "tensor([1, 1, 1, 1, 1, 1, 1, 1, 1, 1, 1, 1, 1, 1, 1, 1, 1, 1, 1, 2],\n",
            "       device='cuda:0')\n",
            "epoch 36/100 loss: 0.58\n"
          ]
        },
        {
          "output_type": "stream",
          "name": "stderr",
          "text": [
            "\n",
            "Epoch 36 in training:  36%|███▋      | 4/11 [00:00<00:00,  7.24it/s]\u001b[A"
          ]
        },
        {
          "output_type": "stream",
          "name": "stdout",
          "text": [
            "tensor([2, 2, 2, 2, 2, 2, 2, 2, 2, 2, 2, 2, 2, 2, 2, 2, 2, 2, 2, 2],\n",
            "       device='cuda:0')\n",
            "epoch 36/100 loss: 0.78\n"
          ]
        },
        {
          "output_type": "stream",
          "name": "stderr",
          "text": [
            "\n",
            "Epoch 36 in training:  45%|████▌     | 5/11 [00:00<00:00,  7.20it/s]\u001b[A"
          ]
        },
        {
          "output_type": "stream",
          "name": "stdout",
          "text": [
            "tensor([2, 2, 2, 2, 2, 2, 2, 3, 3, 3, 3, 3, 3, 3, 3, 3, 3, 3, 3, 3],\n",
            "       device='cuda:0')\n",
            "epoch 36/100 loss: 0.96\n"
          ]
        },
        {
          "output_type": "stream",
          "name": "stderr",
          "text": [
            "\n"
          ]
        },
        {
          "output_type": "stream",
          "name": "stdout",
          "text": [
            "tensor([3, 3, 3, 3, 3, 3, 3, 3, 3, 3, 3, 3, 3, 3, 3, 3, 3, 3, 4, 4],\n",
            "       device='cuda:0')\n",
            "epoch 36/100 loss: 1.15\n"
          ]
        },
        {
          "output_type": "stream",
          "name": "stderr",
          "text": [
            "Epoch 36 in training:  55%|█████▍    | 6/11 [00:00<00:00,  7.11it/s]\u001b[A\n",
            "Epoch 36 in training:  64%|██████▎   | 7/11 [00:00<00:00,  7.13it/s]"
          ]
        },
        {
          "output_type": "stream",
          "name": "stdout",
          "text": [
            "tensor([4, 4, 4, 4, 4, 4, 4, 4, 4, 4, 4, 4, 4, 4, 4, 4, 4, 4, 4, 4],\n",
            "       device='cuda:0')\n",
            "epoch 36/100 loss: 1.33\n"
          ]
        },
        {
          "output_type": "stream",
          "name": "stderr",
          "text": [
            "\u001b[A\n",
            "Epoch 36 in training:  73%|███████▎  | 8/11 [00:01<00:00,  7.17it/s]\u001b[A"
          ]
        },
        {
          "output_type": "stream",
          "name": "stdout",
          "text": [
            "tensor([4, 4, 4, 4, 4, 4, 4, 4, 5, 5, 5, 5, 5, 5, 5, 5, 5, 5, 5, 5],\n",
            "       device='cuda:0')\n",
            "epoch 36/100 loss: 1.53\n"
          ]
        },
        {
          "output_type": "stream",
          "name": "stderr",
          "text": [
            "\n",
            "Epoch 36 in training:  82%|████████▏ | 9/11 [00:01<00:00,  7.16it/s]\u001b[A"
          ]
        },
        {
          "output_type": "stream",
          "name": "stdout",
          "text": [
            "tensor([5, 5, 5, 5, 5, 5, 5, 5, 5, 5, 5, 5, 5, 5, 5, 5, 5, 5, 5, 6],\n",
            "       device='cuda:0')\n",
            "epoch 36/100 loss: 1.72\n"
          ]
        },
        {
          "output_type": "stream",
          "name": "stderr",
          "text": [
            "\n",
            "Epoch 36 in training:  91%|█████████ | 10/11 [00:01<00:00,  7.18it/s]\u001b[A"
          ]
        },
        {
          "output_type": "stream",
          "name": "stdout",
          "text": [
            "tensor([6, 6, 6, 6, 6, 6, 6, 6, 6, 6, 6, 6, 6, 6, 6, 6, 6, 6, 6, 6],\n",
            "       device='cuda:0')\n",
            "epoch 36/100 loss: 1.88\n"
          ]
        },
        {
          "output_type": "stream",
          "name": "stderr",
          "text": [
            "\n",
            "Training:  36%|███▌      | 36/100 [00:54<01:37,  1.52s/it]"
          ]
        },
        {
          "output_type": "stream",
          "name": "stdout",
          "text": [
            "tensor([6, 6, 6, 6, 6, 6, 6, 6, 6], device='cuda:0')\n",
            "epoch 36/100 loss: 2.03\n"
          ]
        },
        {
          "output_type": "stream",
          "name": "stderr",
          "text": [
            "\n",
            "Epoch 37 in training:   0%|          | 0/11 [00:00<?, ?it/s]\u001b[A\n",
            "Epoch 37 in training:   9%|▉         | 1/11 [00:00<00:01,  7.00it/s]\u001b[A"
          ]
        },
        {
          "output_type": "stream",
          "name": "stdout",
          "text": [
            "tensor([0, 0, 0, 0, 0, 0, 0, 0, 0, 0, 0, 0, 0, 0, 0, 0, 0, 0, 0, 0],\n",
            "       device='cuda:0')\n",
            "epoch 37/100 loss: 0.19\n"
          ]
        },
        {
          "output_type": "stream",
          "name": "stderr",
          "text": [
            "\n",
            "Epoch 37 in training:  18%|█▊        | 2/11 [00:00<00:01,  7.12it/s]\u001b[A"
          ]
        },
        {
          "output_type": "stream",
          "name": "stdout",
          "text": [
            "tensor([0, 0, 0, 0, 0, 0, 0, 0, 0, 0, 1, 1, 1, 1, 1, 1, 1, 1, 1, 1],\n",
            "       device='cuda:0')\n",
            "epoch 37/100 loss: 0.37\n"
          ]
        },
        {
          "output_type": "stream",
          "name": "stderr",
          "text": [
            "\n",
            "Epoch 37 in training:  27%|██▋       | 3/11 [00:00<00:01,  7.11it/s]\u001b[A"
          ]
        },
        {
          "output_type": "stream",
          "name": "stdout",
          "text": [
            "tensor([1, 1, 1, 1, 1, 1, 1, 1, 1, 1, 1, 1, 1, 1, 1, 1, 1, 1, 1, 2],\n",
            "       device='cuda:0')\n",
            "epoch 37/100 loss: 0.57\n"
          ]
        },
        {
          "output_type": "stream",
          "name": "stderr",
          "text": [
            "\n",
            "Epoch 37 in training:  36%|███▋      | 4/11 [00:00<00:00,  7.15it/s]\u001b[A"
          ]
        },
        {
          "output_type": "stream",
          "name": "stdout",
          "text": [
            "tensor([2, 2, 2, 2, 2, 2, 2, 2, 2, 2, 2, 2, 2, 2, 2, 2, 2, 2, 2, 2],\n",
            "       device='cuda:0')\n",
            "epoch 37/100 loss: 0.76\n"
          ]
        },
        {
          "output_type": "stream",
          "name": "stderr",
          "text": [
            "\n",
            "Epoch 37 in training:  45%|████▌     | 5/11 [00:00<00:00,  7.17it/s]\u001b[A"
          ]
        },
        {
          "output_type": "stream",
          "name": "stdout",
          "text": [
            "tensor([2, 2, 2, 2, 2, 2, 2, 3, 3, 3, 3, 3, 3, 3, 3, 3, 3, 3, 3, 3],\n",
            "       device='cuda:0')\n",
            "epoch 37/100 loss: 0.95\n"
          ]
        },
        {
          "output_type": "stream",
          "name": "stderr",
          "text": [
            "\n",
            "Epoch 37 in training:  55%|█████▍    | 6/11 [00:00<00:00,  7.20it/s]\u001b[A"
          ]
        },
        {
          "output_type": "stream",
          "name": "stdout",
          "text": [
            "tensor([3, 3, 3, 3, 3, 3, 3, 3, 3, 3, 3, 3, 3, 3, 3, 3, 3, 3, 4, 4],\n",
            "       device='cuda:0')\n",
            "epoch 37/100 loss: 1.13\n"
          ]
        },
        {
          "output_type": "stream",
          "name": "stderr",
          "text": [
            "\n",
            "Epoch 37 in training:  64%|██████▎   | 7/11 [00:00<00:00,  7.14it/s]\u001b[A"
          ]
        },
        {
          "output_type": "stream",
          "name": "stdout",
          "text": [
            "tensor([4, 4, 4, 4, 4, 4, 4, 4, 4, 4, 4, 4, 4, 4, 4, 4, 4, 4, 4, 4],\n",
            "       device='cuda:0')\n",
            "epoch 37/100 loss: 1.32\n"
          ]
        },
        {
          "output_type": "stream",
          "name": "stderr",
          "text": [
            "\n",
            "Epoch 37 in training:  73%|███████▎  | 8/11 [00:01<00:00,  7.11it/s]\u001b[A"
          ]
        },
        {
          "output_type": "stream",
          "name": "stdout",
          "text": [
            "tensor([4, 4, 4, 4, 4, 4, 4, 4, 5, 5, 5, 5, 5, 5, 5, 5, 5, 5, 5, 5],\n",
            "       device='cuda:0')\n",
            "epoch 37/100 loss: 1.50\n",
            "tensor([5, 5, 5, 5, 5, 5, 5, 5, 5, 5, 5, 5, 5, 5, 5, 5, 5, 5, 5, 6],\n",
            "       device='cuda:0')\n"
          ]
        },
        {
          "output_type": "stream",
          "name": "stderr",
          "text": [
            "\n",
            "Epoch 37 in training:  82%|████████▏ | 9/11 [00:01<00:00,  6.98it/s]\u001b[A"
          ]
        },
        {
          "output_type": "stream",
          "name": "stdout",
          "text": [
            "epoch 37/100 loss: 1.69\n",
            "tensor([6, 6, 6, 6, 6, 6, 6, 6, 6, 6, 6, 6, 6, 6, 6, 6, 6, 6, 6, 6],\n",
            "       device='cuda:0')\n"
          ]
        },
        {
          "output_type": "stream",
          "name": "stderr",
          "text": [
            "\n",
            "Epoch 37 in training:  91%|█████████ | 10/11 [00:01<00:00,  6.95it/s]\u001b[A"
          ]
        },
        {
          "output_type": "stream",
          "name": "stdout",
          "text": [
            "epoch 37/100 loss: 1.85\n",
            "tensor([6, 6, 6, 6, 6, 6, 6, 6, 6], device='cuda:0')\n"
          ]
        },
        {
          "output_type": "stream",
          "name": "stderr",
          "text": [
            "\n",
            "Training:  37%|███▋      | 37/100 [00:56<01:35,  1.52s/it]"
          ]
        },
        {
          "output_type": "stream",
          "name": "stdout",
          "text": [
            "epoch 37/100 loss: 2.02\n"
          ]
        },
        {
          "output_type": "stream",
          "name": "stderr",
          "text": [
            "\n",
            "Epoch 38 in training:   0%|          | 0/11 [00:00<?, ?it/s]\u001b[A"
          ]
        },
        {
          "output_type": "stream",
          "name": "stdout",
          "text": [
            "tensor([0, 0, 0, 0, 0, 0, 0, 0, 0, 0, 0, 0, 0, 0, 0, 0, 0, 0, 0, 0],\n",
            "       device='cuda:0')\n"
          ]
        },
        {
          "output_type": "stream",
          "name": "stderr",
          "text": [
            "\n",
            "Epoch 38 in training:   9%|▉         | 1/11 [00:00<00:01,  7.43it/s]\u001b[A"
          ]
        },
        {
          "output_type": "stream",
          "name": "stdout",
          "text": [
            "epoch 38/100 loss: 0.19\n"
          ]
        },
        {
          "output_type": "stream",
          "name": "stderr",
          "text": [
            "\n",
            "Epoch 38 in training:  18%|█▊        | 2/11 [00:00<00:01,  7.25it/s]\u001b[A"
          ]
        },
        {
          "output_type": "stream",
          "name": "stdout",
          "text": [
            "tensor([0, 0, 0, 0, 0, 0, 0, 0, 0, 0, 1, 1, 1, 1, 1, 1, 1, 1, 1, 1],\n",
            "       device='cuda:0')\n",
            "epoch 38/100 loss: 0.38\n"
          ]
        },
        {
          "output_type": "stream",
          "name": "stderr",
          "text": [
            "\n",
            "Epoch 38 in training:  27%|██▋       | 3/11 [00:00<00:01,  7.23it/s]\u001b[A"
          ]
        },
        {
          "output_type": "stream",
          "name": "stdout",
          "text": [
            "tensor([1, 1, 1, 1, 1, 1, 1, 1, 1, 1, 1, 1, 1, 1, 1, 1, 1, 1, 1, 2],\n",
            "       device='cuda:0')\n",
            "epoch 38/100 loss: 0.56\n"
          ]
        },
        {
          "output_type": "stream",
          "name": "stderr",
          "text": [
            "\n",
            "Epoch 38 in training:  36%|███▋      | 4/11 [00:00<00:00,  7.21it/s]\u001b[A"
          ]
        },
        {
          "output_type": "stream",
          "name": "stdout",
          "text": [
            "tensor([2, 2, 2, 2, 2, 2, 2, 2, 2, 2, 2, 2, 2, 2, 2, 2, 2, 2, 2, 2],\n",
            "       device='cuda:0')\n",
            "epoch 38/100 loss: 0.76\n",
            "tensor([2, 2, 2, 2, 2, 2, 2, 3, 3, 3, 3, 3, 3, 3, 3, 3, 3, 3, 3, 3],\n",
            "       device='cuda:0')\n"
          ]
        },
        {
          "output_type": "stream",
          "name": "stderr",
          "text": [
            "\n",
            "Epoch 38 in training:  45%|████▌     | 5/11 [00:00<00:00,  7.02it/s]\u001b[A\n",
            "Epoch 38 in training:  55%|█████▍    | 6/11 [00:00<00:00,  7.06it/s]"
          ]
        },
        {
          "output_type": "stream",
          "name": "stdout",
          "text": [
            "epoch 38/100 loss: 0.95\n",
            "tensor([3, 3, 3, 3, 3, 3, 3, 3, 3, 3, 3, 3, 3, 3, 3, 3, 3, 3, 4, 4],\n",
            "       device='cuda:0')\n",
            "epoch 38/100 loss: 1.14\n"
          ]
        },
        {
          "output_type": "stream",
          "name": "stderr",
          "text": [
            "\u001b[A\n",
            "Epoch 38 in training:  64%|██████▎   | 7/11 [00:00<00:00,  6.97it/s]\u001b[A\n",
            "Epoch 38 in training:  73%|███████▎  | 8/11 [00:01<00:00,  7.03it/s]\u001b[A"
          ]
        },
        {
          "output_type": "stream",
          "name": "stdout",
          "text": [
            "tensor([4, 4, 4, 4, 4, 4, 4, 4, 4, 4, 4, 4, 4, 4, 4, 4, 4, 4, 4, 4],\n",
            "       device='cuda:0')\n",
            "epoch 38/100 loss: 1.32\n",
            "tensor([4, 4, 4, 4, 4, 4, 4, 4, 5, 5, 5, 5, 5, 5, 5, 5, 5, 5, 5, 5],\n",
            "       device='cuda:0')\n",
            "epoch 38/100 loss: 1.52\n"
          ]
        },
        {
          "output_type": "stream",
          "name": "stderr",
          "text": [
            "\n",
            "Epoch 38 in training:  82%|████████▏ | 9/11 [00:01<00:00,  7.07it/s]\u001b[A\n",
            "Epoch 38 in training:  91%|█████████ | 10/11 [00:01<00:00,  7.12it/s]\u001b[A"
          ]
        },
        {
          "output_type": "stream",
          "name": "stdout",
          "text": [
            "tensor([5, 5, 5, 5, 5, 5, 5, 5, 5, 5, 5, 5, 5, 5, 5, 5, 5, 5, 5, 6],\n",
            "       device='cuda:0')\n",
            "epoch 38/100 loss: 1.70\n",
            "tensor([6, 6, 6, 6, 6, 6, 6, 6, 6, 6, 6, 6, 6, 6, 6, 6, 6, 6, 6, 6],\n",
            "       device='cuda:0')\n",
            "epoch 38/100 loss: 1.87\n"
          ]
        },
        {
          "output_type": "stream",
          "name": "stderr",
          "text": [
            "\n",
            "Training:  38%|███▊      | 38/100 [00:57<01:33,  1.51s/it]"
          ]
        },
        {
          "output_type": "stream",
          "name": "stdout",
          "text": [
            "tensor([6, 6, 6, 6, 6, 6, 6, 6, 6], device='cuda:0')\n",
            "epoch 38/100 loss: 2.04\n"
          ]
        },
        {
          "output_type": "stream",
          "name": "stderr",
          "text": [
            "\n",
            "Epoch 39 in training:   0%|          | 0/11 [00:00<?, ?it/s]\u001b[A\n",
            "Epoch 39 in training:   9%|▉         | 1/11 [00:00<00:01,  7.29it/s]\u001b[A"
          ]
        },
        {
          "output_type": "stream",
          "name": "stdout",
          "text": [
            "tensor([0, 0, 0, 0, 0, 0, 0, 0, 0, 0, 0, 0, 0, 0, 0, 0, 0, 0, 0, 0],\n",
            "       device='cuda:0')\n",
            "epoch 39/100 loss: 0.19\n",
            "tensor([0, 0, 0, 0, 0, 0, 0, 0, 0, 0, 1, 1, 1, 1, 1, 1, 1, 1, 1, 1],\n",
            "       device='cuda:0')\n"
          ]
        },
        {
          "output_type": "stream",
          "name": "stderr",
          "text": [
            "\n",
            "Epoch 39 in training:  18%|█▊        | 2/11 [00:00<00:01,  6.96it/s]\u001b[A\n"
          ]
        },
        {
          "output_type": "stream",
          "name": "stdout",
          "text": [
            "epoch 39/100 loss: 0.38\n",
            "tensor([1, 1, 1, 1, 1, 1, 1, 1, 1, 1, 1, 1, 1, 1, 1, 1, 1, 1, 1, 2],\n",
            "       device='cuda:0')\n",
            "epoch 39/100 loss: 0.56\n"
          ]
        },
        {
          "output_type": "stream",
          "name": "stderr",
          "text": [
            "Epoch 39 in training:  27%|██▋       | 3/11 [00:00<00:01,  6.94it/s]\u001b[A\n",
            "Epoch 39 in training:  36%|███▋      | 4/11 [00:00<00:01,  6.98it/s]\u001b[A\n",
            "Epoch 39 in training:  45%|████▌     | 5/11 [00:00<00:00,  6.97it/s]"
          ]
        },
        {
          "output_type": "stream",
          "name": "stdout",
          "text": [
            "tensor([2, 2, 2, 2, 2, 2, 2, 2, 2, 2, 2, 2, 2, 2, 2, 2, 2, 2, 2, 2],\n",
            "       device='cuda:0')\n",
            "epoch 39/100 loss: 0.75\n",
            "tensor([2, 2, 2, 2, 2, 2, 2, 3, 3, 3, 3, 3, 3, 3, 3, 3, 3, 3, 3, 3],\n",
            "       device='cuda:0')\n",
            "epoch 39/100 loss: 0.94\n"
          ]
        },
        {
          "output_type": "stream",
          "name": "stderr",
          "text": [
            "\u001b[A\n",
            "Epoch 39 in training:  55%|█████▍    | 6/11 [00:00<00:00,  7.05it/s]\u001b[A\n",
            "Epoch 39 in training:  64%|██████▎   | 7/11 [00:00<00:00,  7.13it/s]\u001b[A"
          ]
        },
        {
          "output_type": "stream",
          "name": "stdout",
          "text": [
            "tensor([3, 3, 3, 3, 3, 3, 3, 3, 3, 3, 3, 3, 3, 3, 3, 3, 3, 3, 4, 4],\n",
            "       device='cuda:0')\n",
            "epoch 39/100 loss: 1.13\n",
            "tensor([4, 4, 4, 4, 4, 4, 4, 4, 4, 4, 4, 4, 4, 4, 4, 4, 4, 4, 4, 4],\n",
            "       device='cuda:0')\n",
            "epoch 39/100 loss: 1.32\n"
          ]
        },
        {
          "output_type": "stream",
          "name": "stderr",
          "text": [
            "\n",
            "Epoch 39 in training:  73%|███████▎  | 8/11 [00:01<00:00,  7.12it/s]\u001b[A\n",
            "Epoch 39 in training:  82%|████████▏ | 9/11 [00:01<00:00,  7.15it/s]\u001b[A"
          ]
        },
        {
          "output_type": "stream",
          "name": "stdout",
          "text": [
            "tensor([4, 4, 4, 4, 4, 4, 4, 4, 5, 5, 5, 5, 5, 5, 5, 5, 5, 5, 5, 5],\n",
            "       device='cuda:0')\n",
            "epoch 39/100 loss: 1.52\n",
            "tensor([5, 5, 5, 5, 5, 5, 5, 5, 5, 5, 5, 5, 5, 5, 5, 5, 5, 5, 5, 6],\n",
            "       device='cuda:0')\n",
            "epoch 39/100 loss: 1.71\n"
          ]
        },
        {
          "output_type": "stream",
          "name": "stderr",
          "text": [
            "\n",
            "Epoch 39 in training:  91%|█████████ | 10/11 [00:01<00:00,  7.16it/s]\u001b[A\n",
            "Training:  39%|███▉      | 39/100 [00:59<01:32,  1.51s/it]"
          ]
        },
        {
          "output_type": "stream",
          "name": "stdout",
          "text": [
            "tensor([6, 6, 6, 6, 6, 6, 6, 6, 6, 6, 6, 6, 6, 6, 6, 6, 6, 6, 6, 6],\n",
            "       device='cuda:0')\n",
            "epoch 39/100 loss: 1.87\n",
            "tensor([6, 6, 6, 6, 6, 6, 6, 6, 6], device='cuda:0')\n",
            "epoch 39/100 loss: 2.03\n"
          ]
        },
        {
          "output_type": "stream",
          "name": "stderr",
          "text": [
            "\n",
            "Epoch 40 in training:   0%|          | 0/11 [00:00<?, ?it/s]\u001b[A\n",
            "Epoch 40 in training:   9%|▉         | 1/11 [00:00<00:01,  6.89it/s]\u001b[A"
          ]
        },
        {
          "output_type": "stream",
          "name": "stdout",
          "text": [
            "tensor([0, 0, 0, 0, 0, 0, 0, 0, 0, 0, 0, 0, 0, 0, 0, 0, 0, 0, 0, 0],\n",
            "       device='cuda:0')\n",
            "epoch 40/100 loss: 0.19\n",
            "tensor([0, 0, 0, 0, 0, 0, 0, 0, 0, 0, 1, 1, 1, 1, 1, 1, 1, 1, 1, 1],\n",
            "       device='cuda:0')\n"
          ]
        },
        {
          "output_type": "stream",
          "name": "stderr",
          "text": [
            "\n",
            "Epoch 40 in training:  18%|█▊        | 2/11 [00:00<00:01,  6.77it/s]\u001b[A\n",
            "Epoch 40 in training:  27%|██▋       | 3/11 [00:00<00:01,  6.79it/s]\u001b[A"
          ]
        },
        {
          "output_type": "stream",
          "name": "stdout",
          "text": [
            "epoch 40/100 loss: 0.37\n",
            "tensor([1, 1, 1, 1, 1, 1, 1, 1, 1, 1, 1, 1, 1, 1, 1, 1, 1, 1, 1, 2],\n",
            "       device='cuda:0')\n",
            "epoch 40/100 loss: 0.57\n"
          ]
        },
        {
          "output_type": "stream",
          "name": "stderr",
          "text": [
            "\n",
            "Epoch 40 in training:  36%|███▋      | 4/11 [00:00<00:01,  6.76it/s]\u001b[A\n",
            "Epoch 40 in training:  45%|████▌     | 5/11 [00:00<00:00,  6.94it/s]\u001b[A"
          ]
        },
        {
          "output_type": "stream",
          "name": "stdout",
          "text": [
            "tensor([2, 2, 2, 2, 2, 2, 2, 2, 2, 2, 2, 2, 2, 2, 2, 2, 2, 2, 2, 2],\n",
            "       device='cuda:0')\n",
            "epoch 40/100 loss: 0.76\n",
            "tensor([2, 2, 2, 2, 2, 2, 2, 3, 3, 3, 3, 3, 3, 3, 3, 3, 3, 3, 3, 3],\n",
            "       device='cuda:0')\n",
            "epoch 40/100 loss: 0.94\n"
          ]
        },
        {
          "output_type": "stream",
          "name": "stderr",
          "text": [
            "\n",
            "Epoch 40 in training:  55%|█████▍    | 6/11 [00:00<00:00,  7.02it/s]\u001b[A\n",
            "Epoch 40 in training:  64%|██████▎   | 7/11 [00:01<00:00,  7.09it/s]\u001b[A"
          ]
        },
        {
          "output_type": "stream",
          "name": "stdout",
          "text": [
            "tensor([3, 3, 3, 3, 3, 3, 3, 3, 3, 3, 3, 3, 3, 3, 3, 3, 3, 3, 4, 4],\n",
            "       device='cuda:0')\n",
            "epoch 40/100 loss: 1.13\n",
            "tensor([4, 4, 4, 4, 4, 4, 4, 4, 4, 4, 4, 4, 4, 4, 4, 4, 4, 4, 4, 4],\n",
            "       device='cuda:0')\n",
            "epoch 40/100 loss: 1.32\n"
          ]
        },
        {
          "output_type": "stream",
          "name": "stderr",
          "text": [
            "\n",
            "Epoch 40 in training:  73%|███████▎  | 8/11 [00:01<00:00,  7.11it/s]\u001b[A\n",
            "Epoch 40 in training:  82%|████████▏ | 9/11 [00:01<00:00,  7.14it/s]\u001b[A"
          ]
        },
        {
          "output_type": "stream",
          "name": "stdout",
          "text": [
            "tensor([4, 4, 4, 4, 4, 4, 4, 4, 5, 5, 5, 5, 5, 5, 5, 5, 5, 5, 5, 5],\n",
            "       device='cuda:0')\n",
            "epoch 40/100 loss: 1.51\n",
            "tensor([5, 5, 5, 5, 5, 5, 5, 5, 5, 5, 5, 5, 5, 5, 5, 5, 5, 5, 5, 6],\n",
            "       device='cuda:0')\n",
            "epoch 40/100 loss: 1.69\n"
          ]
        },
        {
          "output_type": "stream",
          "name": "stderr",
          "text": [
            "\n",
            "Epoch 40 in training:  91%|█████████ | 10/11 [00:01<00:00,  7.03it/s]\u001b[A\n",
            "Training:  40%|████      | 40/100 [01:00<01:31,  1.52s/it]"
          ]
        },
        {
          "output_type": "stream",
          "name": "stdout",
          "text": [
            "tensor([6, 6, 6, 6, 6, 6, 6, 6, 6, 6, 6, 6, 6, 6, 6, 6, 6, 6, 6, 6],\n",
            "       device='cuda:0')\n",
            "epoch 40/100 loss: 1.85\n",
            "tensor([6, 6, 6, 6, 6, 6, 6, 6, 6], device='cuda:0')\n",
            "epoch 40/100 loss: 2.01\n"
          ]
        },
        {
          "output_type": "stream",
          "name": "stderr",
          "text": [
            "\n",
            "Epoch 41 in training:   0%|          | 0/11 [00:00<?, ?it/s]\u001b[A\n",
            "Epoch 41 in training:   9%|▉         | 1/11 [00:00<00:01,  7.00it/s]\u001b[A\n",
            "Epoch 41 in training:  18%|█▊        | 2/11 [00:00<00:01,  7.18it/s]\u001b[A"
          ]
        },
        {
          "output_type": "stream",
          "name": "stdout",
          "text": [
            "tensor([0, 0, 0, 0, 0, 0, 0, 0, 0, 0, 0, 0, 0, 0, 0, 0, 0, 0, 0, 0],\n",
            "       device='cuda:0')\n",
            "epoch 41/100 loss: 0.19\n",
            "tensor([0, 0, 0, 0, 0, 0, 0, 0, 0, 0, 1, 1, 1, 1, 1, 1, 1, 1, 1, 1],\n",
            "       device='cuda:0')\n",
            "epoch 41/100 loss: 0.37\n"
          ]
        },
        {
          "output_type": "stream",
          "name": "stderr",
          "text": [
            "\n",
            "Epoch 41 in training:  27%|██▋       | 3/11 [00:00<00:01,  7.17it/s]\u001b[A\n"
          ]
        },
        {
          "output_type": "stream",
          "name": "stdout",
          "text": [
            "tensor([1, 1, 1, 1, 1, 1, 1, 1, 1, 1, 1, 1, 1, 1, 1, 1, 1, 1, 1, 2],\n",
            "       device='cuda:0')\n",
            "epoch 41/100 loss: 0.56\n",
            "tensor([2, 2, 2, 2, 2, 2, 2, 2, 2, 2, 2, 2, 2, 2, 2, 2, 2, 2, 2, 2],\n",
            "       device='cuda:0')\n",
            "epoch 41/100 loss: 0.76\n"
          ]
        },
        {
          "output_type": "stream",
          "name": "stderr",
          "text": [
            "Epoch 41 in training:  36%|███▋      | 4/11 [00:00<00:00,  7.04it/s]\u001b[A\n",
            "Epoch 41 in training:  45%|████▌     | 5/11 [00:00<00:00,  7.07it/s]\u001b[A\n",
            "Epoch 41 in training:  55%|█████▍    | 6/11 [00:00<00:00,  7.05it/s]"
          ]
        },
        {
          "output_type": "stream",
          "name": "stdout",
          "text": [
            "tensor([2, 2, 2, 2, 2, 2, 2, 3, 3, 3, 3, 3, 3, 3, 3, 3, 3, 3, 3, 3],\n",
            "       device='cuda:0')\n",
            "epoch 41/100 loss: 0.95\n",
            "tensor([3, 3, 3, 3, 3, 3, 3, 3, 3, 3, 3, 3, 3, 3, 3, 3, 3, 3, 4, 4],\n",
            "       device='cuda:0')\n",
            "epoch 41/100 loss: 1.14\n"
          ]
        },
        {
          "output_type": "stream",
          "name": "stderr",
          "text": [
            "\u001b[A\n",
            "Epoch 41 in training:  64%|██████▎   | 7/11 [00:00<00:00,  7.10it/s]\u001b[A\n",
            "Epoch 41 in training:  73%|███████▎  | 8/11 [00:01<00:00,  7.14it/s]\u001b[A"
          ]
        },
        {
          "output_type": "stream",
          "name": "stdout",
          "text": [
            "tensor([4, 4, 4, 4, 4, 4, 4, 4, 4, 4, 4, 4, 4, 4, 4, 4, 4, 4, 4, 4],\n",
            "       device='cuda:0')\n",
            "epoch 41/100 loss: 1.33\n",
            "tensor([4, 4, 4, 4, 4, 4, 4, 4, 5, 5, 5, 5, 5, 5, 5, 5, 5, 5, 5, 5],\n",
            "       device='cuda:0')\n",
            "epoch 41/100 loss: 1.51\n"
          ]
        },
        {
          "output_type": "stream",
          "name": "stderr",
          "text": [
            "\n",
            "Epoch 41 in training:  82%|████████▏ | 9/11 [00:01<00:00,  7.14it/s]\u001b[A"
          ]
        },
        {
          "output_type": "stream",
          "name": "stdout",
          "text": [
            "tensor([5, 5, 5, 5, 5, 5, 5, 5, 5, 5, 5, 5, 5, 5, 5, 5, 5, 5, 5, 6],\n",
            "       device='cuda:0')\n",
            "epoch 41/100 loss: 1.69\n",
            "tensor([6, 6, 6, 6, 6, 6, 6, 6, 6, 6, 6, 6, 6, 6, 6, 6, 6, 6, 6, 6],\n",
            "       device='cuda:0')\n"
          ]
        },
        {
          "output_type": "stream",
          "name": "stderr",
          "text": [
            "\n",
            "Epoch 41 in training:  91%|█████████ | 10/11 [00:01<00:00,  6.98it/s]\u001b[A\n",
            "Training:  41%|████      | 41/100 [01:02<01:29,  1.52s/it]"
          ]
        },
        {
          "output_type": "stream",
          "name": "stdout",
          "text": [
            "epoch 41/100 loss: 1.85\n",
            "tensor([6, 6, 6, 6, 6, 6, 6, 6, 6], device='cuda:0')\n",
            "epoch 41/100 loss: 2.01\n"
          ]
        },
        {
          "output_type": "stream",
          "name": "stderr",
          "text": [
            "\n",
            "Epoch 42 in training:   0%|          | 0/11 [00:00<?, ?it/s]\u001b[A"
          ]
        },
        {
          "output_type": "stream",
          "name": "stdout",
          "text": [
            "tensor([0, 0, 0, 0, 0, 0, 0, 0, 0, 0, 0, 0, 0, 0, 0, 0, 0, 0, 0, 0],\n",
            "       device='cuda:0')\n"
          ]
        },
        {
          "output_type": "stream",
          "name": "stderr",
          "text": [
            "\n",
            "Epoch 42 in training:   9%|▉         | 1/11 [00:00<00:01,  6.91it/s]\u001b[A\n",
            "Epoch 42 in training:  18%|█▊        | 2/11 [00:00<00:01,  7.05it/s]\u001b[A"
          ]
        },
        {
          "output_type": "stream",
          "name": "stdout",
          "text": [
            "epoch 42/100 loss: 0.19\n",
            "tensor([0, 0, 0, 0, 0, 0, 0, 0, 0, 0, 1, 1, 1, 1, 1, 1, 1, 1, 1, 1],\n",
            "       device='cuda:0')\n",
            "epoch 42/100 loss: 0.38\n"
          ]
        },
        {
          "output_type": "stream",
          "name": "stderr",
          "text": [
            "\n",
            "Epoch 42 in training:  27%|██▋       | 3/11 [00:00<00:01,  6.85it/s]\u001b[A\n",
            "Epoch 42 in training:  36%|███▋      | 4/11 [00:00<00:01,  6.93it/s]\u001b[A"
          ]
        },
        {
          "output_type": "stream",
          "name": "stdout",
          "text": [
            "tensor([1, 1, 1, 1, 1, 1, 1, 1, 1, 1, 1, 1, 1, 1, 1, 1, 1, 1, 1, 2],\n",
            "       device='cuda:0')\n",
            "epoch 42/100 loss: 0.57\n",
            "tensor([2, 2, 2, 2, 2, 2, 2, 2, 2, 2, 2, 2, 2, 2, 2, 2, 2, 2, 2, 2],\n",
            "       device='cuda:0')\n",
            "epoch 42/100 loss: 0.76\n"
          ]
        },
        {
          "output_type": "stream",
          "name": "stderr",
          "text": [
            "\n",
            "Epoch 42 in training:  45%|████▌     | 5/11 [00:00<00:00,  7.03it/s]\u001b[A\n",
            "Epoch 42 in training:  55%|█████▍    | 6/11 [00:00<00:00,  7.05it/s]\u001b[A"
          ]
        },
        {
          "output_type": "stream",
          "name": "stdout",
          "text": [
            "tensor([2, 2, 2, 2, 2, 2, 2, 3, 3, 3, 3, 3, 3, 3, 3, 3, 3, 3, 3, 3],\n",
            "       device='cuda:0')\n",
            "epoch 42/100 loss: 0.94\n",
            "tensor([3, 3, 3, 3, 3, 3, 3, 3, 3, 3, 3, 3, 3, 3, 3, 3, 3, 3, 4, 4],\n",
            "       device='cuda:0')\n",
            "epoch 42/100 loss: 1.13\n"
          ]
        },
        {
          "output_type": "stream",
          "name": "stderr",
          "text": [
            "\n",
            "Epoch 42 in training:  64%|██████▎   | 7/11 [00:00<00:00,  7.11it/s]\u001b[A\n",
            "Epoch 42 in training:  73%|███████▎  | 8/11 [00:01<00:00,  7.12it/s]\u001b[A"
          ]
        },
        {
          "output_type": "stream",
          "name": "stdout",
          "text": [
            "tensor([4, 4, 4, 4, 4, 4, 4, 4, 4, 4, 4, 4, 4, 4, 4, 4, 4, 4, 4, 4],\n",
            "       device='cuda:0')\n",
            "epoch 42/100 loss: 1.31\n",
            "tensor([4, 4, 4, 4, 4, 4, 4, 4, 5, 5, 5, 5, 5, 5, 5, 5, 5, 5, 5, 5],\n",
            "       device='cuda:0')\n",
            "epoch 42/100 loss: 1.50\n"
          ]
        },
        {
          "output_type": "stream",
          "name": "stderr",
          "text": [
            "\n",
            "Epoch 42 in training:  82%|████████▏ | 9/11 [00:01<00:00,  7.13it/s]\u001b[A\n",
            "Epoch 42 in training:  91%|█████████ | 10/11 [00:01<00:00,  7.14it/s]\u001b[A"
          ]
        },
        {
          "output_type": "stream",
          "name": "stdout",
          "text": [
            "tensor([5, 5, 5, 5, 5, 5, 5, 5, 5, 5, 5, 5, 5, 5, 5, 5, 5, 5, 5, 6],\n",
            "       device='cuda:0')\n",
            "epoch 42/100 loss: 1.68\n",
            "tensor([6, 6, 6, 6, 6, 6, 6, 6, 6, 6, 6, 6, 6, 6, 6, 6, 6, 6, 6, 6],\n",
            "       device='cuda:0')\n",
            "epoch 42/100 loss: 1.84\n"
          ]
        },
        {
          "output_type": "stream",
          "name": "stderr",
          "text": [
            "\n",
            "Training:  42%|████▏     | 42/100 [01:03<01:27,  1.52s/it]"
          ]
        },
        {
          "output_type": "stream",
          "name": "stdout",
          "text": [
            "tensor([6, 6, 6, 6, 6, 6, 6, 6, 6], device='cuda:0')\n",
            "epoch 42/100 loss: 2.00\n"
          ]
        },
        {
          "output_type": "stream",
          "name": "stderr",
          "text": [
            "\n",
            "Epoch 43 in training:   0%|          | 0/11 [00:00<?, ?it/s]\u001b[A\n",
            "Epoch 43 in training:   9%|▉         | 1/11 [00:00<00:01,  7.05it/s]\u001b[A"
          ]
        },
        {
          "output_type": "stream",
          "name": "stdout",
          "text": [
            "tensor([0, 0, 0, 0, 0, 0, 0, 0, 0, 0, 0, 0, 0, 0, 0, 0, 0, 0, 0, 0],\n",
            "       device='cuda:0')\n",
            "epoch 43/100 loss: 0.19\n"
          ]
        },
        {
          "output_type": "stream",
          "name": "stderr",
          "text": [
            "\n",
            "Epoch 43 in training:  18%|█▊        | 2/11 [00:00<00:01,  7.10it/s]\u001b[A"
          ]
        },
        {
          "output_type": "stream",
          "name": "stdout",
          "text": [
            "tensor([0, 0, 0, 0, 0, 0, 0, 0, 0, 0, 1, 1, 1, 1, 1, 1, 1, 1, 1, 1],\n",
            "       device='cuda:0')\n",
            "epoch 43/100 loss: 0.38\n",
            "tensor([1, 1, 1, 1, 1, 1, 1, 1, 1, 1, 1, 1, 1, 1, 1, 1, 1, 1, 1, 2],\n",
            "       device='cuda:0')\n"
          ]
        },
        {
          "output_type": "stream",
          "name": "stderr",
          "text": [
            "\n",
            "Epoch 43 in training:  27%|██▋       | 3/11 [00:00<00:01,  6.98it/s]\u001b[A\n",
            "Epoch 43 in training:  36%|███▋      | 4/11 [00:00<00:00,  7.04it/s]\u001b[A"
          ]
        },
        {
          "output_type": "stream",
          "name": "stdout",
          "text": [
            "epoch 43/100 loss: 0.57\n",
            "tensor([2, 2, 2, 2, 2, 2, 2, 2, 2, 2, 2, 2, 2, 2, 2, 2, 2, 2, 2, 2],\n",
            "       device='cuda:0')\n",
            "epoch 43/100 loss: 0.76\n"
          ]
        },
        {
          "output_type": "stream",
          "name": "stderr",
          "text": [
            "\n",
            "Epoch 43 in training:  45%|████▌     | 5/11 [00:00<00:00,  7.10it/s]\u001b[A"
          ]
        },
        {
          "output_type": "stream",
          "name": "stdout",
          "text": [
            "tensor([2, 2, 2, 2, 2, 2, 2, 3, 3, 3, 3, 3, 3, 3, 3, 3, 3, 3, 3, 3],\n",
            "       device='cuda:0')\n",
            "epoch 43/100 loss: 0.94\n"
          ]
        },
        {
          "output_type": "stream",
          "name": "stderr",
          "text": [
            "\n",
            "Epoch 43 in training:  55%|█████▍    | 6/11 [00:00<00:00,  7.08it/s]\u001b[A"
          ]
        },
        {
          "output_type": "stream",
          "name": "stdout",
          "text": [
            "tensor([3, 3, 3, 3, 3, 3, 3, 3, 3, 3, 3, 3, 3, 3, 3, 3, 3, 3, 4, 4],\n",
            "       device='cuda:0')\n",
            "epoch 43/100 loss: 1.12\n"
          ]
        },
        {
          "output_type": "stream",
          "name": "stderr",
          "text": [
            "\n",
            "Epoch 43 in training:  64%|██████▎   | 7/11 [00:00<00:00,  7.10it/s]\u001b[A"
          ]
        },
        {
          "output_type": "stream",
          "name": "stdout",
          "text": [
            "tensor([4, 4, 4, 4, 4, 4, 4, 4, 4, 4, 4, 4, 4, 4, 4, 4, 4, 4, 4, 4],\n",
            "       device='cuda:0')\n",
            "epoch 43/100 loss: 1.30\n"
          ]
        },
        {
          "output_type": "stream",
          "name": "stderr",
          "text": [
            "\n",
            "Epoch 43 in training:  73%|███████▎  | 8/11 [00:01<00:00,  7.15it/s]\u001b[A"
          ]
        },
        {
          "output_type": "stream",
          "name": "stdout",
          "text": [
            "tensor([4, 4, 4, 4, 4, 4, 4, 4, 5, 5, 5, 5, 5, 5, 5, 5, 5, 5, 5, 5],\n",
            "       device='cuda:0')\n",
            "epoch 43/100 loss: 1.49\n"
          ]
        },
        {
          "output_type": "stream",
          "name": "stderr",
          "text": [
            "\n",
            "Epoch 43 in training:  82%|████████▏ | 9/11 [00:01<00:00,  7.16it/s]\u001b[A"
          ]
        },
        {
          "output_type": "stream",
          "name": "stdout",
          "text": [
            "tensor([5, 5, 5, 5, 5, 5, 5, 5, 5, 5, 5, 5, 5, 5, 5, 5, 5, 5, 5, 6],\n",
            "       device='cuda:0')\n",
            "epoch 43/100 loss: 1.68\n",
            "tensor([6, 6, 6, 6, 6, 6, 6, 6, 6, 6, 6, 6, 6, 6, 6, 6, 6, 6, 6, 6],\n",
            "       device='cuda:0')\n"
          ]
        },
        {
          "output_type": "stream",
          "name": "stderr",
          "text": [
            "\n",
            "Epoch 43 in training:  91%|█████████ | 10/11 [00:01<00:00,  7.03it/s]\u001b[A\n",
            "Training:  43%|████▎     | 43/100 [01:05<01:26,  1.52s/it]"
          ]
        },
        {
          "output_type": "stream",
          "name": "stdout",
          "text": [
            "epoch 43/100 loss: 1.85\n",
            "tensor([6, 6, 6, 6, 6, 6, 6, 6, 6], device='cuda:0')\n",
            "epoch 43/100 loss: 2.01\n"
          ]
        },
        {
          "output_type": "stream",
          "name": "stderr",
          "text": [
            "\n",
            "Epoch 44 in training:   0%|          | 0/11 [00:00<?, ?it/s]\u001b[A"
          ]
        },
        {
          "output_type": "stream",
          "name": "stdout",
          "text": [
            "tensor([0, 0, 0, 0, 0, 0, 0, 0, 0, 0, 0, 0, 0, 0, 0, 0, 0, 0, 0, 0],\n",
            "       device='cuda:0')\n"
          ]
        },
        {
          "output_type": "stream",
          "name": "stderr",
          "text": [
            "\n",
            "Epoch 44 in training:   9%|▉         | 1/11 [00:00<00:01,  7.07it/s]\u001b[A\n",
            "Epoch 44 in training:  18%|█▊        | 2/11 [00:00<00:01,  7.19it/s]\u001b[A"
          ]
        },
        {
          "output_type": "stream",
          "name": "stdout",
          "text": [
            "epoch 44/100 loss: 0.19\n",
            "tensor([0, 0, 0, 0, 0, 0, 0, 0, 0, 0, 1, 1, 1, 1, 1, 1, 1, 1, 1, 1],\n",
            "       device='cuda:0')\n",
            "epoch 44/100 loss: 0.37\n"
          ]
        },
        {
          "output_type": "stream",
          "name": "stderr",
          "text": [
            "\n",
            "Epoch 44 in training:  27%|██▋       | 3/11 [00:00<00:01,  6.97it/s]\u001b[A\n",
            "Epoch 44 in training:  36%|███▋      | 4/11 [00:00<00:00,  7.00it/s]"
          ]
        },
        {
          "output_type": "stream",
          "name": "stdout",
          "text": [
            "tensor([1, 1, 1, 1, 1, 1, 1, 1, 1, 1, 1, 1, 1, 1, 1, 1, 1, 1, 1, 2],\n",
            "       device='cuda:0')\n",
            "epoch 44/100 loss: 0.57\n",
            "tensor([2, 2, 2, 2, 2, 2, 2, 2, 2, 2, 2, 2, 2, 2, 2, 2, 2, 2, 2, 2],\n",
            "       device='cuda:0')\n",
            "epoch 44/100 loss: 0.76\n"
          ]
        },
        {
          "output_type": "stream",
          "name": "stderr",
          "text": [
            "\u001b[A\n",
            "Epoch 44 in training:  45%|████▌     | 5/11 [00:00<00:00,  7.08it/s]\u001b[A\n",
            "Epoch 44 in training:  55%|█████▍    | 6/11 [00:00<00:00,  7.13it/s]\u001b[A"
          ]
        },
        {
          "output_type": "stream",
          "name": "stdout",
          "text": [
            "tensor([2, 2, 2, 2, 2, 2, 2, 3, 3, 3, 3, 3, 3, 3, 3, 3, 3, 3, 3, 3],\n",
            "       device='cuda:0')\n",
            "epoch 44/100 loss: 0.94\n",
            "tensor([3, 3, 3, 3, 3, 3, 3, 3, 3, 3, 3, 3, 3, 3, 3, 3, 3, 3, 4, 4],\n",
            "       device='cuda:0')\n",
            "epoch 44/100 loss: 1.12\n"
          ]
        },
        {
          "output_type": "stream",
          "name": "stderr",
          "text": [
            "\n",
            "Epoch 44 in training:  64%|██████▎   | 7/11 [00:00<00:00,  7.12it/s]\u001b[A\n",
            "Epoch 44 in training:  73%|███████▎  | 8/11 [00:01<00:00,  7.14it/s]\u001b[A"
          ]
        },
        {
          "output_type": "stream",
          "name": "stdout",
          "text": [
            "tensor([4, 4, 4, 4, 4, 4, 4, 4, 4, 4, 4, 4, 4, 4, 4, 4, 4, 4, 4, 4],\n",
            "       device='cuda:0')\n",
            "epoch 44/100 loss: 1.31\n",
            "tensor([4, 4, 4, 4, 4, 4, 4, 4, 5, 5, 5, 5, 5, 5, 5, 5, 5, 5, 5, 5],\n",
            "       device='cuda:0')\n",
            "epoch 44/100 loss: 1.49\n"
          ]
        },
        {
          "output_type": "stream",
          "name": "stderr",
          "text": [
            "\n",
            "Epoch 44 in training:  82%|████████▏ | 9/11 [00:01<00:00,  7.08it/s]\u001b[A\n",
            "Epoch 44 in training:  91%|█████████ | 10/11 [00:01<00:00,  7.14it/s]\u001b[A"
          ]
        },
        {
          "output_type": "stream",
          "name": "stdout",
          "text": [
            "tensor([5, 5, 5, 5, 5, 5, 5, 5, 5, 5, 5, 5, 5, 5, 5, 5, 5, 5, 5, 6],\n",
            "       device='cuda:0')\n",
            "epoch 44/100 loss: 1.67\n",
            "tensor([6, 6, 6, 6, 6, 6, 6, 6, 6, 6, 6, 6, 6, 6, 6, 6, 6, 6, 6, 6],\n",
            "       device='cuda:0')\n",
            "epoch 44/100 loss: 1.84\n"
          ]
        },
        {
          "output_type": "stream",
          "name": "stderr",
          "text": [
            "\n",
            "Training:  44%|████▍     | 44/100 [01:06<01:24,  1.51s/it]"
          ]
        },
        {
          "output_type": "stream",
          "name": "stdout",
          "text": [
            "tensor([6, 6, 6, 6, 6, 6, 6, 6, 6], device='cuda:0')\n",
            "epoch 44/100 loss: 2.00\n"
          ]
        },
        {
          "output_type": "stream",
          "name": "stderr",
          "text": [
            "\n",
            "Epoch 45 in training:   0%|          | 0/11 [00:00<?, ?it/s]\u001b[A\n",
            "Epoch 45 in training:   9%|▉         | 1/11 [00:00<00:01,  7.26it/s]\u001b[A"
          ]
        },
        {
          "output_type": "stream",
          "name": "stdout",
          "text": [
            "tensor([0, 0, 0, 0, 0, 0, 0, 0, 0, 0, 0, 0, 0, 0, 0, 0, 0, 0, 0, 0],\n",
            "       device='cuda:0')\n",
            "epoch 45/100 loss: 0.18\n"
          ]
        },
        {
          "output_type": "stream",
          "name": "stderr",
          "text": [
            "\n",
            "Epoch 45 in training:  18%|█▊        | 2/11 [00:00<00:01,  7.21it/s]\u001b[A"
          ]
        },
        {
          "output_type": "stream",
          "name": "stdout",
          "text": [
            "tensor([0, 0, 0, 0, 0, 0, 0, 0, 0, 0, 1, 1, 1, 1, 1, 1, 1, 1, 1, 1],\n",
            "       device='cuda:0')\n",
            "epoch 45/100 loss: 0.37\n"
          ]
        },
        {
          "output_type": "stream",
          "name": "stderr",
          "text": [
            "\n",
            "Epoch 45 in training:  27%|██▋       | 3/11 [00:00<00:01,  7.20it/s]\u001b[A"
          ]
        },
        {
          "output_type": "stream",
          "name": "stdout",
          "text": [
            "tensor([1, 1, 1, 1, 1, 1, 1, 1, 1, 1, 1, 1, 1, 1, 1, 1, 1, 1, 1, 2],\n",
            "       device='cuda:0')\n",
            "epoch 45/100 loss: 0.55\n"
          ]
        },
        {
          "output_type": "stream",
          "name": "stderr",
          "text": [
            "\n",
            "Epoch 45 in training:  36%|███▋      | 4/11 [00:00<00:00,  7.21it/s]\u001b[A"
          ]
        },
        {
          "output_type": "stream",
          "name": "stdout",
          "text": [
            "tensor([2, 2, 2, 2, 2, 2, 2, 2, 2, 2, 2, 2, 2, 2, 2, 2, 2, 2, 2, 2],\n",
            "       device='cuda:0')\n",
            "epoch 45/100 loss: 0.74\n",
            "tensor([2, 2, 2, 2, 2, 2, 2, 3, 3, 3, 3, 3, 3, 3, 3, 3, 3, 3, 3, 3],\n",
            "       device='cuda:0')\n"
          ]
        },
        {
          "output_type": "stream",
          "name": "stderr",
          "text": [
            "\n",
            "Epoch 45 in training:  45%|████▌     | 5/11 [00:00<00:00,  7.00it/s]\u001b[A"
          ]
        },
        {
          "output_type": "stream",
          "name": "stdout",
          "text": [
            "epoch 45/100 loss: 0.92\n",
            "tensor([3, 3, 3, 3, 3, 3, 3, 3, 3, 3, 3, 3, 3, 3, 3, 3, 3, 3, 4, 4],\n",
            "       device='cuda:0')\n"
          ]
        },
        {
          "output_type": "stream",
          "name": "stderr",
          "text": [
            "\n",
            "Epoch 45 in training:  55%|█████▍    | 6/11 [00:00<00:00,  6.89it/s]\u001b[A"
          ]
        },
        {
          "output_type": "stream",
          "name": "stdout",
          "text": [
            "epoch 45/100 loss: 1.10\n"
          ]
        },
        {
          "output_type": "stream",
          "name": "stderr",
          "text": [
            "\n",
            "Epoch 45 in training:  64%|██████▎   | 7/11 [00:00<00:00,  6.93it/s]\u001b[A"
          ]
        },
        {
          "output_type": "stream",
          "name": "stdout",
          "text": [
            "tensor([4, 4, 4, 4, 4, 4, 4, 4, 4, 4, 4, 4, 4, 4, 4, 4, 4, 4, 4, 4],\n",
            "       device='cuda:0')\n",
            "epoch 45/100 loss: 1.29\n",
            "tensor([4, 4, 4, 4, 4, 4, 4, 4, 5, 5, 5, 5, 5, 5, 5, 5, 5, 5, 5, 5],\n",
            "       device='cuda:0')\n"
          ]
        },
        {
          "output_type": "stream",
          "name": "stderr",
          "text": [
            "\n",
            "Epoch 45 in training:  73%|███████▎  | 8/11 [00:01<00:00,  6.89it/s]\u001b[A\n",
            "Epoch 45 in training:  82%|████████▏ | 9/11 [00:01<00:00,  6.95it/s]\u001b[A"
          ]
        },
        {
          "output_type": "stream",
          "name": "stdout",
          "text": [
            "epoch 45/100 loss: 1.47\n",
            "tensor([5, 5, 5, 5, 5, 5, 5, 5, 5, 5, 5, 5, 5, 5, 5, 5, 5, 5, 5, 6],\n",
            "       device='cuda:0')\n",
            "epoch 45/100 loss: 1.66\n"
          ]
        },
        {
          "output_type": "stream",
          "name": "stderr",
          "text": [
            "\n",
            "Epoch 45 in training:  91%|█████████ | 10/11 [00:01<00:00,  6.97it/s]\u001b[A\n",
            "Training:  45%|████▌     | 45/100 [01:08<01:23,  1.52s/it]"
          ]
        },
        {
          "output_type": "stream",
          "name": "stdout",
          "text": [
            "tensor([6, 6, 6, 6, 6, 6, 6, 6, 6, 6, 6, 6, 6, 6, 6, 6, 6, 6, 6, 6],\n",
            "       device='cuda:0')\n",
            "epoch 45/100 loss: 1.82\n",
            "tensor([6, 6, 6, 6, 6, 6, 6, 6, 6], device='cuda:0')\n",
            "epoch 45/100 loss: 1.98\n"
          ]
        },
        {
          "output_type": "stream",
          "name": "stderr",
          "text": [
            "\n",
            "Epoch 46 in training:   0%|          | 0/11 [00:00<?, ?it/s]\u001b[A\n",
            "Epoch 46 in training:   9%|▉         | 1/11 [00:00<00:01,  6.97it/s]\u001b[A\n",
            "Epoch 46 in training:  18%|█▊        | 2/11 [00:00<00:01,  7.16it/s]\u001b[A"
          ]
        },
        {
          "output_type": "stream",
          "name": "stdout",
          "text": [
            "tensor([0, 0, 0, 0, 0, 0, 0, 0, 0, 0, 0, 0, 0, 0, 0, 0, 0, 0, 0, 0],\n",
            "       device='cuda:0')\n",
            "epoch 46/100 loss: 0.19\n",
            "tensor([0, 0, 0, 0, 0, 0, 0, 0, 0, 0, 1, 1, 1, 1, 1, 1, 1, 1, 1, 1],\n",
            "       device='cuda:0')\n",
            "epoch 46/100 loss: 0.37\n"
          ]
        },
        {
          "output_type": "stream",
          "name": "stderr",
          "text": [
            "\n",
            "Epoch 46 in training:  27%|██▋       | 3/11 [00:00<00:01,  7.16it/s]\u001b[A\n",
            "Epoch 46 in training:  36%|███▋      | 4/11 [00:00<00:00,  7.18it/s]\u001b[A"
          ]
        },
        {
          "output_type": "stream",
          "name": "stdout",
          "text": [
            "tensor([1, 1, 1, 1, 1, 1, 1, 1, 1, 1, 1, 1, 1, 1, 1, 1, 1, 1, 1, 2],\n",
            "       device='cuda:0')\n",
            "epoch 46/100 loss: 0.56\n",
            "tensor([2, 2, 2, 2, 2, 2, 2, 2, 2, 2, 2, 2, 2, 2, 2, 2, 2, 2, 2, 2],\n",
            "       device='cuda:0')\n",
            "epoch 46/100 loss: 0.75\n"
          ]
        },
        {
          "output_type": "stream",
          "name": "stderr",
          "text": [
            "\n",
            "Epoch 46 in training:  45%|████▌     | 5/11 [00:00<00:00,  7.17it/s]\u001b[A\n",
            "Epoch 46 in training:  55%|█████▍    | 6/11 [00:00<00:00,  7.20it/s]\u001b[A"
          ]
        },
        {
          "output_type": "stream",
          "name": "stdout",
          "text": [
            "tensor([2, 2, 2, 2, 2, 2, 2, 3, 3, 3, 3, 3, 3, 3, 3, 3, 3, 3, 3, 3],\n",
            "       device='cuda:0')\n",
            "epoch 46/100 loss: 0.94\n",
            "tensor([3, 3, 3, 3, 3, 3, 3, 3, 3, 3, 3, 3, 3, 3, 3, 3, 3, 3, 4, 4],\n",
            "       device='cuda:0')\n",
            "epoch 46/100 loss: 1.12\n"
          ]
        },
        {
          "output_type": "stream",
          "name": "stderr",
          "text": [
            "\n",
            "Epoch 46 in training:  64%|██████▎   | 7/11 [00:00<00:00,  7.06it/s]\u001b[A\n",
            "Epoch 46 in training:  73%|███████▎  | 8/11 [00:01<00:00,  7.11it/s]\u001b[A"
          ]
        },
        {
          "output_type": "stream",
          "name": "stdout",
          "text": [
            "tensor([4, 4, 4, 4, 4, 4, 4, 4, 4, 4, 4, 4, 4, 4, 4, 4, 4, 4, 4, 4],\n",
            "       device='cuda:0')\n",
            "epoch 46/100 loss: 1.31\n",
            "tensor([4, 4, 4, 4, 4, 4, 4, 4, 5, 5, 5, 5, 5, 5, 5, 5, 5, 5, 5, 5],\n",
            "       device='cuda:0')\n",
            "epoch 46/100 loss: 1.49\n"
          ]
        },
        {
          "output_type": "stream",
          "name": "stderr",
          "text": [
            "\n",
            "Epoch 46 in training:  82%|████████▏ | 9/11 [00:01<00:00,  7.17it/s]\u001b[A\n",
            "Epoch 46 in training:  91%|█████████ | 10/11 [00:01<00:00,  7.21it/s]\u001b[A"
          ]
        },
        {
          "output_type": "stream",
          "name": "stdout",
          "text": [
            "tensor([5, 5, 5, 5, 5, 5, 5, 5, 5, 5, 5, 5, 5, 5, 5, 5, 5, 5, 5, 6],\n",
            "       device='cuda:0')\n",
            "epoch 46/100 loss: 1.66\n",
            "tensor([6, 6, 6, 6, 6, 6, 6, 6, 6, 6, 6, 6, 6, 6, 6, 6, 6, 6, 6, 6],\n",
            "       device='cuda:0')\n",
            "epoch 46/100 loss: 1.83\n"
          ]
        },
        {
          "output_type": "stream",
          "name": "stderr",
          "text": [
            "\n",
            "Training:  46%|████▌     | 46/100 [01:09<01:21,  1.51s/it]"
          ]
        },
        {
          "output_type": "stream",
          "name": "stdout",
          "text": [
            "tensor([6, 6, 6, 6, 6, 6, 6, 6, 6], device='cuda:0')\n",
            "epoch 46/100 loss: 2.00\n"
          ]
        },
        {
          "output_type": "stream",
          "name": "stderr",
          "text": [
            "\n",
            "Epoch 47 in training:   0%|          | 0/11 [00:00<?, ?it/s]\u001b[A\n",
            "Epoch 47 in training:   9%|▉         | 1/11 [00:00<00:01,  7.29it/s]\u001b[A"
          ]
        },
        {
          "output_type": "stream",
          "name": "stdout",
          "text": [
            "tensor([0, 0, 0, 0, 0, 0, 0, 0, 0, 0, 0, 0, 0, 0, 0, 0, 0, 0, 0, 0],\n",
            "       device='cuda:0')\n",
            "epoch 47/100 loss: 0.19\n"
          ]
        },
        {
          "output_type": "stream",
          "name": "stderr",
          "text": [
            "\n",
            "Epoch 47 in training:  18%|█▊        | 2/11 [00:00<00:01,  7.24it/s]\u001b[A"
          ]
        },
        {
          "output_type": "stream",
          "name": "stdout",
          "text": [
            "tensor([0, 0, 0, 0, 0, 0, 0, 0, 0, 0, 1, 1, 1, 1, 1, 1, 1, 1, 1, 1],\n",
            "       device='cuda:0')\n",
            "epoch 47/100 loss: 0.38\n"
          ]
        },
        {
          "output_type": "stream",
          "name": "stderr",
          "text": [
            "\n",
            "Epoch 47 in training:  27%|██▋       | 3/11 [00:00<00:01,  7.21it/s]\u001b[A"
          ]
        },
        {
          "output_type": "stream",
          "name": "stdout",
          "text": [
            "tensor([1, 1, 1, 1, 1, 1, 1, 1, 1, 1, 1, 1, 1, 1, 1, 1, 1, 1, 1, 2],\n",
            "       device='cuda:0')\n",
            "epoch 47/100 loss: 0.57\n"
          ]
        },
        {
          "output_type": "stream",
          "name": "stderr",
          "text": [
            "\n",
            "Epoch 47 in training:  36%|███▋      | 4/11 [00:00<00:00,  7.17it/s]\u001b[A"
          ]
        },
        {
          "output_type": "stream",
          "name": "stdout",
          "text": [
            "tensor([2, 2, 2, 2, 2, 2, 2, 2, 2, 2, 2, 2, 2, 2, 2, 2, 2, 2, 2, 2],\n",
            "       device='cuda:0')\n",
            "epoch 47/100 loss: 0.76\n",
            "tensor([2, 2, 2, 2, 2, 2, 2, 3, 3, 3, 3, 3, 3, 3, 3, 3, 3, 3, 3, 3],\n",
            "       device='cuda:0')\n"
          ]
        },
        {
          "output_type": "stream",
          "name": "stderr",
          "text": [
            "\n",
            "Epoch 47 in training:  45%|████▌     | 5/11 [00:00<00:00,  7.01it/s]\u001b[A\n",
            "Epoch 47 in training:  55%|█████▍    | 6/11 [00:00<00:00,  7.03it/s]\u001b[A"
          ]
        },
        {
          "output_type": "stream",
          "name": "stdout",
          "text": [
            "epoch 47/100 loss: 0.95\n",
            "tensor([3, 3, 3, 3, 3, 3, 3, 3, 3, 3, 3, 3, 3, 3, 3, 3, 3, 3, 4, 4],\n",
            "       device='cuda:0')\n",
            "epoch 47/100 loss: 1.13\n"
          ]
        },
        {
          "output_type": "stream",
          "name": "stderr",
          "text": [
            "\n",
            "Epoch 47 in training:  64%|██████▎   | 7/11 [00:00<00:00,  7.10it/s]\u001b[A"
          ]
        },
        {
          "output_type": "stream",
          "name": "stdout",
          "text": [
            "tensor([4, 4, 4, 4, 4, 4, 4, 4, 4, 4, 4, 4, 4, 4, 4, 4, 4, 4, 4, 4],\n",
            "       device='cuda:0')\n",
            "epoch 47/100 loss: 1.32\n",
            "tensor([4, 4, 4, 4, 4, 4, 4, 4, 5, 5, 5, 5, 5, 5, 5, 5, 5, 5, 5, 5],\n",
            "       device='cuda:0')\n"
          ]
        },
        {
          "output_type": "stream",
          "name": "stderr",
          "text": [
            "\n",
            "Epoch 47 in training:  73%|███████▎  | 8/11 [00:01<00:00,  6.98it/s]\u001b[A\n",
            "Epoch 47 in training:  82%|████████▏ | 9/11 [00:01<00:00,  7.07it/s]\u001b[A"
          ]
        },
        {
          "output_type": "stream",
          "name": "stdout",
          "text": [
            "epoch 47/100 loss: 1.50\n",
            "tensor([5, 5, 5, 5, 5, 5, 5, 5, 5, 5, 5, 5, 5, 5, 5, 5, 5, 5, 5, 6],\n",
            "       device='cuda:0')\n",
            "epoch 47/100 loss: 1.68\n"
          ]
        },
        {
          "output_type": "stream",
          "name": "stderr",
          "text": [
            "\n",
            "Epoch 47 in training:  91%|█████████ | 10/11 [00:01<00:00,  6.97it/s]\u001b[A\n",
            "Training:  47%|████▋     | 47/100 [01:11<01:20,  1.52s/it]"
          ]
        },
        {
          "output_type": "stream",
          "name": "stdout",
          "text": [
            "tensor([6, 6, 6, 6, 6, 6, 6, 6, 6, 6, 6, 6, 6, 6, 6, 6, 6, 6, 6, 6],\n",
            "       device='cuda:0')\n",
            "epoch 47/100 loss: 1.84\n",
            "tensor([6, 6, 6, 6, 6, 6, 6, 6, 6], device='cuda:0')\n",
            "epoch 47/100 loss: 2.01\n"
          ]
        },
        {
          "output_type": "stream",
          "name": "stderr",
          "text": [
            "\n",
            "Epoch 48 in training:   0%|          | 0/11 [00:00<?, ?it/s]\u001b[A\n",
            "Epoch 48 in training:   9%|▉         | 1/11 [00:00<00:01,  6.99it/s]\u001b[A"
          ]
        },
        {
          "output_type": "stream",
          "name": "stdout",
          "text": [
            "tensor([0, 0, 0, 0, 0, 0, 0, 0, 0, 0, 0, 0, 0, 0, 0, 0, 0, 0, 0, 0],\n",
            "       device='cuda:0')\n",
            "epoch 48/100 loss: 0.18\n",
            "tensor([0, 0, 0, 0, 0, 0, 0, 0, 0, 0, 1, 1, 1, 1, 1, 1, 1, 1, 1, 1],\n",
            "       device='cuda:0')\n"
          ]
        },
        {
          "output_type": "stream",
          "name": "stderr",
          "text": [
            "\n",
            "Epoch 48 in training:  18%|█▊        | 2/11 [00:00<00:01,  6.83it/s]\u001b[A\n",
            "Epoch 48 in training:  27%|██▋       | 3/11 [00:00<00:01,  6.81it/s]\u001b[A"
          ]
        },
        {
          "output_type": "stream",
          "name": "stdout",
          "text": [
            "epoch 48/100 loss: 0.37\n",
            "tensor([1, 1, 1, 1, 1, 1, 1, 1, 1, 1, 1, 1, 1, 1, 1, 1, 1, 1, 1, 2],\n",
            "       device='cuda:0')\n",
            "epoch 48/100 loss: 0.55\n"
          ]
        },
        {
          "output_type": "stream",
          "name": "stderr",
          "text": [
            "\n",
            "Epoch 48 in training:  36%|███▋      | 4/11 [00:00<00:01,  6.96it/s]\u001b[A\n",
            "Epoch 48 in training:  45%|████▌     | 5/11 [00:00<00:00,  7.04it/s]\u001b[A"
          ]
        },
        {
          "output_type": "stream",
          "name": "stdout",
          "text": [
            "tensor([2, 2, 2, 2, 2, 2, 2, 2, 2, 2, 2, 2, 2, 2, 2, 2, 2, 2, 2, 2],\n",
            "       device='cuda:0')\n",
            "epoch 48/100 loss: 0.75\n",
            "tensor([2, 2, 2, 2, 2, 2, 2, 3, 3, 3, 3, 3, 3, 3, 3, 3, 3, 3, 3, 3],\n",
            "       device='cuda:0')\n",
            "epoch 48/100 loss: 0.93\n"
          ]
        },
        {
          "output_type": "stream",
          "name": "stderr",
          "text": [
            "\n",
            "Epoch 48 in training:  55%|█████▍    | 6/11 [00:00<00:00,  7.09it/s]\u001b[A\n",
            "Epoch 48 in training:  64%|██████▎   | 7/11 [00:00<00:00,  7.15it/s]\u001b[A"
          ]
        },
        {
          "output_type": "stream",
          "name": "stdout",
          "text": [
            "tensor([3, 3, 3, 3, 3, 3, 3, 3, 3, 3, 3, 3, 3, 3, 3, 3, 3, 3, 4, 4],\n",
            "       device='cuda:0')\n",
            "epoch 48/100 loss: 1.11\n",
            "tensor([4, 4, 4, 4, 4, 4, 4, 4, 4, 4, 4, 4, 4, 4, 4, 4, 4, 4, 4, 4],\n",
            "       device='cuda:0')\n",
            "epoch 48/100 loss: 1.29\n"
          ]
        },
        {
          "output_type": "stream",
          "name": "stderr",
          "text": [
            "\n",
            "Epoch 48 in training:  73%|███████▎  | 8/11 [00:01<00:00,  7.11it/s]\u001b[A\n",
            "Epoch 48 in training:  82%|████████▏ | 9/11 [00:01<00:00,  7.14it/s]\u001b[A"
          ]
        },
        {
          "output_type": "stream",
          "name": "stdout",
          "text": [
            "tensor([4, 4, 4, 4, 4, 4, 4, 4, 5, 5, 5, 5, 5, 5, 5, 5, 5, 5, 5, 5],\n",
            "       device='cuda:0')\n",
            "epoch 48/100 loss: 1.47\n",
            "tensor([5, 5, 5, 5, 5, 5, 5, 5, 5, 5, 5, 5, 5, 5, 5, 5, 5, 5, 5, 6],\n",
            "       device='cuda:0')\n",
            "epoch 48/100 loss: 1.65\n"
          ]
        },
        {
          "output_type": "stream",
          "name": "stderr",
          "text": [
            "\n",
            "Epoch 48 in training:  91%|█████████ | 10/11 [00:01<00:00,  7.12it/s]\u001b[A\n",
            "Training:  48%|████▊     | 48/100 [01:12<01:18,  1.52s/it]"
          ]
        },
        {
          "output_type": "stream",
          "name": "stdout",
          "text": [
            "tensor([6, 6, 6, 6, 6, 6, 6, 6, 6, 6, 6, 6, 6, 6, 6, 6, 6, 6, 6, 6],\n",
            "       device='cuda:0')\n",
            "epoch 48/100 loss: 1.81\n",
            "tensor([6, 6, 6, 6, 6, 6, 6, 6, 6], device='cuda:0')\n",
            "epoch 48/100 loss: 1.97\n"
          ]
        },
        {
          "output_type": "stream",
          "name": "stderr",
          "text": [
            "\n",
            "Epoch 49 in training:   0%|          | 0/11 [00:00<?, ?it/s]\u001b[A\n",
            "Epoch 49 in training:   9%|▉         | 1/11 [00:00<00:01,  7.38it/s]\u001b[A\n",
            "Epoch 49 in training:  18%|█▊        | 2/11 [00:00<00:01,  7.32it/s]\u001b[A"
          ]
        },
        {
          "output_type": "stream",
          "name": "stdout",
          "text": [
            "tensor([0, 0, 0, 0, 0, 0, 0, 0, 0, 0, 0, 0, 0, 0, 0, 0, 0, 0, 0, 0],\n",
            "       device='cuda:0')\n",
            "epoch 49/100 loss: 0.19\n",
            "tensor([0, 0, 0, 0, 0, 0, 0, 0, 0, 0, 1, 1, 1, 1, 1, 1, 1, 1, 1, 1],\n",
            "       device='cuda:0')\n",
            "epoch 49/100 loss: 0.38\n"
          ]
        },
        {
          "output_type": "stream",
          "name": "stderr",
          "text": [
            "\n",
            "Epoch 49 in training:  27%|██▋       | 3/11 [00:00<00:01,  7.25it/s]\u001b[A\n",
            "Epoch 49 in training:  36%|███▋      | 4/11 [00:00<00:00,  7.20it/s]\u001b[A"
          ]
        },
        {
          "output_type": "stream",
          "name": "stdout",
          "text": [
            "tensor([1, 1, 1, 1, 1, 1, 1, 1, 1, 1, 1, 1, 1, 1, 1, 1, 1, 1, 1, 2],\n",
            "       device='cuda:0')\n",
            "epoch 49/100 loss: 0.58\n",
            "tensor([2, 2, 2, 2, 2, 2, 2, 2, 2, 2, 2, 2, 2, 2, 2, 2, 2, 2, 2, 2],\n",
            "       device='cuda:0')\n",
            "epoch 49/100 loss: 0.77\n"
          ]
        },
        {
          "output_type": "stream",
          "name": "stderr",
          "text": [
            "\n",
            "Epoch 49 in training:  45%|████▌     | 5/11 [00:00<00:00,  7.15it/s]\u001b[A\n",
            "Epoch 49 in training:  55%|█████▍    | 6/11 [00:00<00:00,  7.21it/s]\u001b[A"
          ]
        },
        {
          "output_type": "stream",
          "name": "stdout",
          "text": [
            "tensor([2, 2, 2, 2, 2, 2, 2, 3, 3, 3, 3, 3, 3, 3, 3, 3, 3, 3, 3, 3],\n",
            "       device='cuda:0')\n",
            "epoch 49/100 loss: 0.95\n",
            "tensor([3, 3, 3, 3, 3, 3, 3, 3, 3, 3, 3, 3, 3, 3, 3, 3, 3, 3, 4, 4],\n",
            "       device='cuda:0')\n",
            "epoch 49/100 loss: 1.13\n"
          ]
        },
        {
          "output_type": "stream",
          "name": "stderr",
          "text": [
            "\n",
            "Epoch 49 in training:  64%|██████▎   | 7/11 [00:00<00:00,  7.19it/s]\u001b[A\n",
            "Epoch 49 in training:  73%|███████▎  | 8/11 [00:01<00:00,  7.19it/s]\u001b[A"
          ]
        },
        {
          "output_type": "stream",
          "name": "stdout",
          "text": [
            "tensor([4, 4, 4, 4, 4, 4, 4, 4, 4, 4, 4, 4, 4, 4, 4, 4, 4, 4, 4, 4],\n",
            "       device='cuda:0')\n",
            "epoch 49/100 loss: 1.31\n",
            "tensor([4, 4, 4, 4, 4, 4, 4, 4, 5, 5, 5, 5, 5, 5, 5, 5, 5, 5, 5, 5],\n",
            "       device='cuda:0')\n",
            "epoch 49/100 loss: 1.49\n"
          ]
        },
        {
          "output_type": "stream",
          "name": "stderr",
          "text": [
            "\n",
            "Epoch 49 in training:  82%|████████▏ | 9/11 [00:01<00:00,  7.17it/s]\u001b[A\n",
            "Epoch 49 in training:  91%|█████████ | 10/11 [00:01<00:00,  7.13it/s]\u001b[A"
          ]
        },
        {
          "output_type": "stream",
          "name": "stdout",
          "text": [
            "tensor([5, 5, 5, 5, 5, 5, 5, 5, 5, 5, 5, 5, 5, 5, 5, 5, 5, 5, 5, 6],\n",
            "       device='cuda:0')\n",
            "epoch 49/100 loss: 1.68\n",
            "tensor([6, 6, 6, 6, 6, 6, 6, 6, 6, 6, 6, 6, 6, 6, 6, 6, 6, 6, 6, 6],\n",
            "       device='cuda:0')\n",
            "epoch 49/100 loss: 1.84\n"
          ]
        },
        {
          "output_type": "stream",
          "name": "stderr",
          "text": [
            "\n",
            "Training:  49%|████▉     | 49/100 [01:14<01:16,  1.51s/it]"
          ]
        },
        {
          "output_type": "stream",
          "name": "stdout",
          "text": [
            "tensor([6, 6, 6, 6, 6, 6, 6, 6, 6], device='cuda:0')\n",
            "epoch 49/100 loss: 2.00\n"
          ]
        },
        {
          "output_type": "stream",
          "name": "stderr",
          "text": [
            "\n",
            "Epoch 50 in training:   0%|          | 0/11 [00:00<?, ?it/s]\u001b[A\n",
            "Epoch 50 in training:   9%|▉         | 1/11 [00:00<00:01,  7.46it/s]\u001b[A"
          ]
        },
        {
          "output_type": "stream",
          "name": "stdout",
          "text": [
            "tensor([0, 0, 0, 0, 0, 0, 0, 0, 0, 0, 0, 0, 0, 0, 0, 0, 0, 0, 0, 0],\n",
            "       device='cuda:0')\n",
            "epoch 50/100 loss: 0.18\n"
          ]
        },
        {
          "output_type": "stream",
          "name": "stderr",
          "text": [
            "\n",
            "Epoch 50 in training:  18%|█▊        | 2/11 [00:00<00:01,  7.18it/s]"
          ]
        },
        {
          "output_type": "stream",
          "name": "stdout",
          "text": [
            "tensor([0, 0, 0, 0, 0, 0, 0, 0, 0, 0, 1, 1, 1, 1, 1, 1, 1, 1, 1, 1],\n",
            "       device='cuda:0')\n",
            "epoch 50/100 loss: 0.37\n"
          ]
        },
        {
          "output_type": "stream",
          "name": "stderr",
          "text": [
            "\u001b[A\n",
            "Epoch 50 in training:  27%|██▋       | 3/11 [00:00<00:01,  7.17it/s]\u001b[A"
          ]
        },
        {
          "output_type": "stream",
          "name": "stdout",
          "text": [
            "tensor([1, 1, 1, 1, 1, 1, 1, 1, 1, 1, 1, 1, 1, 1, 1, 1, 1, 1, 1, 2],\n",
            "       device='cuda:0')\n",
            "epoch 50/100 loss: 0.56\n",
            "tensor([2, 2, 2, 2, 2, 2, 2, 2, 2, 2, 2, 2, 2, 2, 2, 2, 2, 2, 2, 2],\n",
            "       device='cuda:0')\n"
          ]
        },
        {
          "output_type": "stream",
          "name": "stderr",
          "text": [
            "\n",
            "Epoch 50 in training:  36%|███▋      | 4/11 [00:00<00:01,  6.99it/s]\u001b[A\n",
            "Epoch 50 in training:  45%|████▌     | 5/11 [00:00<00:00,  7.05it/s]\u001b[A"
          ]
        },
        {
          "output_type": "stream",
          "name": "stdout",
          "text": [
            "epoch 50/100 loss: 0.76\n",
            "tensor([2, 2, 2, 2, 2, 2, 2, 3, 3, 3, 3, 3, 3, 3, 3, 3, 3, 3, 3, 3],\n",
            "       device='cuda:0')\n",
            "epoch 50/100 loss: 0.94\n"
          ]
        },
        {
          "output_type": "stream",
          "name": "stderr",
          "text": [
            "\n",
            "Epoch 50 in training:  55%|█████▍    | 6/11 [00:00<00:00,  7.09it/s]\u001b[A\n",
            "Epoch 50 in training:  64%|██████▎   | 7/11 [00:00<00:00,  7.13it/s]\u001b[A"
          ]
        },
        {
          "output_type": "stream",
          "name": "stdout",
          "text": [
            "tensor([3, 3, 3, 3, 3, 3, 3, 3, 3, 3, 3, 3, 3, 3, 3, 3, 3, 3, 4, 4],\n",
            "       device='cuda:0')\n",
            "epoch 50/100 loss: 1.12\n",
            "tensor([4, 4, 4, 4, 4, 4, 4, 4, 4, 4, 4, 4, 4, 4, 4, 4, 4, 4, 4, 4],\n",
            "       device='cuda:0')\n",
            "epoch 50/100 loss: 1.30\n"
          ]
        },
        {
          "output_type": "stream",
          "name": "stderr",
          "text": [
            "\n",
            "Epoch 50 in training:  73%|███████▎  | 8/11 [00:01<00:00,  7.12it/s]\u001b[A"
          ]
        },
        {
          "output_type": "stream",
          "name": "stdout",
          "text": [
            "tensor([4, 4, 4, 4, 4, 4, 4, 4, 5, 5, 5, 5, 5, 5, 5, 5, 5, 5, 5, 5],\n",
            "       device='cuda:0')\n",
            "epoch 50/100 loss: 1.49\n",
            "tensor([5, 5, 5, 5, 5, 5, 5, 5, 5, 5, 5, 5, 5, 5, 5, 5, 5, 5, 5, 6],\n",
            "       device='cuda:0')\n"
          ]
        },
        {
          "output_type": "stream",
          "name": "stderr",
          "text": [
            "\n",
            "Epoch 50 in training:  82%|████████▏ | 9/11 [00:01<00:00,  6.95it/s]\u001b[A\n",
            "Epoch 50 in training:  91%|█████████ | 10/11 [00:01<00:00,  6.94it/s]\u001b[A"
          ]
        },
        {
          "output_type": "stream",
          "name": "stdout",
          "text": [
            "epoch 50/100 loss: 1.67\n",
            "tensor([6, 6, 6, 6, 6, 6, 6, 6, 6, 6, 6, 6, 6, 6, 6, 6, 6, 6, 6, 6],\n",
            "       device='cuda:0')\n",
            "epoch 50/100 loss: 1.83\n",
            "tensor([6, 6, 6, 6, 6, 6, 6, 6, 6], device='cuda:0')\n"
          ]
        },
        {
          "output_type": "stream",
          "name": "stderr",
          "text": [
            "\n",
            "Training:  50%|█████     | 50/100 [01:15<01:15,  1.51s/it]"
          ]
        },
        {
          "output_type": "stream",
          "name": "stdout",
          "text": [
            "epoch 50/100 loss: 1.98\n"
          ]
        },
        {
          "output_type": "stream",
          "name": "stderr",
          "text": [
            "\n",
            "Epoch 51 in training:   0%|          | 0/11 [00:00<?, ?it/s]\u001b[A\n",
            "Epoch 51 in training:   9%|▉         | 1/11 [00:00<00:01,  7.01it/s]\u001b[A"
          ]
        },
        {
          "output_type": "stream",
          "name": "stdout",
          "text": [
            "tensor([0, 0, 0, 0, 0, 0, 0, 0, 0, 0, 0, 0, 0, 0, 0, 0, 0, 0, 0, 0],\n",
            "       device='cuda:0')\n",
            "epoch 51/100 loss: 0.18\n"
          ]
        },
        {
          "output_type": "stream",
          "name": "stderr",
          "text": [
            "\n",
            "Epoch 51 in training:  18%|█▊        | 2/11 [00:00<00:01,  7.04it/s]\u001b[A"
          ]
        },
        {
          "output_type": "stream",
          "name": "stdout",
          "text": [
            "tensor([0, 0, 0, 0, 0, 0, 0, 0, 0, 0, 1, 1, 1, 1, 1, 1, 1, 1, 1, 1],\n",
            "       device='cuda:0')\n",
            "epoch 51/100 loss: 0.37\n",
            "tensor([1, 1, 1, 1, 1, 1, 1, 1, 1, 1, 1, 1, 1, 1, 1, 1, 1, 1, 1, 2],\n",
            "       device='cuda:0')\n"
          ]
        },
        {
          "output_type": "stream",
          "name": "stderr",
          "text": [
            "\n",
            "Epoch 51 in training:  27%|██▋       | 3/11 [00:00<00:01,  6.89it/s]\u001b[A\n",
            "Epoch 51 in training:  36%|███▋      | 4/11 [00:00<00:01,  6.93it/s]"
          ]
        },
        {
          "output_type": "stream",
          "name": "stdout",
          "text": [
            "epoch 51/100 loss: 0.56\n",
            "tensor([2, 2, 2, 2, 2, 2, 2, 2, 2, 2, 2, 2, 2, 2, 2, 2, 2, 2, 2, 2],\n",
            "       device='cuda:0')\n",
            "epoch 51/100 loss: 0.75\n"
          ]
        },
        {
          "output_type": "stream",
          "name": "stderr",
          "text": [
            "\u001b[A\n",
            "Epoch 51 in training:  45%|████▌     | 5/11 [00:00<00:00,  6.97it/s]\u001b[A\n",
            "Epoch 51 in training:  55%|█████▍    | 6/11 [00:00<00:00,  7.05it/s]\u001b[A"
          ]
        },
        {
          "output_type": "stream",
          "name": "stdout",
          "text": [
            "tensor([2, 2, 2, 2, 2, 2, 2, 3, 3, 3, 3, 3, 3, 3, 3, 3, 3, 3, 3, 3],\n",
            "       device='cuda:0')\n",
            "epoch 51/100 loss: 0.93\n",
            "tensor([3, 3, 3, 3, 3, 3, 3, 3, 3, 3, 3, 3, 3, 3, 3, 3, 3, 3, 4, 4],\n",
            "       device='cuda:0')\n",
            "epoch 51/100 loss: 1.11\n"
          ]
        },
        {
          "output_type": "stream",
          "name": "stderr",
          "text": [
            "\n",
            "Epoch 51 in training:  64%|██████▎   | 7/11 [00:00<00:00,  7.10it/s]\u001b[A\n",
            "Epoch 51 in training:  73%|███████▎  | 8/11 [00:01<00:00,  7.16it/s]\u001b[A"
          ]
        },
        {
          "output_type": "stream",
          "name": "stdout",
          "text": [
            "tensor([4, 4, 4, 4, 4, 4, 4, 4, 4, 4, 4, 4, 4, 4, 4, 4, 4, 4, 4, 4],\n",
            "       device='cuda:0')\n",
            "epoch 51/100 loss: 1.30\n",
            "tensor([4, 4, 4, 4, 4, 4, 4, 4, 5, 5, 5, 5, 5, 5, 5, 5, 5, 5, 5, 5],\n",
            "       device='cuda:0')\n",
            "epoch 51/100 loss: 1.49\n"
          ]
        },
        {
          "output_type": "stream",
          "name": "stderr",
          "text": [
            "\n",
            "Epoch 51 in training:  82%|████████▏ | 9/11 [00:01<00:00,  7.03it/s]\u001b[A\n",
            "Epoch 51 in training:  91%|█████████ | 10/11 [00:01<00:00,  7.07it/s]\u001b[A"
          ]
        },
        {
          "output_type": "stream",
          "name": "stdout",
          "text": [
            "tensor([5, 5, 5, 5, 5, 5, 5, 5, 5, 5, 5, 5, 5, 5, 5, 5, 5, 5, 5, 6],\n",
            "       device='cuda:0')\n",
            "epoch 51/100 loss: 1.68\n",
            "tensor([6, 6, 6, 6, 6, 6, 6, 6, 6, 6, 6, 6, 6, 6, 6, 6, 6, 6, 6, 6],\n",
            "       device='cuda:0')\n",
            "epoch 51/100 loss: 1.83\n"
          ]
        },
        {
          "output_type": "stream",
          "name": "stderr",
          "text": [
            "\n",
            "Training:  51%|█████     | 51/100 [01:17<01:14,  1.52s/it]"
          ]
        },
        {
          "output_type": "stream",
          "name": "stdout",
          "text": [
            "tensor([6, 6, 6, 6, 6, 6, 6, 6, 6], device='cuda:0')\n",
            "epoch 51/100 loss: 2.00\n"
          ]
        },
        {
          "output_type": "stream",
          "name": "stderr",
          "text": [
            "\n",
            "Epoch 52 in training:   0%|          | 0/11 [00:00<?, ?it/s]\u001b[A\n",
            "Epoch 52 in training:   9%|▉         | 1/11 [00:00<00:01,  7.09it/s]\u001b[A"
          ]
        },
        {
          "output_type": "stream",
          "name": "stdout",
          "text": [
            "tensor([0, 0, 0, 0, 0, 0, 0, 0, 0, 0, 0, 0, 0, 0, 0, 0, 0, 0, 0, 0],\n",
            "       device='cuda:0')\n",
            "epoch 52/100 loss: 0.19\n"
          ]
        },
        {
          "output_type": "stream",
          "name": "stderr",
          "text": [
            "\n",
            "Epoch 52 in training:  18%|█▊        | 2/11 [00:00<00:01,  7.15it/s]\u001b[A"
          ]
        },
        {
          "output_type": "stream",
          "name": "stdout",
          "text": [
            "tensor([0, 0, 0, 0, 0, 0, 0, 0, 0, 0, 1, 1, 1, 1, 1, 1, 1, 1, 1, 1],\n",
            "       device='cuda:0')\n",
            "epoch 52/100 loss: 0.37\n"
          ]
        },
        {
          "output_type": "stream",
          "name": "stderr",
          "text": [
            "\n",
            "Epoch 52 in training:  27%|██▋       | 3/11 [00:00<00:01,  7.07it/s]"
          ]
        },
        {
          "output_type": "stream",
          "name": "stdout",
          "text": [
            "tensor([1, 1, 1, 1, 1, 1, 1, 1, 1, 1, 1, 1, 1, 1, 1, 1, 1, 1, 1, 2],\n",
            "       device='cuda:0')\n",
            "epoch 52/100 loss: 0.56\n"
          ]
        },
        {
          "output_type": "stream",
          "name": "stderr",
          "text": [
            "\u001b[A\n",
            "Epoch 52 in training:  36%|███▋      | 4/11 [00:00<00:00,  7.07it/s]\u001b[A"
          ]
        },
        {
          "output_type": "stream",
          "name": "stdout",
          "text": [
            "tensor([2, 2, 2, 2, 2, 2, 2, 2, 2, 2, 2, 2, 2, 2, 2, 2, 2, 2, 2, 2],\n",
            "       device='cuda:0')\n",
            "epoch 52/100 loss: 0.75\n"
          ]
        },
        {
          "output_type": "stream",
          "name": "stderr",
          "text": [
            "\n",
            "Epoch 52 in training:  45%|████▌     | 5/11 [00:00<00:00,  7.11it/s]\u001b[A"
          ]
        },
        {
          "output_type": "stream",
          "name": "stdout",
          "text": [
            "tensor([2, 2, 2, 2, 2, 2, 2, 3, 3, 3, 3, 3, 3, 3, 3, 3, 3, 3, 3, 3],\n",
            "       device='cuda:0')\n",
            "epoch 52/100 loss: 0.94\n"
          ]
        },
        {
          "output_type": "stream",
          "name": "stderr",
          "text": [
            "\n",
            "Epoch 52 in training:  55%|█████▍    | 6/11 [00:00<00:00,  7.12it/s]\u001b[A"
          ]
        },
        {
          "output_type": "stream",
          "name": "stdout",
          "text": [
            "tensor([3, 3, 3, 3, 3, 3, 3, 3, 3, 3, 3, 3, 3, 3, 3, 3, 3, 3, 4, 4],\n",
            "       device='cuda:0')\n",
            "epoch 52/100 loss: 1.12\n",
            "tensor([4, 4, 4, 4, 4, 4, 4, 4, 4, 4, 4, 4, 4, 4, 4, 4, 4, 4, 4, 4],\n",
            "       device='cuda:0')\n"
          ]
        },
        {
          "output_type": "stream",
          "name": "stderr",
          "text": [
            "\n",
            "Epoch 52 in training:  64%|██████▎   | 7/11 [00:00<00:00,  6.99it/s]\u001b[A\n"
          ]
        },
        {
          "output_type": "stream",
          "name": "stdout",
          "text": [
            "epoch 52/100 loss: 1.31\n",
            "tensor([4, 4, 4, 4, 4, 4, 4, 4, 5, 5, 5, 5, 5, 5, 5, 5, 5, 5, 5, 5],\n",
            "       device='cuda:0')\n",
            "epoch 52/100 loss: 1.49\n"
          ]
        },
        {
          "output_type": "stream",
          "name": "stderr",
          "text": [
            "Epoch 52 in training:  73%|███████▎  | 8/11 [00:01<00:00,  6.99it/s]\u001b[A\n",
            "Epoch 52 in training:  82%|████████▏ | 9/11 [00:01<00:00,  6.86it/s]\u001b[A"
          ]
        },
        {
          "output_type": "stream",
          "name": "stdout",
          "text": [
            "tensor([5, 5, 5, 5, 5, 5, 5, 5, 5, 5, 5, 5, 5, 5, 5, 5, 5, 5, 5, 6],\n",
            "       device='cuda:0')\n",
            "epoch 52/100 loss: 1.67\n",
            "tensor([6, 6, 6, 6, 6, 6, 6, 6, 6, 6, 6, 6, 6, 6, 6, 6, 6, 6, 6, 6],\n",
            "       device='cuda:0')\n"
          ]
        },
        {
          "output_type": "stream",
          "name": "stderr",
          "text": [
            "\n",
            "Epoch 52 in training:  91%|█████████ | 10/11 [00:01<00:00,  6.84it/s]\u001b[A\n",
            "Training:  52%|█████▏    | 52/100 [01:18<01:12,  1.52s/it]"
          ]
        },
        {
          "output_type": "stream",
          "name": "stdout",
          "text": [
            "epoch 52/100 loss: 1.84\n",
            "tensor([6, 6, 6, 6, 6, 6, 6, 6, 6], device='cuda:0')\n",
            "epoch 52/100 loss: 2.00\n"
          ]
        },
        {
          "output_type": "stream",
          "name": "stderr",
          "text": [
            "\n",
            "Epoch 53 in training:   0%|          | 0/11 [00:00<?, ?it/s]\u001b[A"
          ]
        },
        {
          "output_type": "stream",
          "name": "stdout",
          "text": [
            "tensor([0, 0, 0, 0, 0, 0, 0, 0, 0, 0, 0, 0, 0, 0, 0, 0, 0, 0, 0, 0],\n",
            "       device='cuda:0')\n"
          ]
        },
        {
          "output_type": "stream",
          "name": "stderr",
          "text": [
            "\n",
            "Epoch 53 in training:   9%|▉         | 1/11 [00:00<00:01,  6.82it/s]\u001b[A"
          ]
        },
        {
          "output_type": "stream",
          "name": "stdout",
          "text": [
            "epoch 53/100 loss: 0.18\n",
            "tensor([0, 0, 0, 0, 0, 0, 0, 0, 0, 0, 1, 1, 1, 1, 1, 1, 1, 1, 1, 1],\n",
            "       device='cuda:0')\n"
          ]
        },
        {
          "output_type": "stream",
          "name": "stderr",
          "text": [
            "\n",
            "Epoch 53 in training:  18%|█▊        | 2/11 [00:00<00:01,  6.78it/s]\u001b[A"
          ]
        },
        {
          "output_type": "stream",
          "name": "stdout",
          "text": [
            "epoch 53/100 loss: 0.37\n"
          ]
        },
        {
          "output_type": "stream",
          "name": "stderr",
          "text": [
            "\n",
            "Epoch 53 in training:  27%|██▋       | 3/11 [00:00<00:01,  6.74it/s]\u001b[A"
          ]
        },
        {
          "output_type": "stream",
          "name": "stdout",
          "text": [
            "tensor([1, 1, 1, 1, 1, 1, 1, 1, 1, 1, 1, 1, 1, 1, 1, 1, 1, 1, 1, 2],\n",
            "       device='cuda:0')\n",
            "epoch 53/100 loss: 0.55\n"
          ]
        },
        {
          "output_type": "stream",
          "name": "stderr",
          "text": [
            "\n"
          ]
        },
        {
          "output_type": "stream",
          "name": "stdout",
          "text": [
            "tensor([2, 2, 2, 2, 2, 2, 2, 2, 2, 2, 2, 2, 2, 2, 2, 2, 2, 2, 2, 2],\n",
            "       device='cuda:0')\n",
            "epoch 53/100 loss: 0.74\n"
          ]
        },
        {
          "output_type": "stream",
          "name": "stderr",
          "text": [
            "\rEpoch 53 in training:  36%|███▋      | 4/11 [00:00<00:01,  6.81it/s]\u001b[A"
          ]
        },
        {
          "output_type": "stream",
          "name": "stdout",
          "text": [
            "tensor([2, 2, 2, 2, 2, 2, 2, 3, 3, 3, 3, 3, 3, 3, 3, 3, 3, 3, 3, 3],\n",
            "       device='cuda:0')\n"
          ]
        },
        {
          "output_type": "stream",
          "name": "stderr",
          "text": [
            "\n",
            "Epoch 53 in training:  45%|████▌     | 5/11 [00:00<00:00,  6.79it/s]\u001b[A"
          ]
        },
        {
          "output_type": "stream",
          "name": "stdout",
          "text": [
            "epoch 53/100 loss: 0.92\n",
            "tensor([3, 3, 3, 3, 3, 3, 3, 3, 3, 3, 3, 3, 3, 3, 3, 3, 3, 3, 4, 4],\n",
            "       device='cuda:0')\n"
          ]
        },
        {
          "output_type": "stream",
          "name": "stderr",
          "text": [
            "\n",
            "Epoch 53 in training:  55%|█████▍    | 6/11 [00:00<00:00,  6.81it/s]\u001b[A"
          ]
        },
        {
          "output_type": "stream",
          "name": "stdout",
          "text": [
            "epoch 53/100 loss: 1.10\n"
          ]
        },
        {
          "output_type": "stream",
          "name": "stderr",
          "text": [
            "\n",
            "Epoch 53 in training:  64%|██████▎   | 7/11 [00:01<00:00,  6.92it/s]\u001b[A"
          ]
        },
        {
          "output_type": "stream",
          "name": "stdout",
          "text": [
            "tensor([4, 4, 4, 4, 4, 4, 4, 4, 4, 4, 4, 4, 4, 4, 4, 4, 4, 4, 4, 4],\n",
            "       device='cuda:0')\n",
            "epoch 53/100 loss: 1.28\n",
            "tensor([4, 4, 4, 4, 4, 4, 4, 4, 5, 5, 5, 5, 5, 5, 5, 5, 5, 5, 5, 5],\n",
            "       device='cuda:0')\n"
          ]
        },
        {
          "output_type": "stream",
          "name": "stderr",
          "text": [
            "\n",
            "Epoch 53 in training:  73%|███████▎  | 8/11 [00:01<00:00,  6.90it/s]\u001b[A"
          ]
        },
        {
          "output_type": "stream",
          "name": "stdout",
          "text": [
            "epoch 53/100 loss: 1.47\n",
            "tensor([5, 5, 5, 5, 5, 5, 5, 5, 5, 5, 5, 5, 5, 5, 5, 5, 5, 5, 5, 6],\n",
            "       device='cuda:0')\n"
          ]
        },
        {
          "output_type": "stream",
          "name": "stderr",
          "text": [
            "\n",
            "Epoch 53 in training:  82%|████████▏ | 9/11 [00:01<00:00,  6.87it/s]\u001b[A"
          ]
        },
        {
          "output_type": "stream",
          "name": "stdout",
          "text": [
            "epoch 53/100 loss: 1.65\n"
          ]
        },
        {
          "output_type": "stream",
          "name": "stderr",
          "text": [
            "\n",
            "Epoch 53 in training:  91%|█████████ | 10/11 [00:01<00:00,  6.85it/s]\u001b[A"
          ]
        },
        {
          "output_type": "stream",
          "name": "stdout",
          "text": [
            "tensor([6, 6, 6, 6, 6, 6, 6, 6, 6, 6, 6, 6, 6, 6, 6, 6, 6, 6, 6, 6],\n",
            "       device='cuda:0')\n",
            "epoch 53/100 loss: 1.82\n",
            "tensor([6, 6, 6, 6, 6, 6, 6, 6, 6], device='cuda:0')\n"
          ]
        },
        {
          "output_type": "stream",
          "name": "stderr",
          "text": [
            "\n",
            "Training:  53%|█████▎    | 53/100 [01:20<01:12,  1.53s/it]"
          ]
        },
        {
          "output_type": "stream",
          "name": "stdout",
          "text": [
            "epoch 53/100 loss: 1.98\n"
          ]
        },
        {
          "output_type": "stream",
          "name": "stderr",
          "text": [
            "\n",
            "Epoch 54 in training:   0%|          | 0/11 [00:00<?, ?it/s]\u001b[A\n",
            "Epoch 54 in training:   9%|▉         | 1/11 [00:00<00:01,  7.10it/s]\u001b[A"
          ]
        },
        {
          "output_type": "stream",
          "name": "stdout",
          "text": [
            "tensor([0, 0, 0, 0, 0, 0, 0, 0, 0, 0, 0, 0, 0, 0, 0, 0, 0, 0, 0, 0],\n",
            "       device='cuda:0')\n",
            "epoch 54/100 loss: 0.18\n",
            "tensor([0, 0, 0, 0, 0, 0, 0, 0, 0, 0, 1, 1, 1, 1, 1, 1, 1, 1, 1, 1],\n",
            "       device='cuda:0')\n"
          ]
        },
        {
          "output_type": "stream",
          "name": "stderr",
          "text": [
            "\n",
            "Epoch 54 in training:  18%|█▊        | 2/11 [00:00<00:01,  6.98it/s]\u001b[A"
          ]
        },
        {
          "output_type": "stream",
          "name": "stdout",
          "text": [
            "epoch 54/100 loss: 0.37\n",
            "tensor([1, 1, 1, 1, 1, 1, 1, 1, 1, 1, 1, 1, 1, 1, 1, 1, 1, 1, 1, 2],\n",
            "       device='cuda:0')\n"
          ]
        },
        {
          "output_type": "stream",
          "name": "stderr",
          "text": [
            "\n",
            "Epoch 54 in training:  27%|██▋       | 3/11 [00:00<00:01,  6.89it/s]\u001b[A"
          ]
        },
        {
          "output_type": "stream",
          "name": "stdout",
          "text": [
            "epoch 54/100 loss: 0.55\n"
          ]
        },
        {
          "output_type": "stream",
          "name": "stderr",
          "text": [
            "\n",
            "Epoch 54 in training:  36%|███▋      | 4/11 [00:00<00:01,  6.97it/s]\u001b[A"
          ]
        },
        {
          "output_type": "stream",
          "name": "stdout",
          "text": [
            "tensor([2, 2, 2, 2, 2, 2, 2, 2, 2, 2, 2, 2, 2, 2, 2, 2, 2, 2, 2, 2],\n",
            "       device='cuda:0')\n",
            "epoch 54/100 loss: 0.74\n"
          ]
        },
        {
          "output_type": "stream",
          "name": "stderr",
          "text": [
            "\n",
            "Epoch 54 in training:  45%|████▌     | 5/11 [00:00<00:00,  7.02it/s]\u001b[A"
          ]
        },
        {
          "output_type": "stream",
          "name": "stdout",
          "text": [
            "tensor([2, 2, 2, 2, 2, 2, 2, 3, 3, 3, 3, 3, 3, 3, 3, 3, 3, 3, 3, 3],\n",
            "       device='cuda:0')\n",
            "epoch 54/100 loss: 0.93\n"
          ]
        },
        {
          "output_type": "stream",
          "name": "stderr",
          "text": [
            "\n",
            "Epoch 54 in training:  55%|█████▍    | 6/11 [00:00<00:00,  7.08it/s]\u001b[A"
          ]
        },
        {
          "output_type": "stream",
          "name": "stdout",
          "text": [
            "tensor([3, 3, 3, 3, 3, 3, 3, 3, 3, 3, 3, 3, 3, 3, 3, 3, 3, 3, 4, 4],\n",
            "       device='cuda:0')\n",
            "epoch 54/100 loss: 1.11\n"
          ]
        },
        {
          "output_type": "stream",
          "name": "stderr",
          "text": [
            "\n",
            "Epoch 54 in training:  64%|██████▎   | 7/11 [00:00<00:00,  7.04it/s]"
          ]
        },
        {
          "output_type": "stream",
          "name": "stdout",
          "text": [
            "tensor([4, 4, 4, 4, 4, 4, 4, 4, 4, 4, 4, 4, 4, 4, 4, 4, 4, 4, 4, 4],\n",
            "       device='cuda:0')\n",
            "epoch 54/100 loss: 1.30\n"
          ]
        },
        {
          "output_type": "stream",
          "name": "stderr",
          "text": [
            "\u001b[A"
          ]
        },
        {
          "output_type": "stream",
          "name": "stdout",
          "text": [
            "tensor([4, 4, 4, 4, 4, 4, 4, 4, 5, 5, 5, 5, 5, 5, 5, 5, 5, 5, 5, 5],\n",
            "       device='cuda:0')\n"
          ]
        },
        {
          "output_type": "stream",
          "name": "stderr",
          "text": [
            "\n",
            "Epoch 54 in training:  73%|███████▎  | 8/11 [00:01<00:00,  6.91it/s]\u001b[A"
          ]
        },
        {
          "output_type": "stream",
          "name": "stdout",
          "text": [
            "epoch 54/100 loss: 1.48\n",
            "tensor([5, 5, 5, 5, 5, 5, 5, 5, 5, 5, 5, 5, 5, 5, 5, 5, 5, 5, 5, 6],\n",
            "       device='cuda:0')\n"
          ]
        },
        {
          "output_type": "stream",
          "name": "stderr",
          "text": [
            "\n",
            "Epoch 54 in training:  82%|████████▏ | 9/11 [00:01<00:00,  6.85it/s]\u001b[A"
          ]
        },
        {
          "output_type": "stream",
          "name": "stdout",
          "text": [
            "epoch 54/100 loss: 1.67\n"
          ]
        },
        {
          "output_type": "stream",
          "name": "stderr",
          "text": [
            "\n",
            "Epoch 54 in training:  91%|█████████ | 10/11 [00:01<00:00,  6.97it/s]\u001b[A"
          ]
        },
        {
          "output_type": "stream",
          "name": "stdout",
          "text": [
            "tensor([6, 6, 6, 6, 6, 6, 6, 6, 6, 6, 6, 6, 6, 6, 6, 6, 6, 6, 6, 6],\n",
            "       device='cuda:0')\n",
            "epoch 54/100 loss: 1.83\n",
            "tensor([6, 6, 6, 6, 6, 6, 6, 6, 6], device='cuda:0')\n"
          ]
        },
        {
          "output_type": "stream",
          "name": "stderr",
          "text": [
            "\n",
            "Training:  54%|█████▍    | 54/100 [01:22<01:10,  1.53s/it]"
          ]
        },
        {
          "output_type": "stream",
          "name": "stdout",
          "text": [
            "epoch 54/100 loss: 1.99\n"
          ]
        },
        {
          "output_type": "stream",
          "name": "stderr",
          "text": [
            "\n",
            "Epoch 55 in training:   0%|          | 0/11 [00:00<?, ?it/s]\u001b[A\n",
            "Epoch 55 in training:   9%|▉         | 1/11 [00:00<00:01,  7.34it/s]\u001b[A"
          ]
        },
        {
          "output_type": "stream",
          "name": "stdout",
          "text": [
            "tensor([0, 0, 0, 0, 0, 0, 0, 0, 0, 0, 0, 0, 0, 0, 0, 0, 0, 0, 0, 0],\n",
            "       device='cuda:0')\n",
            "epoch 55/100 loss: 0.18\n"
          ]
        },
        {
          "output_type": "stream",
          "name": "stderr",
          "text": [
            "\n",
            "Epoch 55 in training:  18%|█▊        | 2/11 [00:00<00:01,  7.22it/s]\u001b[A"
          ]
        },
        {
          "output_type": "stream",
          "name": "stdout",
          "text": [
            "tensor([0, 0, 0, 0, 0, 0, 0, 0, 0, 0, 1, 1, 1, 1, 1, 1, 1, 1, 1, 1],\n",
            "       device='cuda:0')\n",
            "epoch 55/100 loss: 0.36\n"
          ]
        },
        {
          "output_type": "stream",
          "name": "stderr",
          "text": [
            "\n",
            "Epoch 55 in training:  27%|██▋       | 3/11 [00:00<00:01,  7.19it/s]\u001b[A"
          ]
        },
        {
          "output_type": "stream",
          "name": "stdout",
          "text": [
            "tensor([1, 1, 1, 1, 1, 1, 1, 1, 1, 1, 1, 1, 1, 1, 1, 1, 1, 1, 1, 2],\n",
            "       device='cuda:0')\n",
            "epoch 55/100 loss: 0.55\n"
          ]
        },
        {
          "output_type": "stream",
          "name": "stderr",
          "text": [
            "\n",
            "Epoch 55 in training:  36%|███▋      | 4/11 [00:00<00:00,  7.18it/s]\u001b[A"
          ]
        },
        {
          "output_type": "stream",
          "name": "stdout",
          "text": [
            "tensor([2, 2, 2, 2, 2, 2, 2, 2, 2, 2, 2, 2, 2, 2, 2, 2, 2, 2, 2, 2],\n",
            "       device='cuda:0')\n",
            "epoch 55/100 loss: 0.74\n"
          ]
        },
        {
          "output_type": "stream",
          "name": "stderr",
          "text": [
            "\n",
            "Epoch 55 in training:  45%|████▌     | 5/11 [00:00<00:00,  7.12it/s]\u001b[A"
          ]
        },
        {
          "output_type": "stream",
          "name": "stdout",
          "text": [
            "tensor([2, 2, 2, 2, 2, 2, 2, 3, 3, 3, 3, 3, 3, 3, 3, 3, 3, 3, 3, 3],\n",
            "       device='cuda:0')\n",
            "epoch 55/100 loss: 0.92\n"
          ]
        },
        {
          "output_type": "stream",
          "name": "stderr",
          "text": [
            "\n",
            "Epoch 55 in training:  55%|█████▍    | 6/11 [00:00<00:00,  7.14it/s]\u001b[A"
          ]
        },
        {
          "output_type": "stream",
          "name": "stdout",
          "text": [
            "tensor([3, 3, 3, 3, 3, 3, 3, 3, 3, 3, 3, 3, 3, 3, 3, 3, 3, 3, 4, 4],\n",
            "       device='cuda:0')\n",
            "epoch 55/100 loss: 1.10\n"
          ]
        },
        {
          "output_type": "stream",
          "name": "stderr",
          "text": [
            "\n",
            "Epoch 55 in training:  64%|██████▎   | 7/11 [00:00<00:00,  7.15it/s]\u001b[A"
          ]
        },
        {
          "output_type": "stream",
          "name": "stdout",
          "text": [
            "tensor([4, 4, 4, 4, 4, 4, 4, 4, 4, 4, 4, 4, 4, 4, 4, 4, 4, 4, 4, 4],\n",
            "       device='cuda:0')\n",
            "epoch 55/100 loss: 1.29\n",
            "tensor([4, 4, 4, 4, 4, 4, 4, 4, 5, 5, 5, 5, 5, 5, 5, 5, 5, 5, 5, 5],\n",
            "       device='cuda:0')\n"
          ]
        },
        {
          "output_type": "stream",
          "name": "stderr",
          "text": [
            "\n",
            "Epoch 55 in training:  73%|███████▎  | 8/11 [00:01<00:00,  6.98it/s]\u001b[A\n",
            "Epoch 55 in training:  82%|████████▏ | 9/11 [00:01<00:00,  7.05it/s]\u001b[A"
          ]
        },
        {
          "output_type": "stream",
          "name": "stdout",
          "text": [
            "epoch 55/100 loss: 1.47\n",
            "tensor([5, 5, 5, 5, 5, 5, 5, 5, 5, 5, 5, 5, 5, 5, 5, 5, 5, 5, 5, 6],\n",
            "       device='cuda:0')\n",
            "epoch 55/100 loss: 1.65\n"
          ]
        },
        {
          "output_type": "stream",
          "name": "stderr",
          "text": [
            "\n",
            "Epoch 55 in training:  91%|█████████ | 10/11 [00:01<00:00,  7.00it/s]\u001b[A\n",
            "Training:  55%|█████▌    | 55/100 [01:23<01:08,  1.53s/it]"
          ]
        },
        {
          "output_type": "stream",
          "name": "stdout",
          "text": [
            "tensor([6, 6, 6, 6, 6, 6, 6, 6, 6, 6, 6, 6, 6, 6, 6, 6, 6, 6, 6, 6],\n",
            "       device='cuda:0')\n",
            "epoch 55/100 loss: 1.81\n",
            "tensor([6, 6, 6, 6, 6, 6, 6, 6, 6], device='cuda:0')\n",
            "epoch 55/100 loss: 1.98\n"
          ]
        },
        {
          "output_type": "stream",
          "name": "stderr",
          "text": [
            "\n",
            "Epoch 56 in training:   0%|          | 0/11 [00:00<?, ?it/s]\u001b[A\n",
            "Epoch 56 in training:   9%|▉         | 1/11 [00:00<00:01,  7.51it/s]\u001b[A\n",
            "Epoch 56 in training:  18%|█▊        | 2/11 [00:00<00:01,  7.20it/s]"
          ]
        },
        {
          "output_type": "stream",
          "name": "stdout",
          "text": [
            "tensor([0, 0, 0, 0, 0, 0, 0, 0, 0, 0, 0, 0, 0, 0, 0, 0, 0, 0, 0, 0],\n",
            "       device='cuda:0')\n",
            "epoch 56/100 loss: 0.18\n",
            "tensor([0, 0, 0, 0, 0, 0, 0, 0, 0, 0, 1, 1, 1, 1, 1, 1, 1, 1, 1, 1],\n",
            "       device='cuda:0')\n",
            "epoch 56/100 loss: 0.36\n"
          ]
        },
        {
          "output_type": "stream",
          "name": "stderr",
          "text": [
            "\u001b[A\n",
            "Epoch 56 in training:  27%|██▋       | 3/11 [00:00<00:01,  7.21it/s]\u001b[A"
          ]
        },
        {
          "output_type": "stream",
          "name": "stdout",
          "text": [
            "tensor([1, 1, 1, 1, 1, 1, 1, 1, 1, 1, 1, 1, 1, 1, 1, 1, 1, 1, 1, 2],\n",
            "       device='cuda:0')\n",
            "epoch 56/100 loss: 0.55\n",
            "tensor([2, 2, 2, 2, 2, 2, 2, 2, 2, 2, 2, 2, 2, 2, 2, 2, 2, 2, 2, 2],\n",
            "       device='cuda:0')\n"
          ]
        },
        {
          "output_type": "stream",
          "name": "stderr",
          "text": [
            "\n",
            "Epoch 56 in training:  36%|███▋      | 4/11 [00:00<00:00,  7.00it/s]\u001b[A\n",
            "Epoch 56 in training:  45%|████▌     | 5/11 [00:00<00:00,  7.04it/s]\u001b[A"
          ]
        },
        {
          "output_type": "stream",
          "name": "stdout",
          "text": [
            "epoch 56/100 loss: 0.73\n",
            "tensor([2, 2, 2, 2, 2, 2, 2, 3, 3, 3, 3, 3, 3, 3, 3, 3, 3, 3, 3, 3],\n",
            "       device='cuda:0')\n",
            "epoch 56/100 loss: 0.91\n"
          ]
        },
        {
          "output_type": "stream",
          "name": "stderr",
          "text": [
            "\n",
            "Epoch 56 in training:  55%|█████▍    | 6/11 [00:00<00:00,  7.05it/s]\u001b[A\n",
            "Epoch 56 in training:  64%|██████▎   | 7/11 [00:00<00:00,  7.08it/s]\u001b[A"
          ]
        },
        {
          "output_type": "stream",
          "name": "stdout",
          "text": [
            "tensor([3, 3, 3, 3, 3, 3, 3, 3, 3, 3, 3, 3, 3, 3, 3, 3, 3, 3, 4, 4],\n",
            "       device='cuda:0')\n",
            "epoch 56/100 loss: 1.09\n",
            "tensor([4, 4, 4, 4, 4, 4, 4, 4, 4, 4, 4, 4, 4, 4, 4, 4, 4, 4, 4, 4],\n",
            "       device='cuda:0')\n",
            "epoch 56/100 loss: 1.28\n"
          ]
        },
        {
          "output_type": "stream",
          "name": "stderr",
          "text": [
            "\n",
            "Epoch 56 in training:  73%|███████▎  | 8/11 [00:01<00:00,  6.97it/s]\u001b[A\n",
            "Epoch 56 in training:  82%|████████▏ | 9/11 [00:01<00:00,  7.03it/s]\u001b[A"
          ]
        },
        {
          "output_type": "stream",
          "name": "stdout",
          "text": [
            "tensor([4, 4, 4, 4, 4, 4, 4, 4, 5, 5, 5, 5, 5, 5, 5, 5, 5, 5, 5, 5],\n",
            "       device='cuda:0')\n",
            "epoch 56/100 loss: 1.46\n",
            "tensor([5, 5, 5, 5, 5, 5, 5, 5, 5, 5, 5, 5, 5, 5, 5, 5, 5, 5, 5, 6],\n",
            "       device='cuda:0')\n",
            "epoch 56/100 loss: 1.65\n"
          ]
        },
        {
          "output_type": "stream",
          "name": "stderr",
          "text": [
            "\n",
            "Epoch 56 in training:  91%|█████████ | 10/11 [00:01<00:00,  7.04it/s]\u001b[A\n",
            "Training:  56%|█████▌    | 56/100 [01:25<01:06,  1.52s/it]"
          ]
        },
        {
          "output_type": "stream",
          "name": "stdout",
          "text": [
            "tensor([6, 6, 6, 6, 6, 6, 6, 6, 6, 6, 6, 6, 6, 6, 6, 6, 6, 6, 6, 6],\n",
            "       device='cuda:0')\n",
            "epoch 56/100 loss: 1.81\n",
            "tensor([6, 6, 6, 6, 6, 6, 6, 6, 6], device='cuda:0')\n",
            "epoch 56/100 loss: 1.97\n"
          ]
        },
        {
          "output_type": "stream",
          "name": "stderr",
          "text": [
            "\n",
            "Epoch 57 in training:   0%|          | 0/11 [00:00<?, ?it/s]\u001b[A\n",
            "Epoch 57 in training:   9%|▉         | 1/11 [00:00<00:01,  6.91it/s]\u001b[A\n",
            "Epoch 57 in training:  18%|█▊        | 2/11 [00:00<00:01,  7.03it/s]\u001b[A"
          ]
        },
        {
          "output_type": "stream",
          "name": "stdout",
          "text": [
            "tensor([0, 0, 0, 0, 0, 0, 0, 0, 0, 0, 0, 0, 0, 0, 0, 0, 0, 0, 0, 0],\n",
            "       device='cuda:0')\n",
            "epoch 57/100 loss: 0.18\n",
            "tensor([0, 0, 0, 0, 0, 0, 0, 0, 0, 0, 1, 1, 1, 1, 1, 1, 1, 1, 1, 1],\n",
            "       device='cuda:0')\n",
            "epoch 57/100 loss: 0.37\n"
          ]
        },
        {
          "output_type": "stream",
          "name": "stderr",
          "text": [
            "\n",
            "Epoch 57 in training:  27%|██▋       | 3/11 [00:00<00:01,  7.12it/s]\u001b[A\n",
            "Epoch 57 in training:  36%|███▋      | 4/11 [00:00<00:00,  7.15it/s]\u001b[A"
          ]
        },
        {
          "output_type": "stream",
          "name": "stdout",
          "text": [
            "tensor([1, 1, 1, 1, 1, 1, 1, 1, 1, 1, 1, 1, 1, 1, 1, 1, 1, 1, 1, 2],\n",
            "       device='cuda:0')\n",
            "epoch 57/100 loss: 0.56\n",
            "tensor([2, 2, 2, 2, 2, 2, 2, 2, 2, 2, 2, 2, 2, 2, 2, 2, 2, 2, 2, 2],\n",
            "       device='cuda:0')\n",
            "epoch 57/100 loss: 0.74\n"
          ]
        },
        {
          "output_type": "stream",
          "name": "stderr",
          "text": [
            "\n",
            "Epoch 57 in training:  45%|████▌     | 5/11 [00:00<00:00,  7.15it/s]\u001b[A\n",
            "Epoch 57 in training:  55%|█████▍    | 6/11 [00:00<00:00,  7.09it/s]"
          ]
        },
        {
          "output_type": "stream",
          "name": "stdout",
          "text": [
            "tensor([2, 2, 2, 2, 2, 2, 2, 3, 3, 3, 3, 3, 3, 3, 3, 3, 3, 3, 3, 3],\n",
            "       device='cuda:0')\n",
            "epoch 57/100 loss: 0.92\n",
            "tensor([3, 3, 3, 3, 3, 3, 3, 3, 3, 3, 3, 3, 3, 3, 3, 3, 3, 3, 4, 4],\n",
            "       device='cuda:0')\n",
            "epoch 57/100 loss: 1.10\n"
          ]
        },
        {
          "output_type": "stream",
          "name": "stderr",
          "text": [
            "\u001b[A\n",
            "Epoch 57 in training:  64%|██████▎   | 7/11 [00:00<00:00,  7.15it/s]\u001b[A\n",
            "Epoch 57 in training:  73%|███████▎  | 8/11 [00:01<00:00,  7.14it/s]\u001b[A"
          ]
        },
        {
          "output_type": "stream",
          "name": "stdout",
          "text": [
            "tensor([4, 4, 4, 4, 4, 4, 4, 4, 4, 4, 4, 4, 4, 4, 4, 4, 4, 4, 4, 4],\n",
            "       device='cuda:0')\n",
            "epoch 57/100 loss: 1.29\n",
            "tensor([4, 4, 4, 4, 4, 4, 4, 4, 5, 5, 5, 5, 5, 5, 5, 5, 5, 5, 5, 5],\n",
            "       device='cuda:0')\n",
            "epoch 57/100 loss: 1.47\n"
          ]
        },
        {
          "output_type": "stream",
          "name": "stderr",
          "text": [
            "\n",
            "Epoch 57 in training:  82%|████████▏ | 9/11 [00:01<00:00,  7.14it/s]\u001b[A"
          ]
        },
        {
          "output_type": "stream",
          "name": "stdout",
          "text": [
            "tensor([5, 5, 5, 5, 5, 5, 5, 5, 5, 5, 5, 5, 5, 5, 5, 5, 5, 5, 5, 6],\n",
            "       device='cuda:0')\n",
            "epoch 57/100 loss: 1.65\n",
            "tensor([6, 6, 6, 6, 6, 6, 6, 6, 6, 6, 6, 6, 6, 6, 6, 6, 6, 6, 6, 6],\n",
            "       device='cuda:0')\n"
          ]
        },
        {
          "output_type": "stream",
          "name": "stderr",
          "text": [
            "\n",
            "Epoch 57 in training:  91%|█████████ | 10/11 [00:01<00:00,  7.00it/s]\u001b[A\n",
            "Training:  57%|█████▋    | 57/100 [01:26<01:05,  1.52s/it]"
          ]
        },
        {
          "output_type": "stream",
          "name": "stdout",
          "text": [
            "epoch 57/100 loss: 1.82\n",
            "tensor([6, 6, 6, 6, 6, 6, 6, 6, 6], device='cuda:0')\n",
            "epoch 57/100 loss: 1.98\n"
          ]
        },
        {
          "output_type": "stream",
          "name": "stderr",
          "text": [
            "\n",
            "Epoch 58 in training:   0%|          | 0/11 [00:00<?, ?it/s]\u001b[A"
          ]
        },
        {
          "output_type": "stream",
          "name": "stdout",
          "text": [
            "tensor([0, 0, 0, 0, 0, 0, 0, 0, 0, 0, 0, 0, 0, 0, 0, 0, 0, 0, 0, 0],\n",
            "       device='cuda:0')\n"
          ]
        },
        {
          "output_type": "stream",
          "name": "stderr",
          "text": [
            "\n",
            "Epoch 58 in training:   9%|▉         | 1/11 [00:00<00:01,  6.91it/s]\u001b[A"
          ]
        },
        {
          "output_type": "stream",
          "name": "stdout",
          "text": [
            "epoch 58/100 loss: 0.18\n",
            "tensor([0, 0, 0, 0, 0, 0, 0, 0, 0, 0, 1, 1, 1, 1, 1, 1, 1, 1, 1, 1],\n",
            "       device='cuda:0')\n"
          ]
        },
        {
          "output_type": "stream",
          "name": "stderr",
          "text": [
            "\n",
            "Epoch 58 in training:  18%|█▊        | 2/11 [00:00<00:01,  6.74it/s]\u001b[A"
          ]
        },
        {
          "output_type": "stream",
          "name": "stdout",
          "text": [
            "epoch 58/100 loss: 0.37\n"
          ]
        },
        {
          "output_type": "stream",
          "name": "stderr",
          "text": [
            "\n",
            "Epoch 58 in training:  27%|██▋       | 3/11 [00:00<00:01,  6.76it/s]\u001b[A"
          ]
        },
        {
          "output_type": "stream",
          "name": "stdout",
          "text": [
            "tensor([1, 1, 1, 1, 1, 1, 1, 1, 1, 1, 1, 1, 1, 1, 1, 1, 1, 1, 1, 2],\n",
            "       device='cuda:0')\n",
            "epoch 58/100 loss: 0.55\n"
          ]
        },
        {
          "output_type": "stream",
          "name": "stderr",
          "text": [
            "\n"
          ]
        },
        {
          "output_type": "stream",
          "name": "stdout",
          "text": [
            "tensor([2, 2, 2, 2, 2, 2, 2, 2, 2, 2, 2, 2, 2, 2, 2, 2, 2, 2, 2, 2],\n",
            "       device='cuda:0')\n",
            "epoch 58/100 loss: 0.73\n"
          ]
        },
        {
          "output_type": "stream",
          "name": "stderr",
          "text": [
            "\rEpoch 58 in training:  36%|███▋      | 4/11 [00:00<00:01,  6.82it/s]\u001b[A"
          ]
        },
        {
          "output_type": "stream",
          "name": "stdout",
          "text": [
            "tensor([2, 2, 2, 2, 2, 2, 2, 3, 3, 3, 3, 3, 3, 3, 3, 3, 3, 3, 3, 3],\n",
            "       device='cuda:0')\n"
          ]
        },
        {
          "output_type": "stream",
          "name": "stderr",
          "text": [
            "\n",
            "Epoch 58 in training:  45%|████▌     | 5/11 [00:00<00:00,  6.77it/s]\u001b[A"
          ]
        },
        {
          "output_type": "stream",
          "name": "stdout",
          "text": [
            "epoch 58/100 loss: 0.91\n",
            "tensor([3, 3, 3, 3, 3, 3, 3, 3, 3, 3, 3, 3, 3, 3, 3, 3, 3, 3, 4, 4],\n",
            "       device='cuda:0')\n"
          ]
        },
        {
          "output_type": "stream",
          "name": "stderr",
          "text": [
            "\n",
            "Epoch 58 in training:  55%|█████▍    | 6/11 [00:00<00:00,  6.72it/s]\u001b[A"
          ]
        },
        {
          "output_type": "stream",
          "name": "stdout",
          "text": [
            "epoch 58/100 loss: 1.09\n"
          ]
        },
        {
          "output_type": "stream",
          "name": "stderr",
          "text": [
            "\n",
            "Epoch 58 in training:  64%|██████▎   | 7/11 [00:01<00:00,  6.75it/s]\u001b[A"
          ]
        },
        {
          "output_type": "stream",
          "name": "stdout",
          "text": [
            "tensor([4, 4, 4, 4, 4, 4, 4, 4, 4, 4, 4, 4, 4, 4, 4, 4, 4, 4, 4, 4],\n",
            "       device='cuda:0')\n",
            "epoch 58/100 loss: 1.28\n"
          ]
        },
        {
          "output_type": "stream",
          "name": "stderr",
          "text": [
            "\n",
            "Epoch 58 in training:  73%|███████▎  | 8/11 [00:01<00:00,  6.86it/s]\u001b[A"
          ]
        },
        {
          "output_type": "stream",
          "name": "stdout",
          "text": [
            "tensor([4, 4, 4, 4, 4, 4, 4, 4, 5, 5, 5, 5, 5, 5, 5, 5, 5, 5, 5, 5],\n",
            "       device='cuda:0')\n",
            "epoch 58/100 loss: 1.46\n",
            "tensor([5, 5, 5, 5, 5, 5, 5, 5, 5, 5, 5, 5, 5, 5, 5, 5, 5, 5, 5, 6],\n",
            "       device='cuda:0')\n"
          ]
        },
        {
          "output_type": "stream",
          "name": "stderr",
          "text": [
            "\n",
            "Epoch 58 in training:  82%|████████▏ | 9/11 [00:01<00:00,  6.81it/s]\u001b[A\n"
          ]
        },
        {
          "output_type": "stream",
          "name": "stdout",
          "text": [
            "epoch 58/100 loss: 1.64\n",
            "tensor([6, 6, 6, 6, 6, 6, 6, 6, 6, 6, 6, 6, 6, 6, 6, 6, 6, 6, 6, 6],\n",
            "       device='cuda:0')\n",
            "epoch 58/100 loss: 1.80\n"
          ]
        },
        {
          "output_type": "stream",
          "name": "stderr",
          "text": [
            "\rEpoch 58 in training:  91%|█████████ | 10/11 [00:01<00:00,  6.87it/s]\u001b[A"
          ]
        },
        {
          "output_type": "stream",
          "name": "stdout",
          "text": [
            "tensor([6, 6, 6, 6, 6, 6, 6, 6, 6], device='cuda:0')\n"
          ]
        },
        {
          "output_type": "stream",
          "name": "stderr",
          "text": [
            "\n",
            "Training:  58%|█████▊    | 58/100 [01:28<01:04,  1.54s/it]"
          ]
        },
        {
          "output_type": "stream",
          "name": "stdout",
          "text": [
            "epoch 58/100 loss: 1.96\n"
          ]
        },
        {
          "output_type": "stream",
          "name": "stderr",
          "text": [
            "\n",
            "Epoch 59 in training:   0%|          | 0/11 [00:00<?, ?it/s]\u001b[A\n",
            "Epoch 59 in training:   9%|▉         | 1/11 [00:00<00:01,  7.38it/s]\u001b[A"
          ]
        },
        {
          "output_type": "stream",
          "name": "stdout",
          "text": [
            "tensor([0, 0, 0, 0, 0, 0, 0, 0, 0, 0, 0, 0, 0, 0, 0, 0, 0, 0, 0, 0],\n",
            "       device='cuda:0')\n",
            "epoch 59/100 loss: 0.18\n",
            "tensor([0, 0, 0, 0, 0, 0, 0, 0, 0, 0, 1, 1, 1, 1, 1, 1, 1, 1, 1, 1],\n",
            "       device='cuda:0')\n"
          ]
        },
        {
          "output_type": "stream",
          "name": "stderr",
          "text": [
            "\n",
            "Epoch 59 in training:  18%|█▊        | 2/11 [00:00<00:01,  6.95it/s]\u001b[A\n",
            "Epoch 59 in training:  27%|██▋       | 3/11 [00:00<00:01,  6.97it/s]"
          ]
        },
        {
          "output_type": "stream",
          "name": "stdout",
          "text": [
            "epoch 59/100 loss: 0.36\n",
            "tensor([1, 1, 1, 1, 1, 1, 1, 1, 1, 1, 1, 1, 1, 1, 1, 1, 1, 1, 1, 2],\n",
            "       device='cuda:0')\n",
            "epoch 59/100 loss: 0.55\n"
          ]
        },
        {
          "output_type": "stream",
          "name": "stderr",
          "text": [
            "\u001b[A\n",
            "Epoch 59 in training:  36%|███▋      | 4/11 [00:00<00:01,  6.96it/s]\u001b[A\n",
            "Epoch 59 in training:  45%|████▌     | 5/11 [00:00<00:00,  7.03it/s]\u001b[A"
          ]
        },
        {
          "output_type": "stream",
          "name": "stdout",
          "text": [
            "tensor([2, 2, 2, 2, 2, 2, 2, 2, 2, 2, 2, 2, 2, 2, 2, 2, 2, 2, 2, 2],\n",
            "       device='cuda:0')\n",
            "epoch 59/100 loss: 0.75\n",
            "tensor([2, 2, 2, 2, 2, 2, 2, 3, 3, 3, 3, 3, 3, 3, 3, 3, 3, 3, 3, 3],\n",
            "       device='cuda:0')\n",
            "epoch 59/100 loss: 0.93\n"
          ]
        },
        {
          "output_type": "stream",
          "name": "stderr",
          "text": [
            "\n",
            "Epoch 59 in training:  55%|█████▍    | 6/11 [00:00<00:00,  7.08it/s]\u001b[A\n",
            "Epoch 59 in training:  64%|██████▎   | 7/11 [00:00<00:00,  7.13it/s]\u001b[A"
          ]
        },
        {
          "output_type": "stream",
          "name": "stdout",
          "text": [
            "tensor([3, 3, 3, 3, 3, 3, 3, 3, 3, 3, 3, 3, 3, 3, 3, 3, 3, 3, 4, 4],\n",
            "       device='cuda:0')\n",
            "epoch 59/100 loss: 1.11\n",
            "tensor([4, 4, 4, 4, 4, 4, 4, 4, 4, 4, 4, 4, 4, 4, 4, 4, 4, 4, 4, 4],\n",
            "       device='cuda:0')\n",
            "epoch 59/100 loss: 1.30\n"
          ]
        },
        {
          "output_type": "stream",
          "name": "stderr",
          "text": [
            "\n",
            "Epoch 59 in training:  73%|███████▎  | 8/11 [00:01<00:00,  7.13it/s]\u001b[A\n",
            "Epoch 59 in training:  82%|████████▏ | 9/11 [00:01<00:00,  7.16it/s]\u001b[A"
          ]
        },
        {
          "output_type": "stream",
          "name": "stdout",
          "text": [
            "tensor([4, 4, 4, 4, 4, 4, 4, 4, 5, 5, 5, 5, 5, 5, 5, 5, 5, 5, 5, 5],\n",
            "       device='cuda:0')\n",
            "epoch 59/100 loss: 1.48\n",
            "tensor([5, 5, 5, 5, 5, 5, 5, 5, 5, 5, 5, 5, 5, 5, 5, 5, 5, 5, 5, 6],\n",
            "       device='cuda:0')\n",
            "epoch 59/100 loss: 1.66\n"
          ]
        },
        {
          "output_type": "stream",
          "name": "stderr",
          "text": [
            "\n",
            "Epoch 59 in training:  91%|█████████ | 10/11 [00:01<00:00,  7.14it/s]\u001b[A\n",
            "Training:  59%|█████▉    | 59/100 [01:29<01:02,  1.53s/it]"
          ]
        },
        {
          "output_type": "stream",
          "name": "stdout",
          "text": [
            "tensor([6, 6, 6, 6, 6, 6, 6, 6, 6, 6, 6, 6, 6, 6, 6, 6, 6, 6, 6, 6],\n",
            "       device='cuda:0')\n",
            "epoch 59/100 loss: 1.82\n",
            "tensor([6, 6, 6, 6, 6, 6, 6, 6, 6], device='cuda:0')\n",
            "epoch 59/100 loss: 1.98\n"
          ]
        },
        {
          "output_type": "stream",
          "name": "stderr",
          "text": [
            "\n",
            "Epoch 60 in training:   0%|          | 0/11 [00:00<?, ?it/s]\u001b[A\n",
            "Epoch 60 in training:   9%|▉         | 1/11 [00:00<00:01,  6.99it/s]\u001b[A\n",
            "Epoch 60 in training:  18%|█▊        | 2/11 [00:00<00:01,  7.13it/s]\u001b[A"
          ]
        },
        {
          "output_type": "stream",
          "name": "stdout",
          "text": [
            "tensor([0, 0, 0, 0, 0, 0, 0, 0, 0, 0, 0, 0, 0, 0, 0, 0, 0, 0, 0, 0],\n",
            "       device='cuda:0')\n",
            "epoch 60/100 loss: 0.19\n",
            "tensor([0, 0, 0, 0, 0, 0, 0, 0, 0, 0, 1, 1, 1, 1, 1, 1, 1, 1, 1, 1],\n",
            "       device='cuda:0')\n",
            "epoch 60/100 loss: 0.37\n"
          ]
        },
        {
          "output_type": "stream",
          "name": "stderr",
          "text": [
            "\n",
            "Epoch 60 in training:  27%|██▋       | 3/11 [00:00<00:01,  6.87it/s]\u001b[A\n",
            "Epoch 60 in training:  36%|███▋      | 4/11 [00:00<00:01,  6.90it/s]"
          ]
        },
        {
          "output_type": "stream",
          "name": "stdout",
          "text": [
            "tensor([1, 1, 1, 1, 1, 1, 1, 1, 1, 1, 1, 1, 1, 1, 1, 1, 1, 1, 1, 2],\n",
            "       device='cuda:0')\n",
            "epoch 60/100 loss: 0.56\n",
            "tensor([2, 2, 2, 2, 2, 2, 2, 2, 2, 2, 2, 2, 2, 2, 2, 2, 2, 2, 2, 2],\n",
            "       device='cuda:0')\n",
            "epoch 60/100 loss: 0.75\n"
          ]
        },
        {
          "output_type": "stream",
          "name": "stderr",
          "text": [
            "\u001b[A\n",
            "Epoch 60 in training:  45%|████▌     | 5/11 [00:00<00:00,  6.87it/s]\u001b[A\n",
            "Epoch 60 in training:  55%|█████▍    | 6/11 [00:00<00:00,  6.89it/s]"
          ]
        },
        {
          "output_type": "stream",
          "name": "stdout",
          "text": [
            "tensor([2, 2, 2, 2, 2, 2, 2, 3, 3, 3, 3, 3, 3, 3, 3, 3, 3, 3, 3, 3],\n",
            "       device='cuda:0')\n",
            "epoch 60/100 loss: 0.94\n",
            "tensor([3, 3, 3, 3, 3, 3, 3, 3, 3, 3, 3, 3, 3, 3, 3, 3, 3, 3, 4, 4],\n",
            "       device='cuda:0')\n",
            "epoch 60/100 loss: 1.12\n"
          ]
        },
        {
          "output_type": "stream",
          "name": "stderr",
          "text": [
            "\u001b[A\n",
            "Epoch 60 in training:  64%|██████▎   | 7/11 [00:01<00:00,  6.88it/s]\u001b[A\n",
            "Epoch 60 in training:  73%|███████▎  | 8/11 [00:01<00:00,  6.99it/s]\u001b[A"
          ]
        },
        {
          "output_type": "stream",
          "name": "stdout",
          "text": [
            "tensor([4, 4, 4, 4, 4, 4, 4, 4, 4, 4, 4, 4, 4, 4, 4, 4, 4, 4, 4, 4],\n",
            "       device='cuda:0')\n",
            "epoch 60/100 loss: 1.30\n",
            "tensor([4, 4, 4, 4, 4, 4, 4, 4, 5, 5, 5, 5, 5, 5, 5, 5, 5, 5, 5, 5],\n",
            "       device='cuda:0')\n",
            "epoch 60/100 loss: 1.49\n"
          ]
        },
        {
          "output_type": "stream",
          "name": "stderr",
          "text": [
            "\n",
            "Epoch 60 in training:  82%|████████▏ | 9/11 [00:01<00:00,  7.03it/s]\u001b[A\n",
            "Epoch 60 in training:  91%|█████████ | 10/11 [00:01<00:00,  7.08it/s]\u001b[A"
          ]
        },
        {
          "output_type": "stream",
          "name": "stdout",
          "text": [
            "tensor([5, 5, 5, 5, 5, 5, 5, 5, 5, 5, 5, 5, 5, 5, 5, 5, 5, 5, 5, 6],\n",
            "       device='cuda:0')\n",
            "epoch 60/100 loss: 1.67\n",
            "tensor([6, 6, 6, 6, 6, 6, 6, 6, 6, 6, 6, 6, 6, 6, 6, 6, 6, 6, 6, 6],\n",
            "       device='cuda:0')\n",
            "epoch 60/100 loss: 1.83\n"
          ]
        },
        {
          "output_type": "stream",
          "name": "stderr",
          "text": [
            "\n",
            "Training:  60%|██████    | 60/100 [01:31<01:01,  1.53s/it]"
          ]
        },
        {
          "output_type": "stream",
          "name": "stdout",
          "text": [
            "tensor([6, 6, 6, 6, 6, 6, 6, 6, 6], device='cuda:0')\n",
            "epoch 60/100 loss: 1.99\n"
          ]
        },
        {
          "output_type": "stream",
          "name": "stderr",
          "text": [
            "\n",
            "Epoch 61 in training:   0%|          | 0/11 [00:00<?, ?it/s]\u001b[A\n",
            "Epoch 61 in training:   9%|▉         | 1/11 [00:00<00:01,  7.27it/s]\u001b[A"
          ]
        },
        {
          "output_type": "stream",
          "name": "stdout",
          "text": [
            "tensor([0, 0, 0, 0, 0, 0, 0, 0, 0, 0, 0, 0, 0, 0, 0, 0, 0, 0, 0, 0],\n",
            "       device='cuda:0')\n",
            "epoch 61/100 loss: 0.19\n"
          ]
        },
        {
          "output_type": "stream",
          "name": "stderr",
          "text": [
            "\n",
            "Epoch 61 in training:  18%|█▊        | 2/11 [00:00<00:01,  7.14it/s]\u001b[A"
          ]
        },
        {
          "output_type": "stream",
          "name": "stdout",
          "text": [
            "tensor([0, 0, 0, 0, 0, 0, 0, 0, 0, 0, 1, 1, 1, 1, 1, 1, 1, 1, 1, 1],\n",
            "       device='cuda:0')\n",
            "epoch 61/100 loss: 0.37\n",
            "tensor([1, 1, 1, 1, 1, 1, 1, 1, 1, 1, 1, 1, 1, 1, 1, 1, 1, 1, 1, 2],\n",
            "       device='cuda:0')\n"
          ]
        },
        {
          "output_type": "stream",
          "name": "stderr",
          "text": [
            "\n",
            "Epoch 61 in training:  27%|██▋       | 3/11 [00:00<00:01,  6.94it/s]\u001b[A\n",
            "Epoch 61 in training:  36%|███▋      | 4/11 [00:00<00:00,  7.07it/s]\u001b[A"
          ]
        },
        {
          "output_type": "stream",
          "name": "stdout",
          "text": [
            "epoch 61/100 loss: 0.56\n",
            "tensor([2, 2, 2, 2, 2, 2, 2, 2, 2, 2, 2, 2, 2, 2, 2, 2, 2, 2, 2, 2],\n",
            "       device='cuda:0')\n",
            "epoch 61/100 loss: 0.75\n"
          ]
        },
        {
          "output_type": "stream",
          "name": "stderr",
          "text": [
            "\n",
            "Epoch 61 in training:  45%|████▌     | 5/11 [00:00<00:00,  7.05it/s]\u001b[A\n",
            "Epoch 61 in training:  55%|█████▍    | 6/11 [00:00<00:00,  7.11it/s]\u001b[A"
          ]
        },
        {
          "output_type": "stream",
          "name": "stdout",
          "text": [
            "tensor([2, 2, 2, 2, 2, 2, 2, 3, 3, 3, 3, 3, 3, 3, 3, 3, 3, 3, 3, 3],\n",
            "       device='cuda:0')\n",
            "epoch 61/100 loss: 0.93\n",
            "tensor([3, 3, 3, 3, 3, 3, 3, 3, 3, 3, 3, 3, 3, 3, 3, 3, 3, 3, 4, 4],\n",
            "       device='cuda:0')\n",
            "epoch 61/100 loss: 1.11\n"
          ]
        },
        {
          "output_type": "stream",
          "name": "stderr",
          "text": [
            "\n",
            "Epoch 61 in training:  64%|██████▎   | 7/11 [00:00<00:00,  7.12it/s]\u001b[A\n"
          ]
        },
        {
          "output_type": "stream",
          "name": "stdout",
          "text": [
            "tensor([4, 4, 4, 4, 4, 4, 4, 4, 4, 4, 4, 4, 4, 4, 4, 4, 4, 4, 4, 4],\n",
            "       device='cuda:0')\n",
            "epoch 61/100 loss: 1.30\n",
            "tensor([4, 4, 4, 4, 4, 4, 4, 4, 5, 5, 5, 5, 5, 5, 5, 5, 5, 5, 5, 5],\n",
            "       device='cuda:0')\n",
            "epoch 61/100 loss: 1.48\n"
          ]
        },
        {
          "output_type": "stream",
          "name": "stderr",
          "text": [
            "Epoch 61 in training:  73%|███████▎  | 8/11 [00:01<00:00,  7.05it/s]\u001b[A\n",
            "Epoch 61 in training:  82%|████████▏ | 9/11 [00:01<00:00,  7.10it/s]\u001b[A\n",
            "Epoch 61 in training:  91%|█████████ | 10/11 [00:01<00:00,  7.15it/s]\u001b[A"
          ]
        },
        {
          "output_type": "stream",
          "name": "stdout",
          "text": [
            "tensor([5, 5, 5, 5, 5, 5, 5, 5, 5, 5, 5, 5, 5, 5, 5, 5, 5, 5, 5, 6],\n",
            "       device='cuda:0')\n",
            "epoch 61/100 loss: 1.66\n",
            "tensor([6, 6, 6, 6, 6, 6, 6, 6, 6, 6, 6, 6, 6, 6, 6, 6, 6, 6, 6, 6],\n",
            "       device='cuda:0')\n",
            "epoch 61/100 loss: 1.81\n"
          ]
        },
        {
          "output_type": "stream",
          "name": "stderr",
          "text": [
            "\n",
            "Training:  61%|██████    | 61/100 [01:32<00:59,  1.52s/it]"
          ]
        },
        {
          "output_type": "stream",
          "name": "stdout",
          "text": [
            "tensor([6, 6, 6, 6, 6, 6, 6, 6, 6], device='cuda:0')\n",
            "epoch 61/100 loss: 1.97\n"
          ]
        },
        {
          "output_type": "stream",
          "name": "stderr",
          "text": [
            "\n",
            "Epoch 62 in training:   0%|          | 0/11 [00:00<?, ?it/s]\u001b[A\n",
            "Epoch 62 in training:   9%|▉         | 1/11 [00:00<00:01,  7.07it/s]\u001b[A"
          ]
        },
        {
          "output_type": "stream",
          "name": "stdout",
          "text": [
            "tensor([0, 0, 0, 0, 0, 0, 0, 0, 0, 0, 0, 0, 0, 0, 0, 0, 0, 0, 0, 0],\n",
            "       device='cuda:0')\n",
            "epoch 62/100 loss: 0.18\n"
          ]
        },
        {
          "output_type": "stream",
          "name": "stderr",
          "text": [
            "\n",
            "Epoch 62 in training:  18%|█▊        | 2/11 [00:00<00:01,  7.09it/s]\u001b[A"
          ]
        },
        {
          "output_type": "stream",
          "name": "stdout",
          "text": [
            "tensor([0, 0, 0, 0, 0, 0, 0, 0, 0, 0, 1, 1, 1, 1, 1, 1, 1, 1, 1, 1],\n",
            "       device='cuda:0')\n",
            "epoch 62/100 loss: 0.36\n"
          ]
        },
        {
          "output_type": "stream",
          "name": "stderr",
          "text": [
            "\n",
            "Epoch 62 in training:  27%|██▋       | 3/11 [00:00<00:01,  7.10it/s]\u001b[A"
          ]
        },
        {
          "output_type": "stream",
          "name": "stdout",
          "text": [
            "tensor([1, 1, 1, 1, 1, 1, 1, 1, 1, 1, 1, 1, 1, 1, 1, 1, 1, 1, 1, 2],\n",
            "       device='cuda:0')\n",
            "epoch 62/100 loss: 0.55\n"
          ]
        },
        {
          "output_type": "stream",
          "name": "stderr",
          "text": [
            "\n",
            "Epoch 62 in training:  36%|███▋      | 4/11 [00:00<00:00,  7.12it/s]\u001b[A"
          ]
        },
        {
          "output_type": "stream",
          "name": "stdout",
          "text": [
            "tensor([2, 2, 2, 2, 2, 2, 2, 2, 2, 2, 2, 2, 2, 2, 2, 2, 2, 2, 2, 2],\n",
            "       device='cuda:0')\n",
            "epoch 62/100 loss: 0.74\n"
          ]
        },
        {
          "output_type": "stream",
          "name": "stderr",
          "text": [
            "\n",
            "Epoch 62 in training:  45%|████▌     | 5/11 [00:00<00:00,  7.06it/s]"
          ]
        },
        {
          "output_type": "stream",
          "name": "stdout",
          "text": [
            "tensor([2, 2, 2, 2, 2, 2, 2, 3, 3, 3, 3, 3, 3, 3, 3, 3, 3, 3, 3, 3],\n",
            "       device='cuda:0')\n",
            "epoch 62/100 loss: 0.93\n"
          ]
        },
        {
          "output_type": "stream",
          "name": "stderr",
          "text": [
            "\u001b[A\n",
            "Epoch 62 in training:  55%|█████▍    | 6/11 [00:00<00:00,  7.11it/s]\u001b[A"
          ]
        },
        {
          "output_type": "stream",
          "name": "stdout",
          "text": [
            "tensor([3, 3, 3, 3, 3, 3, 3, 3, 3, 3, 3, 3, 3, 3, 3, 3, 3, 3, 4, 4],\n",
            "       device='cuda:0')\n",
            "epoch 62/100 loss: 1.12\n"
          ]
        },
        {
          "output_type": "stream",
          "name": "stderr",
          "text": [
            "\n",
            "Epoch 62 in training:  64%|██████▎   | 7/11 [00:00<00:00,  7.11it/s]\u001b[A"
          ]
        },
        {
          "output_type": "stream",
          "name": "stdout",
          "text": [
            "tensor([4, 4, 4, 4, 4, 4, 4, 4, 4, 4, 4, 4, 4, 4, 4, 4, 4, 4, 4, 4],\n",
            "       device='cuda:0')\n",
            "epoch 62/100 loss: 1.30\n"
          ]
        },
        {
          "output_type": "stream",
          "name": "stderr",
          "text": [
            "\n"
          ]
        },
        {
          "output_type": "stream",
          "name": "stdout",
          "text": [
            "tensor([4, 4, 4, 4, 4, 4, 4, 4, 5, 5, 5, 5, 5, 5, 5, 5, 5, 5, 5, 5],\n",
            "       device='cuda:0')\n",
            "epoch 62/100 loss: 1.48\n"
          ]
        },
        {
          "output_type": "stream",
          "name": "stderr",
          "text": [
            "Epoch 62 in training:  73%|███████▎  | 8/11 [00:01<00:00,  7.03it/s]\u001b[A\n",
            "Epoch 62 in training:  82%|████████▏ | 9/11 [00:01<00:00,  7.10it/s]\u001b[A"
          ]
        },
        {
          "output_type": "stream",
          "name": "stdout",
          "text": [
            "tensor([5, 5, 5, 5, 5, 5, 5, 5, 5, 5, 5, 5, 5, 5, 5, 5, 5, 5, 5, 6],\n",
            "       device='cuda:0')\n",
            "epoch 62/100 loss: 1.67\n"
          ]
        },
        {
          "output_type": "stream",
          "name": "stderr",
          "text": [
            "\n",
            "Epoch 62 in training:  91%|█████████ | 10/11 [00:01<00:00,  7.13it/s]\u001b[A"
          ]
        },
        {
          "output_type": "stream",
          "name": "stdout",
          "text": [
            "tensor([6, 6, 6, 6, 6, 6, 6, 6, 6, 6, 6, 6, 6, 6, 6, 6, 6, 6, 6, 6],\n",
            "       device='cuda:0')\n",
            "epoch 62/100 loss: 1.83\n"
          ]
        },
        {
          "output_type": "stream",
          "name": "stderr",
          "text": [
            "\n",
            "Training:  62%|██████▏   | 62/100 [01:34<00:57,  1.52s/it]"
          ]
        },
        {
          "output_type": "stream",
          "name": "stdout",
          "text": [
            "tensor([6, 6, 6, 6, 6, 6, 6, 6, 6], device='cuda:0')\n",
            "epoch 62/100 loss: 2.00\n"
          ]
        },
        {
          "output_type": "stream",
          "name": "stderr",
          "text": [
            "\n",
            "Epoch 63 in training:   0%|          | 0/11 [00:00<?, ?it/s]\u001b[A\n",
            "Epoch 63 in training:   9%|▉         | 1/11 [00:00<00:01,  6.88it/s]\u001b[A"
          ]
        },
        {
          "output_type": "stream",
          "name": "stdout",
          "text": [
            "tensor([0, 0, 0, 0, 0, 0, 0, 0, 0, 0, 0, 0, 0, 0, 0, 0, 0, 0, 0, 0],\n",
            "       device='cuda:0')\n",
            "epoch 63/100 loss: 0.19\n",
            "tensor([0, 0, 0, 0, 0, 0, 0, 0, 0, 0, 1, 1, 1, 1, 1, 1, 1, 1, 1, 1],\n",
            "       device='cuda:0')\n"
          ]
        },
        {
          "output_type": "stream",
          "name": "stderr",
          "text": [
            "\n",
            "Epoch 63 in training:  18%|█▊        | 2/11 [00:00<00:01,  6.73it/s]\u001b[A"
          ]
        },
        {
          "output_type": "stream",
          "name": "stdout",
          "text": [
            "epoch 63/100 loss: 0.38\n",
            "tensor([1, 1, 1, 1, 1, 1, 1, 1, 1, 1, 1, 1, 1, 1, 1, 1, 1, 1, 1, 2],\n",
            "       device='cuda:0')\n"
          ]
        },
        {
          "output_type": "stream",
          "name": "stderr",
          "text": [
            "\n",
            "Epoch 63 in training:  27%|██▋       | 3/11 [00:00<00:01,  6.76it/s]\u001b[A"
          ]
        },
        {
          "output_type": "stream",
          "name": "stdout",
          "text": [
            "epoch 63/100 loss: 0.57\n"
          ]
        },
        {
          "output_type": "stream",
          "name": "stderr",
          "text": [
            "\n",
            "Epoch 63 in training:  36%|███▋      | 4/11 [00:00<00:01,  6.85it/s]\u001b[A"
          ]
        },
        {
          "output_type": "stream",
          "name": "stdout",
          "text": [
            "tensor([2, 2, 2, 2, 2, 2, 2, 2, 2, 2, 2, 2, 2, 2, 2, 2, 2, 2, 2, 2],\n",
            "       device='cuda:0')\n",
            "epoch 63/100 loss: 0.76\n"
          ]
        },
        {
          "output_type": "stream",
          "name": "stderr",
          "text": [
            "\n",
            "Epoch 63 in training:  45%|████▌     | 5/11 [00:00<00:00,  6.93it/s]\u001b[A"
          ]
        },
        {
          "output_type": "stream",
          "name": "stdout",
          "text": [
            "tensor([2, 2, 2, 2, 2, 2, 2, 3, 3, 3, 3, 3, 3, 3, 3, 3, 3, 3, 3, 3],\n",
            "       device='cuda:0')\n",
            "epoch 63/100 loss: 0.94\n",
            "tensor([3, 3, 3, 3, 3, 3, 3, 3, 3, 3, 3, 3, 3, 3, 3, 3, 3, 3, 4, 4],\n",
            "       device='cuda:0')\n"
          ]
        },
        {
          "output_type": "stream",
          "name": "stderr",
          "text": [
            "\n",
            "Epoch 63 in training:  55%|█████▍    | 6/11 [00:00<00:00,  6.74it/s]\u001b[A\n"
          ]
        },
        {
          "output_type": "stream",
          "name": "stdout",
          "text": [
            "epoch 63/100 loss: 1.12\n",
            "tensor([4, 4, 4, 4, 4, 4, 4, 4, 4, 4, 4, 4, 4, 4, 4, 4, 4, 4, 4, 4],\n",
            "       device='cuda:0')\n",
            "epoch 63/100 loss: 1.31\n"
          ]
        },
        {
          "output_type": "stream",
          "name": "stderr",
          "text": [
            "Epoch 63 in training:  64%|██████▎   | 7/11 [00:01<00:00,  6.78it/s]\u001b[A\n",
            "Epoch 63 in training:  73%|███████▎  | 8/11 [00:01<00:00,  6.89it/s]\u001b[A\n",
            "Epoch 63 in training:  82%|████████▏ | 9/11 [00:01<00:00,  6.93it/s]"
          ]
        },
        {
          "output_type": "stream",
          "name": "stdout",
          "text": [
            "tensor([4, 4, 4, 4, 4, 4, 4, 4, 5, 5, 5, 5, 5, 5, 5, 5, 5, 5, 5, 5],\n",
            "       device='cuda:0')\n",
            "epoch 63/100 loss: 1.49\n",
            "tensor([5, 5, 5, 5, 5, 5, 5, 5, 5, 5, 5, 5, 5, 5, 5, 5, 5, 5, 5, 6],\n",
            "       device='cuda:0')\n",
            "epoch 63/100 loss: 1.67\n"
          ]
        },
        {
          "output_type": "stream",
          "name": "stderr",
          "text": [
            "\u001b[A\n",
            "Epoch 63 in training:  91%|█████████ | 10/11 [00:01<00:00,  7.00it/s]\u001b[A\n",
            "Training:  63%|██████▎   | 63/100 [01:35<00:56,  1.53s/it]"
          ]
        },
        {
          "output_type": "stream",
          "name": "stdout",
          "text": [
            "tensor([6, 6, 6, 6, 6, 6, 6, 6, 6, 6, 6, 6, 6, 6, 6, 6, 6, 6, 6, 6],\n",
            "       device='cuda:0')\n",
            "epoch 63/100 loss: 1.83\n",
            "tensor([6, 6, 6, 6, 6, 6, 6, 6, 6], device='cuda:0')\n",
            "epoch 63/100 loss: 1.99\n"
          ]
        },
        {
          "output_type": "stream",
          "name": "stderr",
          "text": [
            "\n",
            "Epoch 64 in training:   0%|          | 0/11 [00:00<?, ?it/s]\u001b[A\n",
            "Epoch 64 in training:   9%|▉         | 1/11 [00:00<00:01,  7.42it/s]\u001b[A\n",
            "Epoch 64 in training:  18%|█▊        | 2/11 [00:00<00:01,  7.30it/s]\u001b[A"
          ]
        },
        {
          "output_type": "stream",
          "name": "stdout",
          "text": [
            "tensor([0, 0, 0, 0, 0, 0, 0, 0, 0, 0, 0, 0, 0, 0, 0, 0, 0, 0, 0, 0],\n",
            "       device='cuda:0')\n",
            "epoch 64/100 loss: 0.18\n",
            "tensor([0, 0, 0, 0, 0, 0, 0, 0, 0, 0, 1, 1, 1, 1, 1, 1, 1, 1, 1, 1],\n",
            "       device='cuda:0')\n",
            "epoch 64/100 loss: 0.36\n"
          ]
        },
        {
          "output_type": "stream",
          "name": "stderr",
          "text": [
            "\n",
            "Epoch 64 in training:  27%|██▋       | 3/11 [00:00<00:01,  7.14it/s]\u001b[A\n",
            "Epoch 64 in training:  36%|███▋      | 4/11 [00:00<00:00,  7.10it/s]\u001b[A"
          ]
        },
        {
          "output_type": "stream",
          "name": "stdout",
          "text": [
            "tensor([1, 1, 1, 1, 1, 1, 1, 1, 1, 1, 1, 1, 1, 1, 1, 1, 1, 1, 1, 2],\n",
            "       device='cuda:0')\n",
            "epoch 64/100 loss: 0.55\n",
            "tensor([2, 2, 2, 2, 2, 2, 2, 2, 2, 2, 2, 2, 2, 2, 2, 2, 2, 2, 2, 2],\n",
            "       device='cuda:0')\n",
            "epoch 64/100 loss: 0.73\n"
          ]
        },
        {
          "output_type": "stream",
          "name": "stderr",
          "text": [
            "\n",
            "Epoch 64 in training:  45%|████▌     | 5/11 [00:00<00:00,  7.12it/s]\u001b[A\n",
            "Epoch 64 in training:  55%|█████▍    | 6/11 [00:00<00:00,  7.18it/s]\u001b[A"
          ]
        },
        {
          "output_type": "stream",
          "name": "stdout",
          "text": [
            "tensor([2, 2, 2, 2, 2, 2, 2, 3, 3, 3, 3, 3, 3, 3, 3, 3, 3, 3, 3, 3],\n",
            "       device='cuda:0')\n",
            "epoch 64/100 loss: 0.92\n",
            "tensor([3, 3, 3, 3, 3, 3, 3, 3, 3, 3, 3, 3, 3, 3, 3, 3, 3, 3, 4, 4],\n",
            "       device='cuda:0')\n",
            "epoch 64/100 loss: 1.10\n"
          ]
        },
        {
          "output_type": "stream",
          "name": "stderr",
          "text": [
            "\n",
            "Epoch 64 in training:  64%|██████▎   | 7/11 [00:00<00:00,  7.02it/s]\u001b[A"
          ]
        },
        {
          "output_type": "stream",
          "name": "stdout",
          "text": [
            "tensor([4, 4, 4, 4, 4, 4, 4, 4, 4, 4, 4, 4, 4, 4, 4, 4, 4, 4, 4, 4],\n",
            "       device='cuda:0')\n",
            "epoch 64/100 loss: 1.29\n",
            "tensor([4, 4, 4, 4, 4, 4, 4, 4, 5, 5, 5, 5, 5, 5, 5, 5, 5, 5, 5, 5],\n",
            "       device='cuda:0')\n"
          ]
        },
        {
          "output_type": "stream",
          "name": "stderr",
          "text": [
            "\n",
            "Epoch 64 in training:  73%|███████▎  | 8/11 [00:01<00:00,  6.95it/s]\u001b[A\n",
            "Epoch 64 in training:  82%|████████▏ | 9/11 [00:01<00:00,  7.05it/s]\u001b[A"
          ]
        },
        {
          "output_type": "stream",
          "name": "stdout",
          "text": [
            "epoch 64/100 loss: 1.47\n",
            "tensor([5, 5, 5, 5, 5, 5, 5, 5, 5, 5, 5, 5, 5, 5, 5, 5, 5, 5, 5, 6],\n",
            "       device='cuda:0')\n",
            "epoch 64/100 loss: 1.65\n"
          ]
        },
        {
          "output_type": "stream",
          "name": "stderr",
          "text": [
            "\n",
            "Epoch 64 in training:  91%|█████████ | 10/11 [00:01<00:00,  6.98it/s]\u001b[A\n",
            "Training:  64%|██████▍   | 64/100 [01:37<00:54,  1.53s/it]"
          ]
        },
        {
          "output_type": "stream",
          "name": "stdout",
          "text": [
            "tensor([6, 6, 6, 6, 6, 6, 6, 6, 6, 6, 6, 6, 6, 6, 6, 6, 6, 6, 6, 6],\n",
            "       device='cuda:0')\n",
            "epoch 64/100 loss: 1.82\n",
            "tensor([6, 6, 6, 6, 6, 6, 6, 6, 6], device='cuda:0')\n",
            "epoch 64/100 loss: 1.98\n"
          ]
        },
        {
          "output_type": "stream",
          "name": "stderr",
          "text": [
            "\n",
            "Epoch 65 in training:   0%|          | 0/11 [00:00<?, ?it/s]\u001b[A\n",
            "Epoch 65 in training:   9%|▉         | 1/11 [00:00<00:01,  7.35it/s]\u001b[A\n",
            "Epoch 65 in training:  18%|█▊        | 2/11 [00:00<00:01,  7.25it/s]\u001b[A"
          ]
        },
        {
          "output_type": "stream",
          "name": "stdout",
          "text": [
            "tensor([0, 0, 0, 0, 0, 0, 0, 0, 0, 0, 0, 0, 0, 0, 0, 0, 0, 0, 0, 0],\n",
            "       device='cuda:0')\n",
            "epoch 65/100 loss: 0.19\n",
            "tensor([0, 0, 0, 0, 0, 0, 0, 0, 0, 0, 1, 1, 1, 1, 1, 1, 1, 1, 1, 1],\n",
            "       device='cuda:0')\n",
            "epoch 65/100 loss: 0.37\n"
          ]
        },
        {
          "output_type": "stream",
          "name": "stderr",
          "text": [
            "\n",
            "Epoch 65 in training:  27%|██▋       | 3/11 [00:00<00:01,  7.24it/s]\u001b[A"
          ]
        },
        {
          "output_type": "stream",
          "name": "stdout",
          "text": [
            "tensor([1, 1, 1, 1, 1, 1, 1, 1, 1, 1, 1, 1, 1, 1, 1, 1, 1, 1, 1, 2],\n",
            "       device='cuda:0')\n",
            "epoch 65/100 loss: 0.56\n",
            "tensor([2, 2, 2, 2, 2, 2, 2, 2, 2, 2, 2, 2, 2, 2, 2, 2, 2, 2, 2, 2],\n",
            "       device='cuda:0')\n"
          ]
        },
        {
          "output_type": "stream",
          "name": "stderr",
          "text": [
            "\n",
            "Epoch 65 in training:  36%|███▋      | 4/11 [00:00<00:00,  7.02it/s]\u001b[A\n",
            "Epoch 65 in training:  45%|████▌     | 5/11 [00:00<00:00,  7.03it/s]\u001b[A"
          ]
        },
        {
          "output_type": "stream",
          "name": "stdout",
          "text": [
            "epoch 65/100 loss: 0.75\n",
            "tensor([2, 2, 2, 2, 2, 2, 2, 3, 3, 3, 3, 3, 3, 3, 3, 3, 3, 3, 3, 3],\n",
            "       device='cuda:0')\n",
            "epoch 65/100 loss: 0.93\n"
          ]
        },
        {
          "output_type": "stream",
          "name": "stderr",
          "text": [
            "\n",
            "Epoch 65 in training:  55%|█████▍    | 6/11 [00:00<00:00,  7.08it/s]\u001b[A\n",
            "Epoch 65 in training:  64%|██████▎   | 7/11 [00:00<00:00,  7.13it/s]\u001b[A"
          ]
        },
        {
          "output_type": "stream",
          "name": "stdout",
          "text": [
            "tensor([3, 3, 3, 3, 3, 3, 3, 3, 3, 3, 3, 3, 3, 3, 3, 3, 3, 3, 4, 4],\n",
            "       device='cuda:0')\n",
            "epoch 65/100 loss: 1.11\n",
            "tensor([4, 4, 4, 4, 4, 4, 4, 4, 4, 4, 4, 4, 4, 4, 4, 4, 4, 4, 4, 4],\n",
            "       device='cuda:0')\n",
            "epoch 65/100 loss: 1.30\n"
          ]
        },
        {
          "output_type": "stream",
          "name": "stderr",
          "text": [
            "\n",
            "Epoch 65 in training:  73%|███████▎  | 8/11 [00:01<00:00,  7.14it/s]\u001b[A\n",
            "Epoch 65 in training:  82%|████████▏ | 9/11 [00:01<00:00,  7.16it/s]\u001b[A"
          ]
        },
        {
          "output_type": "stream",
          "name": "stdout",
          "text": [
            "tensor([4, 4, 4, 4, 4, 4, 4, 4, 5, 5, 5, 5, 5, 5, 5, 5, 5, 5, 5, 5],\n",
            "       device='cuda:0')\n",
            "epoch 65/100 loss: 1.48\n",
            "tensor([5, 5, 5, 5, 5, 5, 5, 5, 5, 5, 5, 5, 5, 5, 5, 5, 5, 5, 5, 6],\n",
            "       device='cuda:0')\n",
            "epoch 65/100 loss: 1.66\n"
          ]
        },
        {
          "output_type": "stream",
          "name": "stderr",
          "text": [
            "\n",
            "Epoch 65 in training:  91%|█████████ | 10/11 [00:01<00:00,  7.01it/s]\u001b[A\n",
            "Training:  65%|██████▌   | 65/100 [01:38<00:53,  1.52s/it]"
          ]
        },
        {
          "output_type": "stream",
          "name": "stdout",
          "text": [
            "tensor([6, 6, 6, 6, 6, 6, 6, 6, 6, 6, 6, 6, 6, 6, 6, 6, 6, 6, 6, 6],\n",
            "       device='cuda:0')\n",
            "epoch 65/100 loss: 1.82\n",
            "tensor([6, 6, 6, 6, 6, 6, 6, 6, 6], device='cuda:0')\n",
            "epoch 65/100 loss: 1.98\n"
          ]
        },
        {
          "output_type": "stream",
          "name": "stderr",
          "text": [
            "\n",
            "Epoch 66 in training:   0%|          | 0/11 [00:00<?, ?it/s]\u001b[A\n",
            "Epoch 66 in training:   9%|▉         | 1/11 [00:00<00:01,  7.42it/s]\u001b[A\n",
            "Epoch 66 in training:  18%|█▊        | 2/11 [00:00<00:01,  7.26it/s]\u001b[A"
          ]
        },
        {
          "output_type": "stream",
          "name": "stdout",
          "text": [
            "tensor([0, 0, 0, 0, 0, 0, 0, 0, 0, 0, 0, 0, 0, 0, 0, 0, 0, 0, 0, 0],\n",
            "       device='cuda:0')\n",
            "epoch 66/100 loss: 0.19\n",
            "tensor([0, 0, 0, 0, 0, 0, 0, 0, 0, 0, 1, 1, 1, 1, 1, 1, 1, 1, 1, 1],\n",
            "       device='cuda:0')\n",
            "epoch 66/100 loss: 0.37\n"
          ]
        },
        {
          "output_type": "stream",
          "name": "stderr",
          "text": [
            "\n",
            "Epoch 66 in training:  27%|██▋       | 3/11 [00:00<00:01,  7.23it/s]\u001b[A\n",
            "Epoch 66 in training:  36%|███▋      | 4/11 [00:00<00:00,  7.19it/s]\u001b[A"
          ]
        },
        {
          "output_type": "stream",
          "name": "stdout",
          "text": [
            "tensor([1, 1, 1, 1, 1, 1, 1, 1, 1, 1, 1, 1, 1, 1, 1, 1, 1, 1, 1, 2],\n",
            "       device='cuda:0')\n",
            "epoch 66/100 loss: 0.55\n",
            "tensor([2, 2, 2, 2, 2, 2, 2, 2, 2, 2, 2, 2, 2, 2, 2, 2, 2, 2, 2, 2],\n",
            "       device='cuda:0')\n",
            "epoch 66/100 loss: 0.74\n"
          ]
        },
        {
          "output_type": "stream",
          "name": "stderr",
          "text": [
            "\n",
            "Epoch 66 in training:  45%|████▌     | 5/11 [00:00<00:00,  7.15it/s]\u001b[A\n",
            "Epoch 66 in training:  55%|█████▍    | 6/11 [00:00<00:00,  7.13it/s]\u001b[A"
          ]
        },
        {
          "output_type": "stream",
          "name": "stdout",
          "text": [
            "tensor([2, 2, 2, 2, 2, 2, 2, 3, 3, 3, 3, 3, 3, 3, 3, 3, 3, 3, 3, 3],\n",
            "       device='cuda:0')\n",
            "epoch 66/100 loss: 0.92\n",
            "tensor([3, 3, 3, 3, 3, 3, 3, 3, 3, 3, 3, 3, 3, 3, 3, 3, 3, 3, 4, 4],\n",
            "       device='cuda:0')\n",
            "epoch 66/100 loss: 1.10\n"
          ]
        },
        {
          "output_type": "stream",
          "name": "stderr",
          "text": [
            "\n",
            "Epoch 66 in training:  64%|██████▎   | 7/11 [00:00<00:00,  7.04it/s]\u001b[A\n"
          ]
        },
        {
          "output_type": "stream",
          "name": "stdout",
          "text": [
            "tensor([4, 4, 4, 4, 4, 4, 4, 4, 4, 4, 4, 4, 4, 4, 4, 4, 4, 4, 4, 4],\n",
            "       device='cuda:0')\n",
            "epoch 66/100 loss: 1.28\n",
            "tensor([4, 4, 4, 4, 4, 4, 4, 4, 5, 5, 5, 5, 5, 5, 5, 5, 5, 5, 5, 5],\n",
            "       device='cuda:0')\n",
            "epoch 66/100 loss: 1.46\n"
          ]
        },
        {
          "output_type": "stream",
          "name": "stderr",
          "text": [
            "Epoch 66 in training:  73%|███████▎  | 8/11 [00:01<00:00,  6.99it/s]\u001b[A\n",
            "Epoch 66 in training:  82%|████████▏ | 9/11 [00:01<00:00,  7.05it/s]\u001b[A\n",
            "Epoch 66 in training:  91%|█████████ | 10/11 [00:01<00:00,  7.09it/s]\u001b[A"
          ]
        },
        {
          "output_type": "stream",
          "name": "stdout",
          "text": [
            "tensor([5, 5, 5, 5, 5, 5, 5, 5, 5, 5, 5, 5, 5, 5, 5, 5, 5, 5, 5, 6],\n",
            "       device='cuda:0')\n",
            "epoch 66/100 loss: 1.65\n",
            "tensor([6, 6, 6, 6, 6, 6, 6, 6, 6, 6, 6, 6, 6, 6, 6, 6, 6, 6, 6, 6],\n",
            "       device='cuda:0')\n",
            "epoch 66/100 loss: 1.81\n"
          ]
        },
        {
          "output_type": "stream",
          "name": "stderr",
          "text": [
            "\n",
            "Training:  66%|██████▌   | 66/100 [01:40<00:51,  1.52s/it]"
          ]
        },
        {
          "output_type": "stream",
          "name": "stdout",
          "text": [
            "tensor([6, 6, 6, 6, 6, 6, 6, 6, 6], device='cuda:0')\n",
            "epoch 66/100 loss: 1.98\n"
          ]
        },
        {
          "output_type": "stream",
          "name": "stderr",
          "text": [
            "\n",
            "Epoch 67 in training:   0%|          | 0/11 [00:00<?, ?it/s]\u001b[A\n",
            "Epoch 67 in training:   9%|▉         | 1/11 [00:00<00:01,  7.20it/s]\u001b[A"
          ]
        },
        {
          "output_type": "stream",
          "name": "stdout",
          "text": [
            "tensor([0, 0, 0, 0, 0, 0, 0, 0, 0, 0, 0, 0, 0, 0, 0, 0, 0, 0, 0, 0],\n",
            "       device='cuda:0')\n",
            "epoch 67/100 loss: 0.18\n"
          ]
        },
        {
          "output_type": "stream",
          "name": "stderr",
          "text": [
            "\n",
            "Epoch 67 in training:  18%|█▊        | 2/11 [00:00<00:01,  7.06it/s]"
          ]
        },
        {
          "output_type": "stream",
          "name": "stdout",
          "text": [
            "tensor([0, 0, 0, 0, 0, 0, 0, 0, 0, 0, 1, 1, 1, 1, 1, 1, 1, 1, 1, 1],\n",
            "       device='cuda:0')\n",
            "epoch 67/100 loss: 0.37\n"
          ]
        },
        {
          "output_type": "stream",
          "name": "stderr",
          "text": [
            "\u001b[A"
          ]
        },
        {
          "output_type": "stream",
          "name": "stdout",
          "text": [
            "tensor([1, 1, 1, 1, 1, 1, 1, 1, 1, 1, 1, 1, 1, 1, 1, 1, 1, 1, 1, 2],\n",
            "       device='cuda:0')\n"
          ]
        },
        {
          "output_type": "stream",
          "name": "stderr",
          "text": [
            "\n",
            "Epoch 67 in training:  27%|██▋       | 3/11 [00:00<00:01,  6.88it/s]\u001b[A\n",
            "Epoch 67 in training:  36%|███▋      | 4/11 [00:00<00:00,  7.02it/s]\u001b[A"
          ]
        },
        {
          "output_type": "stream",
          "name": "stdout",
          "text": [
            "epoch 67/100 loss: 0.55\n",
            "tensor([2, 2, 2, 2, 2, 2, 2, 2, 2, 2, 2, 2, 2, 2, 2, 2, 2, 2, 2, 2],\n",
            "       device='cuda:0')\n",
            "epoch 67/100 loss: 0.74\n"
          ]
        },
        {
          "output_type": "stream",
          "name": "stderr",
          "text": [
            "\n",
            "Epoch 67 in training:  45%|████▌     | 5/11 [00:00<00:00,  6.95it/s]\u001b[A\n",
            "Epoch 67 in training:  55%|█████▍    | 6/11 [00:00<00:00,  6.97it/s]"
          ]
        },
        {
          "output_type": "stream",
          "name": "stdout",
          "text": [
            "tensor([2, 2, 2, 2, 2, 2, 2, 3, 3, 3, 3, 3, 3, 3, 3, 3, 3, 3, 3, 3],\n",
            "       device='cuda:0')\n",
            "epoch 67/100 loss: 0.92\n",
            "tensor([3, 3, 3, 3, 3, 3, 3, 3, 3, 3, 3, 3, 3, 3, 3, 3, 3, 3, 4, 4],\n",
            "       device='cuda:0')\n",
            "epoch 67/100 loss: 1.10\n"
          ]
        },
        {
          "output_type": "stream",
          "name": "stderr",
          "text": [
            "\u001b[A\n",
            "Epoch 67 in training:  64%|██████▎   | 7/11 [00:01<00:00,  6.94it/s]\u001b[A\n",
            "Epoch 67 in training:  73%|███████▎  | 8/11 [00:01<00:00,  7.04it/s]\u001b[A"
          ]
        },
        {
          "output_type": "stream",
          "name": "stdout",
          "text": [
            "tensor([4, 4, 4, 4, 4, 4, 4, 4, 4, 4, 4, 4, 4, 4, 4, 4, 4, 4, 4, 4],\n",
            "       device='cuda:0')\n",
            "epoch 67/100 loss: 1.29\n",
            "tensor([4, 4, 4, 4, 4, 4, 4, 4, 5, 5, 5, 5, 5, 5, 5, 5, 5, 5, 5, 5],\n",
            "       device='cuda:0')\n",
            "epoch 67/100 loss: 1.47\n"
          ]
        },
        {
          "output_type": "stream",
          "name": "stderr",
          "text": [
            "\n",
            "Epoch 67 in training:  82%|████████▏ | 9/11 [00:01<00:00,  7.08it/s]\u001b[A\n",
            "Epoch 67 in training:  91%|█████████ | 10/11 [00:01<00:00,  7.12it/s]\u001b[A"
          ]
        },
        {
          "output_type": "stream",
          "name": "stdout",
          "text": [
            "tensor([5, 5, 5, 5, 5, 5, 5, 5, 5, 5, 5, 5, 5, 5, 5, 5, 5, 5, 5, 6],\n",
            "       device='cuda:0')\n",
            "epoch 67/100 loss: 1.65\n",
            "tensor([6, 6, 6, 6, 6, 6, 6, 6, 6, 6, 6, 6, 6, 6, 6, 6, 6, 6, 6, 6],\n",
            "       device='cuda:0')\n",
            "epoch 67/100 loss: 1.81\n"
          ]
        },
        {
          "output_type": "stream",
          "name": "stderr",
          "text": [
            "\n",
            "Training:  67%|██████▋   | 67/100 [01:41<00:50,  1.52s/it]"
          ]
        },
        {
          "output_type": "stream",
          "name": "stdout",
          "text": [
            "tensor([6, 6, 6, 6, 6, 6, 6, 6, 6], device='cuda:0')\n",
            "epoch 67/100 loss: 1.97\n"
          ]
        },
        {
          "output_type": "stream",
          "name": "stderr",
          "text": [
            "\n",
            "Epoch 68 in training:   0%|          | 0/11 [00:00<?, ?it/s]\u001b[A\n",
            "Epoch 68 in training:   9%|▉         | 1/11 [00:00<00:01,  7.31it/s]\u001b[A"
          ]
        },
        {
          "output_type": "stream",
          "name": "stdout",
          "text": [
            "tensor([0, 0, 0, 0, 0, 0, 0, 0, 0, 0, 0, 0, 0, 0, 0, 0, 0, 0, 0, 0],\n",
            "       device='cuda:0')\n",
            "epoch 68/100 loss: 0.19\n"
          ]
        },
        {
          "output_type": "stream",
          "name": "stderr",
          "text": [
            "\n",
            "Epoch 68 in training:  18%|█▊        | 2/11 [00:00<00:01,  7.26it/s]\u001b[A"
          ]
        },
        {
          "output_type": "stream",
          "name": "stdout",
          "text": [
            "tensor([0, 0, 0, 0, 0, 0, 0, 0, 0, 0, 1, 1, 1, 1, 1, 1, 1, 1, 1, 1],\n",
            "       device='cuda:0')\n",
            "epoch 68/100 loss: 0.37\n",
            "tensor([1, 1, 1, 1, 1, 1, 1, 1, 1, 1, 1, 1, 1, 1, 1, 1, 1, 1, 1, 2],\n",
            "       device='cuda:0')\n"
          ]
        },
        {
          "output_type": "stream",
          "name": "stderr",
          "text": [
            "\n",
            "Epoch 68 in training:  27%|██▋       | 3/11 [00:00<00:01,  6.89it/s]\u001b[A"
          ]
        },
        {
          "output_type": "stream",
          "name": "stdout",
          "text": [
            "epoch 68/100 loss: 0.56\n",
            "tensor([2, 2, 2, 2, 2, 2, 2, 2, 2, 2, 2, 2, 2, 2, 2, 2, 2, 2, 2, 2],\n",
            "       device='cuda:0')\n"
          ]
        },
        {
          "output_type": "stream",
          "name": "stderr",
          "text": [
            "\n",
            "Epoch 68 in training:  36%|███▋      | 4/11 [00:00<00:01,  6.87it/s]\u001b[A"
          ]
        },
        {
          "output_type": "stream",
          "name": "stdout",
          "text": [
            "epoch 68/100 loss: 0.75\n"
          ]
        },
        {
          "output_type": "stream",
          "name": "stderr",
          "text": [
            "\n",
            "Epoch 68 in training:  45%|████▌     | 5/11 [00:00<00:00,  6.88it/s]\u001b[A"
          ]
        },
        {
          "output_type": "stream",
          "name": "stdout",
          "text": [
            "tensor([2, 2, 2, 2, 2, 2, 2, 3, 3, 3, 3, 3, 3, 3, 3, 3, 3, 3, 3, 3],\n",
            "       device='cuda:0')\n",
            "epoch 68/100 loss: 0.93\n"
          ]
        },
        {
          "output_type": "stream",
          "name": "stderr",
          "text": [
            "\n",
            "Epoch 68 in training:  55%|█████▍    | 6/11 [00:00<00:00,  6.97it/s]\u001b[A"
          ]
        },
        {
          "output_type": "stream",
          "name": "stdout",
          "text": [
            "tensor([3, 3, 3, 3, 3, 3, 3, 3, 3, 3, 3, 3, 3, 3, 3, 3, 3, 3, 4, 4],\n",
            "       device='cuda:0')\n",
            "epoch 68/100 loss: 1.11\n"
          ]
        },
        {
          "output_type": "stream",
          "name": "stderr",
          "text": [
            "\n",
            "Epoch 68 in training:  64%|██████▎   | 7/11 [00:01<00:00,  7.01it/s]\u001b[A"
          ]
        },
        {
          "output_type": "stream",
          "name": "stdout",
          "text": [
            "tensor([4, 4, 4, 4, 4, 4, 4, 4, 4, 4, 4, 4, 4, 4, 4, 4, 4, 4, 4, 4],\n",
            "       device='cuda:0')\n",
            "epoch 68/100 loss: 1.30\n",
            "tensor([4, 4, 4, 4, 4, 4, 4, 4, 5, 5, 5, 5, 5, 5, 5, 5, 5, 5, 5, 5],\n",
            "       device='cuda:0')\n"
          ]
        },
        {
          "output_type": "stream",
          "name": "stderr",
          "text": [
            "\n",
            "Epoch 68 in training:  73%|███████▎  | 8/11 [00:01<00:00,  6.91it/s]\u001b[A"
          ]
        },
        {
          "output_type": "stream",
          "name": "stdout",
          "text": [
            "epoch 68/100 loss: 1.48\n",
            "tensor([5, 5, 5, 5, 5, 5, 5, 5, 5, 5, 5, 5, 5, 5, 5, 5, 5, 5, 5, 6],\n",
            "       device='cuda:0')\n"
          ]
        },
        {
          "output_type": "stream",
          "name": "stderr",
          "text": [
            "\n",
            "Epoch 68 in training:  82%|████████▏ | 9/11 [00:01<00:00,  6.87it/s]\u001b[A"
          ]
        },
        {
          "output_type": "stream",
          "name": "stdout",
          "text": [
            "epoch 68/100 loss: 1.66\n"
          ]
        },
        {
          "output_type": "stream",
          "name": "stderr",
          "text": [
            "\n",
            "Epoch 68 in training:  91%|█████████ | 10/11 [00:01<00:00,  6.80it/s]\u001b[A"
          ]
        },
        {
          "output_type": "stream",
          "name": "stdout",
          "text": [
            "tensor([6, 6, 6, 6, 6, 6, 6, 6, 6, 6, 6, 6, 6, 6, 6, 6, 6, 6, 6, 6],\n",
            "       device='cuda:0')\n",
            "epoch 68/100 loss: 1.82\n",
            "tensor([6, 6, 6, 6, 6, 6, 6, 6, 6], device='cuda:0')\n"
          ]
        },
        {
          "output_type": "stream",
          "name": "stderr",
          "text": [
            "\n",
            "Training:  68%|██████▊   | 68/100 [01:43<00:48,  1.53s/it]"
          ]
        },
        {
          "output_type": "stream",
          "name": "stdout",
          "text": [
            "epoch 68/100 loss: 1.98\n"
          ]
        },
        {
          "output_type": "stream",
          "name": "stderr",
          "text": [
            "\n",
            "Epoch 69 in training:   0%|          | 0/11 [00:00<?, ?it/s]\u001b[A\n",
            "Epoch 69 in training:   9%|▉         | 1/11 [00:00<00:01,  7.31it/s]\u001b[A"
          ]
        },
        {
          "output_type": "stream",
          "name": "stdout",
          "text": [
            "tensor([0, 0, 0, 0, 0, 0, 0, 0, 0, 0, 0, 0, 0, 0, 0, 0, 0, 0, 0, 0],\n",
            "       device='cuda:0')\n",
            "epoch 69/100 loss: 0.18\n"
          ]
        },
        {
          "output_type": "stream",
          "name": "stderr",
          "text": [
            "\n",
            "Epoch 69 in training:  18%|█▊        | 2/11 [00:00<00:01,  7.20it/s]\u001b[A"
          ]
        },
        {
          "output_type": "stream",
          "name": "stdout",
          "text": [
            "tensor([0, 0, 0, 0, 0, 0, 0, 0, 0, 0, 1, 1, 1, 1, 1, 1, 1, 1, 1, 1],\n",
            "       device='cuda:0')\n",
            "epoch 69/100 loss: 0.37\n"
          ]
        },
        {
          "output_type": "stream",
          "name": "stderr",
          "text": [
            "\n"
          ]
        },
        {
          "output_type": "stream",
          "name": "stdout",
          "text": [
            "tensor([1, 1, 1, 1, 1, 1, 1, 1, 1, 1, 1, 1, 1, 1, 1, 1, 1, 1, 1, 2],\n",
            "       device='cuda:0')\n",
            "epoch 69/100 loss: 0.55\n"
          ]
        },
        {
          "output_type": "stream",
          "name": "stderr",
          "text": [
            "Epoch 69 in training:  27%|██▋       | 3/11 [00:00<00:01,  7.05it/s]\u001b[A\n",
            "Epoch 69 in training:  36%|███▋      | 4/11 [00:00<00:00,  7.06it/s]\u001b[A"
          ]
        },
        {
          "output_type": "stream",
          "name": "stdout",
          "text": [
            "tensor([2, 2, 2, 2, 2, 2, 2, 2, 2, 2, 2, 2, 2, 2, 2, 2, 2, 2, 2, 2],\n",
            "       device='cuda:0')\n",
            "epoch 69/100 loss: 0.74\n",
            "tensor([2, 2, 2, 2, 2, 2, 2, 3, 3, 3, 3, 3, 3, 3, 3, 3, 3, 3, 3, 3],\n",
            "       device='cuda:0')\n"
          ]
        },
        {
          "output_type": "stream",
          "name": "stderr",
          "text": [
            "\n",
            "Epoch 69 in training:  45%|████▌     | 5/11 [00:00<00:00,  6.91it/s]\u001b[A\n",
            "Epoch 69 in training:  55%|█████▍    | 6/11 [00:00<00:00,  7.01it/s]\u001b[A"
          ]
        },
        {
          "output_type": "stream",
          "name": "stdout",
          "text": [
            "epoch 69/100 loss: 0.92\n",
            "tensor([3, 3, 3, 3, 3, 3, 3, 3, 3, 3, 3, 3, 3, 3, 3, 3, 3, 3, 4, 4],\n",
            "       device='cuda:0')\n",
            "epoch 69/100 loss: 1.10\n"
          ]
        },
        {
          "output_type": "stream",
          "name": "stderr",
          "text": [
            "\n",
            "Epoch 69 in training:  64%|██████▎   | 7/11 [00:00<00:00,  7.02it/s]\u001b[A"
          ]
        },
        {
          "output_type": "stream",
          "name": "stdout",
          "text": [
            "tensor([4, 4, 4, 4, 4, 4, 4, 4, 4, 4, 4, 4, 4, 4, 4, 4, 4, 4, 4, 4],\n",
            "       device='cuda:0')\n",
            "epoch 69/100 loss: 1.28\n",
            "tensor([4, 4, 4, 4, 4, 4, 4, 4, 5, 5, 5, 5, 5, 5, 5, 5, 5, 5, 5, 5],\n",
            "       device='cuda:0')\n"
          ]
        },
        {
          "output_type": "stream",
          "name": "stderr",
          "text": [
            "\n",
            "Epoch 69 in training:  73%|███████▎  | 8/11 [00:01<00:00,  6.88it/s]\u001b[A\n",
            "Epoch 69 in training:  82%|████████▏ | 9/11 [00:01<00:00,  6.99it/s]\u001b[A"
          ]
        },
        {
          "output_type": "stream",
          "name": "stdout",
          "text": [
            "epoch 69/100 loss: 1.47\n",
            "tensor([5, 5, 5, 5, 5, 5, 5, 5, 5, 5, 5, 5, 5, 5, 5, 5, 5, 5, 5, 6],\n",
            "       device='cuda:0')\n",
            "epoch 69/100 loss: 1.65\n"
          ]
        },
        {
          "output_type": "stream",
          "name": "stderr",
          "text": [
            "\n",
            "Epoch 69 in training:  91%|█████████ | 10/11 [00:01<00:00,  6.89it/s]\u001b[A\n",
            "Training:  69%|██████▉   | 69/100 [01:44<00:47,  1.53s/it]"
          ]
        },
        {
          "output_type": "stream",
          "name": "stdout",
          "text": [
            "tensor([6, 6, 6, 6, 6, 6, 6, 6, 6, 6, 6, 6, 6, 6, 6, 6, 6, 6, 6, 6],\n",
            "       device='cuda:0')\n",
            "epoch 69/100 loss: 1.81\n",
            "tensor([6, 6, 6, 6, 6, 6, 6, 6, 6], device='cuda:0')\n",
            "epoch 69/100 loss: 1.97\n"
          ]
        },
        {
          "output_type": "stream",
          "name": "stderr",
          "text": [
            "\n",
            "Epoch 70 in training:   0%|          | 0/11 [00:00<?, ?it/s]\u001b[A\n",
            "Epoch 70 in training:   9%|▉         | 1/11 [00:00<00:01,  6.97it/s]\u001b[A\n",
            "Epoch 70 in training:  18%|█▊        | 2/11 [00:00<00:01,  7.14it/s]\u001b[A"
          ]
        },
        {
          "output_type": "stream",
          "name": "stdout",
          "text": [
            "tensor([0, 0, 0, 0, 0, 0, 0, 0, 0, 0, 0, 0, 0, 0, 0, 0, 0, 0, 0, 0],\n",
            "       device='cuda:0')\n",
            "epoch 70/100 loss: 0.19\n",
            "tensor([0, 0, 0, 0, 0, 0, 0, 0, 0, 0, 1, 1, 1, 1, 1, 1, 1, 1, 1, 1],\n",
            "       device='cuda:0')\n",
            "epoch 70/100 loss: 0.36\n"
          ]
        },
        {
          "output_type": "stream",
          "name": "stderr",
          "text": [
            "\n",
            "Epoch 70 in training:  27%|██▋       | 3/11 [00:00<00:01,  7.10it/s]\u001b[A"
          ]
        },
        {
          "output_type": "stream",
          "name": "stdout",
          "text": [
            "tensor([1, 1, 1, 1, 1, 1, 1, 1, 1, 1, 1, 1, 1, 1, 1, 1, 1, 1, 1, 2],\n",
            "       device='cuda:0')\n",
            "epoch 70/100 loss: 0.55\n",
            "tensor([2, 2, 2, 2, 2, 2, 2, 2, 2, 2, 2, 2, 2, 2, 2, 2, 2, 2, 2, 2],\n",
            "       device='cuda:0')\n"
          ]
        },
        {
          "output_type": "stream",
          "name": "stderr",
          "text": [
            "\n",
            "Epoch 70 in training:  36%|███▋      | 4/11 [00:00<00:01,  6.92it/s]\u001b[A\n",
            "Epoch 70 in training:  45%|████▌     | 5/11 [00:00<00:00,  6.96it/s]\u001b[A"
          ]
        },
        {
          "output_type": "stream",
          "name": "stdout",
          "text": [
            "epoch 70/100 loss: 0.74\n",
            "tensor([2, 2, 2, 2, 2, 2, 2, 3, 3, 3, 3, 3, 3, 3, 3, 3, 3, 3, 3, 3],\n",
            "       device='cuda:0')\n",
            "epoch 70/100 loss: 0.92\n"
          ]
        },
        {
          "output_type": "stream",
          "name": "stderr",
          "text": [
            "\n",
            "Epoch 70 in training:  55%|█████▍    | 6/11 [00:00<00:00,  6.88it/s]\u001b[A"
          ]
        },
        {
          "output_type": "stream",
          "name": "stdout",
          "text": [
            "tensor([3, 3, 3, 3, 3, 3, 3, 3, 3, 3, 3, 3, 3, 3, 3, 3, 3, 3, 4, 4],\n",
            "       device='cuda:0')\n",
            "epoch 70/100 loss: 1.10\n",
            "tensor([4, 4, 4, 4, 4, 4, 4, 4, 4, 4, 4, 4, 4, 4, 4, 4, 4, 4, 4, 4],\n",
            "       device='cuda:0')\n"
          ]
        },
        {
          "output_type": "stream",
          "name": "stderr",
          "text": [
            "\n",
            "Epoch 70 in training:  64%|██████▎   | 7/11 [00:01<00:00,  6.83it/s]\u001b[A\n",
            "Epoch 70 in training:  73%|███████▎  | 8/11 [00:01<00:00,  6.88it/s]\u001b[A"
          ]
        },
        {
          "output_type": "stream",
          "name": "stdout",
          "text": [
            "epoch 70/100 loss: 1.28\n",
            "tensor([4, 4, 4, 4, 4, 4, 4, 4, 5, 5, 5, 5, 5, 5, 5, 5, 5, 5, 5, 5],\n",
            "       device='cuda:0')\n",
            "epoch 70/100 loss: 1.47\n"
          ]
        },
        {
          "output_type": "stream",
          "name": "stderr",
          "text": [
            "\n",
            "Epoch 70 in training:  82%|████████▏ | 9/11 [00:01<00:00,  6.95it/s]\u001b[A"
          ]
        },
        {
          "output_type": "stream",
          "name": "stdout",
          "text": [
            "tensor([5, 5, 5, 5, 5, 5, 5, 5, 5, 5, 5, 5, 5, 5, 5, 5, 5, 5, 5, 6],\n",
            "       device='cuda:0')\n",
            "epoch 70/100 loss: 1.65\n",
            "tensor([6, 6, 6, 6, 6, 6, 6, 6, 6, 6, 6, 6, 6, 6, 6, 6, 6, 6, 6, 6],\n",
            "       device='cuda:0')\n"
          ]
        },
        {
          "output_type": "stream",
          "name": "stderr",
          "text": [
            "\n",
            "Epoch 70 in training:  91%|█████████ | 10/11 [00:01<00:00,  6.85it/s]\u001b[A\n",
            "Training:  70%|███████   | 70/100 [01:46<00:46,  1.54s/it]"
          ]
        },
        {
          "output_type": "stream",
          "name": "stdout",
          "text": [
            "epoch 70/100 loss: 1.81\n",
            "tensor([6, 6, 6, 6, 6, 6, 6, 6, 6], device='cuda:0')\n",
            "epoch 70/100 loss: 1.97\n"
          ]
        },
        {
          "output_type": "stream",
          "name": "stderr",
          "text": [
            "\n",
            "Epoch 71 in training:   0%|          | 0/11 [00:00<?, ?it/s]\u001b[A"
          ]
        },
        {
          "output_type": "stream",
          "name": "stdout",
          "text": [
            "tensor([0, 0, 0, 0, 0, 0, 0, 0, 0, 0, 0, 0, 0, 0, 0, 0, 0, 0, 0, 0],\n",
            "       device='cuda:0')\n"
          ]
        },
        {
          "output_type": "stream",
          "name": "stderr",
          "text": [
            "\n",
            "Epoch 71 in training:   9%|▉         | 1/11 [00:00<00:01,  7.27it/s]\u001b[A\n",
            "Epoch 71 in training:  18%|█▊        | 2/11 [00:00<00:01,  7.10it/s]\u001b[A"
          ]
        },
        {
          "output_type": "stream",
          "name": "stdout",
          "text": [
            "epoch 71/100 loss: 0.18\n",
            "tensor([0, 0, 0, 0, 0, 0, 0, 0, 0, 0, 1, 1, 1, 1, 1, 1, 1, 1, 1, 1],\n",
            "       device='cuda:0')\n",
            "epoch 71/100 loss: 0.36\n"
          ]
        },
        {
          "output_type": "stream",
          "name": "stderr",
          "text": [
            "\n",
            "Epoch 71 in training:  27%|██▋       | 3/11 [00:00<00:01,  7.07it/s]\u001b[A"
          ]
        },
        {
          "output_type": "stream",
          "name": "stdout",
          "text": [
            "tensor([1, 1, 1, 1, 1, 1, 1, 1, 1, 1, 1, 1, 1, 1, 1, 1, 1, 1, 1, 2],\n",
            "       device='cuda:0')\n",
            "epoch 71/100 loss: 0.55\n",
            "tensor([2, 2, 2, 2, 2, 2, 2, 2, 2, 2, 2, 2, 2, 2, 2, 2, 2, 2, 2, 2],\n",
            "       device='cuda:0')\n"
          ]
        },
        {
          "output_type": "stream",
          "name": "stderr",
          "text": [
            "\n",
            "Epoch 71 in training:  36%|███▋      | 4/11 [00:00<00:01,  6.93it/s]\u001b[A\n",
            "Epoch 71 in training:  45%|████▌     | 5/11 [00:00<00:00,  7.04it/s]\u001b[A"
          ]
        },
        {
          "output_type": "stream",
          "name": "stdout",
          "text": [
            "epoch 71/100 loss: 0.74\n",
            "tensor([2, 2, 2, 2, 2, 2, 2, 3, 3, 3, 3, 3, 3, 3, 3, 3, 3, 3, 3, 3],\n",
            "       device='cuda:0')\n",
            "epoch 71/100 loss: 0.92\n"
          ]
        },
        {
          "output_type": "stream",
          "name": "stderr",
          "text": [
            "\n",
            "Epoch 71 in training:  55%|█████▍    | 6/11 [00:00<00:00,  6.98it/s]\u001b[A"
          ]
        },
        {
          "output_type": "stream",
          "name": "stdout",
          "text": [
            "tensor([3, 3, 3, 3, 3, 3, 3, 3, 3, 3, 3, 3, 3, 3, 3, 3, 3, 3, 4, 4],\n",
            "       device='cuda:0')\n",
            "epoch 71/100 loss: 1.10\n",
            "tensor([4, 4, 4, 4, 4, 4, 4, 4, 4, 4, 4, 4, 4, 4, 4, 4, 4, 4, 4, 4],\n",
            "       device='cuda:0')\n"
          ]
        },
        {
          "output_type": "stream",
          "name": "stderr",
          "text": [
            "\n",
            "Epoch 71 in training:  64%|██████▎   | 7/11 [00:01<00:00,  6.91it/s]\u001b[A\n",
            "Epoch 71 in training:  73%|███████▎  | 8/11 [00:01<00:00,  7.00it/s]\u001b[A"
          ]
        },
        {
          "output_type": "stream",
          "name": "stdout",
          "text": [
            "epoch 71/100 loss: 1.28\n",
            "tensor([4, 4, 4, 4, 4, 4, 4, 4, 5, 5, 5, 5, 5, 5, 5, 5, 5, 5, 5, 5],\n",
            "       device='cuda:0')\n",
            "epoch 71/100 loss: 1.45\n"
          ]
        },
        {
          "output_type": "stream",
          "name": "stderr",
          "text": [
            "\n",
            "Epoch 71 in training:  82%|████████▏ | 9/11 [00:01<00:00,  6.94it/s]\u001b[A"
          ]
        },
        {
          "output_type": "stream",
          "name": "stdout",
          "text": [
            "tensor([5, 5, 5, 5, 5, 5, 5, 5, 5, 5, 5, 5, 5, 5, 5, 5, 5, 5, 5, 6],\n",
            "       device='cuda:0')\n",
            "epoch 71/100 loss: 1.64\n",
            "tensor([6, 6, 6, 6, 6, 6, 6, 6, 6, 6, 6, 6, 6, 6, 6, 6, 6, 6, 6, 6],\n",
            "       device='cuda:0')\n"
          ]
        },
        {
          "output_type": "stream",
          "name": "stderr",
          "text": [
            "\n",
            "Epoch 71 in training:  91%|█████████ | 10/11 [00:01<00:00,  6.89it/s]\u001b[A\n",
            "Training:  71%|███████   | 71/100 [01:48<00:44,  1.54s/it]"
          ]
        },
        {
          "output_type": "stream",
          "name": "stdout",
          "text": [
            "epoch 71/100 loss: 1.80\n",
            "tensor([6, 6, 6, 6, 6, 6, 6, 6, 6], device='cuda:0')\n",
            "epoch 71/100 loss: 1.95\n"
          ]
        },
        {
          "output_type": "stream",
          "name": "stderr",
          "text": [
            "\n",
            "Epoch 72 in training:   0%|          | 0/11 [00:00<?, ?it/s]\u001b[A"
          ]
        },
        {
          "output_type": "stream",
          "name": "stdout",
          "text": [
            "tensor([0, 0, 0, 0, 0, 0, 0, 0, 0, 0, 0, 0, 0, 0, 0, 0, 0, 0, 0, 0],\n",
            "       device='cuda:0')\n"
          ]
        },
        {
          "output_type": "stream",
          "name": "stderr",
          "text": [
            "\n",
            "Epoch 72 in training:   9%|▉         | 1/11 [00:00<00:01,  6.82it/s]\u001b[A\n",
            "Epoch 72 in training:  18%|█▊        | 2/11 [00:00<00:01,  7.00it/s]\u001b[A"
          ]
        },
        {
          "output_type": "stream",
          "name": "stdout",
          "text": [
            "epoch 72/100 loss: 0.19\n",
            "tensor([0, 0, 0, 0, 0, 0, 0, 0, 0, 0, 1, 1, 1, 1, 1, 1, 1, 1, 1, 1],\n",
            "       device='cuda:0')\n",
            "epoch 72/100 loss: 0.37\n"
          ]
        },
        {
          "output_type": "stream",
          "name": "stderr",
          "text": [
            "\n",
            "Epoch 72 in training:  27%|██▋       | 3/11 [00:00<00:01,  6.85it/s]\u001b[A\n",
            "Epoch 72 in training:  36%|███▋      | 4/11 [00:00<00:01,  6.95it/s]\u001b[A"
          ]
        },
        {
          "output_type": "stream",
          "name": "stdout",
          "text": [
            "tensor([1, 1, 1, 1, 1, 1, 1, 1, 1, 1, 1, 1, 1, 1, 1, 1, 1, 1, 1, 2],\n",
            "       device='cuda:0')\n",
            "epoch 72/100 loss: 0.56\n",
            "tensor([2, 2, 2, 2, 2, 2, 2, 2, 2, 2, 2, 2, 2, 2, 2, 2, 2, 2, 2, 2],\n",
            "       device='cuda:0')\n",
            "epoch 72/100 loss: 0.75\n"
          ]
        },
        {
          "output_type": "stream",
          "name": "stderr",
          "text": [
            "\n",
            "Epoch 72 in training:  45%|████▌     | 5/11 [00:00<00:00,  6.87it/s]\u001b[A"
          ]
        },
        {
          "output_type": "stream",
          "name": "stdout",
          "text": [
            "tensor([2, 2, 2, 2, 2, 2, 2, 3, 3, 3, 3, 3, 3, 3, 3, 3, 3, 3, 3, 3],\n",
            "       device='cuda:0')\n",
            "epoch 72/100 loss: 0.94\n",
            "tensor([3, 3, 3, 3, 3, 3, 3, 3, 3, 3, 3, 3, 3, 3, 3, 3, 3, 3, 4, 4],\n",
            "       device='cuda:0')\n"
          ]
        },
        {
          "output_type": "stream",
          "name": "stderr",
          "text": [
            "\n",
            "Epoch 72 in training:  55%|█████▍    | 6/11 [00:00<00:00,  6.85it/s]\u001b[A\n",
            "Epoch 72 in training:  64%|██████▎   | 7/11 [00:01<00:00,  6.84it/s]\u001b[A"
          ]
        },
        {
          "output_type": "stream",
          "name": "stdout",
          "text": [
            "epoch 72/100 loss: 1.12\n",
            "tensor([4, 4, 4, 4, 4, 4, 4, 4, 4, 4, 4, 4, 4, 4, 4, 4, 4, 4, 4, 4],\n",
            "       device='cuda:0')\n",
            "epoch 72/100 loss: 1.30\n"
          ]
        },
        {
          "output_type": "stream",
          "name": "stderr",
          "text": [
            "\n",
            "Epoch 72 in training:  73%|███████▎  | 8/11 [00:01<00:00,  6.89it/s]\u001b[A\n",
            "Epoch 72 in training:  82%|████████▏ | 9/11 [00:01<00:00,  6.95it/s]\u001b[A"
          ]
        },
        {
          "output_type": "stream",
          "name": "stdout",
          "text": [
            "tensor([4, 4, 4, 4, 4, 4, 4, 4, 5, 5, 5, 5, 5, 5, 5, 5, 5, 5, 5, 5],\n",
            "       device='cuda:0')\n",
            "epoch 72/100 loss: 1.48\n",
            "tensor([5, 5, 5, 5, 5, 5, 5, 5, 5, 5, 5, 5, 5, 5, 5, 5, 5, 5, 5, 6],\n",
            "       device='cuda:0')\n",
            "epoch 72/100 loss: 1.67\n"
          ]
        },
        {
          "output_type": "stream",
          "name": "stderr",
          "text": [
            "\n",
            "Epoch 72 in training:  91%|█████████ | 10/11 [00:01<00:00,  6.90it/s]\u001b[A\n",
            "Training:  72%|███████▏  | 72/100 [01:49<00:43,  1.54s/it]"
          ]
        },
        {
          "output_type": "stream",
          "name": "stdout",
          "text": [
            "tensor([6, 6, 6, 6, 6, 6, 6, 6, 6, 6, 6, 6, 6, 6, 6, 6, 6, 6, 6, 6],\n",
            "       device='cuda:0')\n",
            "epoch 72/100 loss: 1.83\n",
            "tensor([6, 6, 6, 6, 6, 6, 6, 6, 6], device='cuda:0')\n",
            "epoch 72/100 loss: 2.00\n"
          ]
        },
        {
          "output_type": "stream",
          "name": "stderr",
          "text": [
            "\n",
            "Epoch 73 in training:   0%|          | 0/11 [00:00<?, ?it/s]\u001b[A\n",
            "Epoch 73 in training:   9%|▉         | 1/11 [00:00<00:01,  7.15it/s]\u001b[A\n"
          ]
        },
        {
          "output_type": "stream",
          "name": "stdout",
          "text": [
            "tensor([0, 0, 0, 0, 0, 0, 0, 0, 0, 0, 0, 0, 0, 0, 0, 0, 0, 0, 0, 0],\n",
            "       device='cuda:0')\n",
            "epoch 73/100 loss: 0.18\n",
            "tensor([0, 0, 0, 0, 0, 0, 0, 0, 0, 0, 1, 1, 1, 1, 1, 1, 1, 1, 1, 1],\n",
            "       device='cuda:0')\n",
            "epoch 73/100 loss: 0.37\n"
          ]
        },
        {
          "output_type": "stream",
          "name": "stderr",
          "text": [
            "Epoch 73 in training:  18%|█▊        | 2/11 [00:00<00:01,  7.02it/s]\u001b[A\n",
            "Epoch 73 in training:  27%|██▋       | 3/11 [00:00<00:01,  7.05it/s]\u001b[A\n",
            "Epoch 73 in training:  36%|███▋      | 4/11 [00:00<00:00,  7.11it/s]\u001b[A"
          ]
        },
        {
          "output_type": "stream",
          "name": "stdout",
          "text": [
            "tensor([1, 1, 1, 1, 1, 1, 1, 1, 1, 1, 1, 1, 1, 1, 1, 1, 1, 1, 1, 2],\n",
            "       device='cuda:0')\n",
            "epoch 73/100 loss: 0.55\n",
            "tensor([2, 2, 2, 2, 2, 2, 2, 2, 2, 2, 2, 2, 2, 2, 2, 2, 2, 2, 2, 2],\n",
            "       device='cuda:0')\n",
            "epoch 73/100 loss: 0.74\n"
          ]
        },
        {
          "output_type": "stream",
          "name": "stderr",
          "text": [
            "\n",
            "Epoch 73 in training:  45%|████▌     | 5/11 [00:00<00:00,  7.12it/s]\u001b[A\n",
            "Epoch 73 in training:  55%|█████▍    | 6/11 [00:00<00:00,  7.12it/s]\u001b[A"
          ]
        },
        {
          "output_type": "stream",
          "name": "stdout",
          "text": [
            "tensor([2, 2, 2, 2, 2, 2, 2, 3, 3, 3, 3, 3, 3, 3, 3, 3, 3, 3, 3, 3],\n",
            "       device='cuda:0')\n",
            "epoch 73/100 loss: 0.92\n",
            "tensor([3, 3, 3, 3, 3, 3, 3, 3, 3, 3, 3, 3, 3, 3, 3, 3, 3, 3, 4, 4],\n",
            "       device='cuda:0')\n",
            "epoch 73/100 loss: 1.10\n"
          ]
        },
        {
          "output_type": "stream",
          "name": "stderr",
          "text": [
            "\n",
            "Epoch 73 in training:  64%|██████▎   | 7/11 [00:00<00:00,  7.13it/s]\u001b[A\n"
          ]
        },
        {
          "output_type": "stream",
          "name": "stdout",
          "text": [
            "tensor([4, 4, 4, 4, 4, 4, 4, 4, 4, 4, 4, 4, 4, 4, 4, 4, 4, 4, 4, 4],\n",
            "       device='cuda:0')\n",
            "epoch 73/100 loss: 1.28\n",
            "tensor([4, 4, 4, 4, 4, 4, 4, 4, 5, 5, 5, 5, 5, 5, 5, 5, 5, 5, 5, 5],\n",
            "       device='cuda:0')\n",
            "epoch 73/100 loss: 1.47\n"
          ]
        },
        {
          "output_type": "stream",
          "name": "stderr",
          "text": [
            "Epoch 73 in training:  73%|███████▎  | 8/11 [00:01<00:00,  7.08it/s]\u001b[A\n",
            "Epoch 73 in training:  82%|████████▏ | 9/11 [00:01<00:00,  7.08it/s]\u001b[A\n",
            "Epoch 73 in training:  91%|█████████ | 10/11 [00:01<00:00,  7.09it/s]\u001b[A"
          ]
        },
        {
          "output_type": "stream",
          "name": "stdout",
          "text": [
            "tensor([5, 5, 5, 5, 5, 5, 5, 5, 5, 5, 5, 5, 5, 5, 5, 5, 5, 5, 5, 6],\n",
            "       device='cuda:0')\n",
            "epoch 73/100 loss: 1.65\n",
            "tensor([6, 6, 6, 6, 6, 6, 6, 6, 6, 6, 6, 6, 6, 6, 6, 6, 6, 6, 6, 6],\n",
            "       device='cuda:0')\n",
            "epoch 73/100 loss: 1.81\n"
          ]
        },
        {
          "output_type": "stream",
          "name": "stderr",
          "text": [
            "\n",
            "Training:  73%|███████▎  | 73/100 [01:51<00:41,  1.53s/it]"
          ]
        },
        {
          "output_type": "stream",
          "name": "stdout",
          "text": [
            "tensor([6, 6, 6, 6, 6, 6, 6, 6, 6], device='cuda:0')\n",
            "epoch 73/100 loss: 1.97\n"
          ]
        },
        {
          "output_type": "stream",
          "name": "stderr",
          "text": [
            "\n",
            "Epoch 74 in training:   0%|          | 0/11 [00:00<?, ?it/s]\u001b[A\n",
            "Epoch 74 in training:   9%|▉         | 1/11 [00:00<00:01,  6.96it/s]\u001b[A"
          ]
        },
        {
          "output_type": "stream",
          "name": "stdout",
          "text": [
            "tensor([0, 0, 0, 0, 0, 0, 0, 0, 0, 0, 0, 0, 0, 0, 0, 0, 0, 0, 0, 0],\n",
            "       device='cuda:0')\n",
            "epoch 74/100 loss: 0.18\n"
          ]
        },
        {
          "output_type": "stream",
          "name": "stderr",
          "text": [
            "\n",
            "Epoch 74 in training:  18%|█▊        | 2/11 [00:00<00:01,  7.11it/s]\u001b[A"
          ]
        },
        {
          "output_type": "stream",
          "name": "stdout",
          "text": [
            "tensor([0, 0, 0, 0, 0, 0, 0, 0, 0, 0, 1, 1, 1, 1, 1, 1, 1, 1, 1, 1],\n",
            "       device='cuda:0')\n",
            "epoch 74/100 loss: 0.37\n"
          ]
        },
        {
          "output_type": "stream",
          "name": "stderr",
          "text": [
            "\n",
            "Epoch 74 in training:  27%|██▋       | 3/11 [00:00<00:01,  7.09it/s]\u001b[A"
          ]
        },
        {
          "output_type": "stream",
          "name": "stdout",
          "text": [
            "tensor([1, 1, 1, 1, 1, 1, 1, 1, 1, 1, 1, 1, 1, 1, 1, 1, 1, 1, 1, 2],\n",
            "       device='cuda:0')\n",
            "epoch 74/100 loss: 0.55\n"
          ]
        },
        {
          "output_type": "stream",
          "name": "stderr",
          "text": [
            "\n",
            "Epoch 74 in training:  36%|███▋      | 4/11 [00:00<00:00,  7.04it/s]"
          ]
        },
        {
          "output_type": "stream",
          "name": "stdout",
          "text": [
            "tensor([2, 2, 2, 2, 2, 2, 2, 2, 2, 2, 2, 2, 2, 2, 2, 2, 2, 2, 2, 2],\n",
            "       device='cuda:0')\n",
            "epoch 74/100 loss: 0.74\n"
          ]
        },
        {
          "output_type": "stream",
          "name": "stderr",
          "text": [
            "\u001b[A\n",
            "Epoch 74 in training:  45%|████▌     | 5/11 [00:00<00:00,  7.09it/s]\u001b[A"
          ]
        },
        {
          "output_type": "stream",
          "name": "stdout",
          "text": [
            "tensor([2, 2, 2, 2, 2, 2, 2, 3, 3, 3, 3, 3, 3, 3, 3, 3, 3, 3, 3, 3],\n",
            "       device='cuda:0')\n",
            "epoch 74/100 loss: 0.93\n"
          ]
        },
        {
          "output_type": "stream",
          "name": "stderr",
          "text": [
            "\n",
            "Epoch 74 in training:  55%|█████▍    | 6/11 [00:00<00:00,  7.12it/s]\u001b[A"
          ]
        },
        {
          "output_type": "stream",
          "name": "stdout",
          "text": [
            "tensor([3, 3, 3, 3, 3, 3, 3, 3, 3, 3, 3, 3, 3, 3, 3, 3, 3, 3, 4, 4],\n",
            "       device='cuda:0')\n",
            "epoch 74/100 loss: 1.12\n"
          ]
        },
        {
          "output_type": "stream",
          "name": "stderr",
          "text": [
            "\n",
            "Epoch 74 in training:  64%|██████▎   | 7/11 [00:00<00:00,  7.13it/s]\u001b[A"
          ]
        },
        {
          "output_type": "stream",
          "name": "stdout",
          "text": [
            "tensor([4, 4, 4, 4, 4, 4, 4, 4, 4, 4, 4, 4, 4, 4, 4, 4, 4, 4, 4, 4],\n",
            "       device='cuda:0')\n",
            "epoch 74/100 loss: 1.30\n"
          ]
        },
        {
          "output_type": "stream",
          "name": "stderr",
          "text": [
            "\n",
            "Epoch 74 in training:  73%|███████▎  | 8/11 [00:01<00:00,  7.07it/s]"
          ]
        },
        {
          "output_type": "stream",
          "name": "stdout",
          "text": [
            "tensor([4, 4, 4, 4, 4, 4, 4, 4, 5, 5, 5, 5, 5, 5, 5, 5, 5, 5, 5, 5],\n",
            "       device='cuda:0')\n",
            "epoch 74/100 loss: 1.48\n"
          ]
        },
        {
          "output_type": "stream",
          "name": "stderr",
          "text": [
            "\u001b[A"
          ]
        },
        {
          "output_type": "stream",
          "name": "stdout",
          "text": [
            "tensor([5, 5, 5, 5, 5, 5, 5, 5, 5, 5, 5, 5, 5, 5, 5, 5, 5, 5, 5, 6],\n",
            "       device='cuda:0')\n"
          ]
        },
        {
          "output_type": "stream",
          "name": "stderr",
          "text": [
            "\n",
            "Epoch 74 in training:  82%|████████▏ | 9/11 [00:01<00:00,  6.93it/s]\u001b[A"
          ]
        },
        {
          "output_type": "stream",
          "name": "stdout",
          "text": [
            "epoch 74/100 loss: 1.66\n",
            "tensor([6, 6, 6, 6, 6, 6, 6, 6, 6, 6, 6, 6, 6, 6, 6, 6, 6, 6, 6, 6],\n",
            "       device='cuda:0')\n"
          ]
        },
        {
          "output_type": "stream",
          "name": "stderr",
          "text": [
            "\n",
            "Epoch 74 in training:  91%|█████████ | 10/11 [00:01<00:00,  6.85it/s]\u001b[A"
          ]
        },
        {
          "output_type": "stream",
          "name": "stdout",
          "text": [
            "epoch 74/100 loss: 1.83\n",
            "tensor([6, 6, 6, 6, 6, 6, 6, 6, 6], device='cuda:0')\n"
          ]
        },
        {
          "output_type": "stream",
          "name": "stderr",
          "text": [
            "\n",
            "Training:  74%|███████▍  | 74/100 [01:52<00:39,  1.53s/it]"
          ]
        },
        {
          "output_type": "stream",
          "name": "stdout",
          "text": [
            "epoch 74/100 loss: 1.98\n"
          ]
        },
        {
          "output_type": "stream",
          "name": "stderr",
          "text": [
            "\n",
            "Epoch 75 in training:   0%|          | 0/11 [00:00<?, ?it/s]\u001b[A"
          ]
        },
        {
          "output_type": "stream",
          "name": "stdout",
          "text": [
            "tensor([0, 0, 0, 0, 0, 0, 0, 0, 0, 0, 0, 0, 0, 0, 0, 0, 0, 0, 0, 0],\n",
            "       device='cuda:0')\n"
          ]
        },
        {
          "output_type": "stream",
          "name": "stderr",
          "text": [
            "\n",
            "Epoch 75 in training:   9%|▉         | 1/11 [00:00<00:01,  6.91it/s]\u001b[A"
          ]
        },
        {
          "output_type": "stream",
          "name": "stdout",
          "text": [
            "epoch 75/100 loss: 0.18\n",
            "tensor([0, 0, 0, 0, 0, 0, 0, 0, 0, 0, 1, 1, 1, 1, 1, 1, 1, 1, 1, 1],\n",
            "       device='cuda:0')\n"
          ]
        },
        {
          "output_type": "stream",
          "name": "stderr",
          "text": [
            "\n",
            "Epoch 75 in training:  18%|█▊        | 2/11 [00:00<00:01,  6.77it/s]\u001b[A"
          ]
        },
        {
          "output_type": "stream",
          "name": "stdout",
          "text": [
            "epoch 75/100 loss: 0.36\n"
          ]
        },
        {
          "output_type": "stream",
          "name": "stderr",
          "text": [
            "\n"
          ]
        },
        {
          "output_type": "stream",
          "name": "stdout",
          "text": [
            "tensor([1, 1, 1, 1, 1, 1, 1, 1, 1, 1, 1, 1, 1, 1, 1, 1, 1, 1, 1, 2],\n",
            "       device='cuda:0')\n",
            "epoch 75/100 loss: 0.55\n"
          ]
        },
        {
          "output_type": "stream",
          "name": "stderr",
          "text": [
            "Epoch 75 in training:  27%|██▋       | 3/11 [00:00<00:01,  6.84it/s]\u001b[A\n",
            "Epoch 75 in training:  36%|███▋      | 4/11 [00:00<00:01,  6.96it/s]\u001b[A"
          ]
        },
        {
          "output_type": "stream",
          "name": "stdout",
          "text": [
            "tensor([2, 2, 2, 2, 2, 2, 2, 2, 2, 2, 2, 2, 2, 2, 2, 2, 2, 2, 2, 2],\n",
            "       device='cuda:0')\n",
            "epoch 75/100 loss: 0.74\n"
          ]
        },
        {
          "output_type": "stream",
          "name": "stderr",
          "text": [
            "\n",
            "Epoch 75 in training:  45%|████▌     | 5/11 [00:00<00:00,  7.01it/s]\u001b[A"
          ]
        },
        {
          "output_type": "stream",
          "name": "stdout",
          "text": [
            "tensor([2, 2, 2, 2, 2, 2, 2, 3, 3, 3, 3, 3, 3, 3, 3, 3, 3, 3, 3, 3],\n",
            "       device='cuda:0')\n",
            "epoch 75/100 loss: 0.92\n"
          ]
        },
        {
          "output_type": "stream",
          "name": "stderr",
          "text": [
            "\n",
            "Epoch 75 in training:  55%|█████▍    | 6/11 [00:00<00:00,  7.01it/s]\u001b[A"
          ]
        },
        {
          "output_type": "stream",
          "name": "stdout",
          "text": [
            "tensor([3, 3, 3, 3, 3, 3, 3, 3, 3, 3, 3, 3, 3, 3, 3, 3, 3, 3, 4, 4],\n",
            "       device='cuda:0')\n",
            "epoch 75/100 loss: 1.10\n",
            "tensor([4, 4, 4, 4, 4, 4, 4, 4, 4, 4, 4, 4, 4, 4, 4, 4, 4, 4, 4, 4],\n",
            "       device='cuda:0')\n"
          ]
        },
        {
          "output_type": "stream",
          "name": "stderr",
          "text": [
            "\n",
            "Epoch 75 in training:  64%|██████▎   | 7/11 [00:01<00:00,  6.92it/s]\u001b[A"
          ]
        },
        {
          "output_type": "stream",
          "name": "stdout",
          "text": [
            "epoch 75/100 loss: 1.28\n",
            "tensor([4, 4, 4, 4, 4, 4, 4, 4, 5, 5, 5, 5, 5, 5, 5, 5, 5, 5, 5, 5],\n",
            "       device='cuda:0')\n"
          ]
        },
        {
          "output_type": "stream",
          "name": "stderr",
          "text": [
            "\n",
            "Epoch 75 in training:  73%|███████▎  | 8/11 [00:01<00:00,  6.84it/s]\u001b[A"
          ]
        },
        {
          "output_type": "stream",
          "name": "stdout",
          "text": [
            "epoch 75/100 loss: 1.46\n"
          ]
        },
        {
          "output_type": "stream",
          "name": "stderr",
          "text": [
            "\n",
            "Epoch 75 in training:  82%|████████▏ | 9/11 [00:01<00:00,  6.95it/s]\u001b[A"
          ]
        },
        {
          "output_type": "stream",
          "name": "stdout",
          "text": [
            "tensor([5, 5, 5, 5, 5, 5, 5, 5, 5, 5, 5, 5, 5, 5, 5, 5, 5, 5, 5, 6],\n",
            "       device='cuda:0')\n",
            "epoch 75/100 loss: 1.64\n"
          ]
        },
        {
          "output_type": "stream",
          "name": "stderr",
          "text": [
            "\n",
            "Epoch 75 in training:  91%|█████████ | 10/11 [00:01<00:00,  7.04it/s]\u001b[A"
          ]
        },
        {
          "output_type": "stream",
          "name": "stdout",
          "text": [
            "tensor([6, 6, 6, 6, 6, 6, 6, 6, 6, 6, 6, 6, 6, 6, 6, 6, 6, 6, 6, 6],\n",
            "       device='cuda:0')\n",
            "epoch 75/100 loss: 1.81\n"
          ]
        },
        {
          "output_type": "stream",
          "name": "stderr",
          "text": [
            "\n",
            "Training:  75%|███████▌  | 75/100 [01:54<00:38,  1.53s/it]"
          ]
        },
        {
          "output_type": "stream",
          "name": "stdout",
          "text": [
            "tensor([6, 6, 6, 6, 6, 6, 6, 6, 6], device='cuda:0')\n",
            "epoch 75/100 loss: 1.97\n"
          ]
        },
        {
          "output_type": "stream",
          "name": "stderr",
          "text": [
            "\n",
            "Epoch 76 in training:   0%|          | 0/11 [00:00<?, ?it/s]\u001b[A\n",
            "Epoch 76 in training:   9%|▉         | 1/11 [00:00<00:01,  6.85it/s]\u001b[A"
          ]
        },
        {
          "output_type": "stream",
          "name": "stdout",
          "text": [
            "tensor([0, 0, 0, 0, 0, 0, 0, 0, 0, 0, 0, 0, 0, 0, 0, 0, 0, 0, 0, 0],\n",
            "       device='cuda:0')\n",
            "epoch 76/100 loss: 0.18\n",
            "tensor([0, 0, 0, 0, 0, 0, 0, 0, 0, 0, 1, 1, 1, 1, 1, 1, 1, 1, 1, 1],\n",
            "       device='cuda:0')\n"
          ]
        },
        {
          "output_type": "stream",
          "name": "stderr",
          "text": [
            "\n",
            "Epoch 76 in training:  18%|█▊        | 2/11 [00:00<00:01,  6.75it/s]\u001b[A\n",
            "Epoch 76 in training:  27%|██▋       | 3/11 [00:00<00:01,  6.98it/s]\u001b[A"
          ]
        },
        {
          "output_type": "stream",
          "name": "stdout",
          "text": [
            "epoch 76/100 loss: 0.36\n",
            "tensor([1, 1, 1, 1, 1, 1, 1, 1, 1, 1, 1, 1, 1, 1, 1, 1, 1, 1, 1, 2],\n",
            "       device='cuda:0')\n",
            "epoch 76/100 loss: 0.55\n"
          ]
        },
        {
          "output_type": "stream",
          "name": "stderr",
          "text": [
            "\n",
            "Epoch 76 in training:  36%|███▋      | 4/11 [00:00<00:00,  7.07it/s]\u001b[A\n",
            "Epoch 76 in training:  45%|████▌     | 5/11 [00:00<00:00,  7.12it/s]\u001b[A"
          ]
        },
        {
          "output_type": "stream",
          "name": "stdout",
          "text": [
            "tensor([2, 2, 2, 2, 2, 2, 2, 2, 2, 2, 2, 2, 2, 2, 2, 2, 2, 2, 2, 2],\n",
            "       device='cuda:0')\n",
            "epoch 76/100 loss: 0.74\n",
            "tensor([2, 2, 2, 2, 2, 2, 2, 3, 3, 3, 3, 3, 3, 3, 3, 3, 3, 3, 3, 3],\n",
            "       device='cuda:0')\n",
            "epoch 76/100 loss: 0.92\n"
          ]
        },
        {
          "output_type": "stream",
          "name": "stderr",
          "text": [
            "\n",
            "Epoch 76 in training:  55%|█████▍    | 6/11 [00:00<00:00,  7.15it/s]\u001b[A\n",
            "Epoch 76 in training:  64%|██████▎   | 7/11 [00:00<00:00,  7.17it/s]\u001b[A"
          ]
        },
        {
          "output_type": "stream",
          "name": "stdout",
          "text": [
            "tensor([3, 3, 3, 3, 3, 3, 3, 3, 3, 3, 3, 3, 3, 3, 3, 3, 3, 3, 4, 4],\n",
            "       device='cuda:0')\n",
            "epoch 76/100 loss: 1.10\n",
            "tensor([4, 4, 4, 4, 4, 4, 4, 4, 4, 4, 4, 4, 4, 4, 4, 4, 4, 4, 4, 4],\n",
            "       device='cuda:0')\n",
            "epoch 76/100 loss: 1.28\n"
          ]
        },
        {
          "output_type": "stream",
          "name": "stderr",
          "text": [
            "\n",
            "Epoch 76 in training:  73%|███████▎  | 8/11 [00:01<00:00,  7.08it/s]\u001b[A\n",
            "Epoch 76 in training:  82%|████████▏ | 9/11 [00:01<00:00,  7.12it/s]\u001b[A"
          ]
        },
        {
          "output_type": "stream",
          "name": "stdout",
          "text": [
            "tensor([4, 4, 4, 4, 4, 4, 4, 4, 5, 5, 5, 5, 5, 5, 5, 5, 5, 5, 5, 5],\n",
            "       device='cuda:0')\n",
            "epoch 76/100 loss: 1.46\n",
            "tensor([5, 5, 5, 5, 5, 5, 5, 5, 5, 5, 5, 5, 5, 5, 5, 5, 5, 5, 5, 6],\n",
            "       device='cuda:0')\n",
            "epoch 76/100 loss: 1.64\n"
          ]
        },
        {
          "output_type": "stream",
          "name": "stderr",
          "text": [
            "\n",
            "Epoch 76 in training:  91%|█████████ | 10/11 [00:01<00:00,  7.00it/s]\u001b[A\n",
            "Training:  76%|███████▌  | 76/100 [01:55<00:36,  1.53s/it]"
          ]
        },
        {
          "output_type": "stream",
          "name": "stdout",
          "text": [
            "tensor([6, 6, 6, 6, 6, 6, 6, 6, 6, 6, 6, 6, 6, 6, 6, 6, 6, 6, 6, 6],\n",
            "       device='cuda:0')\n",
            "epoch 76/100 loss: 1.80\n",
            "tensor([6, 6, 6, 6, 6, 6, 6, 6, 6], device='cuda:0')\n",
            "epoch 76/100 loss: 1.96\n"
          ]
        },
        {
          "output_type": "stream",
          "name": "stderr",
          "text": [
            "\n",
            "Epoch 77 in training:   0%|          | 0/11 [00:00<?, ?it/s]\u001b[A\n",
            "Epoch 77 in training:   9%|▉         | 1/11 [00:00<00:01,  7.39it/s]\u001b[A\n",
            "Epoch 77 in training:  18%|█▊        | 2/11 [00:00<00:01,  7.21it/s]\u001b[A"
          ]
        },
        {
          "output_type": "stream",
          "name": "stdout",
          "text": [
            "tensor([0, 0, 0, 0, 0, 0, 0, 0, 0, 0, 0, 0, 0, 0, 0, 0, 0, 0, 0, 0],\n",
            "       device='cuda:0')\n",
            "epoch 77/100 loss: 0.18\n",
            "tensor([0, 0, 0, 0, 0, 0, 0, 0, 0, 0, 1, 1, 1, 1, 1, 1, 1, 1, 1, 1],\n",
            "       device='cuda:0')\n",
            "epoch 77/100 loss: 0.37\n"
          ]
        },
        {
          "output_type": "stream",
          "name": "stderr",
          "text": [
            "\n",
            "Epoch 77 in training:  27%|██▋       | 3/11 [00:00<00:01,  7.09it/s]\u001b[A"
          ]
        },
        {
          "output_type": "stream",
          "name": "stdout",
          "text": [
            "tensor([1, 1, 1, 1, 1, 1, 1, 1, 1, 1, 1, 1, 1, 1, 1, 1, 1, 1, 1, 2],\n",
            "       device='cuda:0')\n",
            "epoch 77/100 loss: 0.55\n",
            "tensor([2, 2, 2, 2, 2, 2, 2, 2, 2, 2, 2, 2, 2, 2, 2, 2, 2, 2, 2, 2],\n",
            "       device='cuda:0')\n"
          ]
        },
        {
          "output_type": "stream",
          "name": "stderr",
          "text": [
            "\n",
            "Epoch 77 in training:  36%|███▋      | 4/11 [00:00<00:01,  6.95it/s]\u001b[A\n",
            "Epoch 77 in training:  45%|████▌     | 5/11 [00:00<00:00,  7.04it/s]\u001b[A"
          ]
        },
        {
          "output_type": "stream",
          "name": "stdout",
          "text": [
            "epoch 77/100 loss: 0.74\n",
            "tensor([2, 2, 2, 2, 2, 2, 2, 3, 3, 3, 3, 3, 3, 3, 3, 3, 3, 3, 3, 3],\n",
            "       device='cuda:0')\n",
            "epoch 77/100 loss: 0.92\n"
          ]
        },
        {
          "output_type": "stream",
          "name": "stderr",
          "text": [
            "\n",
            "Epoch 77 in training:  55%|█████▍    | 6/11 [00:00<00:00,  7.11it/s]\u001b[A\n",
            "Epoch 77 in training:  64%|██████▎   | 7/11 [00:00<00:00,  7.08it/s]"
          ]
        },
        {
          "output_type": "stream",
          "name": "stdout",
          "text": [
            "tensor([3, 3, 3, 3, 3, 3, 3, 3, 3, 3, 3, 3, 3, 3, 3, 3, 3, 3, 4, 4],\n",
            "       device='cuda:0')\n",
            "epoch 77/100 loss: 1.10\n",
            "tensor([4, 4, 4, 4, 4, 4, 4, 4, 4, 4, 4, 4, 4, 4, 4, 4, 4, 4, 4, 4],\n",
            "       device='cuda:0')\n",
            "epoch 77/100 loss: 1.28\n"
          ]
        },
        {
          "output_type": "stream",
          "name": "stderr",
          "text": [
            "\u001b[A\n",
            "Epoch 77 in training:  73%|███████▎  | 8/11 [00:01<00:00,  7.01it/s]\u001b[A"
          ]
        },
        {
          "output_type": "stream",
          "name": "stdout",
          "text": [
            "tensor([4, 4, 4, 4, 4, 4, 4, 4, 5, 5, 5, 5, 5, 5, 5, 5, 5, 5, 5, 5],\n",
            "       device='cuda:0')\n",
            "epoch 77/100 loss: 1.46\n",
            "tensor([5, 5, 5, 5, 5, 5, 5, 5, 5, 5, 5, 5, 5, 5, 5, 5, 5, 5, 5, 6],\n",
            "       device='cuda:0')\n"
          ]
        },
        {
          "output_type": "stream",
          "name": "stderr",
          "text": [
            "\n",
            "Epoch 77 in training:  82%|████████▏ | 9/11 [00:01<00:00,  6.94it/s]\u001b[A\n",
            "Epoch 77 in training:  91%|█████████ | 10/11 [00:01<00:00,  6.86it/s]\u001b[A"
          ]
        },
        {
          "output_type": "stream",
          "name": "stdout",
          "text": [
            "epoch 77/100 loss: 1.65\n",
            "tensor([6, 6, 6, 6, 6, 6, 6, 6, 6, 6, 6, 6, 6, 6, 6, 6, 6, 6, 6, 6],\n",
            "       device='cuda:0')\n",
            "epoch 77/100 loss: 1.80\n",
            "tensor([6, 6, 6, 6, 6, 6, 6, 6, 6], device='cuda:0')\n"
          ]
        },
        {
          "output_type": "stream",
          "name": "stderr",
          "text": [
            "\n",
            "Training:  77%|███████▋  | 77/100 [01:57<00:35,  1.53s/it]"
          ]
        },
        {
          "output_type": "stream",
          "name": "stdout",
          "text": [
            "epoch 77/100 loss: 1.96\n"
          ]
        },
        {
          "output_type": "stream",
          "name": "stderr",
          "text": [
            "\n",
            "Epoch 78 in training:   0%|          | 0/11 [00:00<?, ?it/s]\u001b[A\n",
            "Epoch 78 in training:   9%|▉         | 1/11 [00:00<00:01,  6.98it/s]\u001b[A"
          ]
        },
        {
          "output_type": "stream",
          "name": "stdout",
          "text": [
            "tensor([0, 0, 0, 0, 0, 0, 0, 0, 0, 0, 0, 0, 0, 0, 0, 0, 0, 0, 0, 0],\n",
            "       device='cuda:0')\n",
            "epoch 78/100 loss: 0.18\n",
            "tensor([0, 0, 0, 0, 0, 0, 0, 0, 0, 0, 1, 1, 1, 1, 1, 1, 1, 1, 1, 1],\n",
            "       device='cuda:0')\n"
          ]
        },
        {
          "output_type": "stream",
          "name": "stderr",
          "text": [
            "\n",
            "Epoch 78 in training:  18%|█▊        | 2/11 [00:00<00:01,  6.82it/s]\u001b[A\n",
            "Epoch 78 in training:  27%|██▋       | 3/11 [00:00<00:01,  7.00it/s]\u001b[A"
          ]
        },
        {
          "output_type": "stream",
          "name": "stdout",
          "text": [
            "epoch 78/100 loss: 0.37\n",
            "tensor([1, 1, 1, 1, 1, 1, 1, 1, 1, 1, 1, 1, 1, 1, 1, 1, 1, 1, 1, 2],\n",
            "       device='cuda:0')\n",
            "epoch 78/100 loss: 0.55\n"
          ]
        },
        {
          "output_type": "stream",
          "name": "stderr",
          "text": [
            "\n",
            "Epoch 78 in training:  36%|███▋      | 4/11 [00:00<00:01,  6.96it/s]\u001b[A\n",
            "Epoch 78 in training:  45%|████▌     | 5/11 [00:00<00:00,  7.05it/s]\u001b[A"
          ]
        },
        {
          "output_type": "stream",
          "name": "stdout",
          "text": [
            "tensor([2, 2, 2, 2, 2, 2, 2, 2, 2, 2, 2, 2, 2, 2, 2, 2, 2, 2, 2, 2],\n",
            "       device='cuda:0')\n",
            "epoch 78/100 loss: 0.73\n",
            "tensor([2, 2, 2, 2, 2, 2, 2, 3, 3, 3, 3, 3, 3, 3, 3, 3, 3, 3, 3, 3],\n",
            "       device='cuda:0')\n",
            "epoch 78/100 loss: 0.92\n"
          ]
        },
        {
          "output_type": "stream",
          "name": "stderr",
          "text": [
            "\n",
            "Epoch 78 in training:  55%|█████▍    | 6/11 [00:00<00:00,  6.97it/s]\u001b[A\n",
            "Epoch 78 in training:  64%|██████▎   | 7/11 [00:01<00:00,  7.04it/s]\u001b[A"
          ]
        },
        {
          "output_type": "stream",
          "name": "stdout",
          "text": [
            "tensor([3, 3, 3, 3, 3, 3, 3, 3, 3, 3, 3, 3, 3, 3, 3, 3, 3, 3, 4, 4],\n",
            "       device='cuda:0')\n",
            "epoch 78/100 loss: 1.09\n",
            "tensor([4, 4, 4, 4, 4, 4, 4, 4, 4, 4, 4, 4, 4, 4, 4, 4, 4, 4, 4, 4],\n",
            "       device='cuda:0')\n",
            "epoch 78/100 loss: 1.28\n"
          ]
        },
        {
          "output_type": "stream",
          "name": "stderr",
          "text": [
            "\n",
            "Epoch 78 in training:  73%|███████▎  | 8/11 [00:01<00:00,  7.09it/s]\u001b[A\n"
          ]
        },
        {
          "output_type": "stream",
          "name": "stdout",
          "text": [
            "tensor([4, 4, 4, 4, 4, 4, 4, 4, 5, 5, 5, 5, 5, 5, 5, 5, 5, 5, 5, 5],\n",
            "       device='cuda:0')\n",
            "epoch 78/100 loss: 1.46\n",
            "tensor([5, 5, 5, 5, 5, 5, 5, 5, 5, 5, 5, 5, 5, 5, 5, 5, 5, 5, 5, 6],\n",
            "       device='cuda:0')\n",
            "epoch 78/100 loss: 1.64\n"
          ]
        },
        {
          "output_type": "stream",
          "name": "stderr",
          "text": [
            "Epoch 78 in training:  82%|████████▏ | 9/11 [00:01<00:00,  7.02it/s]\u001b[A\n",
            "Epoch 78 in training:  91%|█████████ | 10/11 [00:01<00:00,  7.00it/s]\u001b[A\n",
            "Training:  78%|███████▊  | 78/100 [01:58<00:33,  1.53s/it]"
          ]
        },
        {
          "output_type": "stream",
          "name": "stdout",
          "text": [
            "tensor([6, 6, 6, 6, 6, 6, 6, 6, 6, 6, 6, 6, 6, 6, 6, 6, 6, 6, 6, 6],\n",
            "       device='cuda:0')\n",
            "epoch 78/100 loss: 1.80\n",
            "tensor([6, 6, 6, 6, 6, 6, 6, 6, 6], device='cuda:0')\n",
            "epoch 78/100 loss: 1.96\n"
          ]
        },
        {
          "output_type": "stream",
          "name": "stderr",
          "text": [
            "\n",
            "Epoch 79 in training:   0%|          | 0/11 [00:00<?, ?it/s]\u001b[A\n",
            "Epoch 79 in training:   9%|▉         | 1/11 [00:00<00:01,  7.00it/s]\u001b[A\n",
            "Epoch 79 in training:  18%|█▊        | 2/11 [00:00<00:01,  7.16it/s]\u001b[A"
          ]
        },
        {
          "output_type": "stream",
          "name": "stdout",
          "text": [
            "tensor([0, 0, 0, 0, 0, 0, 0, 0, 0, 0, 0, 0, 0, 0, 0, 0, 0, 0, 0, 0],\n",
            "       device='cuda:0')\n",
            "epoch 79/100 loss: 0.18\n",
            "tensor([0, 0, 0, 0, 0, 0, 0, 0, 0, 0, 1, 1, 1, 1, 1, 1, 1, 1, 1, 1],\n",
            "       device='cuda:0')\n",
            "epoch 79/100 loss: 0.36\n"
          ]
        },
        {
          "output_type": "stream",
          "name": "stderr",
          "text": [
            "\n",
            "Epoch 79 in training:  27%|██▋       | 3/11 [00:00<00:01,  7.10it/s]\u001b[A"
          ]
        },
        {
          "output_type": "stream",
          "name": "stdout",
          "text": [
            "tensor([1, 1, 1, 1, 1, 1, 1, 1, 1, 1, 1, 1, 1, 1, 1, 1, 1, 1, 1, 2],\n",
            "       device='cuda:0')\n",
            "epoch 79/100 loss: 0.55\n",
            "tensor([2, 2, 2, 2, 2, 2, 2, 2, 2, 2, 2, 2, 2, 2, 2, 2, 2, 2, 2, 2],\n",
            "       device='cuda:0')\n",
            "epoch 79/100 loss: 0.74\n"
          ]
        },
        {
          "output_type": "stream",
          "name": "stderr",
          "text": [
            "\n",
            "Epoch 79 in training:  36%|███▋      | 4/11 [00:00<00:00,  7.02it/s]\u001b[A\n",
            "Epoch 79 in training:  45%|████▌     | 5/11 [00:00<00:00,  6.90it/s]\u001b[A\n",
            "Epoch 79 in training:  55%|█████▍    | 6/11 [00:00<00:00,  6.91it/s]"
          ]
        },
        {
          "output_type": "stream",
          "name": "stdout",
          "text": [
            "tensor([2, 2, 2, 2, 2, 2, 2, 3, 3, 3, 3, 3, 3, 3, 3, 3, 3, 3, 3, 3],\n",
            "       device='cuda:0')\n",
            "epoch 79/100 loss: 0.93\n",
            "tensor([3, 3, 3, 3, 3, 3, 3, 3, 3, 3, 3, 3, 3, 3, 3, 3, 3, 3, 4, 4],\n",
            "       device='cuda:0')\n",
            "epoch 79/100 loss: 1.11\n"
          ]
        },
        {
          "output_type": "stream",
          "name": "stderr",
          "text": [
            "\u001b[A\n",
            "Epoch 79 in training:  64%|██████▎   | 7/11 [00:01<00:00,  6.91it/s]\u001b[A\n",
            "Epoch 79 in training:  73%|███████▎  | 8/11 [00:01<00:00,  6.95it/s]\u001b[A"
          ]
        },
        {
          "output_type": "stream",
          "name": "stdout",
          "text": [
            "tensor([4, 4, 4, 4, 4, 4, 4, 4, 4, 4, 4, 4, 4, 4, 4, 4, 4, 4, 4, 4],\n",
            "       device='cuda:0')\n",
            "epoch 79/100 loss: 1.29\n",
            "tensor([4, 4, 4, 4, 4, 4, 4, 4, 5, 5, 5, 5, 5, 5, 5, 5, 5, 5, 5, 5],\n",
            "       device='cuda:0')\n",
            "epoch 79/100 loss: 1.47\n"
          ]
        },
        {
          "output_type": "stream",
          "name": "stderr",
          "text": [
            "\n",
            "Epoch 79 in training:  82%|████████▏ | 9/11 [00:01<00:00,  6.95it/s]\u001b[A\n",
            "Epoch 79 in training:  91%|█████████ | 10/11 [00:01<00:00,  6.99it/s]\u001b[A"
          ]
        },
        {
          "output_type": "stream",
          "name": "stdout",
          "text": [
            "tensor([5, 5, 5, 5, 5, 5, 5, 5, 5, 5, 5, 5, 5, 5, 5, 5, 5, 5, 5, 6],\n",
            "       device='cuda:0')\n",
            "epoch 79/100 loss: 1.65\n",
            "tensor([6, 6, 6, 6, 6, 6, 6, 6, 6, 6, 6, 6, 6, 6, 6, 6, 6, 6, 6, 6],\n",
            "       device='cuda:0')\n",
            "epoch 79/100 loss: 1.81\n"
          ]
        },
        {
          "output_type": "stream",
          "name": "stderr",
          "text": [
            "\n",
            "Training:  79%|███████▉  | 79/100 [02:00<00:32,  1.53s/it]"
          ]
        },
        {
          "output_type": "stream",
          "name": "stdout",
          "text": [
            "tensor([6, 6, 6, 6, 6, 6, 6, 6, 6], device='cuda:0')\n",
            "epoch 79/100 loss: 1.97\n"
          ]
        },
        {
          "output_type": "stream",
          "name": "stderr",
          "text": [
            "\n",
            "Epoch 80 in training:   0%|          | 0/11 [00:00<?, ?it/s]\u001b[A\n",
            "Epoch 80 in training:   9%|▉         | 1/11 [00:00<00:01,  7.01it/s]\u001b[A"
          ]
        },
        {
          "output_type": "stream",
          "name": "stdout",
          "text": [
            "tensor([0, 0, 0, 0, 0, 0, 0, 0, 0, 0, 0, 0, 0, 0, 0, 0, 0, 0, 0, 0],\n",
            "       device='cuda:0')\n",
            "epoch 80/100 loss: 0.19\n",
            "tensor([0, 0, 0, 0, 0, 0, 0, 0, 0, 0, 1, 1, 1, 1, 1, 1, 1, 1, 1, 1],\n",
            "       device='cuda:0')\n"
          ]
        },
        {
          "output_type": "stream",
          "name": "stderr",
          "text": [
            "\n",
            "Epoch 80 in training:  18%|█▊        | 2/11 [00:00<00:01,  6.89it/s]\u001b[A"
          ]
        },
        {
          "output_type": "stream",
          "name": "stdout",
          "text": [
            "epoch 80/100 loss: 0.37\n",
            "tensor([1, 1, 1, 1, 1, 1, 1, 1, 1, 1, 1, 1, 1, 1, 1, 1, 1, 1, 1, 2],\n",
            "       device='cuda:0')\n"
          ]
        },
        {
          "output_type": "stream",
          "name": "stderr",
          "text": [
            "\n",
            "Epoch 80 in training:  27%|██▋       | 3/11 [00:00<00:01,  6.68it/s]\u001b[A"
          ]
        },
        {
          "output_type": "stream",
          "name": "stdout",
          "text": [
            "epoch 80/100 loss: 0.55\n"
          ]
        },
        {
          "output_type": "stream",
          "name": "stderr",
          "text": [
            "\n",
            "Epoch 80 in training:  36%|███▋      | 4/11 [00:00<00:01,  6.86it/s]\u001b[A"
          ]
        },
        {
          "output_type": "stream",
          "name": "stdout",
          "text": [
            "tensor([2, 2, 2, 2, 2, 2, 2, 2, 2, 2, 2, 2, 2, 2, 2, 2, 2, 2, 2, 2],\n",
            "       device='cuda:0')\n",
            "epoch 80/100 loss: 0.74\n"
          ]
        },
        {
          "output_type": "stream",
          "name": "stderr",
          "text": [
            "\n",
            "Epoch 80 in training:  45%|████▌     | 5/11 [00:00<00:00,  6.97it/s]\u001b[A"
          ]
        },
        {
          "output_type": "stream",
          "name": "stdout",
          "text": [
            "tensor([2, 2, 2, 2, 2, 2, 2, 3, 3, 3, 3, 3, 3, 3, 3, 3, 3, 3, 3, 3],\n",
            "       device='cuda:0')\n",
            "epoch 80/100 loss: 0.92\n"
          ]
        },
        {
          "output_type": "stream",
          "name": "stderr",
          "text": [
            "\n",
            "Epoch 80 in training:  55%|█████▍    | 6/11 [00:00<00:00,  7.02it/s]\u001b[A"
          ]
        },
        {
          "output_type": "stream",
          "name": "stdout",
          "text": [
            "tensor([3, 3, 3, 3, 3, 3, 3, 3, 3, 3, 3, 3, 3, 3, 3, 3, 3, 3, 4, 4],\n",
            "       device='cuda:0')\n",
            "epoch 80/100 loss: 1.10\n",
            "tensor([4, 4, 4, 4, 4, 4, 4, 4, 4, 4, 4, 4, 4, 4, 4, 4, 4, 4, 4, 4],\n",
            "       device='cuda:0')\n"
          ]
        },
        {
          "output_type": "stream",
          "name": "stderr",
          "text": [
            "\n",
            "Epoch 80 in training:  64%|██████▎   | 7/11 [00:01<00:00,  6.93it/s]\u001b[A"
          ]
        },
        {
          "output_type": "stream",
          "name": "stdout",
          "text": [
            "epoch 80/100 loss: 1.29\n",
            "tensor([4, 4, 4, 4, 4, 4, 4, 4, 5, 5, 5, 5, 5, 5, 5, 5, 5, 5, 5, 5],\n",
            "       device='cuda:0')\n"
          ]
        },
        {
          "output_type": "stream",
          "name": "stderr",
          "text": [
            "\n",
            "Epoch 80 in training:  73%|███████▎  | 8/11 [00:01<00:00,  6.85it/s]\u001b[A"
          ]
        },
        {
          "output_type": "stream",
          "name": "stdout",
          "text": [
            "epoch 80/100 loss: 1.47\n"
          ]
        },
        {
          "output_type": "stream",
          "name": "stderr",
          "text": [
            "\n",
            "Epoch 80 in training:  82%|████████▏ | 9/11 [00:01<00:00,  6.95it/s]\u001b[A"
          ]
        },
        {
          "output_type": "stream",
          "name": "stdout",
          "text": [
            "tensor([5, 5, 5, 5, 5, 5, 5, 5, 5, 5, 5, 5, 5, 5, 5, 5, 5, 5, 5, 6],\n",
            "       device='cuda:0')\n",
            "epoch 80/100 loss: 1.65\n"
          ]
        },
        {
          "output_type": "stream",
          "name": "stderr",
          "text": [
            "\n",
            "Epoch 80 in training:  91%|█████████ | 10/11 [00:01<00:00,  6.94it/s]"
          ]
        },
        {
          "output_type": "stream",
          "name": "stdout",
          "text": [
            "tensor([6, 6, 6, 6, 6, 6, 6, 6, 6, 6, 6, 6, 6, 6, 6, 6, 6, 6, 6, 6],\n",
            "       device='cuda:0')\n",
            "epoch 80/100 loss: 1.82\n"
          ]
        },
        {
          "output_type": "stream",
          "name": "stderr",
          "text": [
            "\u001b[A\n",
            "Training:  80%|████████  | 80/100 [02:01<00:30,  1.54s/it]"
          ]
        },
        {
          "output_type": "stream",
          "name": "stdout",
          "text": [
            "tensor([6, 6, 6, 6, 6, 6, 6, 6, 6], device='cuda:0')\n",
            "epoch 80/100 loss: 1.97\n"
          ]
        },
        {
          "output_type": "stream",
          "name": "stderr",
          "text": [
            "\n",
            "Epoch 81 in training:   0%|          | 0/11 [00:00<?, ?it/s]\u001b[A\n",
            "Epoch 81 in training:   9%|▉         | 1/11 [00:00<00:01,  6.98it/s]\u001b[A"
          ]
        },
        {
          "output_type": "stream",
          "name": "stdout",
          "text": [
            "tensor([0, 0, 0, 0, 0, 0, 0, 0, 0, 0, 0, 0, 0, 0, 0, 0, 0, 0, 0, 0],\n",
            "       device='cuda:0')\n",
            "epoch 81/100 loss: 0.18\n"
          ]
        },
        {
          "output_type": "stream",
          "name": "stderr",
          "text": [
            "\n",
            "Epoch 81 in training:  18%|█▊        | 2/11 [00:00<00:01,  7.01it/s]\u001b[A"
          ]
        },
        {
          "output_type": "stream",
          "name": "stdout",
          "text": [
            "tensor([0, 0, 0, 0, 0, 0, 0, 0, 0, 0, 1, 1, 1, 1, 1, 1, 1, 1, 1, 1],\n",
            "       device='cuda:0')\n",
            "epoch 81/100 loss: 0.37\n",
            "tensor([1, 1, 1, 1, 1, 1, 1, 1, 1, 1, 1, 1, 1, 1, 1, 1, 1, 1, 1, 2],\n",
            "       device='cuda:0')\n"
          ]
        },
        {
          "output_type": "stream",
          "name": "stderr",
          "text": [
            "\n",
            "Epoch 81 in training:  27%|██▋       | 3/11 [00:00<00:01,  6.88it/s]\u001b[A"
          ]
        },
        {
          "output_type": "stream",
          "name": "stdout",
          "text": [
            "epoch 81/100 loss: 0.54\n",
            "tensor([2, 2, 2, 2, 2, 2, 2, 2, 2, 2, 2, 2, 2, 2, 2, 2, 2, 2, 2, 2],\n",
            "       device='cuda:0')\n"
          ]
        },
        {
          "output_type": "stream",
          "name": "stderr",
          "text": [
            "\n",
            "Epoch 81 in training:  36%|███▋      | 4/11 [00:00<00:01,  6.78it/s]\u001b[A"
          ]
        },
        {
          "output_type": "stream",
          "name": "stdout",
          "text": [
            "epoch 81/100 loss: 0.73\n"
          ]
        },
        {
          "output_type": "stream",
          "name": "stderr",
          "text": [
            "\n",
            "Epoch 81 in training:  45%|████▌     | 5/11 [00:00<00:00,  6.88it/s]\u001b[A"
          ]
        },
        {
          "output_type": "stream",
          "name": "stdout",
          "text": [
            "tensor([2, 2, 2, 2, 2, 2, 2, 3, 3, 3, 3, 3, 3, 3, 3, 3, 3, 3, 3, 3],\n",
            "       device='cuda:0')\n",
            "epoch 81/100 loss: 0.91\n",
            "tensor([3, 3, 3, 3, 3, 3, 3, 3, 3, 3, 3, 3, 3, 3, 3, 3, 3, 3, 4, 4],\n",
            "       device='cuda:0')\n"
          ]
        },
        {
          "output_type": "stream",
          "name": "stderr",
          "text": [
            "\n",
            "Epoch 81 in training:  55%|█████▍    | 6/11 [00:00<00:00,  6.79it/s]\u001b[A"
          ]
        },
        {
          "output_type": "stream",
          "name": "stdout",
          "text": [
            "epoch 81/100 loss: 1.09\n",
            "tensor([4, 4, 4, 4, 4, 4, 4, 4, 4, 4, 4, 4, 4, 4, 4, 4, 4, 4, 4, 4],\n",
            "       device='cuda:0')\n"
          ]
        },
        {
          "output_type": "stream",
          "name": "stderr",
          "text": [
            "\n",
            "Epoch 81 in training:  64%|██████▎   | 7/11 [00:01<00:00,  6.80it/s]\u001b[A"
          ]
        },
        {
          "output_type": "stream",
          "name": "stdout",
          "text": [
            "epoch 81/100 loss: 1.28\n"
          ]
        },
        {
          "output_type": "stream",
          "name": "stderr",
          "text": [
            "\n",
            "Epoch 81 in training:  73%|███████▎  | 8/11 [00:01<00:00,  6.82it/s]\u001b[A"
          ]
        },
        {
          "output_type": "stream",
          "name": "stdout",
          "text": [
            "tensor([4, 4, 4, 4, 4, 4, 4, 4, 5, 5, 5, 5, 5, 5, 5, 5, 5, 5, 5, 5],\n",
            "       device='cuda:0')\n",
            "epoch 81/100 loss: 1.46\n",
            "tensor([5, 5, 5, 5, 5, 5, 5, 5, 5, 5, 5, 5, 5, 5, 5, 5, 5, 5, 5, 6],\n",
            "       device='cuda:0')\n"
          ]
        },
        {
          "output_type": "stream",
          "name": "stderr",
          "text": [
            "\n",
            "Epoch 81 in training:  82%|████████▏ | 9/11 [00:01<00:00,  6.76it/s]\u001b[A\n",
            "Epoch 81 in training:  91%|█████████ | 10/11 [00:01<00:00,  6.88it/s]\u001b[A"
          ]
        },
        {
          "output_type": "stream",
          "name": "stdout",
          "text": [
            "epoch 81/100 loss: 1.64\n",
            "tensor([6, 6, 6, 6, 6, 6, 6, 6, 6, 6, 6, 6, 6, 6, 6, 6, 6, 6, 6, 6],\n",
            "       device='cuda:0')\n",
            "epoch 81/100 loss: 1.81\n",
            "tensor([6, 6, 6, 6, 6, 6, 6, 6, 6], device='cuda:0')\n"
          ]
        },
        {
          "output_type": "stream",
          "name": "stderr",
          "text": [
            "\n",
            "Training:  81%|████████  | 81/100 [02:03<00:29,  1.54s/it]"
          ]
        },
        {
          "output_type": "stream",
          "name": "stdout",
          "text": [
            "epoch 81/100 loss: 1.97\n"
          ]
        },
        {
          "output_type": "stream",
          "name": "stderr",
          "text": [
            "\n",
            "Epoch 82 in training:   0%|          | 0/11 [00:00<?, ?it/s]\u001b[A\n",
            "Epoch 82 in training:   9%|▉         | 1/11 [00:00<00:01,  7.37it/s]\u001b[A"
          ]
        },
        {
          "output_type": "stream",
          "name": "stdout",
          "text": [
            "tensor([0, 0, 0, 0, 0, 0, 0, 0, 0, 0, 0, 0, 0, 0, 0, 0, 0, 0, 0, 0],\n",
            "       device='cuda:0')\n",
            "epoch 82/100 loss: 0.18\n",
            "tensor([0, 0, 0, 0, 0, 0, 0, 0, 0, 0, 1, 1, 1, 1, 1, 1, 1, 1, 1, 1],\n",
            "       device='cuda:0')\n"
          ]
        },
        {
          "output_type": "stream",
          "name": "stderr",
          "text": [
            "\n",
            "Epoch 82 in training:  18%|█▊        | 2/11 [00:00<00:01,  6.98it/s]\u001b[A"
          ]
        },
        {
          "output_type": "stream",
          "name": "stdout",
          "text": [
            "epoch 82/100 loss: 0.37\n",
            "tensor([1, 1, 1, 1, 1, 1, 1, 1, 1, 1, 1, 1, 1, 1, 1, 1, 1, 1, 1, 2],\n",
            "       device='cuda:0')\n"
          ]
        },
        {
          "output_type": "stream",
          "name": "stderr",
          "text": [
            "\n",
            "Epoch 82 in training:  27%|██▋       | 3/11 [00:00<00:01,  6.87it/s]\u001b[A"
          ]
        },
        {
          "output_type": "stream",
          "name": "stdout",
          "text": [
            "epoch 82/100 loss: 0.56\n"
          ]
        },
        {
          "output_type": "stream",
          "name": "stderr",
          "text": [
            "\n",
            "Epoch 82 in training:  36%|███▋      | 4/11 [00:00<00:01,  6.97it/s]\u001b[A"
          ]
        },
        {
          "output_type": "stream",
          "name": "stdout",
          "text": [
            "tensor([2, 2, 2, 2, 2, 2, 2, 2, 2, 2, 2, 2, 2, 2, 2, 2, 2, 2, 2, 2],\n",
            "       device='cuda:0')\n",
            "epoch 82/100 loss: 0.75\n",
            "tensor([2, 2, 2, 2, 2, 2, 2, 3, 3, 3, 3, 3, 3, 3, 3, 3, 3, 3, 3, 3],\n",
            "       device='cuda:0')\n"
          ]
        },
        {
          "output_type": "stream",
          "name": "stderr",
          "text": [
            "\n",
            "Epoch 82 in training:  45%|████▌     | 5/11 [00:00<00:00,  6.86it/s]\u001b[A"
          ]
        },
        {
          "output_type": "stream",
          "name": "stdout",
          "text": [
            "epoch 82/100 loss: 0.93\n",
            "tensor([3, 3, 3, 3, 3, 3, 3, 3, 3, 3, 3, 3, 3, 3, 3, 3, 3, 3, 4, 4],\n",
            "       device='cuda:0')\n"
          ]
        },
        {
          "output_type": "stream",
          "name": "stderr",
          "text": [
            "\n",
            "Epoch 82 in training:  55%|█████▍    | 6/11 [00:00<00:00,  6.80it/s]\u001b[A"
          ]
        },
        {
          "output_type": "stream",
          "name": "stdout",
          "text": [
            "epoch 82/100 loss: 1.11\n"
          ]
        },
        {
          "output_type": "stream",
          "name": "stderr",
          "text": [
            "\n",
            "Epoch 82 in training:  64%|██████▎   | 7/11 [00:01<00:00,  6.77it/s]\u001b[A"
          ]
        },
        {
          "output_type": "stream",
          "name": "stdout",
          "text": [
            "tensor([4, 4, 4, 4, 4, 4, 4, 4, 4, 4, 4, 4, 4, 4, 4, 4, 4, 4, 4, 4],\n",
            "       device='cuda:0')\n",
            "epoch 82/100 loss: 1.30\n",
            "tensor([4, 4, 4, 4, 4, 4, 4, 4, 5, 5, 5, 5, 5, 5, 5, 5, 5, 5, 5, 5],\n",
            "       device='cuda:0')\n"
          ]
        },
        {
          "output_type": "stream",
          "name": "stderr",
          "text": [
            "\n",
            "Epoch 82 in training:  73%|███████▎  | 8/11 [00:01<00:00,  6.76it/s]\u001b[A"
          ]
        },
        {
          "output_type": "stream",
          "name": "stdout",
          "text": [
            "epoch 82/100 loss: 1.48\n",
            "tensor([5, 5, 5, 5, 5, 5, 5, 5, 5, 5, 5, 5, 5, 5, 5, 5, 5, 5, 5, 6],\n",
            "       device='cuda:0')\n"
          ]
        },
        {
          "output_type": "stream",
          "name": "stderr",
          "text": [
            "\n",
            "Epoch 82 in training:  82%|████████▏ | 9/11 [00:01<00:00,  6.75it/s]\u001b[A"
          ]
        },
        {
          "output_type": "stream",
          "name": "stdout",
          "text": [
            "epoch 82/100 loss: 1.66\n"
          ]
        },
        {
          "output_type": "stream",
          "name": "stderr",
          "text": [
            "\n",
            "Epoch 82 in training:  91%|█████████ | 10/11 [00:01<00:00,  6.87it/s]\u001b[A"
          ]
        },
        {
          "output_type": "stream",
          "name": "stdout",
          "text": [
            "tensor([6, 6, 6, 6, 6, 6, 6, 6, 6, 6, 6, 6, 6, 6, 6, 6, 6, 6, 6, 6],\n",
            "       device='cuda:0')\n",
            "epoch 82/100 loss: 1.82\n",
            "tensor([6, 6, 6, 6, 6, 6, 6, 6, 6], device='cuda:0')\n"
          ]
        },
        {
          "output_type": "stream",
          "name": "stderr",
          "text": [
            "\n",
            "Training:  82%|████████▏ | 82/100 [02:04<00:27,  1.55s/it]"
          ]
        },
        {
          "output_type": "stream",
          "name": "stdout",
          "text": [
            "epoch 82/100 loss: 1.98\n"
          ]
        },
        {
          "output_type": "stream",
          "name": "stderr",
          "text": [
            "\n",
            "Epoch 83 in training:   0%|          | 0/11 [00:00<?, ?it/s]\u001b[A\n",
            "Epoch 83 in training:   9%|▉         | 1/11 [00:00<00:01,  6.80it/s]\u001b[A"
          ]
        },
        {
          "output_type": "stream",
          "name": "stdout",
          "text": [
            "tensor([0, 0, 0, 0, 0, 0, 0, 0, 0, 0, 0, 0, 0, 0, 0, 0, 0, 0, 0, 0],\n",
            "       device='cuda:0')\n",
            "epoch 83/100 loss: 0.18\n"
          ]
        },
        {
          "output_type": "stream",
          "name": "stderr",
          "text": [
            "\n"
          ]
        },
        {
          "output_type": "stream",
          "name": "stdout",
          "text": [
            "tensor([0, 0, 0, 0, 0, 0, 0, 0, 0, 0, 1, 1, 1, 1, 1, 1, 1, 1, 1, 1],\n",
            "       device='cuda:0')\n",
            "epoch 83/100 loss: 0.37\n"
          ]
        },
        {
          "output_type": "stream",
          "name": "stderr",
          "text": [
            "Epoch 83 in training:  18%|█▊        | 2/11 [00:00<00:01,  6.83it/s]\u001b[A\n",
            "Epoch 83 in training:  27%|██▋       | 3/11 [00:00<00:01,  6.98it/s]\u001b[A"
          ]
        },
        {
          "output_type": "stream",
          "name": "stdout",
          "text": [
            "tensor([1, 1, 1, 1, 1, 1, 1, 1, 1, 1, 1, 1, 1, 1, 1, 1, 1, 1, 1, 2],\n",
            "       device='cuda:0')\n",
            "epoch 83/100 loss: 0.55\n"
          ]
        },
        {
          "output_type": "stream",
          "name": "stderr",
          "text": [
            "\n",
            "Epoch 83 in training:  36%|███▋      | 4/11 [00:00<00:00,  7.09it/s]\u001b[A"
          ]
        },
        {
          "output_type": "stream",
          "name": "stdout",
          "text": [
            "tensor([2, 2, 2, 2, 2, 2, 2, 2, 2, 2, 2, 2, 2, 2, 2, 2, 2, 2, 2, 2],\n",
            "       device='cuda:0')\n",
            "epoch 83/100 loss: 0.74\n"
          ]
        },
        {
          "output_type": "stream",
          "name": "stderr",
          "text": [
            "\n",
            "Epoch 83 in training:  45%|████▌     | 5/11 [00:00<00:00,  7.12it/s]\u001b[A"
          ]
        },
        {
          "output_type": "stream",
          "name": "stdout",
          "text": [
            "tensor([2, 2, 2, 2, 2, 2, 2, 3, 3, 3, 3, 3, 3, 3, 3, 3, 3, 3, 3, 3],\n",
            "       device='cuda:0')\n",
            "epoch 83/100 loss: 0.92\n"
          ]
        },
        {
          "output_type": "stream",
          "name": "stderr",
          "text": [
            "\n",
            "Epoch 83 in training:  55%|█████▍    | 6/11 [00:00<00:00,  7.08it/s]"
          ]
        },
        {
          "output_type": "stream",
          "name": "stdout",
          "text": [
            "tensor([3, 3, 3, 3, 3, 3, 3, 3, 3, 3, 3, 3, 3, 3, 3, 3, 3, 3, 4, 4],\n",
            "       device='cuda:0')\n",
            "epoch 83/100 loss: 1.10\n"
          ]
        },
        {
          "output_type": "stream",
          "name": "stderr",
          "text": [
            "\u001b[A\n",
            "Epoch 83 in training:  64%|██████▎   | 7/11 [00:00<00:00,  7.10it/s]\u001b[A"
          ]
        },
        {
          "output_type": "stream",
          "name": "stdout",
          "text": [
            "tensor([4, 4, 4, 4, 4, 4, 4, 4, 4, 4, 4, 4, 4, 4, 4, 4, 4, 4, 4, 4],\n",
            "       device='cuda:0')\n",
            "epoch 83/100 loss: 1.28\n"
          ]
        },
        {
          "output_type": "stream",
          "name": "stderr",
          "text": [
            "\n",
            "Epoch 83 in training:  73%|███████▎  | 8/11 [00:01<00:00,  7.11it/s]\u001b[A"
          ]
        },
        {
          "output_type": "stream",
          "name": "stdout",
          "text": [
            "tensor([4, 4, 4, 4, 4, 4, 4, 4, 5, 5, 5, 5, 5, 5, 5, 5, 5, 5, 5, 5],\n",
            "       device='cuda:0')\n",
            "epoch 83/100 loss: 1.47\n",
            "tensor([5, 5, 5, 5, 5, 5, 5, 5, 5, 5, 5, 5, 5, 5, 5, 5, 5, 5, 5, 6],\n",
            "       device='cuda:0')\n"
          ]
        },
        {
          "output_type": "stream",
          "name": "stderr",
          "text": [
            "\n",
            "Epoch 83 in training:  82%|████████▏ | 9/11 [00:01<00:00,  6.95it/s]\u001b[A\n",
            "Epoch 83 in training:  91%|█████████ | 10/11 [00:01<00:00,  7.04it/s]\u001b[A"
          ]
        },
        {
          "output_type": "stream",
          "name": "stdout",
          "text": [
            "epoch 83/100 loss: 1.65\n",
            "tensor([6, 6, 6, 6, 6, 6, 6, 6, 6, 6, 6, 6, 6, 6, 6, 6, 6, 6, 6, 6],\n",
            "       device='cuda:0')\n",
            "epoch 83/100 loss: 1.81\n",
            "tensor([6, 6, 6, 6, 6, 6, 6, 6, 6], device='cuda:0')\n"
          ]
        },
        {
          "output_type": "stream",
          "name": "stderr",
          "text": [
            "\n",
            "Training:  83%|████████▎ | 83/100 [02:06<00:26,  1.54s/it]"
          ]
        },
        {
          "output_type": "stream",
          "name": "stdout",
          "text": [
            "epoch 83/100 loss: 1.96\n"
          ]
        },
        {
          "output_type": "stream",
          "name": "stderr",
          "text": [
            "\n",
            "Epoch 84 in training:   0%|          | 0/11 [00:00<?, ?it/s]\u001b[A\n",
            "Epoch 84 in training:   9%|▉         | 1/11 [00:00<00:01,  6.93it/s]\u001b[A"
          ]
        },
        {
          "output_type": "stream",
          "name": "stdout",
          "text": [
            "tensor([0, 0, 0, 0, 0, 0, 0, 0, 0, 0, 0, 0, 0, 0, 0, 0, 0, 0, 0, 0],\n",
            "       device='cuda:0')\n",
            "epoch 84/100 loss: 0.18\n",
            "tensor([0, 0, 0, 0, 0, 0, 0, 0, 0, 0, 1, 1, 1, 1, 1, 1, 1, 1, 1, 1],\n",
            "       device='cuda:0')\n"
          ]
        },
        {
          "output_type": "stream",
          "name": "stderr",
          "text": [
            "\n",
            "Epoch 84 in training:  18%|█▊        | 2/11 [00:00<00:01,  6.78it/s]\u001b[A\n",
            "Epoch 84 in training:  27%|██▋       | 3/11 [00:00<00:01,  6.95it/s]\u001b[A"
          ]
        },
        {
          "output_type": "stream",
          "name": "stdout",
          "text": [
            "epoch 84/100 loss: 0.37\n",
            "tensor([1, 1, 1, 1, 1, 1, 1, 1, 1, 1, 1, 1, 1, 1, 1, 1, 1, 1, 1, 2],\n",
            "       device='cuda:0')\n",
            "epoch 84/100 loss: 0.56\n"
          ]
        },
        {
          "output_type": "stream",
          "name": "stderr",
          "text": [
            "\n",
            "Epoch 84 in training:  36%|███▋      | 4/11 [00:00<00:01,  6.96it/s]\u001b[A\n",
            "Epoch 84 in training:  45%|████▌     | 5/11 [00:00<00:00,  7.09it/s]\u001b[A"
          ]
        },
        {
          "output_type": "stream",
          "name": "stdout",
          "text": [
            "tensor([2, 2, 2, 2, 2, 2, 2, 2, 2, 2, 2, 2, 2, 2, 2, 2, 2, 2, 2, 2],\n",
            "       device='cuda:0')\n",
            "epoch 84/100 loss: 0.74\n",
            "tensor([2, 2, 2, 2, 2, 2, 2, 3, 3, 3, 3, 3, 3, 3, 3, 3, 3, 3, 3, 3],\n",
            "       device='cuda:0')\n",
            "epoch 84/100 loss: 0.92\n"
          ]
        },
        {
          "output_type": "stream",
          "name": "stderr",
          "text": [
            "\n",
            "Epoch 84 in training:  55%|█████▍    | 6/11 [00:00<00:00,  7.10it/s]\u001b[A\n",
            "Epoch 84 in training:  64%|██████▎   | 7/11 [00:00<00:00,  7.10it/s]\u001b[A"
          ]
        },
        {
          "output_type": "stream",
          "name": "stdout",
          "text": [
            "tensor([3, 3, 3, 3, 3, 3, 3, 3, 3, 3, 3, 3, 3, 3, 3, 3, 3, 3, 4, 4],\n",
            "       device='cuda:0')\n",
            "epoch 84/100 loss: 1.11\n",
            "tensor([4, 4, 4, 4, 4, 4, 4, 4, 4, 4, 4, 4, 4, 4, 4, 4, 4, 4, 4, 4],\n",
            "       device='cuda:0')\n",
            "epoch 84/100 loss: 1.29\n"
          ]
        },
        {
          "output_type": "stream",
          "name": "stderr",
          "text": [
            "\n",
            "Epoch 84 in training:  73%|███████▎  | 8/11 [00:01<00:00,  7.10it/s]\u001b[A\n",
            "Epoch 84 in training:  82%|████████▏ | 9/11 [00:01<00:00,  7.14it/s]\u001b[A"
          ]
        },
        {
          "output_type": "stream",
          "name": "stdout",
          "text": [
            "tensor([4, 4, 4, 4, 4, 4, 4, 4, 5, 5, 5, 5, 5, 5, 5, 5, 5, 5, 5, 5],\n",
            "       device='cuda:0')\n",
            "epoch 84/100 loss: 1.47\n",
            "tensor([5, 5, 5, 5, 5, 5, 5, 5, 5, 5, 5, 5, 5, 5, 5, 5, 5, 5, 5, 6],\n",
            "       device='cuda:0')\n",
            "epoch 84/100 loss: 1.65\n"
          ]
        },
        {
          "output_type": "stream",
          "name": "stderr",
          "text": [
            "\n",
            "Epoch 84 in training:  91%|█████████ | 10/11 [00:01<00:00,  7.00it/s]\u001b[A\n",
            "Training:  84%|████████▍ | 84/100 [02:07<00:24,  1.54s/it]"
          ]
        },
        {
          "output_type": "stream",
          "name": "stdout",
          "text": [
            "tensor([6, 6, 6, 6, 6, 6, 6, 6, 6, 6, 6, 6, 6, 6, 6, 6, 6, 6, 6, 6],\n",
            "       device='cuda:0')\n",
            "epoch 84/100 loss: 1.81\n",
            "tensor([6, 6, 6, 6, 6, 6, 6, 6, 6], device='cuda:0')\n",
            "epoch 84/100 loss: 1.97\n"
          ]
        },
        {
          "output_type": "stream",
          "name": "stderr",
          "text": [
            "\n",
            "Epoch 85 in training:   0%|          | 0/11 [00:00<?, ?it/s]\u001b[A\n",
            "Epoch 85 in training:   9%|▉         | 1/11 [00:00<00:01,  7.39it/s]\u001b[A\n",
            "Epoch 85 in training:  18%|█▊        | 2/11 [00:00<00:01,  7.22it/s]\u001b[A"
          ]
        },
        {
          "output_type": "stream",
          "name": "stdout",
          "text": [
            "tensor([0, 0, 0, 0, 0, 0, 0, 0, 0, 0, 0, 0, 0, 0, 0, 0, 0, 0, 0, 0],\n",
            "       device='cuda:0')\n",
            "epoch 85/100 loss: 0.18\n",
            "tensor([0, 0, 0, 0, 0, 0, 0, 0, 0, 0, 1, 1, 1, 1, 1, 1, 1, 1, 1, 1],\n",
            "       device='cuda:0')\n",
            "epoch 85/100 loss: 0.37\n"
          ]
        },
        {
          "output_type": "stream",
          "name": "stderr",
          "text": [
            "\n",
            "Epoch 85 in training:  27%|██▋       | 3/11 [00:00<00:01,  7.08it/s]\u001b[A\n",
            "Epoch 85 in training:  36%|███▋      | 4/11 [00:00<00:00,  7.12it/s]\u001b[A"
          ]
        },
        {
          "output_type": "stream",
          "name": "stdout",
          "text": [
            "tensor([1, 1, 1, 1, 1, 1, 1, 1, 1, 1, 1, 1, 1, 1, 1, 1, 1, 1, 1, 2],\n",
            "       device='cuda:0')\n",
            "epoch 85/100 loss: 0.55\n",
            "tensor([2, 2, 2, 2, 2, 2, 2, 2, 2, 2, 2, 2, 2, 2, 2, 2, 2, 2, 2, 2],\n",
            "       device='cuda:0')\n",
            "epoch 85/100 loss: 0.74\n"
          ]
        },
        {
          "output_type": "stream",
          "name": "stderr",
          "text": [
            "\n",
            "Epoch 85 in training:  45%|████▌     | 5/11 [00:00<00:00,  7.12it/s]\u001b[A"
          ]
        },
        {
          "output_type": "stream",
          "name": "stdout",
          "text": [
            "tensor([2, 2, 2, 2, 2, 2, 2, 3, 3, 3, 3, 3, 3, 3, 3, 3, 3, 3, 3, 3],\n",
            "       device='cuda:0')\n",
            "epoch 85/100 loss: 0.92\n",
            "tensor([3, 3, 3, 3, 3, 3, 3, 3, 3, 3, 3, 3, 3, 3, 3, 3, 3, 3, 4, 4],\n",
            "       device='cuda:0')\n"
          ]
        },
        {
          "output_type": "stream",
          "name": "stderr",
          "text": [
            "\n",
            "Epoch 85 in training:  55%|█████▍    | 6/11 [00:00<00:00,  6.96it/s]\u001b[A\n",
            "Epoch 85 in training:  64%|██████▎   | 7/11 [00:00<00:00,  7.04it/s]\u001b[A"
          ]
        },
        {
          "output_type": "stream",
          "name": "stdout",
          "text": [
            "epoch 85/100 loss: 1.10\n",
            "tensor([4, 4, 4, 4, 4, 4, 4, 4, 4, 4, 4, 4, 4, 4, 4, 4, 4, 4, 4, 4],\n",
            "       device='cuda:0')\n",
            "epoch 85/100 loss: 1.29\n"
          ]
        },
        {
          "output_type": "stream",
          "name": "stderr",
          "text": [
            "\n",
            "Epoch 85 in training:  73%|███████▎  | 8/11 [00:01<00:00,  7.03it/s]\u001b[A\n",
            "Epoch 85 in training:  82%|████████▏ | 9/11 [00:01<00:00,  7.10it/s]\u001b[A"
          ]
        },
        {
          "output_type": "stream",
          "name": "stdout",
          "text": [
            "tensor([4, 4, 4, 4, 4, 4, 4, 4, 5, 5, 5, 5, 5, 5, 5, 5, 5, 5, 5, 5],\n",
            "       device='cuda:0')\n",
            "epoch 85/100 loss: 1.47\n",
            "tensor([5, 5, 5, 5, 5, 5, 5, 5, 5, 5, 5, 5, 5, 5, 5, 5, 5, 5, 5, 6],\n",
            "       device='cuda:0')\n",
            "epoch 85/100 loss: 1.65\n"
          ]
        },
        {
          "output_type": "stream",
          "name": "stderr",
          "text": [
            "\n",
            "Epoch 85 in training:  91%|█████████ | 10/11 [00:01<00:00,  7.12it/s]\u001b[A\n",
            "Training:  85%|████████▌ | 85/100 [02:09<00:22,  1.53s/it]"
          ]
        },
        {
          "output_type": "stream",
          "name": "stdout",
          "text": [
            "tensor([6, 6, 6, 6, 6, 6, 6, 6, 6, 6, 6, 6, 6, 6, 6, 6, 6, 6, 6, 6],\n",
            "       device='cuda:0')\n",
            "epoch 85/100 loss: 1.81\n",
            "tensor([6, 6, 6, 6, 6, 6, 6, 6, 6], device='cuda:0')\n",
            "epoch 85/100 loss: 1.98\n"
          ]
        },
        {
          "output_type": "stream",
          "name": "stderr",
          "text": [
            "\n",
            "Epoch 86 in training:   0%|          | 0/11 [00:00<?, ?it/s]\u001b[A\n",
            "Epoch 86 in training:   9%|▉         | 1/11 [00:00<00:01,  7.11it/s]\u001b[A\n",
            "Epoch 86 in training:  18%|█▊        | 2/11 [00:00<00:01,  7.19it/s]\u001b[A"
          ]
        },
        {
          "output_type": "stream",
          "name": "stdout",
          "text": [
            "tensor([0, 0, 0, 0, 0, 0, 0, 0, 0, 0, 0, 0, 0, 0, 0, 0, 0, 0, 0, 0],\n",
            "       device='cuda:0')\n",
            "epoch 86/100 loss: 0.18\n",
            "tensor([0, 0, 0, 0, 0, 0, 0, 0, 0, 0, 1, 1, 1, 1, 1, 1, 1, 1, 1, 1],\n",
            "       device='cuda:0')\n",
            "epoch 86/100 loss: 0.36\n"
          ]
        },
        {
          "output_type": "stream",
          "name": "stderr",
          "text": [
            "\n",
            "Epoch 86 in training:  27%|██▋       | 3/11 [00:00<00:01,  7.06it/s]\u001b[A\n",
            "Epoch 86 in training:  36%|███▋      | 4/11 [00:00<00:00,  7.01it/s]"
          ]
        },
        {
          "output_type": "stream",
          "name": "stdout",
          "text": [
            "tensor([1, 1, 1, 1, 1, 1, 1, 1, 1, 1, 1, 1, 1, 1, 1, 1, 1, 1, 1, 2],\n",
            "       device='cuda:0')\n",
            "epoch 86/100 loss: 0.55\n",
            "tensor([2, 2, 2, 2, 2, 2, 2, 2, 2, 2, 2, 2, 2, 2, 2, 2, 2, 2, 2, 2],\n",
            "       device='cuda:0')\n",
            "epoch 86/100 loss: 0.74\n"
          ]
        },
        {
          "output_type": "stream",
          "name": "stderr",
          "text": [
            "\u001b[A\n",
            "Epoch 86 in training:  45%|████▌     | 5/11 [00:00<00:00,  7.08it/s]\u001b[A\n"
          ]
        },
        {
          "output_type": "stream",
          "name": "stdout",
          "text": [
            "tensor([2, 2, 2, 2, 2, 2, 2, 3, 3, 3, 3, 3, 3, 3, 3, 3, 3, 3, 3, 3],\n",
            "       device='cuda:0')\n",
            "epoch 86/100 loss: 0.92\n",
            "tensor([3, 3, 3, 3, 3, 3, 3, 3, 3, 3, 3, 3, 3, 3, 3, 3, 3, 3, 4, 4],\n",
            "       device='cuda:0')\n",
            "epoch 86/100 loss: 1.10\n"
          ]
        },
        {
          "output_type": "stream",
          "name": "stderr",
          "text": [
            "Epoch 86 in training:  55%|█████▍    | 6/11 [00:00<00:00,  7.01it/s]\u001b[A\n",
            "Epoch 86 in training:  64%|██████▎   | 7/11 [00:01<00:00,  6.93it/s]\u001b[A\n"
          ]
        },
        {
          "output_type": "stream",
          "name": "stdout",
          "text": [
            "tensor([4, 4, 4, 4, 4, 4, 4, 4, 4, 4, 4, 4, 4, 4, 4, 4, 4, 4, 4, 4],\n",
            "       device='cuda:0')\n",
            "epoch 86/100 loss: 1.28\n",
            "tensor([4, 4, 4, 4, 4, 4, 4, 4, 5, 5, 5, 5, 5, 5, 5, 5, 5, 5, 5, 5],\n",
            "       device='cuda:0')\n",
            "epoch 86/100 loss: 1.46\n"
          ]
        },
        {
          "output_type": "stream",
          "name": "stderr",
          "text": [
            "Epoch 86 in training:  73%|███████▎  | 8/11 [00:01<00:00,  6.92it/s]\u001b[A\n",
            "Epoch 86 in training:  82%|████████▏ | 9/11 [00:01<00:00,  6.95it/s]\u001b[A\n",
            "Epoch 86 in training:  91%|█████████ | 10/11 [00:01<00:00,  7.03it/s]\u001b[A"
          ]
        },
        {
          "output_type": "stream",
          "name": "stdout",
          "text": [
            "tensor([5, 5, 5, 5, 5, 5, 5, 5, 5, 5, 5, 5, 5, 5, 5, 5, 5, 5, 5, 6],\n",
            "       device='cuda:0')\n",
            "epoch 86/100 loss: 1.64\n",
            "tensor([6, 6, 6, 6, 6, 6, 6, 6, 6, 6, 6, 6, 6, 6, 6, 6, 6, 6, 6, 6],\n",
            "       device='cuda:0')\n",
            "epoch 86/100 loss: 1.80\n"
          ]
        },
        {
          "output_type": "stream",
          "name": "stderr",
          "text": [
            "\n",
            "Training:  86%|████████▌ | 86/100 [02:11<00:21,  1.53s/it]"
          ]
        },
        {
          "output_type": "stream",
          "name": "stdout",
          "text": [
            "tensor([6, 6, 6, 6, 6, 6, 6, 6, 6], device='cuda:0')\n",
            "epoch 86/100 loss: 1.97\n"
          ]
        },
        {
          "output_type": "stream",
          "name": "stderr",
          "text": [
            "\n",
            "Epoch 87 in training:   0%|          | 0/11 [00:00<?, ?it/s]\u001b[A"
          ]
        },
        {
          "output_type": "stream",
          "name": "stdout",
          "text": [
            "tensor([0, 0, 0, 0, 0, 0, 0, 0, 0, 0, 0, 0, 0, 0, 0, 0, 0, 0, 0, 0],\n",
            "       device='cuda:0')\n"
          ]
        },
        {
          "output_type": "stream",
          "name": "stderr",
          "text": [
            "\n",
            "Epoch 87 in training:   9%|▉         | 1/11 [00:00<00:01,  7.00it/s]\u001b[A"
          ]
        },
        {
          "output_type": "stream",
          "name": "stdout",
          "text": [
            "epoch 87/100 loss: 0.18\n",
            "tensor([0, 0, 0, 0, 0, 0, 0, 0, 0, 0, 1, 1, 1, 1, 1, 1, 1, 1, 1, 1],\n",
            "       device='cuda:0')\n"
          ]
        },
        {
          "output_type": "stream",
          "name": "stderr",
          "text": [
            "\n",
            "Epoch 87 in training:  18%|█▊        | 2/11 [00:00<00:01,  6.83it/s]\u001b[A"
          ]
        },
        {
          "output_type": "stream",
          "name": "stdout",
          "text": [
            "epoch 87/100 loss: 0.36\n"
          ]
        },
        {
          "output_type": "stream",
          "name": "stderr",
          "text": [
            "\n",
            "Epoch 87 in training:  27%|██▋       | 3/11 [00:00<00:01,  6.93it/s]\u001b[A"
          ]
        },
        {
          "output_type": "stream",
          "name": "stdout",
          "text": [
            "tensor([1, 1, 1, 1, 1, 1, 1, 1, 1, 1, 1, 1, 1, 1, 1, 1, 1, 1, 1, 2],\n",
            "       device='cuda:0')\n",
            "epoch 87/100 loss: 0.55\n",
            "tensor([2, 2, 2, 2, 2, 2, 2, 2, 2, 2, 2, 2, 2, 2, 2, 2, 2, 2, 2, 2],\n",
            "       device='cuda:0')\n"
          ]
        },
        {
          "output_type": "stream",
          "name": "stderr",
          "text": [
            "\n",
            "Epoch 87 in training:  36%|███▋      | 4/11 [00:00<00:01,  6.84it/s]\u001b[A\n",
            "Epoch 87 in training:  45%|████▌     | 5/11 [00:00<00:00,  6.96it/s]\u001b[A"
          ]
        },
        {
          "output_type": "stream",
          "name": "stdout",
          "text": [
            "epoch 87/100 loss: 0.73\n",
            "tensor([2, 2, 2, 2, 2, 2, 2, 3, 3, 3, 3, 3, 3, 3, 3, 3, 3, 3, 3, 3],\n",
            "       device='cuda:0')\n",
            "epoch 87/100 loss: 0.92\n"
          ]
        },
        {
          "output_type": "stream",
          "name": "stderr",
          "text": [
            "\n",
            "Epoch 87 in training:  55%|█████▍    | 6/11 [00:00<00:00,  7.04it/s]\u001b[A\n",
            "Epoch 87 in training:  64%|██████▎   | 7/11 [00:01<00:00,  7.04it/s]\u001b[A"
          ]
        },
        {
          "output_type": "stream",
          "name": "stdout",
          "text": [
            "tensor([3, 3, 3, 3, 3, 3, 3, 3, 3, 3, 3, 3, 3, 3, 3, 3, 3, 3, 4, 4],\n",
            "       device='cuda:0')\n",
            "epoch 87/100 loss: 1.09\n",
            "tensor([4, 4, 4, 4, 4, 4, 4, 4, 4, 4, 4, 4, 4, 4, 4, 4, 4, 4, 4, 4],\n",
            "       device='cuda:0')\n",
            "epoch 87/100 loss: 1.28\n"
          ]
        },
        {
          "output_type": "stream",
          "name": "stderr",
          "text": [
            "\n",
            "Epoch 87 in training:  73%|███████▎  | 8/11 [00:01<00:00,  6.96it/s]\u001b[A\n",
            "Epoch 87 in training:  82%|████████▏ | 9/11 [00:01<00:00,  7.03it/s]\u001b[A"
          ]
        },
        {
          "output_type": "stream",
          "name": "stdout",
          "text": [
            "tensor([4, 4, 4, 4, 4, 4, 4, 4, 5, 5, 5, 5, 5, 5, 5, 5, 5, 5, 5, 5],\n",
            "       device='cuda:0')\n",
            "epoch 87/100 loss: 1.46\n",
            "tensor([5, 5, 5, 5, 5, 5, 5, 5, 5, 5, 5, 5, 5, 5, 5, 5, 5, 5, 5, 6],\n",
            "       device='cuda:0')\n",
            "epoch 87/100 loss: 1.64\n"
          ]
        },
        {
          "output_type": "stream",
          "name": "stderr",
          "text": [
            "\n",
            "Epoch 87 in training:  91%|█████████ | 10/11 [00:01<00:00,  7.02it/s]\u001b[A\n",
            "Training:  87%|████████▋ | 87/100 [02:12<00:19,  1.53s/it]"
          ]
        },
        {
          "output_type": "stream",
          "name": "stdout",
          "text": [
            "tensor([6, 6, 6, 6, 6, 6, 6, 6, 6, 6, 6, 6, 6, 6, 6, 6, 6, 6, 6, 6],\n",
            "       device='cuda:0')\n",
            "epoch 87/100 loss: 1.80\n",
            "tensor([6, 6, 6, 6, 6, 6, 6, 6, 6], device='cuda:0')\n",
            "epoch 87/100 loss: 1.96\n"
          ]
        },
        {
          "output_type": "stream",
          "name": "stderr",
          "text": [
            "\n",
            "Epoch 88 in training:   0%|          | 0/11 [00:00<?, ?it/s]\u001b[A\n",
            "Epoch 88 in training:   9%|▉         | 1/11 [00:00<00:01,  6.92it/s]\u001b[A"
          ]
        },
        {
          "output_type": "stream",
          "name": "stdout",
          "text": [
            "tensor([0, 0, 0, 0, 0, 0, 0, 0, 0, 0, 0, 0, 0, 0, 0, 0, 0, 0, 0, 0],\n",
            "       device='cuda:0')\n",
            "epoch 88/100 loss: 0.18\n",
            "tensor([0, 0, 0, 0, 0, 0, 0, 0, 0, 0, 1, 1, 1, 1, 1, 1, 1, 1, 1, 1],\n",
            "       device='cuda:0')\n"
          ]
        },
        {
          "output_type": "stream",
          "name": "stderr",
          "text": [
            "\n",
            "Epoch 88 in training:  18%|█▊        | 2/11 [00:00<00:01,  6.82it/s]\u001b[A\n",
            "Epoch 88 in training:  27%|██▋       | 3/11 [00:00<00:01,  6.84it/s]\u001b[A"
          ]
        },
        {
          "output_type": "stream",
          "name": "stdout",
          "text": [
            "epoch 88/100 loss: 0.36\n",
            "tensor([1, 1, 1, 1, 1, 1, 1, 1, 1, 1, 1, 1, 1, 1, 1, 1, 1, 1, 1, 2],\n",
            "       device='cuda:0')\n",
            "epoch 88/100 loss: 0.55\n"
          ]
        },
        {
          "output_type": "stream",
          "name": "stderr",
          "text": [
            "\n",
            "Epoch 88 in training:  36%|███▋      | 4/11 [00:00<00:01,  6.98it/s]\u001b[A\n",
            "Epoch 88 in training:  45%|████▌     | 5/11 [00:00<00:00,  6.98it/s]"
          ]
        },
        {
          "output_type": "stream",
          "name": "stdout",
          "text": [
            "tensor([2, 2, 2, 2, 2, 2, 2, 2, 2, 2, 2, 2, 2, 2, 2, 2, 2, 2, 2, 2],\n",
            "       device='cuda:0')\n",
            "epoch 88/100 loss: 0.74\n",
            "tensor([2, 2, 2, 2, 2, 2, 2, 3, 3, 3, 3, 3, 3, 3, 3, 3, 3, 3, 3, 3],\n",
            "       device='cuda:0')\n",
            "epoch 88/100 loss: 0.92\n"
          ]
        },
        {
          "output_type": "stream",
          "name": "stderr",
          "text": [
            "\u001b[A\n",
            "Epoch 88 in training:  55%|█████▍    | 6/11 [00:00<00:00,  6.98it/s]\u001b[A\n",
            "Epoch 88 in training:  64%|██████▎   | 7/11 [00:01<00:00,  7.04it/s]\u001b[A"
          ]
        },
        {
          "output_type": "stream",
          "name": "stdout",
          "text": [
            "tensor([3, 3, 3, 3, 3, 3, 3, 3, 3, 3, 3, 3, 3, 3, 3, 3, 3, 3, 4, 4],\n",
            "       device='cuda:0')\n",
            "epoch 88/100 loss: 1.10\n",
            "tensor([4, 4, 4, 4, 4, 4, 4, 4, 4, 4, 4, 4, 4, 4, 4, 4, 4, 4, 4, 4],\n",
            "       device='cuda:0')\n",
            "epoch 88/100 loss: 1.28\n"
          ]
        },
        {
          "output_type": "stream",
          "name": "stderr",
          "text": [
            "\n",
            "Epoch 88 in training:  73%|███████▎  | 8/11 [00:01<00:00,  7.12it/s]\u001b[A\n",
            "Epoch 88 in training:  82%|████████▏ | 9/11 [00:01<00:00,  7.16it/s]\u001b[A"
          ]
        },
        {
          "output_type": "stream",
          "name": "stdout",
          "text": [
            "tensor([4, 4, 4, 4, 4, 4, 4, 4, 5, 5, 5, 5, 5, 5, 5, 5, 5, 5, 5, 5],\n",
            "       device='cuda:0')\n",
            "epoch 88/100 loss: 1.47\n",
            "tensor([5, 5, 5, 5, 5, 5, 5, 5, 5, 5, 5, 5, 5, 5, 5, 5, 5, 5, 5, 6],\n",
            "       device='cuda:0')\n",
            "epoch 88/100 loss: 1.65\n"
          ]
        },
        {
          "output_type": "stream",
          "name": "stderr",
          "text": [
            "\n",
            "Epoch 88 in training:  91%|█████████ | 10/11 [00:01<00:00,  6.93it/s]\u001b[A\n",
            "Training:  88%|████████▊ | 88/100 [02:14<00:18,  1.53s/it]"
          ]
        },
        {
          "output_type": "stream",
          "name": "stdout",
          "text": [
            "tensor([6, 6, 6, 6, 6, 6, 6, 6, 6, 6, 6, 6, 6, 6, 6, 6, 6, 6, 6, 6],\n",
            "       device='cuda:0')\n",
            "epoch 88/100 loss: 1.81\n",
            "tensor([6, 6, 6, 6, 6, 6, 6, 6, 6], device='cuda:0')\n",
            "epoch 88/100 loss: 1.97\n"
          ]
        },
        {
          "output_type": "stream",
          "name": "stderr",
          "text": [
            "\n",
            "Epoch 89 in training:   0%|          | 0/11 [00:00<?, ?it/s]\u001b[A\n",
            "Epoch 89 in training:   9%|▉         | 1/11 [00:00<00:01,  7.28it/s]\u001b[A\n",
            "Epoch 89 in training:  18%|█▊        | 2/11 [00:00<00:01,  7.22it/s]\u001b[A"
          ]
        },
        {
          "output_type": "stream",
          "name": "stdout",
          "text": [
            "tensor([0, 0, 0, 0, 0, 0, 0, 0, 0, 0, 0, 0, 0, 0, 0, 0, 0, 0, 0, 0],\n",
            "       device='cuda:0')\n",
            "epoch 89/100 loss: 0.18\n",
            "tensor([0, 0, 0, 0, 0, 0, 0, 0, 0, 0, 1, 1, 1, 1, 1, 1, 1, 1, 1, 1],\n",
            "       device='cuda:0')\n",
            "epoch 89/100 loss: 0.37\n"
          ]
        },
        {
          "output_type": "stream",
          "name": "stderr",
          "text": [
            "\n",
            "Epoch 89 in training:  27%|██▋       | 3/11 [00:00<00:01,  7.24it/s]\u001b[A\n",
            "Epoch 89 in training:  36%|███▋      | 4/11 [00:00<00:00,  7.22it/s]\u001b[A"
          ]
        },
        {
          "output_type": "stream",
          "name": "stdout",
          "text": [
            "tensor([1, 1, 1, 1, 1, 1, 1, 1, 1, 1, 1, 1, 1, 1, 1, 1, 1, 1, 1, 2],\n",
            "       device='cuda:0')\n",
            "epoch 89/100 loss: 0.55\n",
            "tensor([2, 2, 2, 2, 2, 2, 2, 2, 2, 2, 2, 2, 2, 2, 2, 2, 2, 2, 2, 2],\n",
            "       device='cuda:0')\n",
            "epoch 89/100 loss: 0.74\n"
          ]
        },
        {
          "output_type": "stream",
          "name": "stderr",
          "text": [
            "\n",
            "Epoch 89 in training:  45%|████▌     | 5/11 [00:00<00:00,  7.20it/s]\u001b[A"
          ]
        },
        {
          "output_type": "stream",
          "name": "stdout",
          "text": [
            "tensor([2, 2, 2, 2, 2, 2, 2, 3, 3, 3, 3, 3, 3, 3, 3, 3, 3, 3, 3, 3],\n",
            "       device='cuda:0')\n",
            "epoch 89/100 loss: 0.92\n",
            "tensor([3, 3, 3, 3, 3, 3, 3, 3, 3, 3, 3, 3, 3, 3, 3, 3, 3, 3, 4, 4],\n",
            "       device='cuda:0')\n"
          ]
        },
        {
          "output_type": "stream",
          "name": "stderr",
          "text": [
            "\n",
            "Epoch 89 in training:  55%|█████▍    | 6/11 [00:00<00:00,  7.04it/s]\u001b[A\n",
            "Epoch 89 in training:  64%|██████▎   | 7/11 [00:00<00:00,  7.05it/s]\u001b[A"
          ]
        },
        {
          "output_type": "stream",
          "name": "stdout",
          "text": [
            "epoch 89/100 loss: 1.10\n",
            "tensor([4, 4, 4, 4, 4, 4, 4, 4, 4, 4, 4, 4, 4, 4, 4, 4, 4, 4, 4, 4],\n",
            "       device='cuda:0')\n",
            "epoch 89/100 loss: 1.28\n"
          ]
        },
        {
          "output_type": "stream",
          "name": "stderr",
          "text": [
            "\n",
            "Epoch 89 in training:  73%|███████▎  | 8/11 [00:01<00:00,  6.97it/s]\u001b[A\n",
            "Epoch 89 in training:  82%|████████▏ | 9/11 [00:01<00:00,  7.01it/s]\u001b[A"
          ]
        },
        {
          "output_type": "stream",
          "name": "stdout",
          "text": [
            "tensor([4, 4, 4, 4, 4, 4, 4, 4, 5, 5, 5, 5, 5, 5, 5, 5, 5, 5, 5, 5],\n",
            "       device='cuda:0')\n",
            "epoch 89/100 loss: 1.46\n",
            "tensor([5, 5, 5, 5, 5, 5, 5, 5, 5, 5, 5, 5, 5, 5, 5, 5, 5, 5, 5, 6],\n",
            "       device='cuda:0')\n",
            "epoch 89/100 loss: 1.64\n"
          ]
        },
        {
          "output_type": "stream",
          "name": "stderr",
          "text": [
            "\n",
            "Epoch 89 in training:  91%|█████████ | 10/11 [00:01<00:00,  7.06it/s]\u001b[A\n",
            "Training:  89%|████████▉ | 89/100 [02:15<00:16,  1.53s/it]"
          ]
        },
        {
          "output_type": "stream",
          "name": "stdout",
          "text": [
            "tensor([6, 6, 6, 6, 6, 6, 6, 6, 6, 6, 6, 6, 6, 6, 6, 6, 6, 6, 6, 6],\n",
            "       device='cuda:0')\n",
            "epoch 89/100 loss: 1.80\n",
            "tensor([6, 6, 6, 6, 6, 6, 6, 6, 6], device='cuda:0')\n",
            "epoch 89/100 loss: 1.96\n"
          ]
        },
        {
          "output_type": "stream",
          "name": "stderr",
          "text": [
            "\n",
            "Epoch 90 in training:   0%|          | 0/11 [00:00<?, ?it/s]\u001b[A\n",
            "Epoch 90 in training:   9%|▉         | 1/11 [00:00<00:01,  7.33it/s]\u001b[A\n",
            "Epoch 90 in training:  18%|█▊        | 2/11 [00:00<00:01,  7.14it/s]\u001b[A"
          ]
        },
        {
          "output_type": "stream",
          "name": "stdout",
          "text": [
            "tensor([0, 0, 0, 0, 0, 0, 0, 0, 0, 0, 0, 0, 0, 0, 0, 0, 0, 0, 0, 0],\n",
            "       device='cuda:0')\n",
            "epoch 90/100 loss: 0.18\n",
            "tensor([0, 0, 0, 0, 0, 0, 0, 0, 0, 0, 1, 1, 1, 1, 1, 1, 1, 1, 1, 1],\n",
            "       device='cuda:0')\n",
            "epoch 90/100 loss: 0.37\n"
          ]
        },
        {
          "output_type": "stream",
          "name": "stderr",
          "text": [
            "\n",
            "Epoch 90 in training:  27%|██▋       | 3/11 [00:00<00:01,  6.97it/s]\u001b[A\n",
            "Epoch 90 in training:  36%|███▋      | 4/11 [00:00<00:01,  6.96it/s]"
          ]
        },
        {
          "output_type": "stream",
          "name": "stdout",
          "text": [
            "tensor([1, 1, 1, 1, 1, 1, 1, 1, 1, 1, 1, 1, 1, 1, 1, 1, 1, 1, 1, 2],\n",
            "       device='cuda:0')\n",
            "epoch 90/100 loss: 0.55\n",
            "tensor([2, 2, 2, 2, 2, 2, 2, 2, 2, 2, 2, 2, 2, 2, 2, 2, 2, 2, 2, 2],\n",
            "       device='cuda:0')\n",
            "epoch 90/100 loss: 0.74\n"
          ]
        },
        {
          "output_type": "stream",
          "name": "stderr",
          "text": [
            "\u001b[A\n",
            "Epoch 90 in training:  45%|████▌     | 5/11 [00:00<00:00,  6.90it/s]\u001b[A"
          ]
        },
        {
          "output_type": "stream",
          "name": "stdout",
          "text": [
            "tensor([2, 2, 2, 2, 2, 2, 2, 3, 3, 3, 3, 3, 3, 3, 3, 3, 3, 3, 3, 3],\n",
            "       device='cuda:0')\n",
            "epoch 90/100 loss: 0.92\n",
            "tensor([3, 3, 3, 3, 3, 3, 3, 3, 3, 3, 3, 3, 3, 3, 3, 3, 3, 3, 4, 4],\n",
            "       device='cuda:0')\n"
          ]
        },
        {
          "output_type": "stream",
          "name": "stderr",
          "text": [
            "\n",
            "Epoch 90 in training:  55%|█████▍    | 6/11 [00:00<00:00,  6.86it/s]\u001b[A\n",
            "Epoch 90 in training:  64%|██████▎   | 7/11 [00:01<00:00,  6.99it/s]\u001b[A"
          ]
        },
        {
          "output_type": "stream",
          "name": "stdout",
          "text": [
            "epoch 90/100 loss: 1.10\n",
            "tensor([4, 4, 4, 4, 4, 4, 4, 4, 4, 4, 4, 4, 4, 4, 4, 4, 4, 4, 4, 4],\n",
            "       device='cuda:0')\n",
            "epoch 90/100 loss: 1.29\n"
          ]
        },
        {
          "output_type": "stream",
          "name": "stderr",
          "text": [
            "\n",
            "Epoch 90 in training:  73%|███████▎  | 8/11 [00:01<00:00,  6.91it/s]\u001b[A\n",
            "Epoch 90 in training:  82%|████████▏ | 9/11 [00:01<00:00,  6.99it/s]\u001b[A"
          ]
        },
        {
          "output_type": "stream",
          "name": "stdout",
          "text": [
            "tensor([4, 4, 4, 4, 4, 4, 4, 4, 5, 5, 5, 5, 5, 5, 5, 5, 5, 5, 5, 5],\n",
            "       device='cuda:0')\n",
            "epoch 90/100 loss: 1.47\n",
            "tensor([5, 5, 5, 5, 5, 5, 5, 5, 5, 5, 5, 5, 5, 5, 5, 5, 5, 5, 5, 6],\n",
            "       device='cuda:0')\n",
            "epoch 90/100 loss: 1.65\n"
          ]
        },
        {
          "output_type": "stream",
          "name": "stderr",
          "text": [
            "\n",
            "Epoch 90 in training:  91%|█████████ | 10/11 [00:01<00:00,  7.01it/s]\u001b[A\n",
            "Training:  90%|█████████ | 90/100 [02:17<00:15,  1.53s/it]"
          ]
        },
        {
          "output_type": "stream",
          "name": "stdout",
          "text": [
            "tensor([6, 6, 6, 6, 6, 6, 6, 6, 6, 6, 6, 6, 6, 6, 6, 6, 6, 6, 6, 6],\n",
            "       device='cuda:0')\n",
            "epoch 90/100 loss: 1.80\n",
            "tensor([6, 6, 6, 6, 6, 6, 6, 6, 6], device='cuda:0')\n",
            "epoch 90/100 loss: 1.96\n"
          ]
        },
        {
          "output_type": "stream",
          "name": "stderr",
          "text": [
            "\n",
            "Epoch 91 in training:   0%|          | 0/11 [00:00<?, ?it/s]\u001b[A\n",
            "Epoch 91 in training:   9%|▉         | 1/11 [00:00<00:01,  6.95it/s]\u001b[A"
          ]
        },
        {
          "output_type": "stream",
          "name": "stdout",
          "text": [
            "tensor([0, 0, 0, 0, 0, 0, 0, 0, 0, 0, 0, 0, 0, 0, 0, 0, 0, 0, 0, 0],\n",
            "       device='cuda:0')\n",
            "epoch 91/100 loss: 0.18\n",
            "tensor([0, 0, 0, 0, 0, 0, 0, 0, 0, 0, 1, 1, 1, 1, 1, 1, 1, 1, 1, 1],\n",
            "       device='cuda:0')\n"
          ]
        },
        {
          "output_type": "stream",
          "name": "stderr",
          "text": [
            "\n",
            "Epoch 91 in training:  18%|█▊        | 2/11 [00:00<00:01,  6.81it/s]\u001b[A\n",
            "Epoch 91 in training:  27%|██▋       | 3/11 [00:00<00:01,  6.86it/s]\u001b[A"
          ]
        },
        {
          "output_type": "stream",
          "name": "stdout",
          "text": [
            "epoch 91/100 loss: 0.37\n",
            "tensor([1, 1, 1, 1, 1, 1, 1, 1, 1, 1, 1, 1, 1, 1, 1, 1, 1, 1, 1, 2],\n",
            "       device='cuda:0')\n",
            "epoch 91/100 loss: 0.55\n"
          ]
        },
        {
          "output_type": "stream",
          "name": "stderr",
          "text": [
            "\n",
            "Epoch 91 in training:  36%|███▋      | 4/11 [00:00<00:01,  6.86it/s]\u001b[A\n",
            "Epoch 91 in training:  45%|████▌     | 5/11 [00:00<00:00,  6.99it/s]\u001b[A"
          ]
        },
        {
          "output_type": "stream",
          "name": "stdout",
          "text": [
            "tensor([2, 2, 2, 2, 2, 2, 2, 2, 2, 2, 2, 2, 2, 2, 2, 2, 2, 2, 2, 2],\n",
            "       device='cuda:0')\n",
            "epoch 91/100 loss: 0.74\n",
            "tensor([2, 2, 2, 2, 2, 2, 2, 3, 3, 3, 3, 3, 3, 3, 3, 3, 3, 3, 3, 3],\n",
            "       device='cuda:0')\n",
            "epoch 91/100 loss: 0.92\n"
          ]
        },
        {
          "output_type": "stream",
          "name": "stderr",
          "text": [
            "\n",
            "Epoch 91 in training:  55%|█████▍    | 6/11 [00:00<00:00,  6.89it/s]\u001b[A\n",
            "Epoch 91 in training:  64%|██████▎   | 7/11 [00:01<00:00,  6.94it/s]\u001b[A"
          ]
        },
        {
          "output_type": "stream",
          "name": "stdout",
          "text": [
            "tensor([3, 3, 3, 3, 3, 3, 3, 3, 3, 3, 3, 3, 3, 3, 3, 3, 3, 3, 4, 4],\n",
            "       device='cuda:0')\n",
            "epoch 91/100 loss: 1.10\n",
            "tensor([4, 4, 4, 4, 4, 4, 4, 4, 4, 4, 4, 4, 4, 4, 4, 4, 4, 4, 4, 4],\n",
            "       device='cuda:0')\n",
            "epoch 91/100 loss: 1.28\n"
          ]
        },
        {
          "output_type": "stream",
          "name": "stderr",
          "text": [
            "\n",
            "Epoch 91 in training:  73%|███████▎  | 8/11 [00:01<00:00,  6.93it/s]\u001b[A"
          ]
        },
        {
          "output_type": "stream",
          "name": "stdout",
          "text": [
            "tensor([4, 4, 4, 4, 4, 4, 4, 4, 5, 5, 5, 5, 5, 5, 5, 5, 5, 5, 5, 5],\n",
            "       device='cuda:0')\n",
            "epoch 91/100 loss: 1.47\n",
            "tensor([5, 5, 5, 5, 5, 5, 5, 5, 5, 5, 5, 5, 5, 5, 5, 5, 5, 5, 5, 6],\n",
            "       device='cuda:0')\n"
          ]
        },
        {
          "output_type": "stream",
          "name": "stderr",
          "text": [
            "\n",
            "Epoch 91 in training:  82%|████████▏ | 9/11 [00:01<00:00,  6.88it/s]\u001b[A\n",
            "Epoch 91 in training:  91%|█████████ | 10/11 [00:01<00:00,  6.93it/s]\u001b[A"
          ]
        },
        {
          "output_type": "stream",
          "name": "stdout",
          "text": [
            "epoch 91/100 loss: 1.65\n",
            "tensor([6, 6, 6, 6, 6, 6, 6, 6, 6, 6, 6, 6, 6, 6, 6, 6, 6, 6, 6, 6],\n",
            "       device='cuda:0')\n",
            "epoch 91/100 loss: 1.81\n",
            "tensor([6, 6, 6, 6, 6, 6, 6, 6, 6], device='cuda:0')\n"
          ]
        },
        {
          "output_type": "stream",
          "name": "stderr",
          "text": [
            "\n",
            "Training:  91%|█████████ | 91/100 [02:18<00:13,  1.53s/it]"
          ]
        },
        {
          "output_type": "stream",
          "name": "stdout",
          "text": [
            "epoch 91/100 loss: 1.97\n"
          ]
        },
        {
          "output_type": "stream",
          "name": "stderr",
          "text": [
            "\n",
            "Epoch 92 in training:   0%|          | 0/11 [00:00<?, ?it/s]\u001b[A\n",
            "Epoch 92 in training:   9%|▉         | 1/11 [00:00<00:01,  7.41it/s]\u001b[A"
          ]
        },
        {
          "output_type": "stream",
          "name": "stdout",
          "text": [
            "tensor([0, 0, 0, 0, 0, 0, 0, 0, 0, 0, 0, 0, 0, 0, 0, 0, 0, 0, 0, 0],\n",
            "       device='cuda:0')\n",
            "epoch 92/100 loss: 0.18\n",
            "tensor([0, 0, 0, 0, 0, 0, 0, 0, 0, 0, 1, 1, 1, 1, 1, 1, 1, 1, 1, 1],\n",
            "       device='cuda:0')\n"
          ]
        },
        {
          "output_type": "stream",
          "name": "stderr",
          "text": [
            "\n",
            "Epoch 92 in training:  18%|█▊        | 2/11 [00:00<00:01,  7.01it/s]\u001b[A"
          ]
        },
        {
          "output_type": "stream",
          "name": "stdout",
          "text": [
            "epoch 92/100 loss: 0.37\n",
            "tensor([1, 1, 1, 1, 1, 1, 1, 1, 1, 1, 1, 1, 1, 1, 1, 1, 1, 1, 1, 2],\n",
            "       device='cuda:0')\n"
          ]
        },
        {
          "output_type": "stream",
          "name": "stderr",
          "text": [
            "\n",
            "Epoch 92 in training:  27%|██▋       | 3/11 [00:00<00:01,  6.93it/s]\u001b[A"
          ]
        },
        {
          "output_type": "stream",
          "name": "stdout",
          "text": [
            "epoch 92/100 loss: 0.55\n"
          ]
        },
        {
          "output_type": "stream",
          "name": "stderr",
          "text": [
            "\n",
            "Epoch 92 in training:  36%|███▋      | 4/11 [00:00<00:00,  7.00it/s]\u001b[A"
          ]
        },
        {
          "output_type": "stream",
          "name": "stdout",
          "text": [
            "tensor([2, 2, 2, 2, 2, 2, 2, 2, 2, 2, 2, 2, 2, 2, 2, 2, 2, 2, 2, 2],\n",
            "       device='cuda:0')\n",
            "epoch 92/100 loss: 0.74\n",
            "tensor([2, 2, 2, 2, 2, 2, 2, 3, 3, 3, 3, 3, 3, 3, 3, 3, 3, 3, 3, 3],\n",
            "       device='cuda:0')\n"
          ]
        },
        {
          "output_type": "stream",
          "name": "stderr",
          "text": [
            "\n",
            "Epoch 92 in training:  45%|████▌     | 5/11 [00:00<00:00,  6.92it/s]\u001b[A"
          ]
        },
        {
          "output_type": "stream",
          "name": "stdout",
          "text": [
            "epoch 92/100 loss: 0.92\n",
            "tensor([3, 3, 3, 3, 3, 3, 3, 3, 3, 3, 3, 3, 3, 3, 3, 3, 3, 3, 4, 4],\n",
            "       device='cuda:0')\n"
          ]
        },
        {
          "output_type": "stream",
          "name": "stderr",
          "text": [
            "\n",
            "Epoch 92 in training:  55%|█████▍    | 6/11 [00:00<00:00,  6.83it/s]\u001b[A"
          ]
        },
        {
          "output_type": "stream",
          "name": "stdout",
          "text": [
            "epoch 92/100 loss: 1.10\n"
          ]
        },
        {
          "output_type": "stream",
          "name": "stderr",
          "text": [
            "\n",
            "Epoch 92 in training:  64%|██████▎   | 7/11 [00:01<00:00,  6.90it/s]\u001b[A"
          ]
        },
        {
          "output_type": "stream",
          "name": "stdout",
          "text": [
            "tensor([4, 4, 4, 4, 4, 4, 4, 4, 4, 4, 4, 4, 4, 4, 4, 4, 4, 4, 4, 4],\n",
            "       device='cuda:0')\n",
            "epoch 92/100 loss: 1.28\n",
            "tensor([4, 4, 4, 4, 4, 4, 4, 4, 5, 5, 5, 5, 5, 5, 5, 5, 5, 5, 5, 5],\n",
            "       device='cuda:0')\n",
            "epoch 92/100 loss: 1.46\n"
          ]
        },
        {
          "output_type": "stream",
          "name": "stderr",
          "text": [
            "\n",
            "Epoch 92 in training:  73%|███████▎  | 8/11 [00:01<00:00,  6.90it/s]\u001b[A"
          ]
        },
        {
          "output_type": "stream",
          "name": "stdout",
          "text": [
            "tensor([5, 5, 5, 5, 5, 5, 5, 5, 5, 5, 5, 5, 5, 5, 5, 5, 5, 5, 5, 6],\n",
            "       device='cuda:0')\n"
          ]
        },
        {
          "output_type": "stream",
          "name": "stderr",
          "text": [
            "\n",
            "Epoch 92 in training:  82%|████████▏ | 9/11 [00:01<00:00,  6.86it/s]\u001b[A\n",
            "Epoch 92 in training:  91%|█████████ | 10/11 [00:01<00:00,  6.92it/s]"
          ]
        },
        {
          "output_type": "stream",
          "name": "stdout",
          "text": [
            "epoch 92/100 loss: 1.64\n",
            "tensor([6, 6, 6, 6, 6, 6, 6, 6, 6, 6, 6, 6, 6, 6, 6, 6, 6, 6, 6, 6],\n",
            "       device='cuda:0')\n",
            "epoch 92/100 loss: 1.80\n"
          ]
        },
        {
          "output_type": "stream",
          "name": "stderr",
          "text": [
            "\u001b[A"
          ]
        },
        {
          "output_type": "stream",
          "name": "stdout",
          "text": [
            "tensor([6, 6, 6, 6, 6, 6, 6, 6, 6], device='cuda:0')\n"
          ]
        },
        {
          "output_type": "stream",
          "name": "stderr",
          "text": [
            "\n",
            "Training:  92%|█████████▏| 92/100 [02:20<00:12,  1.54s/it]"
          ]
        },
        {
          "output_type": "stream",
          "name": "stdout",
          "text": [
            "epoch 92/100 loss: 1.96\n"
          ]
        },
        {
          "output_type": "stream",
          "name": "stderr",
          "text": [
            "\n",
            "Epoch 93 in training:   0%|          | 0/11 [00:00<?, ?it/s]\u001b[A"
          ]
        },
        {
          "output_type": "stream",
          "name": "stdout",
          "text": [
            "tensor([0, 0, 0, 0, 0, 0, 0, 0, 0, 0, 0, 0, 0, 0, 0, 0, 0, 0, 0, 0],\n",
            "       device='cuda:0')\n"
          ]
        },
        {
          "output_type": "stream",
          "name": "stderr",
          "text": [
            "\n",
            "Epoch 93 in training:   9%|▉         | 1/11 [00:00<00:01,  6.81it/s]\u001b[A"
          ]
        },
        {
          "output_type": "stream",
          "name": "stdout",
          "text": [
            "epoch 93/100 loss: 0.18\n",
            "tensor([0, 0, 0, 0, 0, 0, 0, 0, 0, 0, 1, 1, 1, 1, 1, 1, 1, 1, 1, 1],\n",
            "       device='cuda:0')\n"
          ]
        },
        {
          "output_type": "stream",
          "name": "stderr",
          "text": [
            "\n",
            "Epoch 93 in training:  18%|█▊        | 2/11 [00:00<00:01,  6.69it/s]\u001b[A"
          ]
        },
        {
          "output_type": "stream",
          "name": "stdout",
          "text": [
            "epoch 93/100 loss: 0.37\n"
          ]
        },
        {
          "output_type": "stream",
          "name": "stderr",
          "text": [
            "\n",
            "Epoch 93 in training:  27%|██▋       | 3/11 [00:00<00:01,  6.91it/s]\u001b[A"
          ]
        },
        {
          "output_type": "stream",
          "name": "stdout",
          "text": [
            "tensor([1, 1, 1, 1, 1, 1, 1, 1, 1, 1, 1, 1, 1, 1, 1, 1, 1, 1, 1, 2],\n",
            "       device='cuda:0')\n",
            "epoch 93/100 loss: 0.55\n",
            "tensor([2, 2, 2, 2, 2, 2, 2, 2, 2, 2, 2, 2, 2, 2, 2, 2, 2, 2, 2, 2],\n",
            "       device='cuda:0')\n"
          ]
        },
        {
          "output_type": "stream",
          "name": "stderr",
          "text": [
            "\n",
            "Epoch 93 in training:  36%|███▋      | 4/11 [00:00<00:01,  6.83it/s]\u001b[A"
          ]
        },
        {
          "output_type": "stream",
          "name": "stdout",
          "text": [
            "epoch 93/100 loss: 0.74\n",
            "tensor([2, 2, 2, 2, 2, 2, 2, 3, 3, 3, 3, 3, 3, 3, 3, 3, 3, 3, 3, 3],\n",
            "       device='cuda:0')\n"
          ]
        },
        {
          "output_type": "stream",
          "name": "stderr",
          "text": [
            "\n",
            "Epoch 93 in training:  45%|████▌     | 5/11 [00:00<00:00,  6.78it/s]\u001b[A"
          ]
        },
        {
          "output_type": "stream",
          "name": "stdout",
          "text": [
            "epoch 93/100 loss: 0.92\n"
          ]
        },
        {
          "output_type": "stream",
          "name": "stderr",
          "text": [
            "\n",
            "Epoch 93 in training:  55%|█████▍    | 6/11 [00:00<00:00,  6.85it/s]\u001b[A"
          ]
        },
        {
          "output_type": "stream",
          "name": "stdout",
          "text": [
            "tensor([3, 3, 3, 3, 3, 3, 3, 3, 3, 3, 3, 3, 3, 3, 3, 3, 3, 3, 4, 4],\n",
            "       device='cuda:0')\n",
            "epoch 93/100 loss: 1.10\n"
          ]
        },
        {
          "output_type": "stream",
          "name": "stderr",
          "text": [
            "\n",
            "Epoch 93 in training:  64%|██████▎   | 7/11 [00:01<00:00,  6.92it/s]"
          ]
        },
        {
          "output_type": "stream",
          "name": "stdout",
          "text": [
            "tensor([4, 4, 4, 4, 4, 4, 4, 4, 4, 4, 4, 4, 4, 4, 4, 4, 4, 4, 4, 4],\n",
            "       device='cuda:0')\n",
            "epoch 93/100 loss: 1.29\n"
          ]
        },
        {
          "output_type": "stream",
          "name": "stderr",
          "text": [
            "\u001b[A\n",
            "Epoch 93 in training:  73%|███████▎  | 8/11 [00:01<00:00,  6.97it/s]\u001b[A"
          ]
        },
        {
          "output_type": "stream",
          "name": "stdout",
          "text": [
            "tensor([4, 4, 4, 4, 4, 4, 4, 4, 5, 5, 5, 5, 5, 5, 5, 5, 5, 5, 5, 5],\n",
            "       device='cuda:0')\n",
            "epoch 93/100 loss: 1.47\n"
          ]
        },
        {
          "output_type": "stream",
          "name": "stderr",
          "text": [
            "\n",
            "Epoch 93 in training:  82%|████████▏ | 9/11 [00:01<00:00,  7.03it/s]\u001b[A"
          ]
        },
        {
          "output_type": "stream",
          "name": "stdout",
          "text": [
            "tensor([5, 5, 5, 5, 5, 5, 5, 5, 5, 5, 5, 5, 5, 5, 5, 5, 5, 5, 5, 6],\n",
            "       device='cuda:0')\n",
            "epoch 93/100 loss: 1.65\n",
            "tensor([6, 6, 6, 6, 6, 6, 6, 6, 6, 6, 6, 6, 6, 6, 6, 6, 6, 6, 6, 6],\n",
            "       device='cuda:0')\n"
          ]
        },
        {
          "output_type": "stream",
          "name": "stderr",
          "text": [
            "\n",
            "Epoch 93 in training:  91%|█████████ | 10/11 [00:01<00:00,  6.92it/s]\u001b[A\n",
            "Training:  93%|█████████▎| 93/100 [02:21<00:10,  1.54s/it]"
          ]
        },
        {
          "output_type": "stream",
          "name": "stdout",
          "text": [
            "epoch 93/100 loss: 1.82\n",
            "tensor([6, 6, 6, 6, 6, 6, 6, 6, 6], device='cuda:0')\n",
            "epoch 93/100 loss: 1.97\n"
          ]
        },
        {
          "output_type": "stream",
          "name": "stderr",
          "text": [
            "\n",
            "Epoch 94 in training:   0%|          | 0/11 [00:00<?, ?it/s]\u001b[A"
          ]
        },
        {
          "output_type": "stream",
          "name": "stdout",
          "text": [
            "tensor([0, 0, 0, 0, 0, 0, 0, 0, 0, 0, 0, 0, 0, 0, 0, 0, 0, 0, 0, 0],\n",
            "       device='cuda:0')\n"
          ]
        },
        {
          "output_type": "stream",
          "name": "stderr",
          "text": [
            "\n",
            "Epoch 94 in training:   9%|▉         | 1/11 [00:00<00:01,  6.94it/s]\u001b[A\n",
            "Epoch 94 in training:  18%|█▊        | 2/11 [00:00<00:01,  7.06it/s]\u001b[A"
          ]
        },
        {
          "output_type": "stream",
          "name": "stdout",
          "text": [
            "epoch 94/100 loss: 0.18\n",
            "tensor([0, 0, 0, 0, 0, 0, 0, 0, 0, 0, 1, 1, 1, 1, 1, 1, 1, 1, 1, 1],\n",
            "       device='cuda:0')\n",
            "epoch 94/100 loss: 0.37\n"
          ]
        },
        {
          "output_type": "stream",
          "name": "stderr",
          "text": [
            "\n",
            "Epoch 94 in training:  27%|██▋       | 3/11 [00:00<00:01,  6.85it/s]\u001b[A\n",
            "Epoch 94 in training:  36%|███▋      | 4/11 [00:00<00:01,  6.99it/s]\u001b[A"
          ]
        },
        {
          "output_type": "stream",
          "name": "stdout",
          "text": [
            "tensor([1, 1, 1, 1, 1, 1, 1, 1, 1, 1, 1, 1, 1, 1, 1, 1, 1, 1, 1, 2],\n",
            "       device='cuda:0')\n",
            "epoch 94/100 loss: 0.55\n",
            "tensor([2, 2, 2, 2, 2, 2, 2, 2, 2, 2, 2, 2, 2, 2, 2, 2, 2, 2, 2, 2],\n",
            "       device='cuda:0')\n",
            "epoch 94/100 loss: 0.74\n"
          ]
        },
        {
          "output_type": "stream",
          "name": "stderr",
          "text": [
            "\n",
            "Epoch 94 in training:  45%|████▌     | 5/11 [00:00<00:00,  7.05it/s]\u001b[A\n",
            "Epoch 94 in training:  55%|█████▍    | 6/11 [00:00<00:00,  7.04it/s]\u001b[A"
          ]
        },
        {
          "output_type": "stream",
          "name": "stdout",
          "text": [
            "tensor([2, 2, 2, 2, 2, 2, 2, 3, 3, 3, 3, 3, 3, 3, 3, 3, 3, 3, 3, 3],\n",
            "       device='cuda:0')\n",
            "epoch 94/100 loss: 0.92\n",
            "tensor([3, 3, 3, 3, 3, 3, 3, 3, 3, 3, 3, 3, 3, 3, 3, 3, 3, 3, 4, 4],\n",
            "       device='cuda:0')\n",
            "epoch 94/100 loss: 1.10\n"
          ]
        },
        {
          "output_type": "stream",
          "name": "stderr",
          "text": [
            "\n",
            "Epoch 94 in training:  64%|██████▎   | 7/11 [00:01<00:00,  6.91it/s]\u001b[A"
          ]
        },
        {
          "output_type": "stream",
          "name": "stdout",
          "text": [
            "tensor([4, 4, 4, 4, 4, 4, 4, 4, 4, 4, 4, 4, 4, 4, 4, 4, 4, 4, 4, 4],\n",
            "       device='cuda:0')\n",
            "epoch 94/100 loss: 1.29\n",
            "tensor([4, 4, 4, 4, 4, 4, 4, 4, 5, 5, 5, 5, 5, 5, 5, 5, 5, 5, 5, 5],\n",
            "       device='cuda:0')\n"
          ]
        },
        {
          "output_type": "stream",
          "name": "stderr",
          "text": [
            "\n",
            "Epoch 94 in training:  73%|███████▎  | 8/11 [00:01<00:00,  6.85it/s]\u001b[A\n",
            "Epoch 94 in training:  82%|████████▏ | 9/11 [00:01<00:00,  6.79it/s]\u001b[A"
          ]
        },
        {
          "output_type": "stream",
          "name": "stdout",
          "text": [
            "epoch 94/100 loss: 1.47\n",
            "tensor([5, 5, 5, 5, 5, 5, 5, 5, 5, 5, 5, 5, 5, 5, 5, 5, 5, 5, 5, 6],\n",
            "       device='cuda:0')\n",
            "epoch 94/100 loss: 1.66\n"
          ]
        },
        {
          "output_type": "stream",
          "name": "stderr",
          "text": [
            "\n",
            "Epoch 94 in training:  91%|█████████ | 10/11 [00:01<00:00,  6.85it/s]\u001b[A\n",
            "Training:  94%|█████████▍| 94/100 [02:23<00:09,  1.55s/it]"
          ]
        },
        {
          "output_type": "stream",
          "name": "stdout",
          "text": [
            "tensor([6, 6, 6, 6, 6, 6, 6, 6, 6, 6, 6, 6, 6, 6, 6, 6, 6, 6, 6, 6],\n",
            "       device='cuda:0')\n",
            "epoch 94/100 loss: 1.81\n",
            "tensor([6, 6, 6, 6, 6, 6, 6, 6, 6], device='cuda:0')\n",
            "epoch 94/100 loss: 1.97\n"
          ]
        },
        {
          "output_type": "stream",
          "name": "stderr",
          "text": [
            "\n",
            "Epoch 95 in training:   0%|          | 0/11 [00:00<?, ?it/s]\u001b[A\n",
            "Epoch 95 in training:   9%|▉         | 1/11 [00:00<00:01,  7.24it/s]\u001b[A"
          ]
        },
        {
          "output_type": "stream",
          "name": "stdout",
          "text": [
            "tensor([0, 0, 0, 0, 0, 0, 0, 0, 0, 0, 0, 0, 0, 0, 0, 0, 0, 0, 0, 0],\n",
            "       device='cuda:0')\n",
            "epoch 95/100 loss: 0.18\n",
            "tensor([0, 0, 0, 0, 0, 0, 0, 0, 0, 0, 1, 1, 1, 1, 1, 1, 1, 1, 1, 1],\n",
            "       device='cuda:0')\n"
          ]
        },
        {
          "output_type": "stream",
          "name": "stderr",
          "text": [
            "\n",
            "Epoch 95 in training:  18%|█▊        | 2/11 [00:00<00:01,  7.01it/s]\u001b[A\n",
            "Epoch 95 in training:  27%|██▋       | 3/11 [00:00<00:01,  6.88it/s]\u001b[A"
          ]
        },
        {
          "output_type": "stream",
          "name": "stdout",
          "text": [
            "epoch 95/100 loss: 0.36\n",
            "tensor([1, 1, 1, 1, 1, 1, 1, 1, 1, 1, 1, 1, 1, 1, 1, 1, 1, 1, 1, 2],\n",
            "       device='cuda:0')\n",
            "epoch 95/100 loss: 0.55\n"
          ]
        },
        {
          "output_type": "stream",
          "name": "stderr",
          "text": [
            "\n",
            "Epoch 95 in training:  36%|███▋      | 4/11 [00:00<00:01,  6.94it/s]\u001b[A\n",
            "Epoch 95 in training:  45%|████▌     | 5/11 [00:00<00:00,  6.98it/s]\u001b[A"
          ]
        },
        {
          "output_type": "stream",
          "name": "stdout",
          "text": [
            "tensor([2, 2, 2, 2, 2, 2, 2, 2, 2, 2, 2, 2, 2, 2, 2, 2, 2, 2, 2, 2],\n",
            "       device='cuda:0')\n",
            "epoch 95/100 loss: 0.74\n",
            "tensor([2, 2, 2, 2, 2, 2, 2, 3, 3, 3, 3, 3, 3, 3, 3, 3, 3, 3, 3, 3],\n",
            "       device='cuda:0')\n",
            "epoch 95/100 loss: 0.92\n"
          ]
        },
        {
          "output_type": "stream",
          "name": "stderr",
          "text": [
            "\n",
            "Epoch 95 in training:  55%|█████▍    | 6/11 [00:00<00:00,  6.85it/s]\u001b[A"
          ]
        },
        {
          "output_type": "stream",
          "name": "stdout",
          "text": [
            "tensor([3, 3, 3, 3, 3, 3, 3, 3, 3, 3, 3, 3, 3, 3, 3, 3, 3, 3, 4, 4],\n",
            "       device='cuda:0')\n",
            "epoch 95/100 loss: 1.10\n",
            "tensor([4, 4, 4, 4, 4, 4, 4, 4, 4, 4, 4, 4, 4, 4, 4, 4, 4, 4, 4, 4],\n",
            "       device='cuda:0')\n"
          ]
        },
        {
          "output_type": "stream",
          "name": "stderr",
          "text": [
            "\n",
            "Epoch 95 in training:  64%|██████▎   | 7/11 [00:01<00:00,  6.78it/s]\u001b[A\n",
            "Epoch 95 in training:  73%|███████▎  | 8/11 [00:01<00:00,  6.78it/s]\u001b[A"
          ]
        },
        {
          "output_type": "stream",
          "name": "stdout",
          "text": [
            "epoch 95/100 loss: 1.28\n",
            "tensor([4, 4, 4, 4, 4, 4, 4, 4, 5, 5, 5, 5, 5, 5, 5, 5, 5, 5, 5, 5],\n",
            "       device='cuda:0')\n",
            "epoch 95/100 loss: 1.46\n"
          ]
        },
        {
          "output_type": "stream",
          "name": "stderr",
          "text": [
            "\n",
            "Epoch 95 in training:  82%|████████▏ | 9/11 [00:01<00:00,  6.78it/s]\u001b[A"
          ]
        },
        {
          "output_type": "stream",
          "name": "stdout",
          "text": [
            "tensor([5, 5, 5, 5, 5, 5, 5, 5, 5, 5, 5, 5, 5, 5, 5, 5, 5, 5, 5, 6],\n",
            "       device='cuda:0')\n",
            "epoch 95/100 loss: 1.64\n",
            "tensor([6, 6, 6, 6, 6, 6, 6, 6, 6, 6, 6, 6, 6, 6, 6, 6, 6, 6, 6, 6],\n",
            "       device='cuda:0')\n"
          ]
        },
        {
          "output_type": "stream",
          "name": "stderr",
          "text": [
            "\n",
            "Epoch 95 in training:  91%|█████████ | 10/11 [00:01<00:00,  6.74it/s]\u001b[A\n",
            "Training:  95%|█████████▌| 95/100 [02:24<00:07,  1.55s/it]"
          ]
        },
        {
          "output_type": "stream",
          "name": "stdout",
          "text": [
            "epoch 95/100 loss: 1.80\n",
            "tensor([6, 6, 6, 6, 6, 6, 6, 6, 6], device='cuda:0')\n",
            "epoch 95/100 loss: 1.96\n"
          ]
        },
        {
          "output_type": "stream",
          "name": "stderr",
          "text": [
            "\n",
            "Epoch 96 in training:   0%|          | 0/11 [00:00<?, ?it/s]\u001b[A"
          ]
        },
        {
          "output_type": "stream",
          "name": "stdout",
          "text": [
            "tensor([0, 0, 0, 0, 0, 0, 0, 0, 0, 0, 0, 0, 0, 0, 0, 0, 0, 0, 0, 0],\n",
            "       device='cuda:0')\n"
          ]
        },
        {
          "output_type": "stream",
          "name": "stderr",
          "text": [
            "\n",
            "Epoch 96 in training:   9%|▉         | 1/11 [00:00<00:01,  6.94it/s]\u001b[A"
          ]
        },
        {
          "output_type": "stream",
          "name": "stdout",
          "text": [
            "epoch 96/100 loss: 0.18\n",
            "tensor([0, 0, 0, 0, 0, 0, 0, 0, 0, 0, 1, 1, 1, 1, 1, 1, 1, 1, 1, 1],\n",
            "       device='cuda:0')\n"
          ]
        },
        {
          "output_type": "stream",
          "name": "stderr",
          "text": [
            "\n",
            "Epoch 96 in training:  18%|█▊        | 2/11 [00:00<00:01,  6.88it/s]\u001b[A"
          ]
        },
        {
          "output_type": "stream",
          "name": "stdout",
          "text": [
            "epoch 96/100 loss: 0.37\n"
          ]
        },
        {
          "output_type": "stream",
          "name": "stderr",
          "text": [
            "\n",
            "Epoch 96 in training:  27%|██▋       | 3/11 [00:00<00:01,  6.86it/s]\u001b[A"
          ]
        },
        {
          "output_type": "stream",
          "name": "stdout",
          "text": [
            "tensor([1, 1, 1, 1, 1, 1, 1, 1, 1, 1, 1, 1, 1, 1, 1, 1, 1, 1, 1, 2],\n",
            "       device='cuda:0')\n",
            "epoch 96/100 loss: 0.55\n"
          ]
        },
        {
          "output_type": "stream",
          "name": "stderr",
          "text": [
            "\n"
          ]
        },
        {
          "output_type": "stream",
          "name": "stdout",
          "text": [
            "tensor([2, 2, 2, 2, 2, 2, 2, 2, 2, 2, 2, 2, 2, 2, 2, 2, 2, 2, 2, 2],\n",
            "       device='cuda:0')\n",
            "epoch 96/100 loss: 0.74\n"
          ]
        },
        {
          "output_type": "stream",
          "name": "stderr",
          "text": [
            "Epoch 96 in training:  36%|███▋      | 4/11 [00:00<00:01,  6.89it/s]\u001b[A\n",
            "Epoch 96 in training:  45%|████▌     | 5/11 [00:00<00:00,  6.98it/s]\u001b[A"
          ]
        },
        {
          "output_type": "stream",
          "name": "stdout",
          "text": [
            "tensor([2, 2, 2, 2, 2, 2, 2, 3, 3, 3, 3, 3, 3, 3, 3, 3, 3, 3, 3, 3],\n",
            "       device='cuda:0')\n",
            "epoch 96/100 loss: 0.92\n",
            "tensor([3, 3, 3, 3, 3, 3, 3, 3, 3, 3, 3, 3, 3, 3, 3, 3, 3, 3, 4, 4],\n",
            "       device='cuda:0')\n"
          ]
        },
        {
          "output_type": "stream",
          "name": "stderr",
          "text": [
            "\n",
            "Epoch 96 in training:  55%|█████▍    | 6/11 [00:00<00:00,  6.81it/s]\u001b[A\n",
            "Epoch 96 in training:  64%|██████▎   | 7/11 [00:01<00:00,  6.92it/s]\u001b[A"
          ]
        },
        {
          "output_type": "stream",
          "name": "stdout",
          "text": [
            "epoch 96/100 loss: 1.10\n",
            "tensor([4, 4, 4, 4, 4, 4, 4, 4, 4, 4, 4, 4, 4, 4, 4, 4, 4, 4, 4, 4],\n",
            "       device='cuda:0')\n",
            "epoch 96/100 loss: 1.29\n"
          ]
        },
        {
          "output_type": "stream",
          "name": "stderr",
          "text": [
            "\n",
            "Epoch 96 in training:  73%|███████▎  | 8/11 [00:01<00:00,  7.03it/s]\u001b[A\n",
            "Epoch 96 in training:  82%|████████▏ | 9/11 [00:01<00:00,  7.03it/s]\u001b[A"
          ]
        },
        {
          "output_type": "stream",
          "name": "stdout",
          "text": [
            "tensor([4, 4, 4, 4, 4, 4, 4, 4, 5, 5, 5, 5, 5, 5, 5, 5, 5, 5, 5, 5],\n",
            "       device='cuda:0')\n",
            "epoch 96/100 loss: 1.47\n",
            "tensor([5, 5, 5, 5, 5, 5, 5, 5, 5, 5, 5, 5, 5, 5, 5, 5, 5, 5, 5, 6],\n",
            "       device='cuda:0')\n",
            "epoch 96/100 loss: 1.64\n"
          ]
        },
        {
          "output_type": "stream",
          "name": "stderr",
          "text": [
            "\n",
            "Epoch 96 in training:  91%|█████████ | 10/11 [00:01<00:00,  7.00it/s]\u001b[A\n",
            "Training:  96%|█████████▌| 96/100 [02:26<00:06,  1.55s/it]"
          ]
        },
        {
          "output_type": "stream",
          "name": "stdout",
          "text": [
            "tensor([6, 6, 6, 6, 6, 6, 6, 6, 6, 6, 6, 6, 6, 6, 6, 6, 6, 6, 6, 6],\n",
            "       device='cuda:0')\n",
            "epoch 96/100 loss: 1.80\n",
            "tensor([6, 6, 6, 6, 6, 6, 6, 6, 6], device='cuda:0')\n",
            "epoch 96/100 loss: 1.97\n"
          ]
        },
        {
          "output_type": "stream",
          "name": "stderr",
          "text": [
            "\n",
            "Epoch 97 in training:   0%|          | 0/11 [00:00<?, ?it/s]\u001b[A\n",
            "Epoch 97 in training:   9%|▉         | 1/11 [00:00<00:01,  6.80it/s]\u001b[A\n",
            "Epoch 97 in training:  18%|█▊        | 2/11 [00:00<00:01,  7.04it/s]\u001b[A"
          ]
        },
        {
          "output_type": "stream",
          "name": "stdout",
          "text": [
            "tensor([0, 0, 0, 0, 0, 0, 0, 0, 0, 0, 0, 0, 0, 0, 0, 0, 0, 0, 0, 0],\n",
            "       device='cuda:0')\n",
            "epoch 97/100 loss: 0.18\n",
            "tensor([0, 0, 0, 0, 0, 0, 0, 0, 0, 0, 1, 1, 1, 1, 1, 1, 1, 1, 1, 1],\n",
            "       device='cuda:0')\n",
            "epoch 97/100 loss: 0.37\n"
          ]
        },
        {
          "output_type": "stream",
          "name": "stderr",
          "text": [
            "\n",
            "Epoch 97 in training:  27%|██▋       | 3/11 [00:00<00:01,  6.98it/s]\u001b[A\n",
            "Epoch 97 in training:  36%|███▋      | 4/11 [00:00<00:00,  7.07it/s]\u001b[A"
          ]
        },
        {
          "output_type": "stream",
          "name": "stdout",
          "text": [
            "tensor([1, 1, 1, 1, 1, 1, 1, 1, 1, 1, 1, 1, 1, 1, 1, 1, 1, 1, 1, 2],\n",
            "       device='cuda:0')\n",
            "epoch 97/100 loss: 0.55\n",
            "tensor([2, 2, 2, 2, 2, 2, 2, 2, 2, 2, 2, 2, 2, 2, 2, 2, 2, 2, 2, 2],\n",
            "       device='cuda:0')\n",
            "epoch 97/100 loss: 0.74\n"
          ]
        },
        {
          "output_type": "stream",
          "name": "stderr",
          "text": [
            "\n",
            "Epoch 97 in training:  45%|████▌     | 5/11 [00:00<00:00,  6.96it/s]\u001b[A"
          ]
        },
        {
          "output_type": "stream",
          "name": "stdout",
          "text": [
            "tensor([2, 2, 2, 2, 2, 2, 2, 3, 3, 3, 3, 3, 3, 3, 3, 3, 3, 3, 3, 3],\n",
            "       device='cuda:0')\n",
            "epoch 97/100 loss: 0.92\n",
            "tensor([3, 3, 3, 3, 3, 3, 3, 3, 3, 3, 3, 3, 3, 3, 3, 3, 3, 3, 4, 4],\n",
            "       device='cuda:0')\n"
          ]
        },
        {
          "output_type": "stream",
          "name": "stderr",
          "text": [
            "\n",
            "Epoch 97 in training:  55%|█████▍    | 6/11 [00:00<00:00,  6.76it/s]\u001b[A\n",
            "Epoch 97 in training:  64%|██████▎   | 7/11 [00:01<00:00,  6.84it/s]\u001b[A"
          ]
        },
        {
          "output_type": "stream",
          "name": "stdout",
          "text": [
            "epoch 97/100 loss: 1.10\n",
            "tensor([4, 4, 4, 4, 4, 4, 4, 4, 4, 4, 4, 4, 4, 4, 4, 4, 4, 4, 4, 4],\n",
            "       device='cuda:0')\n",
            "epoch 97/100 loss: 1.29\n"
          ]
        },
        {
          "output_type": "stream",
          "name": "stderr",
          "text": [
            "\n",
            "Epoch 97 in training:  73%|███████▎  | 8/11 [00:01<00:00,  6.78it/s]\u001b[A\n",
            "Epoch 97 in training:  82%|████████▏ | 9/11 [00:01<00:00,  6.89it/s]\u001b[A"
          ]
        },
        {
          "output_type": "stream",
          "name": "stdout",
          "text": [
            "tensor([4, 4, 4, 4, 4, 4, 4, 4, 5, 5, 5, 5, 5, 5, 5, 5, 5, 5, 5, 5],\n",
            "       device='cuda:0')\n",
            "epoch 97/100 loss: 1.47\n",
            "tensor([5, 5, 5, 5, 5, 5, 5, 5, 5, 5, 5, 5, 5, 5, 5, 5, 5, 5, 5, 6],\n",
            "       device='cuda:0')\n",
            "epoch 97/100 loss: 1.65\n"
          ]
        },
        {
          "output_type": "stream",
          "name": "stderr",
          "text": [
            "\n",
            "Epoch 97 in training:  91%|█████████ | 10/11 [00:01<00:00,  6.96it/s]\u001b[A\n",
            "Training:  97%|█████████▋| 97/100 [02:28<00:04,  1.55s/it]"
          ]
        },
        {
          "output_type": "stream",
          "name": "stdout",
          "text": [
            "tensor([6, 6, 6, 6, 6, 6, 6, 6, 6, 6, 6, 6, 6, 6, 6, 6, 6, 6, 6, 6],\n",
            "       device='cuda:0')\n",
            "epoch 97/100 loss: 1.81\n",
            "tensor([6, 6, 6, 6, 6, 6, 6, 6, 6], device='cuda:0')\n",
            "epoch 97/100 loss: 1.97\n"
          ]
        },
        {
          "output_type": "stream",
          "name": "stderr",
          "text": [
            "\n",
            "Epoch 98 in training:   0%|          | 0/11 [00:00<?, ?it/s]\u001b[A\n",
            "Epoch 98 in training:   9%|▉         | 1/11 [00:00<00:01,  6.94it/s]\u001b[A"
          ]
        },
        {
          "output_type": "stream",
          "name": "stdout",
          "text": [
            "tensor([0, 0, 0, 0, 0, 0, 0, 0, 0, 0, 0, 0, 0, 0, 0, 0, 0, 0, 0, 0],\n",
            "       device='cuda:0')\n",
            "epoch 98/100 loss: 0.18\n",
            "tensor([0, 0, 0, 0, 0, 0, 0, 0, 0, 0, 1, 1, 1, 1, 1, 1, 1, 1, 1, 1],\n",
            "       device='cuda:0')\n"
          ]
        },
        {
          "output_type": "stream",
          "name": "stderr",
          "text": [
            "\n",
            "Epoch 98 in training:  18%|█▊        | 2/11 [00:00<00:01,  6.77it/s]\u001b[A\n",
            "Epoch 98 in training:  27%|██▋       | 3/11 [00:00<00:01,  6.87it/s]\u001b[A"
          ]
        },
        {
          "output_type": "stream",
          "name": "stdout",
          "text": [
            "epoch 98/100 loss: 0.37\n",
            "tensor([1, 1, 1, 1, 1, 1, 1, 1, 1, 1, 1, 1, 1, 1, 1, 1, 1, 1, 1, 2],\n",
            "       device='cuda:0')\n",
            "epoch 98/100 loss: 0.55\n"
          ]
        },
        {
          "output_type": "stream",
          "name": "stderr",
          "text": [
            "\n",
            "Epoch 98 in training:  36%|███▋      | 4/11 [00:00<00:00,  7.01it/s]\u001b[A\n",
            "Epoch 98 in training:  45%|████▌     | 5/11 [00:00<00:00,  7.10it/s]\u001b[A"
          ]
        },
        {
          "output_type": "stream",
          "name": "stdout",
          "text": [
            "tensor([2, 2, 2, 2, 2, 2, 2, 2, 2, 2, 2, 2, 2, 2, 2, 2, 2, 2, 2, 2],\n",
            "       device='cuda:0')\n",
            "epoch 98/100 loss: 0.74\n",
            "tensor([2, 2, 2, 2, 2, 2, 2, 3, 3, 3, 3, 3, 3, 3, 3, 3, 3, 3, 3, 3],\n",
            "       device='cuda:0')\n",
            "epoch 98/100 loss: 0.92\n"
          ]
        },
        {
          "output_type": "stream",
          "name": "stderr",
          "text": [
            "\n",
            "Epoch 98 in training:  55%|█████▍    | 6/11 [00:00<00:00,  7.13it/s]\u001b[A\n",
            "Epoch 98 in training:  64%|██████▎   | 7/11 [00:00<00:00,  7.09it/s]"
          ]
        },
        {
          "output_type": "stream",
          "name": "stdout",
          "text": [
            "tensor([3, 3, 3, 3, 3, 3, 3, 3, 3, 3, 3, 3, 3, 3, 3, 3, 3, 3, 4, 4],\n",
            "       device='cuda:0')\n",
            "epoch 98/100 loss: 1.10\n",
            "tensor([4, 4, 4, 4, 4, 4, 4, 4, 4, 4, 4, 4, 4, 4, 4, 4, 4, 4, 4, 4],\n",
            "       device='cuda:0')\n",
            "epoch 98/100 loss: 1.28\n"
          ]
        },
        {
          "output_type": "stream",
          "name": "stderr",
          "text": [
            "\u001b[A\n",
            "Epoch 98 in training:  73%|███████▎  | 8/11 [00:01<00:00,  7.11it/s]\u001b[A\n",
            "Epoch 98 in training:  82%|████████▏ | 9/11 [00:01<00:00,  7.13it/s]\u001b[A"
          ]
        },
        {
          "output_type": "stream",
          "name": "stdout",
          "text": [
            "tensor([4, 4, 4, 4, 4, 4, 4, 4, 5, 5, 5, 5, 5, 5, 5, 5, 5, 5, 5, 5],\n",
            "       device='cuda:0')\n",
            "epoch 98/100 loss: 1.46\n",
            "tensor([5, 5, 5, 5, 5, 5, 5, 5, 5, 5, 5, 5, 5, 5, 5, 5, 5, 5, 5, 6],\n",
            "       device='cuda:0')\n",
            "epoch 98/100 loss: 1.64\n"
          ]
        },
        {
          "output_type": "stream",
          "name": "stderr",
          "text": [
            "\n",
            "Epoch 98 in training:  91%|█████████ | 10/11 [00:01<00:00,  7.06it/s]\u001b[A\n",
            "Training:  98%|█████████▊| 98/100 [02:29<00:03,  1.54s/it]"
          ]
        },
        {
          "output_type": "stream",
          "name": "stdout",
          "text": [
            "tensor([6, 6, 6, 6, 6, 6, 6, 6, 6, 6, 6, 6, 6, 6, 6, 6, 6, 6, 6, 6],\n",
            "       device='cuda:0')\n",
            "epoch 98/100 loss: 1.80\n",
            "tensor([6, 6, 6, 6, 6, 6, 6, 6, 6], device='cuda:0')\n",
            "epoch 98/100 loss: 1.96\n"
          ]
        },
        {
          "output_type": "stream",
          "name": "stderr",
          "text": [
            "\n",
            "Epoch 99 in training:   0%|          | 0/11 [00:00<?, ?it/s]\u001b[A\n",
            "Epoch 99 in training:   9%|▉         | 1/11 [00:00<00:01,  7.27it/s]\u001b[A\n",
            "Epoch 99 in training:  18%|█▊        | 2/11 [00:00<00:01,  7.20it/s]\u001b[A"
          ]
        },
        {
          "output_type": "stream",
          "name": "stdout",
          "text": [
            "tensor([0, 0, 0, 0, 0, 0, 0, 0, 0, 0, 0, 0, 0, 0, 0, 0, 0, 0, 0, 0],\n",
            "       device='cuda:0')\n",
            "epoch 99/100 loss: 0.18\n",
            "tensor([0, 0, 0, 0, 0, 0, 0, 0, 0, 0, 1, 1, 1, 1, 1, 1, 1, 1, 1, 1],\n",
            "       device='cuda:0')\n",
            "epoch 99/100 loss: 0.36\n"
          ]
        },
        {
          "output_type": "stream",
          "name": "stderr",
          "text": [
            "\n",
            "Epoch 99 in training:  27%|██▋       | 3/11 [00:00<00:01,  7.20it/s]\u001b[A\n",
            "Epoch 99 in training:  36%|███▋      | 4/11 [00:00<00:00,  7.11it/s]"
          ]
        },
        {
          "output_type": "stream",
          "name": "stdout",
          "text": [
            "tensor([1, 1, 1, 1, 1, 1, 1, 1, 1, 1, 1, 1, 1, 1, 1, 1, 1, 1, 1, 2],\n",
            "       device='cuda:0')\n",
            "epoch 99/100 loss: 0.55\n",
            "tensor([2, 2, 2, 2, 2, 2, 2, 2, 2, 2, 2, 2, 2, 2, 2, 2, 2, 2, 2, 2],\n",
            "       device='cuda:0')\n",
            "epoch 99/100 loss: 0.74\n"
          ]
        },
        {
          "output_type": "stream",
          "name": "stderr",
          "text": [
            "\u001b[A\n",
            "Epoch 99 in training:  45%|████▌     | 5/11 [00:00<00:00,  6.96it/s]\u001b[A\n",
            "Epoch 99 in training:  55%|█████▍    | 6/11 [00:00<00:00,  6.99it/s]\u001b[A"
          ]
        },
        {
          "output_type": "stream",
          "name": "stdout",
          "text": [
            "tensor([2, 2, 2, 2, 2, 2, 2, 3, 3, 3, 3, 3, 3, 3, 3, 3, 3, 3, 3, 3],\n",
            "       device='cuda:0')\n",
            "epoch 99/100 loss: 0.93\n",
            "tensor([3, 3, 3, 3, 3, 3, 3, 3, 3, 3, 3, 3, 3, 3, 3, 3, 3, 3, 4, 4],\n",
            "       device='cuda:0')\n",
            "epoch 99/100 loss: 1.11\n"
          ]
        },
        {
          "output_type": "stream",
          "name": "stderr",
          "text": [
            "\n",
            "Epoch 99 in training:  64%|██████▎   | 7/11 [00:00<00:00,  6.98it/s]\u001b[A"
          ]
        },
        {
          "output_type": "stream",
          "name": "stdout",
          "text": [
            "tensor([4, 4, 4, 4, 4, 4, 4, 4, 4, 4, 4, 4, 4, 4, 4, 4, 4, 4, 4, 4],\n",
            "       device='cuda:0')\n",
            "epoch 99/100 loss: 1.29\n",
            "tensor([4, 4, 4, 4, 4, 4, 4, 4, 5, 5, 5, 5, 5, 5, 5, 5, 5, 5, 5, 5],\n",
            "       device='cuda:0')\n"
          ]
        },
        {
          "output_type": "stream",
          "name": "stderr",
          "text": [
            "\n",
            "Epoch 99 in training:  73%|███████▎  | 8/11 [00:01<00:00,  6.91it/s]\u001b[A\n",
            "Epoch 99 in training:  82%|████████▏ | 9/11 [00:01<00:00,  6.92it/s]\u001b[A"
          ]
        },
        {
          "output_type": "stream",
          "name": "stdout",
          "text": [
            "epoch 99/100 loss: 1.47\n",
            "tensor([5, 5, 5, 5, 5, 5, 5, 5, 5, 5, 5, 5, 5, 5, 5, 5, 5, 5, 5, 6],\n",
            "       device='cuda:0')\n",
            "epoch 99/100 loss: 1.65\n"
          ]
        },
        {
          "output_type": "stream",
          "name": "stderr",
          "text": [
            "\n",
            "Epoch 99 in training:  91%|█████████ | 10/11 [00:01<00:00,  7.02it/s]\u001b[A\n",
            "Training:  99%|█████████▉| 99/100 [02:31<00:01,  1.53s/it]"
          ]
        },
        {
          "output_type": "stream",
          "name": "stdout",
          "text": [
            "tensor([6, 6, 6, 6, 6, 6, 6, 6, 6, 6, 6, 6, 6, 6, 6, 6, 6, 6, 6, 6],\n",
            "       device='cuda:0')\n",
            "epoch 99/100 loss: 1.81\n",
            "tensor([6, 6, 6, 6, 6, 6, 6, 6, 6], device='cuda:0')\n",
            "epoch 99/100 loss: 1.97\n"
          ]
        },
        {
          "output_type": "stream",
          "name": "stderr",
          "text": [
            "\n",
            "Epoch 100 in training:   0%|          | 0/11 [00:00<?, ?it/s]\u001b[A\n",
            "Epoch 100 in training:   9%|▉         | 1/11 [00:00<00:01,  7.00it/s]\u001b[A"
          ]
        },
        {
          "output_type": "stream",
          "name": "stdout",
          "text": [
            "tensor([0, 0, 0, 0, 0, 0, 0, 0, 0, 0, 0, 0, 0, 0, 0, 0, 0, 0, 0, 0],\n",
            "       device='cuda:0')\n",
            "epoch 100/100 loss: 0.18\n",
            "tensor([0, 0, 0, 0, 0, 0, 0, 0, 0, 0, 1, 1, 1, 1, 1, 1, 1, 1, 1, 1],\n",
            "       device='cuda:0')\n"
          ]
        },
        {
          "output_type": "stream",
          "name": "stderr",
          "text": [
            "\n",
            "Epoch 100 in training:  18%|█▊        | 2/11 [00:00<00:01,  6.88it/s]\u001b[A\n",
            "Epoch 100 in training:  27%|██▋       | 3/11 [00:00<00:01,  6.88it/s]\u001b[A"
          ]
        },
        {
          "output_type": "stream",
          "name": "stdout",
          "text": [
            "epoch 100/100 loss: 0.36\n",
            "tensor([1, 1, 1, 1, 1, 1, 1, 1, 1, 1, 1, 1, 1, 1, 1, 1, 1, 1, 1, 2],\n",
            "       device='cuda:0')\n",
            "epoch 100/100 loss: 0.55\n"
          ]
        },
        {
          "output_type": "stream",
          "name": "stderr",
          "text": [
            "\n",
            "Epoch 100 in training:  36%|███▋      | 4/11 [00:00<00:01,  6.88it/s]\u001b[A\n",
            "Epoch 100 in training:  45%|████▌     | 5/11 [00:00<00:00,  7.00it/s]\u001b[A"
          ]
        },
        {
          "output_type": "stream",
          "name": "stdout",
          "text": [
            "tensor([2, 2, 2, 2, 2, 2, 2, 2, 2, 2, 2, 2, 2, 2, 2, 2, 2, 2, 2, 2],\n",
            "       device='cuda:0')\n",
            "epoch 100/100 loss: 0.73\n",
            "tensor([2, 2, 2, 2, 2, 2, 2, 3, 3, 3, 3, 3, 3, 3, 3, 3, 3, 3, 3, 3],\n",
            "       device='cuda:0')\n",
            "epoch 100/100 loss: 0.92\n"
          ]
        },
        {
          "output_type": "stream",
          "name": "stderr",
          "text": [
            "\n",
            "Epoch 100 in training:  55%|█████▍    | 6/11 [00:00<00:00,  7.04it/s]\u001b[A\n",
            "Epoch 100 in training:  64%|██████▎   | 7/11 [00:01<00:00,  7.07it/s]\u001b[A"
          ]
        },
        {
          "output_type": "stream",
          "name": "stdout",
          "text": [
            "tensor([3, 3, 3, 3, 3, 3, 3, 3, 3, 3, 3, 3, 3, 3, 3, 3, 3, 3, 4, 4],\n",
            "       device='cuda:0')\n",
            "epoch 100/100 loss: 1.10\n",
            "tensor([4, 4, 4, 4, 4, 4, 4, 4, 4, 4, 4, 4, 4, 4, 4, 4, 4, 4, 4, 4],\n",
            "       device='cuda:0')\n",
            "epoch 100/100 loss: 1.28\n"
          ]
        },
        {
          "output_type": "stream",
          "name": "stderr",
          "text": [
            "\n",
            "Epoch 100 in training:  73%|███████▎  | 8/11 [00:01<00:00,  7.05it/s]\u001b[A"
          ]
        },
        {
          "output_type": "stream",
          "name": "stdout",
          "text": [
            "tensor([4, 4, 4, 4, 4, 4, 4, 4, 5, 5, 5, 5, 5, 5, 5, 5, 5, 5, 5, 5],\n",
            "       device='cuda:0')\n",
            "epoch 100/100 loss: 1.46\n",
            "tensor([5, 5, 5, 5, 5, 5, 5, 5, 5, 5, 5, 5, 5, 5, 5, 5, 5, 5, 5, 6],\n",
            "       device='cuda:0')\n"
          ]
        },
        {
          "output_type": "stream",
          "name": "stderr",
          "text": [
            "\n",
            "Epoch 100 in training:  82%|████████▏ | 9/11 [00:01<00:00,  6.90it/s]\u001b[A\n",
            "Epoch 100 in training:  91%|█████████ | 10/11 [00:01<00:00,  6.97it/s]\u001b[A"
          ]
        },
        {
          "output_type": "stream",
          "name": "stdout",
          "text": [
            "epoch 100/100 loss: 1.64\n",
            "tensor([6, 6, 6, 6, 6, 6, 6, 6, 6, 6, 6, 6, 6, 6, 6, 6, 6, 6, 6, 6],\n",
            "       device='cuda:0')\n",
            "epoch 100/100 loss: 1.80\n",
            "tensor([6, 6, 6, 6, 6, 6, 6, 6, 6], device='cuda:0')\n"
          ]
        },
        {
          "output_type": "stream",
          "name": "stderr",
          "text": [
            "\n",
            "Training: 100%|██████████| 100/100 [02:32<00:00,  1.53s/it]"
          ]
        },
        {
          "output_type": "stream",
          "name": "stdout",
          "text": [
            "epoch 100/100 loss: 1.96\n"
          ]
        },
        {
          "output_type": "stream",
          "name": "stderr",
          "text": [
            "\n"
          ]
        }
      ]
    },
    {
      "cell_type": "code",
      "source": [
        "import torch\n",
        "with torch.no_grad():\n",
        "  accuracy_list=[]\n",
        "  loss_list=[]\n",
        "  correct, total=0,0\n",
        "  test_loss=0.0\n",
        "  for batch in tqdm(test_data_loader, desc=\"Testing\"):\n",
        "    x,y = batch\n",
        "    x,y = x.to(device), y.to(device)\n",
        "    y_hat=model(x)\n",
        "    loss=criterion(y_hat,y)\n",
        "    test_loss+= loss.detach().cpu().item()/ len(test_data_loader)\n",
        "    loss=loss.detach().cpu().numpy()/ len(test_data_loader)\n",
        "    print(f\"epoch {epoch+1}/{total_epochs} loss: {train_loss:.2f}\")\n",
        "    correct+=torch.sum(torch.argmax(y_hat, dim=1)==y).detach().cpu().item()\n",
        "    acc=torch.sum(torch.argmax(y_hat, dim=1)==y).detach().cpu().numpy()\n",
        "    accuracy_list.append(acc)\n",
        "    loss_list.append(loss)\n",
        "    print(f\" Accuracy{correct}\")\n",
        "    total+=len(x)\n",
        "  print(f\"test loss: {test_loss: .2f}\")\n",
        "  print(f\"Test accuracy: {correct / total * 100: .2f}%\")"
      ],
      "metadata": {
        "colab": {
          "base_uri": "https://localhost:8080/"
        },
        "id": "Ydhifes_tjwd",
        "outputId": "5cde5c66-d87e-46ea-80a1-9ef882b1e249"
      },
      "execution_count": null,
      "outputs": [
        {
          "output_type": "stream",
          "name": "stderr",
          "text": [
            "Testing:  40%|████      | 2/5 [00:00<00:00, 11.53it/s]"
          ]
        },
        {
          "output_type": "stream",
          "name": "stdout",
          "text": [
            "epoch 100/100 loss: 1.96\n",
            " Accuracy0\n",
            "epoch 100/100 loss: 1.96\n",
            " Accuracy0\n",
            "epoch 100/100 loss: 1.96\n",
            " Accuracy0\n"
          ]
        },
        {
          "output_type": "stream",
          "name": "stderr",
          "text": [
            "Testing: 100%|██████████| 5/5 [00:00<00:00, 12.29it/s]"
          ]
        },
        {
          "output_type": "stream",
          "name": "stdout",
          "text": [
            "epoch 100/100 loss: 1.96\n",
            " Accuracy1\n",
            "epoch 100/100 loss: 1.96\n",
            " Accuracy10\n",
            "test loss:  1.94\n",
            "Test accuracy:  10.99%\n"
          ]
        },
        {
          "output_type": "stream",
          "name": "stderr",
          "text": [
            "\n"
          ]
        }
      ]
    },
    {
      "cell_type": "code",
      "source": [
        "import matplotlib.pyplot as plt\n",
        "\n",
        "plt.figure(figsize=(10,5))\n",
        "plt.title(\"Test results\")\n",
        "plt.plot(accuracy_list,label=\"accuracy\")\n",
        "plt.plot(loss_list,label=\"loss\")\n",
        "plt.xlabel(\"accuracy\")\n",
        "plt.ylabel(\"Loss\")\n",
        "plt.legend()\n",
        "plt.show()"
      ],
      "metadata": {
        "id": "uqgh1Fm9ndV3",
        "colab": {
          "base_uri": "https://localhost:8080/",
          "height": 350
        },
        "outputId": "59f9c3e2-5c2a-45dd-96c0-e2c42c2e68a0"
      },
      "execution_count": null,
      "outputs": [
        {
          "output_type": "display_data",
          "data": {
            "text/plain": [
              "<Figure size 720x360 with 1 Axes>"
            ],
            "image/png": "[encoded data removed]"
          },
          "metadata": {
            "needs_background": "light"
          }
        }
      ]
    },
    {
      "cell_type": "markdown",
      "source": [],
      "metadata": {
        "id": "KBs431hPuzks"
      }
    }
  ]
}